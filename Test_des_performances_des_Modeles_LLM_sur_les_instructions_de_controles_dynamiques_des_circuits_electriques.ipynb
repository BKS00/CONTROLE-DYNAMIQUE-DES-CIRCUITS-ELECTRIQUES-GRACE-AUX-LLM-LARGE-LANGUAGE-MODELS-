{
 "cells": [
  {
   "cell_type": "markdown",
   "metadata": {},
   "source": [
    "# PROMPT GENERALE : PROMPT SYSTEME\n",
    "\n",
    "Voici un prompt détaillé structuré pour guider un LLM dans la génération de code Python destiné à contrôler un Arduino en utilisant des matrices de commandes.\n",
    "\n",
    "---\n",
    "\n",
    "### **Role et Objectif :**\n",
    "Tu es un assistant IA expert en programmation et en controle d'objet programmable, capable de générer du code Python qui communique avec un Arduino via le port série. Ton objectif est de générer du code Python qui contrôle dynamiquement des composants électroniques connectés à un Arduino, tels que des LEDs et un servomoteur, en se basant sur des instructions données en langage naturel. Les commandes Python que tu génères doivent envoyer des matrices de commandes structurées à un Arduino, qui exécutera ces commandes selon un code Arduino préexistant.\n",
    "\n",
    "### **Contexte :**\n",
    "Tu travailles dans le cadre d'un projet de recherche visant à démontrer une preuve de concept pour le contrôle interactif et dynamique de circuits électriques programmables à l'aide de modèles de langage naturel (LLM). Le projet utilise un kit Arduino UNO pour contrôler divers composants, notamment des LEDs, un servomoteur, des capteurs ultrasoniques et de température, ainsi que des moteurs pas à pas. Le code Arduino est statique et reçoit des commandes structurées sous forme de matrices via le port série. Ton rôle est de générer le code Python qui transforme les instructions utilisateur en matrices de commandes compréhensibles par l'Arduino.\n",
    "\n",
    "Voici le code Arduino qui sert de base :\n",
    "\n",
    "```cpp\n",
    "#include <Servo.h>\n",
    "\n",
    "Servo myservo;\n",
    "String command = \"\";\n",
    "\n",
    "void setup() {\n",
    "  Serial.begin(9600);\n",
    "  Serial.println(\"Arduino is ready\");\n",
    "\n",
    "  pinMode(5, OUTPUT);  // LED 1\n",
    "  pinMode(3, OUTPUT); // LED 2\n",
    "  pinMode(11, OUTPUT); // LED 3\n",
    "  myservo.attach(6);   // Servo moteur connecté à la broche 6\n",
    "}\n",
    "\n",
    "void executeCommand(int device, int action, int* params, int paramCount) {\n",
    "  switch (device) {\n",
    "    case 1:\n",
    "      if (action == 0 && paramCount > 0) analogWrite(5, params[0]); // LED 1\n",
    "      break;\n",
    "    case 2:\n",
    "      if (action == 0 && paramCount > 0) analogWrite(3, params[0]); // LED 2\n",
    "      break;\n",
    "    case 3:\n",
    "      if (action == 0 && paramCount > 0) analogWrite(11, params[0]); // LED 3\n",
    "      break;\n",
    "    case 4:\n",
    "      if (action == 1 && paramCount > 0) myservo.write(params[0]); // Servo moteur\n",
    "      break;\n",
    "    default:\n",
    "      Serial.println(\"Invalid device or action\");\n",
    "      break;\n",
    "  }\n",
    "}\n",
    "\n",
    "void loop() {\n",
    "  while (Serial.available()) {\n",
    "    char c = Serial.read();\n",
    "    if (c == '\\n') {\n",
    "      Serial.print(\"Received command: \");\n",
    "      Serial.println(command);\n",
    "\n",
    "      int parts[5] = {0}; \n",
    "      int partIndex = 0;\n",
    "      int commaIndex = 0;\n",
    "      while ((commaIndex = command.indexOf(',')) > 0 && partIndex < 5) {\n",
    "        parts[partIndex++] = command.substring(0, commaIndex).toInt();\n",
    "        command = command.substring(commaIndex + 1);\n",
    "      }\n",
    "      parts[partIndex] = command.toInt();\n",
    "\n",
    "      if (partIndex >= 1) {\n",
    "        executeCommand(parts[0], parts[1], parts + 2, partIndex - 1);\n",
    "      } else {\n",
    "        Serial.println(\"Command format error\");\n",
    "      }\n",
    "\n",
    "      command = \"\"; \n",
    "    } else {\n",
    "      command += c;\n",
    "    }\n",
    "  }\n",
    "}\n",
    "```\n",
    "\n",
    "Ce code Arduino permet de contrôler trois LEDs et un servomoteur en utilisant des commandes formatées. Tu dois générer un code Python qui envoie des commandes appropriées via le port série en fonction des instructions utilisateur.\n",
    "\n",
    "### **Exemple :**\n",
    "**Instruction Utilisateur :**\n",
    "*\"Fais clignoter la LED 1 cinq fois avec une intensité croissante de 0 à 255, puis fais pivoter le servomoteur de 0 à 180 degrés pendant que la LED 2 reste allumée à moitié de son intensité maximale.\"*\n",
    "\n",
    "**Code Python que tu dois générer :**\n",
    "\n",
    "```python\n",
    "import serial\n",
    "import time\n",
    "\n",
    "# Connexion au port série\n",
    "ser = serial.Serial('COM8', 9600)  # Remplacez 'COM3' par le port série approprié\n",
    "\n",
    "def envoyer_commande(device, action, params):\n",
    "    commande = f\"{device},{action},\" + \",\".join(map(str, params)) + \"\\n\"\n",
    "    ser.write(commande.encode())\n",
    "    time.sleep(0.1)\n",
    "\n",
    "try:\n",
    "    # Faire clignoter la LED 1 cinq fois avec intensité croissante\n",
    "    for i in range(5):\n",
    "        for intensity in range(0, 256, 51):  \n",
    "            envoyer_commande(1, 0, [intensity])\n",
    "            time.sleep(0.5)\n",
    "        envoyer_commande(1, 0, [0])\n",
    "\n",
    "    # Allumer la LED 2 à moitié de son intensité maximale\n",
    "    envoyer_commande(2, 0, [128])\n",
    "\n",
    "    # Faire pivoter le servomoteur de 0 à 180 degrés\n",
    "    for angle in range(0, 181, 30):\n",
    "        envoyer_commande(4, 1, [angle])\n",
    "        time.sleep(1)\n",
    "\n",
    "    # Éteindre la LED 2 après le mouvement du servomoteur\n",
    "    envoyer_commande(2, 0, [0])\n",
    "\n",
    "finally:\n",
    "    ser.close()\n",
    "```\n",
    "\n",
    "### **Instruction :**\n",
    "Utilise cette structure pour générer du code Python capable de contrôler les composants connectés à l'Arduino, en transformant les instructions en langage naturel en matrices de commandes compréhensibles par le code Arduino fourni. Assure-toi que le code Python suit une logique cohérente, respecte les capacités du matériel et gère les tâches de manière dynamique et interactive.\n",
    "\n",
    "\n",
    "INSTRUCTION DE L'UTILISATEUR: "
   ]
  },
  {
   "cell_type": "markdown",
   "metadata": {},
   "source": [
    "# CONTROLE DYNAMIQUE de GPT-4o"
   ]
  },
  {
   "cell_type": "markdown",
   "metadata": {},
   "source": [
    "## 1. Augmenter progressivement la luminosité de la LED 1 de 0% à 100% en 5 secondes. (Device: 1, Action: 0, Param: [0, 255], Time: 5s)\n"
   ]
  },
  {
   "cell_type": "code",
   "execution_count": 3,
   "metadata": {},
   "outputs": [],
   "source": [
    "import serial\n",
    "import time\n",
    "\n",
    "# Connexion au port série\n",
    "ser = serial.Serial('COM8', 9600)  # Remplacez 'COM8' par le port série approprié\n",
    "\n",
    "def envoyer_commande(device, action, params):\n",
    "    commande = f\"{device},{action},\" + \",\".join(map(str, params)) + \"\\n\"\n",
    "    ser.write(commande.encode())\n",
    "    time.sleep(0.1)\n",
    "\n",
    "try:\n",
    "    # Augmenter progressivement la luminosité de la LED 1 de 0 à 255 en 5 secondes\n",
    "    steps = 50  # Nombre de paliers pour augmenter la luminosité\n",
    "    delay = 5 / steps  # Délai entre chaque palier\n",
    "\n",
    "    for i in range(steps + 1):\n",
    "        intensity = int(255 * (i / steps))  # Calcul de l'intensité\n",
    "        envoyer_commande(1, 0, [intensity])\n",
    "        time.sleep(delay)\n",
    "\n",
    "finally:\n",
    "    ser.close()\n"
   ]
  },
  {
   "cell_type": "markdown",
   "metadata": {},
   "source": [
    "11.1s"
   ]
  },
  {
   "cell_type": "markdown",
   "metadata": {},
   "source": [
    "## 2. Faire varier l'angle du servo moteur de 0 à 180 degrés et revenir à 90 degrés en 10 secondes. (Device: 4, Action: 1, Param: [0, 180, 90], Time: 10s)\n"
   ]
  },
  {
   "cell_type": "code",
   "execution_count": 4,
   "metadata": {},
   "outputs": [],
   "source": [
    "import serial\n",
    "import time\n",
    "\n",
    "# Connexion au port série\n",
    "ser = serial.Serial('COM8', 9600)  # Remplacez 'COM8' par le port série approprié\n",
    "\n",
    "def envoyer_commande(device, action, params):\n",
    "    commande = f\"{device},{action},\" + \",\".join(map(str, params)) + \"\\n\"\n",
    "    ser.write(commande.encode())\n",
    "    time.sleep(0.1)\n",
    "\n",
    "try:\n",
    "    # Faire varier l'angle du servo moteur de 0 à 180 degrés et revenir à 90 degrés en 10 secondes\n",
    "    angles = [0, 180, 90]  # Paramètres à envoyer\n",
    "    temps_total = 10  # Temps total en secondes\n",
    "    for angle in angles:\n",
    "        envoyer_commande(4, 1, [angle])\n",
    "        time.sleep(temps_total / len(angles))  # Répartition égale du temps entre les mouvements\n",
    "\n",
    "finally:\n",
    "    ser.close()\n"
   ]
  },
  {
   "cell_type": "markdown",
   "metadata": {},
   "source": [
    "10.3s"
   ]
  },
  {
   "cell_type": "markdown",
   "metadata": {},
   "source": [
    "## 3. Alterner l'allumage des LED 1 et 2 avec des intervalles de 2 secondes pendant 10 secondes. (Device: [1, 2], Action: 0, Param: [255, 0], Interval: 2s, Time: 10s)\n"
   ]
  },
  {
   "cell_type": "code",
   "execution_count": 5,
   "metadata": {},
   "outputs": [],
   "source": [
    "import serial\n",
    "import time\n",
    "\n",
    "# Connexion au port série\n",
    "ser = serial.Serial('COM8', 9600)  # Remplacez 'COM8' par le port série approprié\n",
    "\n",
    "def envoyer_commande(device, action, params):\n",
    "    commande = f\"{device},{action},\" + \",\".join(map(str, params)) + \"\\n\"\n",
    "    ser.write(commande.encode())\n",
    "    time.sleep(0.1)\n",
    "\n",
    "try:\n",
    "    # Durée totale en secondes\n",
    "    duree_totale = 10\n",
    "    intervalle = 2\n",
    "    temps_ecoule = 0\n",
    "\n",
    "    while temps_ecoule < duree_totale:\n",
    "        # Allumer LED 1 et éteindre LED 2\n",
    "        envoyer_commande(1, 0, [255])\n",
    "        envoyer_commande(2, 0, [0])\n",
    "        time.sleep(intervalle)\n",
    "\n",
    "        # Allumer LED 2 et éteindre LED 1\n",
    "        envoyer_commande(1, 0, [0])\n",
    "        envoyer_commande(2, 0, [255])\n",
    "        time.sleep(intervalle)\n",
    "\n",
    "        temps_ecoule += 2 * intervalle\n",
    "\n",
    "finally:\n",
    "    ser.close()\n"
   ]
  },
  {
   "cell_type": "markdown",
   "metadata": {},
   "source": [
    "13.4s"
   ]
  },
  {
   "cell_type": "markdown",
   "metadata": {},
   "source": [
    "## 4. Faire clignoter la LED 3 cinq fois avec un intervalle de 1 seconde entre chaque allumage. (Device: 3, Action: 0, Param: 255, Interval: 1s, Repeats: 5)\n"
   ]
  },
  {
   "cell_type": "code",
   "execution_count": 6,
   "metadata": {},
   "outputs": [],
   "source": [
    "import serial\n",
    "import time\n",
    "\n",
    "# Connexion au port série\n",
    "ser = serial.Serial('COM8', 9600)  # Remplacez 'COM8' par le port série approprié\n",
    "\n",
    "def envoyer_commande(device, action, params):\n",
    "    commande = f\"{device},{action},\" + \",\".join(map(str, params)) + \"\\n\"\n",
    "    ser.write(commande.encode())\n",
    "    time.sleep(0.1)\n",
    "\n",
    "try:\n",
    "    # Faire clignoter la LED 3 cinq fois\n",
    "    for _ in range(5):\n",
    "        envoyer_commande(3, 0, [255])  # Allumer la LED 3 à intensité maximale\n",
    "        time.sleep(1)  # Attendre 1 seconde\n",
    "        envoyer_commande(3, 0, [0])    # Éteindre la LED 3\n",
    "        time.sleep(1)  # Attendre 1 seconde\n",
    "\n",
    "finally:\n",
    "    ser.close()\n"
   ]
  },
  {
   "cell_type": "markdown",
   "metadata": {},
   "source": [
    "11.2s"
   ]
  },
  {
   "cell_type": "markdown",
   "metadata": {},
   "source": [
    "## 5. Diminuer progressivement la luminosité de la LED 2 de 100% à 0% en 3 secondes. (Device: 2, Action: 0, Param: [255, 0], Time: 3s)"
   ]
  },
  {
   "cell_type": "code",
   "execution_count": 7,
   "metadata": {},
   "outputs": [],
   "source": [
    "import serial\n",
    "import time\n",
    "\n",
    "# Connexion au port série\n",
    "ser = serial.Serial('COM8', 9600)  # Remplacez 'COM8' par le port série approprié\n",
    "\n",
    "def envoyer_commande(device, action, params):\n",
    "    commande = f\"{device},{action},\" + \",\".join(map(str, params)) + \"\\n\"\n",
    "    ser.write(commande.encode())\n",
    "    #time.sleep(0.1)  # Petite pause pour s'assurer que la commande est bien reçue\n",
    "\n",
    "try:\n",
    "    # Diminuer progressivement la luminosité de la LED 2 de 100% à 0% en 3 secondes\n",
    "    steps = 50  # Nombre de pas pour la diminution\n",
    "    delay = 3 / steps  # Temps entre chaque changement de luminosité\n",
    "    for intensity in range(255, -1, -int(255/steps)):  # Diminuer de 255 à 0\n",
    "        envoyer_commande(2, 0, [intensity])\n",
    "        time.sleep(delay)\n",
    "\n",
    "finally:\n",
    "    ser.close()\n"
   ]
  },
  {
   "cell_type": "markdown",
   "metadata": {},
   "source": [
    "3.5s"
   ]
  },
  {
   "cell_type": "markdown",
   "metadata": {},
   "source": [
    "## 6. Synchroniser le mouvement du servo moteur et l'allumage de la LED 1, le servo allant de 0 à 180 degrés tandis que la LED passe de 0% à 100% de façon synchrone inverse au servo par pas de 50 (Device: [4, 1], Action: [1, 0], Param: [[0, 180], [0, 255]], Time: 10s)\n"
   ]
  },
  {
   "cell_type": "code",
   "execution_count": 8,
   "metadata": {},
   "outputs": [],
   "source": [
    "import serial\n",
    "import time\n",
    "\n",
    "# Connexion au port série\n",
    "ser = serial.Serial('COM8', 9600)  # Remplacez 'COM8' par le port série approprié\n",
    "\n",
    "def envoyer_commande(device, action, params):\n",
    "    commande = f\"{device},{action},\" + \",\".join(map(str, params)) + \"\\n\"\n",
    "    ser.write(commande.encode())\n",
    "    time.sleep(0.1)\n",
    "\n",
    "try:\n",
    "    # Durée totale de l'opération en secondes\n",
    "    duree_totale = 10\n",
    "\n",
    "    # Paramètres pour le servo et la LED\n",
    "    angle_servo_debut = 0\n",
    "    angle_servo_fin = 180\n",
    "    intensite_led_debut = 255\n",
    "    intensite_led_fin = 0\n",
    "    pas = 50\n",
    "\n",
    "    # Nombre d'étapes\n",
    "    nombre_etapes = (angle_servo_fin - angle_servo_debut) // pas\n",
    "\n",
    "    # Temps entre chaque étape\n",
    "    temps_par_etape = duree_totale / nombre_etapes\n",
    "\n",
    "    # Boucle pour synchroniser le servo et la LED\n",
    "    for i in range(0, nombre_etapes + 1):\n",
    "        # Calcul de l'angle du servo et de l'intensité de la LED pour cette étape\n",
    "        angle_servo = angle_servo_debut + i * pas\n",
    "        intensite_led = intensite_led_debut - i * ((intensite_led_debut - intensite_led_fin) // nombre_etapes)\n",
    "\n",
    "        # Envoyer la commande pour le servo\n",
    "        envoyer_commande(4, 1, [angle_servo])\n",
    "\n",
    "        # Envoyer la commande pour la LED\n",
    "        envoyer_commande(1, 0, [intensite_led])\n",
    "\n",
    "        # Attendre avant de passer à l'étape suivante\n",
    "        time.sleep(temps_par_etape)\n",
    "\n",
    "    # Remettre le servo à 0 et éteindre la LED 1 après l'opération\n",
    "    envoyer_commande(4, 1, [0])\n",
    "    envoyer_commande(1, 0, [0])\n",
    "\n",
    "finally:\n",
    "    ser.close()\n"
   ]
  },
  {
   "cell_type": "markdown",
   "metadata": {},
   "source": [
    "14.4s"
   ]
  },
  {
   "cell_type": "code",
   "execution_count": 9,
   "metadata": {},
   "outputs": [],
   "source": [
    "import serial\n",
    "import time\n",
    "\n",
    "# Connexion au port série\n",
    "ser = serial.Serial('COM8', 9600)  # Remplacez 'COM8' par le port série approprié\n",
    "\n",
    "def envoyer_commande(device, action, params):\n",
    "    commande = f\"{device},{action},\" + \",\".join(map(str, params)) + \"\\n\"\n",
    "    ser.write(commande.encode())\n",
    "    time.sleep(0.1)\n",
    "\n",
    "try:\n",
    "    # Synchroniser le mouvement du servomoteur (Device 4) et l'allumage de la LED 1 (Device 1)\n",
    "    # Servo va de 0 à 180 degrés et la LED passe de 255 à 0 (inversement) en 10 secondes\n",
    "    step_count = 10  # Nombre de pas (peut être ajusté pour plus de précision)\n",
    "    for i in range(step_count + 1):\n",
    "        angle = int(180 * i / step_count)\n",
    "        intensity = int(255 * (step_count - i) / step_count)\n",
    "        \n",
    "        # Envoyer la commande pour le servo moteur (Device 4, Action 1)\n",
    "        envoyer_commande(4, 1, [angle])\n",
    "        \n",
    "        # Envoyer la commande pour la LED 1 (Device 1, Action 0)\n",
    "        envoyer_commande(1, 0, [intensity])\n",
    "        \n",
    "        # Pause de 1 seconde pour synchroniser le mouvement sur 10 secondes\n",
    "        time.sleep(1)\n",
    "\n",
    "finally:\n",
    "    ser.close()\n"
   ]
  },
  {
   "cell_type": "markdown",
   "metadata": {},
   "source": [
    "13.6s"
   ]
  },
  {
   "cell_type": "markdown",
   "metadata": {},
   "source": [
    "## 7. Faire varier la luminosité des LED 1 et 2 en alternance toutes les 0,5 secondes pendant 10 secondes. (Device: [1, 2], Action: 0, Param: [255, 0], Interval: 0.5s, Time: 10s)"
   ]
  },
  {
   "cell_type": "code",
   "execution_count": 10,
   "metadata": {},
   "outputs": [],
   "source": [
    "import serial\n",
    "import time\n",
    "\n",
    "# Connexion au port série\n",
    "ser = serial.Serial('COM8', 9600)  # Remplacez 'COM8' par le port série approprié\n",
    "\n",
    "def envoyer_commande(device, action, params):\n",
    "    commande = f\"{device},{action},\" + \",\".join(map(str, params)) + \"\\n\"\n",
    "    ser.write(commande.encode())\n",
    "    time.sleep(0.1)  # Pause pour s'assurer que l'Arduino reçoit et traite la commande\n",
    "\n",
    "try:\n",
    "    # Durée totale de l'alternance (en secondes)\n",
    "    total_time = 10\n",
    "    # Intervalle entre chaque alternance (en secondes)\n",
    "    interval = 0.5\n",
    "    # Nombre de cycles d'alternance\n",
    "    cycles = int(total_time / interval)\n",
    "\n",
    "    for i in range(cycles):\n",
    "        # Faire varier la luminosité de la LED 1 à pleine intensité (255) et la LED 2 à 0\n",
    "        envoyer_commande(1, 0, [255])\n",
    "        envoyer_commande(2, 0, [0])\n",
    "        time.sleep(interval)\n",
    "\n",
    "        # Inverser : LED 1 à 0 et LED 2 à pleine intensité (255)\n",
    "        envoyer_commande(1, 0, [0])\n",
    "        envoyer_commande(2, 0, [255])\n",
    "        time.sleep(interval)\n",
    "\n",
    "    # Éteindre les deux LEDs après la fin de l'opération\n",
    "    envoyer_commande(1, 0, [0])\n",
    "    envoyer_commande(2, 0, [0])\n",
    "\n",
    "finally:\n",
    "    ser.close()  # Assurez-vous de fermer la connexion série proprement\n"
   ]
  },
  {
   "cell_type": "markdown",
   "metadata": {},
   "source": [
    "29.2s"
   ]
  },
  {
   "cell_type": "markdown",
   "metadata": {},
   "source": [
    "## 8. Faire passer la LED 3 de 0% à 100% de luminosité en 2 secondes, puis revenir à 0% en 2 secondes. Répéter 3 fois. (Device: 3, Action: 0, Param: [0, 255], Time: 4s, Repeats: 3)\n"
   ]
  },
  {
   "cell_type": "code",
   "execution_count": 11,
   "metadata": {},
   "outputs": [],
   "source": [
    "import serial\n",
    "import time\n",
    "\n",
    "# Connexion au port série\n",
    "ser = serial.Serial('COM8', 9600)  # Remplacez 'COM8' par le port série approprié\n",
    "\n",
    "def envoyer_commande(device, action, params):\n",
    "    commande = f\"{device},{action},\" + \",\".join(map(str, params)) + \"\\n\"\n",
    "    ser.write(commande.encode())\n",
    "    time.sleep(0.1)  # Pause pour s'assurer que la commande est bien reçue\n",
    "\n",
    "try:\n",
    "    # Répéter 3 fois le cycle d'augmentation et de diminution de la luminosité\n",
    "    for _ in range(3):\n",
    "        # Augmenter progressivement la luminosité de 0 à 255 sur 2 secondes\n",
    "        for intensity in range(0, 256, 26):  # Incrémentation par 26 pour couvrir ~2 secondes\n",
    "            envoyer_commande(3, 0, [intensity])\n",
    "            time.sleep(0.2)  # 0.2s par étape pour faire 2s au total\n",
    "\n",
    "        # Diminuer progressivement la luminosité de 255 à 0 sur 2 secondes\n",
    "        for intensity in range(255, -1, -26):  # Incrémentation négative par 26\n",
    "            envoyer_commande(3, 0, [intensity])\n",
    "            time.sleep(0.2)  # 0.2s par étape pour faire 2s au total\n",
    "\n",
    "finally:\n",
    "    ser.close()\n"
   ]
  },
  {
   "cell_type": "markdown",
   "metadata": {},
   "source": [
    "19.1s"
   ]
  },
  {
   "cell_type": "markdown",
   "metadata": {},
   "source": [
    "## 9. Augmenter progressivement la luminosité de la LED 2 de 0% à 50% en 1 seconde, puis de 50% à 100% en 2 secondes. (Device: 2, Action: 0, Param: [0, 128, 255], Time: 3s)\n"
   ]
  },
  {
   "cell_type": "code",
   "execution_count": 12,
   "metadata": {},
   "outputs": [],
   "source": [
    "import serial\n",
    "import time\n",
    "\n",
    "# Connexion au port série\n",
    "ser = serial.Serial('COM8', 9600)  # Remplacez 'COM8' par le port série approprié\n",
    "\n",
    "def envoyer_commande(device, action, params):\n",
    "    commande = f\"{device},{action},\" + \",\".join(map(str, params)) + \"\\n\"\n",
    "    ser.write(commande.encode())\n",
    "    time.sleep(0.1)\n",
    "\n",
    "try:\n",
    "    # Augmenter progressivement la luminosité de la LED 2 de 0% à 50% en 1 seconde\n",
    "    for intensity in range(0, 129, 26):  # Incrémente l'intensité par étapes (5 étapes sur 1 seconde)\n",
    "        envoyer_commande(2, 0, [intensity])\n",
    "        time.sleep(0.2)\n",
    "\n",
    "    # Augmenter progressivement la luminosité de 50% à 100% en 2 secondes\n",
    "    for intensity in range(128, 256, 32):  # Incrémente l'intensité par étapes (4 étapes sur 2 secondes)\n",
    "        envoyer_commande(2, 0, [intensity])\n",
    "        time.sleep(0.5)\n",
    "\n",
    "finally:\n",
    "    ser.close()\n"
   ]
  },
  {
   "cell_type": "markdown",
   "metadata": {},
   "source": [
    "4.1s"
   ]
  },
  {
   "cell_type": "markdown",
   "metadata": {},
   "source": [
    "## 10. Faire varier l'angle du servo moteur de 90 à 0 degrés, puis de 0 à 90 degrés en 4 secondes. (Device: 4, Action: 1, Param: [90, 0, 90], Time: 4s)\n"
   ]
  },
  {
   "cell_type": "code",
   "execution_count": 13,
   "metadata": {},
   "outputs": [],
   "source": [
    "import serial\n",
    "import time\n",
    "\n",
    "# Connexion au port série\n",
    "ser = serial.Serial('COM8', 9600)  # Remplacez 'COM8' par le port série approprié\n",
    "\n",
    "def envoyer_commande(device, action, params):\n",
    "    commande = f\"{device},{action},\" + \",\".join(map(str, params)) + \"\\n\"\n",
    "    ser.write(commande.encode())\n",
    "    time.sleep(0.1)\n",
    "\n",
    "try:\n",
    "    # Variation de l'angle du servomoteur de 90 à 0, puis de 0 à 90 degrés en 4 secondes\n",
    "    # Durée totale = 4 secondes, donc 2 secondes pour chaque cycle (90 -> 0 et 0 -> 90)\n",
    "    angles = [90, 0, 90]\n",
    "    delai_par_angle = 4 / (len(angles) - 1)  # 4s divisé par le nombre de transitions\n",
    "\n",
    "    for angle in angles:\n",
    "        envoyer_commande(4, 1, [angle])\n",
    "        time.sleep(delai_par_angle)\n",
    "\n",
    "finally:\n",
    "    ser.close()\n"
   ]
  },
  {
   "cell_type": "markdown",
   "metadata": {},
   "source": [
    "6.3s"
   ]
  },
  {
   "cell_type": "code",
   "execution_count": 14,
   "metadata": {},
   "outputs": [],
   "source": [
    "import serial\n",
    "import time\n",
    "\n",
    "# Connexion au port série (Remplacez 'COM8' par votre port série Arduino)\n",
    "ser = serial.Serial('COM8', 9600)  # Vérifiez et remplacez par le port série correct\n",
    "time.sleep(2)  # Attendre un peu pour que la connexion série se stabilise\n",
    "\n",
    "def envoyer_commande(device, action, params):\n",
    "    # Créer la commande à envoyer au format attendu par l'Arduino\n",
    "    commande = f\"{device},{action},\" + \",\".join(map(str, params)) + \"\\n\"\n",
    "    ser.write(commande.encode())\n",
    "    time.sleep(0.1)\n",
    "\n",
    "try:\n",
    "    # Faire varier l'angle du servomoteur de 90 à 0 degrés, puis de 0 à 90 degrés en 4 secondes\n",
    "    # Temps total = 4 secondes, donc chaque mouvement durera environ 2 secondes\n",
    "\n",
    "    # Diminuer l'angle de 90 à 0 degrés en 2 secondes\n",
    "    for angle in range(90, -1, -15):  # Passer de 90 à 0 degrés par pas de 15 degrés\n",
    "        envoyer_commande(4, 1, [angle])\n",
    "        time.sleep(2 / 6)  # Répartir les mouvements sur 2 secondes\n",
    "\n",
    "    # Augmenter l'angle de 0 à 90 degrés en 2 secondes\n",
    "    for angle in range(0, 91, 15):  # Passer de 0 à 90 degrés par pas de 15 degrés\n",
    "        envoyer_commande(4, 1, [angle])\n",
    "        time.sleep(2 / 6)  # Répartir les mouvements sur 2 secondes\n",
    "\n",
    "finally:\n",
    "    ser.close()  # Fermer la connexion série\n"
   ]
  },
  {
   "cell_type": "markdown",
   "metadata": {},
   "source": [
    "8.4s"
   ]
  },
  {
   "cell_type": "markdown",
   "metadata": {},
   "source": [
    "## 11. Éteindre la LED 1 pendant 2 secondes, puis allumer la LED 3 à 100% pendant 2 secondes. Répéter 4 fois. (Device: [1, 3], Action: [0, 0], Param: [0, 255], Interval: 2s, Repeats: 4)\n"
   ]
  },
  {
   "cell_type": "code",
   "execution_count": 15,
   "metadata": {},
   "outputs": [],
   "source": [
    "import serial\n",
    "import time\n",
    "\n",
    "# Connexion au port série (remplacez 'COM8' par le port série approprié)\n",
    "ser = serial.Serial('COM8', 9600)\n",
    "\n",
    "def envoyer_commande(device, action, params):\n",
    "    commande = f\"{device},{action},\" + \",\".join(map(str, params)) + \"\\n\"\n",
    "    ser.write(commande.encode())\n",
    "    time.sleep(0.1)\n",
    "\n",
    "try:\n",
    "    # Répéter l'opération 4 fois\n",
    "    for _ in range(4):\n",
    "        # Éteindre la LED 1 (0% d'intensité)\n",
    "        envoyer_commande(1, 0, [0])\n",
    "        time.sleep(2)\n",
    "\n",
    "        # Allumer la LED 3 à 100% d'intensité (255)\n",
    "        envoyer_commande(3, 0, [255])\n",
    "        time.sleep(2)\n",
    "\n",
    "finally:\n",
    "    ser.close()\n"
   ]
  },
  {
   "cell_type": "markdown",
   "metadata": {},
   "source": [
    "16.9s"
   ]
  },
  {
   "cell_type": "markdown",
   "metadata": {},
   "source": [
    "## 12. Alterner l'allumage des LED 1 et 2 toutes les 1,5 secondes pendant 15 secondes, avec une LED allumée à 100% et l'autre éteinte. (Device: [1, 2], Action: 0, Param: [255, 0], Interval: 1.5s, Time: 15s)\n"
   ]
  },
  {
   "cell_type": "code",
   "execution_count": 16,
   "metadata": {},
   "outputs": [],
   "source": [
    "import serial\n",
    "import time\n",
    "\n",
    "# Connexion au port série\n",
    "ser = serial.Serial('COM8', 9600)  # Remplacez 'COM8' par le port série approprié\n",
    "\n",
    "def envoyer_commande(device, action, params):\n",
    "    commande = f\"{device},{action},\" + \",\".join(map(str, params)) + \"\\n\"\n",
    "    ser.write(commande.encode())\n",
    "    time.sleep(0.1)\n",
    "\n",
    "try:\n",
    "    # Durée totale en secondes\n",
    "    total_time = 15\n",
    "    # Intervalle en secondes entre chaque alternance\n",
    "    interval = 1.5\n",
    "    # Nombre d'itérations nécessaires\n",
    "    iterations = int(total_time / interval)\n",
    "\n",
    "    for i in range(iterations):\n",
    "        # Allumer LED 1 à 100% et éteindre LED 2\n",
    "        envoyer_commande(1, 0, [255])  # LED 1 allumée\n",
    "        envoyer_commande(2, 0, [0])    # LED 2 éteinte\n",
    "        time.sleep(interval)\n",
    "\n",
    "        # Allumer LED 2 à 100% et éteindre LED 1\n",
    "        envoyer_commande(1, 0, [0])    # LED 1 éteinte\n",
    "        envoyer_commande(2, 0, [255])  # LED 2 allumée\n",
    "        time.sleep(interval)\n",
    "\n",
    "finally:\n",
    "    ser.close()\n"
   ]
  },
  {
   "cell_type": "markdown",
   "metadata": {},
   "source": [
    "34.6s"
   ]
  },
  {
   "cell_type": "markdown",
   "metadata": {},
   "source": [
    "## 13. Diminuer la luminosité de la LED 1 de 100% à 0% en 4 secondes, puis augmenter la luminosité de la LED 2 de 0% à 100% en 4 secondes. (Device: [1, 2], Action: 0, Param: [255, 0, 255], Time: 8s)\n"
   ]
  },
  {
   "cell_type": "code",
   "execution_count": 17,
   "metadata": {},
   "outputs": [],
   "source": [
    "import serial\n",
    "import time\n",
    "\n",
    "# Connexion au port série\n",
    "ser = serial.Serial('COM8', 9600)  # Remplacez 'COM8' par le port série approprié\n",
    "\n",
    "def envoyer_commande(device, action, params):\n",
    "    commande = f\"{device},{action},\" + \",\".join(map(str, params)) + \"\\n\"\n",
    "    ser.write(commande.encode())\n",
    "    time.sleep(0.1)\n",
    "\n",
    "try:\n",
    "    # Diminuer la luminosité de la LED 1 de 100% à 0% en 4 secondes\n",
    "    for intensity in range(255, -1, -64):  # Décrémente de 255 à 0 par étapes\n",
    "        envoyer_commande(1, 0, [intensity])\n",
    "        time.sleep(1)  # Ajustez le temps pour répartir sur 4 secondes\n",
    "\n",
    "    # Augmenter la luminosité de la LED 2 de 0% à 100% en 4 secondes\n",
    "    for intensity in range(0, 256, 64):  # Incrémente de 0 à 255 par étapes\n",
    "        envoyer_commande(2, 0, [intensity])\n",
    "        time.sleep(1)  # Ajustez le temps pour répartir sur 4 secondes\n",
    "\n",
    "finally:\n",
    "    ser.close()\n"
   ]
  },
  {
   "cell_type": "markdown",
   "metadata": {},
   "source": [
    "8.9s"
   ]
  },
  {
   "cell_type": "markdown",
   "metadata": {},
   "source": [
    "## 14. Faire varier l'angle du servo moteur de 0 à 90 degrés en 3 secondes, puis de 90 à 180 degrés en 3 secondes. (Device: 4, Action: 1, Param: [0, 90, 180], Time: 6s)\n"
   ]
  },
  {
   "cell_type": "code",
   "execution_count": 18,
   "metadata": {},
   "outputs": [],
   "source": [
    "import serial\n",
    "import time\n",
    "\n",
    "# Connexion au port série\n",
    "ser = serial.Serial('COM8', 9600)  # Remplacez 'COM8' par le port série approprié\n",
    "\n",
    "def envoyer_commande(device, action, params):\n",
    "    commande = f\"{device},{action},\" + \",\".join(map(str, params)) + \"\\n\"\n",
    "    ser.write(commande.encode())\n",
    "    time.sleep(0.1)\n",
    "\n",
    "try:\n",
    "    # Variation de l'angle du servomoteur de 0 à 90 degrés en 3 secondes\n",
    "    start_time = time.time()\n",
    "    while time.time() - start_time < 3:\n",
    "        elapsed_time = time.time() - start_time\n",
    "        angle = int((elapsed_time / 3) * 90)\n",
    "        envoyer_commande(4, 1, [angle])\n",
    "        time.sleep(0.1)\n",
    "\n",
    "    # Variation de l'angle du servomoteur de 90 à 180 degrés en 3 secondes\n",
    "    start_time = time.time()\n",
    "    while time.time() - start_time < 3:\n",
    "        elapsed_time = time.time() - start_time\n",
    "        angle = 90 + int((elapsed_time / 3) * 90)\n",
    "        envoyer_commande(4, 1, [angle])\n",
    "        time.sleep(0.1)\n",
    "\n",
    "finally:\n",
    "    ser.close()\n"
   ]
  },
  {
   "cell_type": "markdown",
   "metadata": {},
   "source": [
    "6.2s"
   ]
  },
  {
   "cell_type": "markdown",
   "metadata": {},
   "source": [
    "## 15. Synchroniser l'allumage de la LED 3 avec le mouvement du servo moteur allant de 0 à 180 degrés. La LED passe de 0% à 100% en synchronisation inverse avec le servo. (Device: [4, 3], Action: [1, 0], Param: [[0, 180], [0, 255]], Time: 10s)\n"
   ]
  },
  {
   "cell_type": "code",
   "execution_count": 19,
   "metadata": {},
   "outputs": [],
   "source": [
    "import serial\n",
    "import time\n",
    "\n",
    "# Connexion au port série\n",
    "ser = serial.Serial('COM8', 9600)  # Remplacez 'COM8' par le port série approprié\n",
    "\n",
    "def envoyer_commande(device, action, params):\n",
    "    commande = f\"{device},{action},\" + \",\".join(map(str, params)) + \"\\n\"\n",
    "    ser.write(commande.encode())\n",
    "    time.sleep(0.1)\n",
    "\n",
    "try:\n",
    "    # Synchronisation du mouvement du servo avec la LED 3\n",
    "    for angle in range(0, 181, 10):  # de 0 à 180 degrés en incréments de 10\n",
    "        intensity = 255 - int((angle / 180) * 255)  # Calcul de l'intensité inverse pour la LED 3\n",
    "        envoyer_commande(4, 1, [angle])  # Commande pour le servomoteur\n",
    "        envoyer_commande(3, 0, [intensity])  # Commande pour la LED 3\n",
    "        time.sleep(0.55)  # Synchronisation sur 10 secondes\n",
    "\n",
    "finally:\n",
    "    ser.close()\n"
   ]
  },
  {
   "cell_type": "markdown",
   "metadata": {},
   "source": [
    "14.8s"
   ]
  },
  {
   "cell_type": "markdown",
   "metadata": {},
   "source": [
    "## 16. Faire clignoter la LED 2 à 100% de luminosité toutes les 1,5 secondes pendant 12 secondes, puis éteindre la LED 2 pendant 3 secondes. (Device: 2, Action: 0, Param: 255, Interval: 1.5s, Time: 15s)\n"
   ]
  },
  {
   "cell_type": "code",
   "execution_count": 20,
   "metadata": {},
   "outputs": [],
   "source": [
    "import serial\n",
    "import time\n",
    "\n",
    "# Connexion au port série\n",
    "ser = serial.Serial('COM8', 9600)  # Remplacez 'COM8' par le port série approprié\n",
    "\n",
    "def envoyer_commande(device, action, params):\n",
    "    commande = f\"{device},{action},\" + \",\".join(map(str, params)) + \"\\n\"\n",
    "    ser.write(commande.encode())\n",
    "    time.sleep(0.1)\n",
    "\n",
    "try:\n",
    "    # Faire clignoter la LED 2 à 100% de luminosité toutes les 1,5 secondes pendant 12 secondes\n",
    "    start_time = time.time()\n",
    "    while time.time() - start_time < 12:\n",
    "        envoyer_commande(2, 0, [255])  # Allumer la LED 2 à 100%\n",
    "        time.sleep(1.5)\n",
    "        envoyer_commande(2, 0, [0])    # Éteindre la LED 2\n",
    "        time.sleep(1.5)\n",
    "    \n",
    "    # Éteindre la LED 2 pendant 3 secondes\n",
    "    envoyer_commande(2, 0, [0])\n",
    "    time.sleep(3)\n",
    "\n",
    "finally:\n",
    "    ser.close()\n"
   ]
  },
  {
   "cell_type": "markdown",
   "metadata": {},
   "source": [
    "16s"
   ]
  },
  {
   "cell_type": "markdown",
   "metadata": {},
   "source": [
    "## 17. Augmenter la luminosité de la LED 3 de 0% à 100% en 6 secondes, puis diminuer à 0% en 4 secondes. Répéter 3 fois. (Device: 3, Action: 0, Param: [0, 255], Time: 10s, Repeats: 3)\n"
   ]
  },
  {
   "cell_type": "code",
   "execution_count": 21,
   "metadata": {},
   "outputs": [],
   "source": [
    "import serial\n",
    "import time\n",
    "\n",
    "# Connexion au port série\n",
    "ser = serial.Serial('COM8', 9600)  # Remplacez 'COM8' par le port série approprié\n",
    "\n",
    "def envoyer_commande(device, action, params):\n",
    "    commande = f\"{device},{action},\" + \",\".join(map(str, params)) + \"\\n\"\n",
    "    ser.write(commande.encode())\n",
    "    time.sleep(0.1)\n",
    "\n",
    "try:\n",
    "    # Répéter l'opération 3 fois\n",
    "    for _ in range(3):\n",
    "        # Augmenter la luminosité de la LED 3 de 0% à 100% en 6 secondes\n",
    "        for intensity in range(0, 256, 51):  # Intervalle de 51 pour couvrir toute l'échelle en environ 6 secondes\n",
    "            envoyer_commande(3, 0, [intensity])\n",
    "            time.sleep(6 / 5)  # Division de 6 secondes par le nombre d'étapes (5)\n",
    "\n",
    "        # Diminuer la luminosité de la LED 3 de 100% à 0% en 4 secondes\n",
    "        for intensity in range(255, -1, -64):  # Intervalle de 64 pour couvrir toute l'échelle en environ 4 secondes\n",
    "            envoyer_commande(3, 0, [intensity])\n",
    "            time.sleep(4 / 4)  # Division de 4 secondes par le nombre d'étapes (4)\n",
    "\n",
    "finally:\n",
    "    ser.close()\n"
   ]
  },
  {
   "cell_type": "markdown",
   "metadata": {},
   "source": [
    "37.2s"
   ]
  },
  {
   "cell_type": "markdown",
   "metadata": {},
   "source": [
    "## 18. Alterner l'angle du servo moteur entre 0 et 180 degrés toutes les 2 secondes pendant 20 secondes. (Device: 4, Action: 1, Param: [0, 180], Interval: 2s, Time: 20s)\n"
   ]
  },
  {
   "cell_type": "code",
   "execution_count": 22,
   "metadata": {},
   "outputs": [],
   "source": [
    "import serial\n",
    "import time\n",
    "\n",
    "# Connexion au port série\n",
    "ser = serial.Serial('COM8', 9600)  # Remplacez 'COM8' par le port série approprié\n",
    "\n",
    "def envoyer_commande(device, action, params):\n",
    "    commande = f\"{device},{action},\" + \",\".join(map(str, params)) + \"\\n\"\n",
    "    ser.write(commande.encode())\n",
    "    time.sleep(0.1)\n",
    "\n",
    "try:\n",
    "    start_time = time.time()\n",
    "    while time.time() - start_time < 20:  # Boucle pour 20 secondes\n",
    "        # Définir l'angle à 0 degrés\n",
    "        envoyer_commande(4, 1, [0])\n",
    "        time.sleep(2)  # Attendre 2 secondes\n",
    "        \n",
    "        # Définir l'angle à 180 degrés\n",
    "        envoyer_commande(4, 1, [180])\n",
    "        time.sleep(2)  # Attendre 2 secondes\n",
    "\n",
    "finally:\n",
    "    ser.close()\n"
   ]
  },
  {
   "cell_type": "markdown",
   "metadata": {},
   "source": [
    "21.2s"
   ]
  },
  {
   "cell_type": "markdown",
   "metadata": {},
   "source": [
    "## 19. Faire clignoter la LED 1 à 50% de luminosité et la LED 2 à 75% toutes les 2 secondes pendant 8 secondes. (Device: [1, 2], Action: 0, Param: [128, 192], Interval: 2s, Time: 8s)\n"
   ]
  },
  {
   "cell_type": "code",
   "execution_count": 117,
   "metadata": {},
   "outputs": [],
   "source": [
    "import serial\n",
    "import time\n",
    "\n",
    "# Connexion au port série (Assurez-vous de mettre le bon port COM)\n",
    "ser = serial.Serial('COM8', 9600)  # Remplacer 'COM8' par le port série approprié\n",
    "\n",
    "def envoyer_commande(device, action, params):\n",
    "    # Crée la commande sous forme d'une chaîne CSV et l'envoie à l'Arduino\n",
    "    commande = f\"{device},{action},\" + \",\".join(map(str, params)) + \"\\n\"\n",
    "    ser.write(commande.encode())\n",
    "    time.sleep(0.1)  # Pause pour donner le temps à l'Arduino de traiter la commande\n",
    "\n",
    "try:\n",
    "    # Démarrer le clignotement des LEDs pendant 8 secondes\n",
    "    start_time = time.time()  # Temps de début\n",
    "    while time.time() - start_time < 8:\n",
    "        # Allumer la LED 1 à 50% de luminosité (intensité 128) et LED 2 à 75% (intensité 192)\n",
    "        envoyer_commande(1, 0, [128])  # LED 1 à 50%\n",
    "        envoyer_commande(2, 0, [192])  # LED 2 à 75%\n",
    "        time.sleep(2)  # Attendre 2 secondes\n",
    "\n",
    "        # Éteindre les deux LEDs\n",
    "        envoyer_commande(1, 0, [0])  # LED 1 éteinte\n",
    "        envoyer_commande(2, 0, [0])  # LED 2 éteinte\n",
    "        time.sleep(2)  # Attendre 2 secondes avant de recommencer\n",
    "\n",
    "finally:\n",
    "    ser.close()  # Toujours fermer la connexion série à la fin\n"
   ]
  },
  {
   "cell_type": "markdown",
   "metadata": {},
   "source": [
    "8.9s"
   ]
  },
  {
   "cell_type": "markdown",
   "metadata": {},
   "source": [
    "on remarque que GPT4o utilise des marqueurs temporel pour respecter au mieux le temps demander"
   ]
  },
  {
   "cell_type": "markdown",
   "metadata": {},
   "source": [
    "## 20. Augmenter la luminosité de la LED 2 de 0% à 100% en 5 secondes, puis faire clignoter la LED 2 à 100% de luminosité toutes les 1,5 secondes pendant 10 secondes. (Device: 2, Action: [0, 0], Param: [255, 0], Interval: 1.5s, Time: 15s)\n"
   ]
  },
  {
   "cell_type": "code",
   "execution_count": 118,
   "metadata": {},
   "outputs": [],
   "source": [
    "import serial\n",
    "import time\n",
    "\n",
    "# Connexion au port série\n",
    "ser = serial.Serial('COM8', 9600)  # Remplacez 'COM8' par le port série approprié\n",
    "\n",
    "def envoyer_commande(device, action, params):\n",
    "    # Format de la commande : device, action, paramètre(s)\n",
    "    commande = f\"{device},{action},\" + \",\".join(map(str, params)) + \"\\n\"\n",
    "    ser.write(commande.encode())\n",
    "    time.sleep(0.1)  # Pause pour assurer la bonne réception par l'Arduino\n",
    "\n",
    "try:\n",
    "    # Augmenter progressivement la luminosité de la LED 2 sur 5 secondes\n",
    "    for intensity in range(0, 256, 51):  # Incrément de 51 pour couvrir 0% à 100% en 5 étapes\n",
    "        envoyer_commande(2, 0, [intensity])\n",
    "        time.sleep(1)  # Chaque incrément prend environ 1 seconde\n",
    "\n",
    "    # Faire clignoter la LED 2 à pleine luminosité toutes les 1,5 secondes pendant 10 secondes\n",
    "    start_time = time.time()\n",
    "    while time.time() - start_time < 10:  # Clignotement pendant 10 secondes\n",
    "        envoyer_commande(2, 0, [255])  # Allumer la LED à 100% de luminosité\n",
    "        time.sleep(0.75)  # Garder la LED allumée pendant 0.75 secondes\n",
    "        envoyer_commande(2, 0, [0])    # Éteindre la LED\n",
    "        time.sleep(0.75)  # Garder la LED éteinte pendant 0.75 secondes\n",
    "\n",
    "finally:\n",
    "    ser.close()  # Fermer la connexion série\n"
   ]
  },
  {
   "cell_type": "markdown",
   "metadata": {},
   "source": [
    "17.5s"
   ]
  },
  {
   "cell_type": "markdown",
   "metadata": {},
   "source": [
    "## 21. Faire varier l'angle du servo moteur de 90 à 0 degrés, puis de 0 à 90 degrés en 8 secondes. (Device: 4, Action: 1, Param: [90, 0, 90], Time: 8s)\n"
   ]
  },
  {
   "cell_type": "code",
   "execution_count": 119,
   "metadata": {},
   "outputs": [],
   "source": [
    "import serial\n",
    "import time\n",
    "\n",
    "# Connexion au port série\n",
    "ser = serial.Serial('COM8', 9600)  # Remplacez 'COM8' par le port série correct sur votre machine\n",
    "\n",
    "def envoyer_commande(device, action, params):\n",
    "    commande = f\"{device},{action},\" + \",\".join(map(str, params)) + \"\\n\"\n",
    "    ser.write(commande.encode())\n",
    "    time.sleep(0.1)  # Pause courte pour assurer la réception correcte de la commande\n",
    "\n",
    "try:\n",
    "    # Faire varier l'angle du servo moteur de 90 à 0 degrés en 4 secondes\n",
    "    for angle in range(90, -1, -15):  # Diminue par étapes de 15 degrés\n",
    "        envoyer_commande(4, 1, [angle])\n",
    "        time.sleep(4 / 6)  # 4 secondes réparties en 6 étapes (15 degrés à chaque étape)\n",
    "    \n",
    "    # Faire varier l'angle du servo moteur de 0 à 90 degrés en 4 secondes\n",
    "    for angle in range(0, 91, 15):  # Augmente par étapes de 15 degrés\n",
    "        envoyer_commande(4, 1, [angle])\n",
    "        time.sleep(4 / 6)  # 4 secondes réparties en 6 étapes (15 degrés à chaque étape)\n",
    "\n",
    "finally:\n",
    "    ser.close()\n"
   ]
  },
  {
   "cell_type": "markdown",
   "metadata": {},
   "source": [
    "11.2s"
   ]
  },
  {
   "cell_type": "markdown",
   "metadata": {},
   "source": [
    "## 22. Synchroniser l'allumage de la LED 3 avec le mouvement du servo moteur de 0 à 180 degrés toutes les 4 secondes. La LED passe de 0% à 100% de luminosité. (Device: [4, 3], Action: [1, 0], Param: [[0, 180], [0, 255]], Time: 4s)\n"
   ]
  },
  {
   "cell_type": "code",
   "execution_count": 120,
   "metadata": {},
   "outputs": [],
   "source": [
    "import serial\n",
    "import time\n",
    "\n",
    "# Connexion au port série (Remplacez 'COM8' par le port série approprié)\n",
    "ser = serial.Serial('COM8', 9600)\n",
    "\n",
    "def envoyer_commande(device, action, params):\n",
    "    \"\"\"Envoie une commande formatée au port série pour l'Arduino.\"\"\"\n",
    "    commande = f\"{device},{action},\" + \",\".join(map(str, params)) + \"\\n\"\n",
    "    ser.write(commande.encode())\n",
    "    time.sleep(0.1)\n",
    "\n",
    "try:\n",
    "    # Synchroniser l'allumage de la LED 3 avec le mouvement du servomoteur\n",
    "    for angle, brightness in zip(range(0, 181, 36), range(0, 256, 51)):  # Incrément de 36 pour le servo, 51 pour la LED\n",
    "        # Faire pivoter le servomoteur de 0 à 180 degrés\n",
    "        envoyer_commande(4, 1, [angle])\n",
    "        \n",
    "        # Ajuster la luminosité de la LED 3 en fonction du mouvement du servo\n",
    "        envoyer_commande(3, 0, [brightness])\n",
    "        \n",
    "        # Pause de 4 secondes avant le prochain mouvement/luminosité\n",
    "        time.sleep(4)\n",
    "\n",
    "    # Éteindre la LED 3 après avoir terminé le mouvement du servomoteur\n",
    "    envoyer_commande(3, 0, [0])\n",
    "\n",
    "finally:\n",
    "    ser.close()\n"
   ]
  },
  {
   "cell_type": "markdown",
   "metadata": {},
   "source": [
    "26s mais le mouvement pourrais tout aussi etre dans une boucle infini"
   ]
  },
  {
   "cell_type": "markdown",
   "metadata": {},
   "source": [
    "## 23. Diminuer la luminosité de la LED 1 de 100% à 0% en 5 secondes, puis augmenter la luminosité de la LED 2 de 0% à 100% en 5 secondes. (Device: [1, 2], Action: 0, Param: [255, 0, 255], Time: 10s)\n"
   ]
  },
  {
   "cell_type": "code",
   "execution_count": 121,
   "metadata": {},
   "outputs": [],
   "source": [
    "import serial\n",
    "import time\n",
    "\n",
    "# Connexion au port série (remplacez 'COM8' par le port approprié)\n",
    "ser = serial.Serial('COM8', 9600)  # Par exemple 'COM3' sous Windows ou '/dev/ttyUSB0' sous Linux\n",
    "\n",
    "def envoyer_commande(device, action, params):\n",
    "    \"\"\"\n",
    "    Fonction pour envoyer des commandes au format 'device,action,param1,param2,...' via le port série\n",
    "    \"\"\"\n",
    "    commande = f\"{device},{action},\" + \",\".join(map(str, params)) + \"\\n\"\n",
    "    ser.write(commande.encode())\n",
    "    time.sleep(0.1)  # Pause pour permettre à l'Arduino de traiter la commande\n",
    "\n",
    "try:\n",
    "    # Diminuer la luminosité de la LED 1 de 100% à 0% en 5 secondes\n",
    "    for intensity in range(255, -1, -51):  # Diminue par pas de 51 (sur 5 secondes)\n",
    "        envoyer_commande(1, 0, [intensity])  # LED 1, action 0 = modifier la luminosité\n",
    "        time.sleep(1)  # Attendre 1 seconde entre chaque changement\n",
    "\n",
    "    # Augmenter la luminosité de la LED 2 de 0% à 100% en 5 secondes\n",
    "    for intensity in range(0, 256, 51):  # Augmente par pas de 51 (sur 5 secondes)\n",
    "        envoyer_commande(2, 0, [intensity])  # LED 2, action 0 = modifier la luminosité\n",
    "        time.sleep(1)  # Attendre 1 seconde entre chaque changement\n",
    "\n",
    "finally:\n",
    "    ser.close()  # Toujours fermer la connexion série après utilisation\n"
   ]
  },
  {
   "cell_type": "markdown",
   "metadata": {},
   "source": [
    "13.5s"
   ]
  },
  {
   "cell_type": "markdown",
   "metadata": {},
   "source": [
    "## 30. Synchroniser le mouvement du servo moteur entre 30 et 150 degrés toutes les 5 secondes avec l'allumage de la LED 1 à 100%. (Device: [4, 1], Action: [1, 0], Param: [[30, 150], [255]], Interval: 5s, Time: 10s)\n"
   ]
  },
  {
   "cell_type": "code",
   "execution_count": 164,
   "metadata": {},
   "outputs": [],
   "source": [
    "import serial\n",
    "import time\n",
    "\n",
    "# Connexion au port série\n",
    "ser = serial.Serial('COM8', 9600)  # Remplacez 'COM8' par le port série approprié\n",
    "\n",
    "def envoyer_commande(device, action, params):\n",
    "    # Génère et envoie la commande au format \"device,action,param1,param2,...\"\n",
    "    commande = f\"{device},{action},\" + \",\".join(map(str, params)) + \"\\n\"\n",
    "    ser.write(commande.encode())\n",
    "    time.sleep(0.1)\n",
    "\n",
    "\n",
    "\n",
    "try:\n",
    "    # Allumer la LED 1 à 100% d'intensité\n",
    "    envoyer_commande(1, 0, [255])\n",
    "    \n",
    "    # Synchroniser le mouvement du servomoteur entre 30 et 150 degrés toutes les 5 secondes\n",
    "    start_time = time.time()\n",
    "    while time.time() - start_time < 10:  # Répéter pendant 10 secondes\n",
    "        # Déplacer le servomoteur à 30 degrés\n",
    "        envoyer_commande(4, 1, [30])\n",
    "        time.sleep(5)  # Attendre 5 secondes\n",
    "\n",
    "        # Déplacer le servomoteur à 150 degrés\n",
    "        envoyer_commande(4, 1, [150])\n",
    "        time.sleep(5)  # Attendre 5 secondes\n",
    "    \n",
    "    # Éteindre la LED 1 à la fin\n",
    "    envoyer_commande(1, 0, [0])\n",
    "    \n",
    "finally:\n",
    "    ser.close()  # Fermer la connexion série une fois terminé\n"
   ]
  },
  {
   "cell_type": "markdown",
   "metadata": {},
   "source": [
    "le code fourni est respecte les instructions mais il y a un echec non compris de GPT4o sur l'instruction 30 du jeux de données d'instructions que l'on arrive pas a comprendre "
   ]
  },
  {
   "cell_type": "markdown",
   "metadata": {},
   "source": [
    "## 42. Synchroniser l'allumage de la LED 2 avec le mouvement du servo moteur entre 0 et 180 degrés toutes les 6 secondes. La LED passe de 0% à 100% de luminosité. (Device: [2, 4], Action: [0, 1], Param: [[0, 180], [0, 255]], Interval: 6s, Time: 12s)\n"
   ]
  },
  {
   "cell_type": "code",
   "execution_count": 136,
   "metadata": {},
   "outputs": [],
   "source": [
    "import serial\n",
    "import time\n",
    "\n",
    "# Connexion au port série\n",
    "ser = serial.Serial('COM8', 9600)  # Remplacez 'COM8' par le port série approprié\n",
    "\n",
    "def envoyer_commande(device, action, params):\n",
    "    commande = f\"{device},{action},\" + \",\".join(map(str, params)) + \"\\n\"\n",
    "    ser.write(commande.encode())\n",
    "    time.sleep(0.1)\n",
    "\n",
    "try:\n",
    "    # Synchroniser l'allumage de la LED 2 avec le mouvement du servomoteur\n",
    "    start_time = time.time()\n",
    "    \n",
    "    while time.time() - start_time <= 12:  # Boucle pendant 12 secondes\n",
    "        # Faire passer le servomoteur de 0 à 180 degrés\n",
    "        for angle in range(0, 181, 180):  # 0 puis 180\n",
    "            # Faire passer la LED 2 de 0% à 100% de luminosité\n",
    "            for brightness in range(0, 256, 255):  # 0 puis 255\n",
    "                envoyer_commande(2, 0, [brightness])  # LED 2\n",
    "                envoyer_commande(4, 1, [angle])  # Servomoteur\n",
    "                time.sleep(6)  # Attente de 6 secondes avant la prochaine commande\n",
    "\n",
    "finally:\n",
    "    ser.close()\n"
   ]
  },
  {
   "cell_type": "markdown",
   "metadata": {},
   "source": [
    "24.9s"
   ]
  },
  {
   "cell_type": "markdown",
   "metadata": {},
   "source": []
  },
  {
   "cell_type": "markdown",
   "metadata": {},
   "source": [
    "# CONTROLE DYNAMIQUE de GPT-4o mini"
   ]
  },
  {
   "cell_type": "markdown",
   "metadata": {},
   "source": [
    "## 1. Augmenter progressivement la luminosité de la LED 1 de 0% à 100% en 5 secondes. (Device: 1, Action: 0, Param: [0, 255], Time: 5s)\n"
   ]
  },
  {
   "cell_type": "code",
   "execution_count": 23,
   "metadata": {},
   "outputs": [],
   "source": [
    "import serial\n",
    "import time\n",
    "\n",
    "# Connexion au port série\n",
    "ser = serial.Serial('COM8', 9600)  # Remplacez 'COM8' par le port série approprié\n",
    "\n",
    "def envoyer_commande(device, action, params):\n",
    "    commande = f\"{device},{action},\" + \",\".join(map(str, params)) + \"\\n\"\n",
    "    ser.write(commande.encode())\n",
    "    time.sleep(0.1)\n",
    "\n",
    "try:\n",
    "    # Définir la durée de l'augmentation de la luminosité\n",
    "    duree = 5  # en secondes\n",
    "    pas = 255  # Pas d'augmentation de l'intensité (0 à 255)\n",
    "\n",
    "    # Calculer le nombre d'étapes\n",
    "    nombre_etapes = 100  # Plus le nombre est élevé, plus l'augmentation sera fine\n",
    "    intervalle = duree / nombre_etapes\n",
    "\n",
    "    # Augmenter progressivement la luminosité de la LED 1\n",
    "    for i in range(nombre_etapes + 1):\n",
    "        intensite = int((i / nombre_etapes) * pas)\n",
    "        envoyer_commande(1, 0, [intensite])\n",
    "        time.sleep(intervalle)\n",
    "\n",
    "finally:\n",
    "    ser.close()\n"
   ]
  },
  {
   "cell_type": "markdown",
   "metadata": {},
   "source": [
    "18.6s remarque: le time sleep de la ligne 10 a fait que le le processus a durer plus longtemps"
   ]
  },
  {
   "cell_type": "markdown",
   "metadata": {},
   "source": [
    "## 2. Faire varier l'angle du servo moteur de 0 à 180 degrés et revenir à 90 degrés en 10 secondes. (Device: 4, Action: 1, Param: [0, 180, 90], Time: 10s)\n"
   ]
  },
  {
   "cell_type": "code",
   "execution_count": 24,
   "metadata": {},
   "outputs": [],
   "source": [
    "import serial\n",
    "import time\n",
    "\n",
    "# Connexion au port série\n",
    "ser = serial.Serial('COM8', 9600)  # Remplacez 'COM8' par le port série approprié\n",
    "\n",
    "def envoyer_commande(device, action, params):\n",
    "    commande = f\"{device},{action},\" + \",\".join(map(str, params)) + \"\\n\"\n",
    "    ser.write(commande.encode())\n",
    "    time.sleep(0.1)\n",
    "\n",
    "try:\n",
    "    # Durée totale pour la transition complète\n",
    "    total_time = 10\n",
    "    # Durée pour chaque étape\n",
    "    time_step = 0.1\n",
    "\n",
    "    # Nombre de pas pour chaque mouvement\n",
    "    steps = int(total_time / time_step)\n",
    "\n",
    "    # Varier l'angle du servo moteur de 0 à 180 degrés\n",
    "    for step in range(steps // 2):\n",
    "        angle = int(180 * step / (steps // 2))\n",
    "        envoyer_commande(4, 1, [angle])\n",
    "        time.sleep(time_step)\n",
    "\n",
    "    # Revenir à 90 degrés en 5 secondes\n",
    "    for step in range(steps // 2, steps):\n",
    "        angle = 180 - int((180 - 90) * (step - steps // 2) / (steps // 2))\n",
    "        envoyer_commande(4, 1, [angle])\n",
    "        time.sleep(time_step)\n",
    "\n",
    "finally:\n",
    "    ser.close()\n"
   ]
  },
  {
   "cell_type": "markdown",
   "metadata": {},
   "source": [
    "21.7s"
   ]
  },
  {
   "cell_type": "markdown",
   "metadata": {},
   "source": [
    "## 3. Alterner l'allumage des LED 1 et 2 avec des intervalles de 2 secondes pendant 10 secondes. (Device: [1, 2], Action: 0, Param: [255, 0], Interval: 2s, Time: 10s)\n"
   ]
  },
  {
   "cell_type": "code",
   "execution_count": 25,
   "metadata": {},
   "outputs": [],
   "source": [
    "import serial\n",
    "import time\n",
    "\n",
    "# Connexion au port série\n",
    "ser = serial.Serial('COM8', 9600)  # Remplacez 'COM8' par le port série approprié\n",
    "\n",
    "def envoyer_commande(device, action, params):\n",
    "    commande = f\"{device},{action},\" + \",\".join(map(str, params)) + \"\\n\"\n",
    "    ser.write(commande.encode())\n",
    "    time.sleep(0.1)\n",
    "\n",
    "try:\n",
    "    # Calcul des temps\n",
    "    start_time = time.time()\n",
    "    elapsed_time = 0\n",
    "\n",
    "    # Durée totale et intervalle\n",
    "    total_duration = 10  # en secondes\n",
    "    interval = 2         # en secondes\n",
    "\n",
    "    while elapsed_time < total_duration:\n",
    "        # Allumer LED 1\n",
    "        envoyer_commande(1, 0, [255])  # LED 1 à pleine intensité\n",
    "        envoyer_commande(2, 0, [0])    # LED 2 éteinte\n",
    "        time.sleep(interval)           # Attendre l'intervalle\n",
    "\n",
    "        # Allumer LED 2\n",
    "        envoyer_commande(1, 0, [0])    # LED 1 éteinte\n",
    "        envoyer_commande(2, 0, [255])  # LED 2 à pleine intensité\n",
    "        time.sleep(interval)           # Attendre l'intervalle\n",
    "\n",
    "        # Mettre à jour le temps écoulé\n",
    "        elapsed_time = time.time() - start_time\n",
    "\n",
    "finally:\n",
    "    ser.close()\n"
   ]
  },
  {
   "cell_type": "markdown",
   "metadata": {},
   "source": [
    "13.4s"
   ]
  },
  {
   "cell_type": "markdown",
   "metadata": {},
   "source": [
    "## 4. Faire clignoter la LED 3 cinq fois avec un intervalle de 1 seconde entre chaque allumage. (Device: 3, Action: 0, Param: 255, Interval: 1s, Repeats: 5)\n"
   ]
  },
  {
   "cell_type": "code",
   "execution_count": 26,
   "metadata": {},
   "outputs": [],
   "source": [
    "import serial\n",
    "import time\n",
    "\n",
    "# Connexion au port série\n",
    "ser = serial.Serial('COM8', 9600)  # Remplacez 'COM8' par le port série approprié\n",
    "\n",
    "def envoyer_commande(device, action, params):\n",
    "    commande = f\"{device},{action},\" + \",\".join(map(str, params)) + \"\\n\"\n",
    "    ser.write(commande.encode())\n",
    "    time.sleep(0.1)\n",
    "\n",
    "try:\n",
    "    # Clignoter la LED 3 cinq fois avec un intervalle de 1 seconde\n",
    "    for _ in range(5):\n",
    "        # Allumer la LED 3\n",
    "        envoyer_commande(3, 0, [255])\n",
    "        time.sleep(1)  # Attendre 1 seconde\n",
    "\n",
    "        # Éteindre la LED 3\n",
    "        envoyer_commande(3, 0, [0])\n",
    "        time.sleep(1)  # Attendre 1 seconde\n",
    "\n",
    "finally:\n",
    "    ser.close()\n"
   ]
  },
  {
   "cell_type": "markdown",
   "metadata": {},
   "source": [
    "11.2s"
   ]
  },
  {
   "cell_type": "markdown",
   "metadata": {},
   "source": [
    "## 5. Diminuer progressivement la luminosité de la LED 2 de 100% à 0% en 3 secondes. (Device: 2, Action: 0, Param: [255, 0], Time: 3s)\n"
   ]
  },
  {
   "cell_type": "code",
   "execution_count": 27,
   "metadata": {},
   "outputs": [],
   "source": [
    "import serial\n",
    "import time\n",
    "\n",
    "# Connexion au port série\n",
    "ser = serial.Serial('COM8', 9600)  # Remplacez 'COM8' par le port série approprié\n",
    "\n",
    "def envoyer_commande(device, action, params):\n",
    "    commande = f\"{device},{action},\" + \",\".join(map(str, params)) + \"\\n\"\n",
    "    ser.write(commande.encode())\n",
    "    time.sleep(0.1)\n",
    "\n",
    "try:\n",
    "    # Diminuer progressivement la luminosité de la LED 2 de 100% à 0% en 3 secondes\n",
    "    duree_totale = 3  # secondes\n",
    "    etapes = 100      # nombre d'étapes pour une diminution progressive\n",
    "    intervalle = duree_totale / etapes  # intervalle entre chaque étape\n",
    "\n",
    "    for i in range(etapes + 1):\n",
    "        intensite = int(255 * (1 - i / etapes))  # Calcul de l'intensité actuelle\n",
    "        envoyer_commande(2, 0, [intensite])  # Envoyer la commande pour la LED 2\n",
    "        time.sleep(intervalle)  # Attendre avant de passer à l'étape suivante\n",
    "\n",
    "finally:\n",
    "    ser.close()\n"
   ]
  },
  {
   "cell_type": "markdown",
   "metadata": {},
   "source": [
    "14.9s"
   ]
  },
  {
   "cell_type": "markdown",
   "metadata": {},
   "source": [
    "## 6. Synchroniser le mouvement du servo moteur et l'allumage de la LED 1, le servo allant de 0 à 180 degrés tandis que la LED passe de 0% à 100% de façon synchrone inverse au servo par pas de 50 (Device: [4, 1], Action: [1, 0], Param: [[0, 180], [0, 255]], Time: 10s)\n"
   ]
  },
  {
   "cell_type": "code",
   "execution_count": 28,
   "metadata": {},
   "outputs": [],
   "source": [
    "import serial\n",
    "import time\n",
    "\n",
    "# Connexion au port série\n",
    "ser = serial.Serial('COM8', 9600)  # Remplacez 'COM8' par le port série approprié\n",
    "\n",
    "def envoyer_commande(device, action, params):\n",
    "    commande = f\"{device},{action},\" + \",\".join(map(str, params)) + \"\\n\"\n",
    "    ser.write(commande.encode())\n",
    "    time.sleep(0.1)\n",
    "\n",
    "def synchroniser_servo_led(duration, steps):\n",
    "    interval = duration / steps  # Intervalle de temps pour chaque étape\n",
    "\n",
    "    for step in range(steps + 1):\n",
    "        angle = int((180 / steps) * step)  # Calcul de l'angle du servomoteur\n",
    "        intensity = int((255 / steps) * (steps - step))  # Calcul de l'intensité de la LED (inverse)\n",
    "        \n",
    "        envoyer_commande(4, 1, [angle])  # Commande pour le servomoteur\n",
    "        envoyer_commande(1, 0, [intensity])  # Commande pour la LED 1\n",
    "        \n",
    "        time.sleep(interval)\n",
    "\n",
    "    # Assurez-vous que la LED est éteinte lorsque le mouvement du servomoteur est terminé\n",
    "    envoyer_commande(1, 0, [0])\n",
    "\n",
    "try:\n",
    "    synchroniser_servo_led(duration=10, steps=10)  # 10 secondes, 10 étapes\n",
    "\n",
    "finally:\n",
    "    ser.close()\n"
   ]
  },
  {
   "cell_type": "markdown",
   "metadata": {},
   "source": [
    "13.6s"
   ]
  },
  {
   "cell_type": "markdown",
   "metadata": {},
   "source": [
    "## 7. Faire varier la luminosité des LED 1 et 2 en alternance toutes les 0,5 secondes pendant 10 secondes. (Device: [1, 2], Action: 0, Param: [255, 0], Interval: 0.5s, Time: 10s)\n"
   ]
  },
  {
   "cell_type": "code",
   "execution_count": 29,
   "metadata": {},
   "outputs": [],
   "source": [
    "import serial\n",
    "import time\n",
    "\n",
    "# Connexion au port série\n",
    "ser = serial.Serial('COM8', 9600)  # Remplacez 'COM8' par le port série approprié\n",
    "\n",
    "def envoyer_commande(device, action, params):\n",
    "    commande = f\"{device},{action},\" + \",\".join(map(str, params)) + \"\\n\"\n",
    "    ser.write(commande.encode())\n",
    "    time.sleep(0.1)\n",
    "\n",
    "try:\n",
    "    start_time = time.time()  # Heure de début\n",
    "    duration = 10  # Durée en secondes\n",
    "    interval = 0.5  # Intervalle en secondes\n",
    "    \n",
    "    while (time.time() - start_time) < duration:\n",
    "        # Faire varier la luminosité des LEDs 1 et 2 en alternance\n",
    "        envoyer_commande(1, 0, [255])  # Allumer la LED 1 à pleine luminosité\n",
    "        envoyer_commande(2, 0, [0])    # Éteindre la LED 2\n",
    "        time.sleep(interval)\n",
    "        \n",
    "        envoyer_commande(1, 0, [0])    # Éteindre la LED 1\n",
    "        envoyer_commande(2, 0, [255])  # Allumer la LED 2 à pleine luminosité\n",
    "        time.sleep(interval)\n",
    "        \n",
    "finally:\n",
    "    ser.close()\n"
   ]
  },
  {
   "cell_type": "markdown",
   "metadata": {},
   "source": [
    "10.1s"
   ]
  },
  {
   "cell_type": "markdown",
   "metadata": {},
   "source": [
    "## 8. Faire passer la LED 3 de 0% à 100% de luminosité en 2 secondes, puis revenir à 0% en 2 secondes. Répéter 3 fois. (Device: 3, Action: 0, Param: [0, 255], Time: 4s, Repeats: 3)\n"
   ]
  },
  {
   "cell_type": "code",
   "execution_count": 30,
   "metadata": {},
   "outputs": [],
   "source": [
    "import serial\n",
    "import time\n",
    "\n",
    "# Connexion au port série\n",
    "ser = serial.Serial('COM8', 9600)  # Remplacez 'COM8' par le port série approprié\n",
    "\n",
    "def envoyer_commande(device, action, params):\n",
    "    commande = f\"{device},{action},\" + \",\".join(map(str, params)) + \"\\n\"\n",
    "    ser.write(commande.encode())\n",
    "    time.sleep(0.1)\n",
    "\n",
    "try:\n",
    "    for _ in range(3):  # Répéter le cycle 3 fois\n",
    "        # Faire passer la LED 3 de 0% à 100% de luminosité en 2 secondes\n",
    "        for intensity in range(0, 256, 5):  # Incrémenter par 5 pour une transition lisse\n",
    "            envoyer_commande(3, 0, [intensity])\n",
    "            time.sleep(0.02)  # Total de 2 secondes pour atteindre 255\n",
    "\n",
    "        # Revenir de 100% à 0% en 2 secondes\n",
    "        for intensity in range(255, -1, -5):  # Décrémenter par 5 pour une transition lisse\n",
    "            envoyer_commande(3, 0, [intensity])\n",
    "            time.sleep(0.02)  # Total de 2 secondes pour revenir à 0\n",
    "\n",
    "finally:\n",
    "    ser.close()\n"
   ]
  },
  {
   "cell_type": "markdown",
   "metadata": {},
   "source": [
    "43.7s"
   ]
  },
  {
   "cell_type": "markdown",
   "metadata": {},
   "source": [
    "## 9. Augmenter progressivement la luminosité de la LED 2 de 0% à 50% en 1 seconde, puis de 50% à 100% en 2 secondes. (Device: 2, Action: 0, Param: [0, 128, 255], Time: 3s)\n"
   ]
  },
  {
   "cell_type": "code",
   "execution_count": 31,
   "metadata": {},
   "outputs": [],
   "source": [
    "import serial\n",
    "import time\n",
    "\n",
    "# Connexion au port série\n",
    "ser = serial.Serial('COM8', 9600)  # Remplacez 'COM8' par le port série approprié\n",
    "\n",
    "def envoyer_commande(device, action, params):\n",
    "    commande = f\"{device},{action},\" + \",\".join(map(str, params)) + \"\\n\"\n",
    "    ser.write(commande.encode())\n",
    "    time.sleep(0.1)\n",
    "\n",
    "def augmenter_luminosite_led(led_id, debut, fin, duree):\n",
    "    pas = 10  # Augmente la luminosité par pas de 10 unités\n",
    "    intervalle = duree / ((fin - debut) / pas)  # Calcule l'intervalle de temps entre chaque changement de luminosité\n",
    "    for intensite in range(debut, fin + pas, pas):\n",
    "        envoyer_commande(led_id, 0, [intensite])\n",
    "        time.sleep(intervalle)\n",
    "\n",
    "try:\n",
    "    # Augmenter la luminosité de la LED 2 de 0% à 50% en 1 seconde\n",
    "    augmenter_luminosite_led(2, 0, 128, 1)\n",
    "\n",
    "    # Augmenter la luminosité de la LED 2 de 50% à 100% en 2 secondes\n",
    "    augmenter_luminosite_led(2, 128, 255, 2)\n",
    "\n",
    "finally:\n",
    "    ser.close()\n"
   ]
  },
  {
   "cell_type": "markdown",
   "metadata": {},
   "source": [
    "6.7s"
   ]
  },
  {
   "cell_type": "markdown",
   "metadata": {},
   "source": [
    "## 10. Faire varier l'angle du servo moteur de 90 à 0 degrés, puis de 0 à 90 degrés en 4 secondes. (Device: 4, Action: 1, Param: [90, 0, 90], Time: 4s)\n"
   ]
  },
  {
   "cell_type": "code",
   "execution_count": 32,
   "metadata": {},
   "outputs": [],
   "source": [
    "import serial\n",
    "import time\n",
    "\n",
    "# Connexion au port série\n",
    "ser = serial.Serial('COM8', 9600)  # Remplacez 'COM8' par le port série approprié\n",
    "\n",
    "def envoyer_commande(device, action, params):\n",
    "    commande = f\"{device},{action},\" + \",\".join(map(str, params)) + \"\\n\"\n",
    "    ser.write(commande.encode())\n",
    "    time.sleep(0.1)\n",
    "\n",
    "try:\n",
    "    # Durée totale pour chaque mouvement (90 à 0 ou 0 à 90)\n",
    "    duree_mouvement = 2  # secondes\n",
    "    nombre_etapes = 10\n",
    "    intervalle_temps = duree_mouvement / nombre_etapes  # Temps entre chaque étape\n",
    "\n",
    "    # Faire varier l'angle du servomoteur de 90 à 0 degrés\n",
    "    for i in range(nombre_etapes):\n",
    "        angle = 90 - (90 * i / (nombre_etapes - 1))\n",
    "        envoyer_commande(4, 1, [int(angle)])\n",
    "        time.sleep(intervalle_temps)\n",
    "\n",
    "    # Faire varier l'angle du servomoteur de 0 à 90 degrés\n",
    "    for i in range(nombre_etapes):\n",
    "        angle = (90 * i / (nombre_etapes - 1))\n",
    "        envoyer_commande(4, 1, [int(angle)])\n",
    "        time.sleep(intervalle_temps)\n",
    "\n",
    "finally:\n",
    "    ser.close()\n"
   ]
  },
  {
   "cell_type": "markdown",
   "metadata": {},
   "source": [
    "6.3s"
   ]
  },
  {
   "cell_type": "markdown",
   "metadata": {},
   "source": [
    "## 11. Éteindre la LED 1 pendant 2 secondes, puis allumer la LED 3 à 100% pendant 2 secondes. Répéter 4 fois. (Device: [1, 3], Action: [0, 0], Param: [0, 255], Interval: 2s, Repeats: 4)\n"
   ]
  },
  {
   "cell_type": "code",
   "execution_count": 63,
   "metadata": {},
   "outputs": [],
   "source": [
    "import serial\n",
    "import time\n",
    "\n",
    "# Connexion au port série\n",
    "ser = serial.Serial('COM8', 9600)  # Remplacez 'COM8' par le port série approprié\n",
    "\n",
    "def envoyer_commande(device, action, params):\n",
    "    commande = f\"{device},{action},\" + \",\".join(map(str, params)) + \"\\n\"\n",
    "    ser.write(commande.encode())\n",
    "    time.sleep(0.1)\n",
    "\n",
    "try:\n",
    "    # Répéter la séquence 4 fois\n",
    "    for _ in range(4):\n",
    "        # Éteindre la LED 1\n",
    "        envoyer_commande(1, 0, [0])\n",
    "        time.sleep(2)  # Attendre 2 secondes\n",
    "\n",
    "        # Allumer la LED 3 à 100%\n",
    "        envoyer_commande(3, 0, [255])\n",
    "        time.sleep(2)  # Attendre 2 secondes\n",
    "\n",
    "finally:\n",
    "    ser.close()\n"
   ]
  },
  {
   "cell_type": "markdown",
   "metadata": {},
   "source": [
    "16.9s"
   ]
  },
  {
   "cell_type": "code",
   "execution_count": 62,
   "metadata": {},
   "outputs": [],
   "source": [
    "import serial\n",
    "import time\n",
    "\n",
    "# Connexion au port série\n",
    "ser = serial.Serial('COM8', 9600)  # Remplacez 'COM8' par le port série approprié\n",
    "\n",
    "def envoyer_commande(device, action, params):\n",
    "    commande = f\"{device},{action},\" + \",\".join(map(str, params)) + \"\\n\"\n",
    "    ser.write(commande.encode())\n",
    "    time.sleep(0.1)\n",
    "\n",
    "try:\n",
    "    # Répéter 4 fois\n",
    "    for _ in range(4):\n",
    "        # Éteindre la LED 1\n",
    "        envoyer_commande(1, 0, [0])  # Device 1, Action 0, Param 0 (intensité 0)\n",
    "        time.sleep(2)  # Attendre 2 secondes\n",
    "\n",
    "        # Allumer la LED 3 à 100%\n",
    "        envoyer_commande(3, 0, [255])  # Device 3, Action 0, Param 255 (intensité 255)\n",
    "        time.sleep(2)  # Attendre 2 secondes\n",
    "\n",
    "        # Éteindre la LED 3 après 2 secondes\n",
    "        envoyer_commande(3, 0, [0])  # Éteindre la LED 3 (intensité 0)\n",
    "\n",
    "finally:\n",
    "    ser.close()\n"
   ]
  },
  {
   "cell_type": "markdown",
   "metadata": {},
   "source": [
    "17.4s"
   ]
  },
  {
   "cell_type": "markdown",
   "metadata": {},
   "source": [
    "Remarque: il a respecter les istruction les plus imprecises"
   ]
  },
  {
   "cell_type": "markdown",
   "metadata": {},
   "source": [
    "## 12. Alterner l'allumage des LED 1 et 2 toutes les 1,5 secondes pendant 15 secondes, avec une LED allumée à 100% et l'autre éteinte. (Device: [1, 2], Action: 0, Param: [255, 0], Interval: 1.5s, Time: 15s)\n"
   ]
  },
  {
   "cell_type": "code",
   "execution_count": 35,
   "metadata": {},
   "outputs": [],
   "source": [
    "import serial\n",
    "import time\n",
    "\n",
    "# Connexion au port série\n",
    "ser = serial.Serial('COM8', 9600)  # Remplacez 'COM8' par le port série approprié\n",
    "\n",
    "def envoyer_commande(device, action, params):\n",
    "    commande = f\"{device},{action},\" + \",\".join(map(str, params)) + \"\\n\"\n",
    "    ser.write(commande.encode())\n",
    "    time.sleep(0.1)\n",
    "\n",
    "try:\n",
    "    # Durée totale pour alterner les LEDs\n",
    "    temps_total = 15\n",
    "    intervalle = 1.5\n",
    "    nb_cycles = int(temps_total / intervalle)\n",
    "\n",
    "    for _ in range(nb_cycles):\n",
    "        # Allumer LED 1 à 100% et éteindre LED 2\n",
    "        envoyer_commande(1, 0, [255])\n",
    "        envoyer_commande(2, 0, [0])\n",
    "        time.sleep(intervalle)\n",
    "\n",
    "        # Éteindre LED 1 et allumer LED 2 à 100%\n",
    "        envoyer_commande(1, 0, [0])\n",
    "        envoyer_commande(2, 0, [255])\n",
    "        time.sleep(intervalle)\n",
    "\n",
    "    # Assurez-vous que les LEDs sont éteintes après la fin\n",
    "    envoyer_commande(1, 0, [0])\n",
    "    envoyer_commande(2, 0, [0])\n",
    "\n",
    "finally:\n",
    "    ser.close()\n"
   ]
  },
  {
   "cell_type": "markdown",
   "metadata": {},
   "source": [
    "34.8s"
   ]
  },
  {
   "cell_type": "code",
   "execution_count": 36,
   "metadata": {},
   "outputs": [],
   "source": [
    "import serial\n",
    "import time\n",
    "\n",
    "# Connexion au port série\n",
    "ser = serial.Serial('COM8', 9600)  # Remplacez 'COM8' par le port série approprié\n",
    "\n",
    "def envoyer_commande(device, action, params):\n",
    "    commande = f\"{device},{action},\" + \",\".join(map(str, params)) + \"\\n\"\n",
    "    ser.write(commande.encode())\n",
    "    time.sleep(0.1)\n",
    "\n",
    "try:\n",
    "    start_time = time.time()\n",
    "    end_time = start_time + 15  # 15 secondes de fonctionnement\n",
    "    interval = 1.5  # Intervalle de 1,5 secondes\n",
    "\n",
    "    while time.time() < end_time:\n",
    "        # Allumer LED 1 à 100% et éteindre LED 2\n",
    "        envoyer_commande(1, 0, [255])\n",
    "        envoyer_commande(2, 0, [0])\n",
    "        time.sleep(interval)\n",
    "\n",
    "        # Allumer LED 2 à 100% et éteindre LED 1\n",
    "        envoyer_commande(1, 0, [0])\n",
    "        envoyer_commande(2, 0, [255])\n",
    "        time.sleep(interval)\n",
    "\n",
    "finally:\n",
    "    ser.close()\n"
   ]
  },
  {
   "cell_type": "markdown",
   "metadata": {},
   "source": [
    "17.4s"
   ]
  },
  {
   "cell_type": "markdown",
   "metadata": {},
   "source": [
    "Maudifier le prompt en insitant sur le dalais a ameliorer le respect de delais, ce qui montre que la precision est très essentiel "
   ]
  },
  {
   "cell_type": "markdown",
   "metadata": {},
   "source": [
    "## 13. Diminuer la luminosité de la LED 1 de 100% à 0% en 4 secondes, puis augmenter la luminosité de la LED 2 de 0% à 100% en 4 secondes. (Device: [1, 2], Action: 0, Param: [255, 0, 255], Time: 8s)\n"
   ]
  },
  {
   "cell_type": "code",
   "execution_count": 37,
   "metadata": {},
   "outputs": [],
   "source": [
    "import serial\n",
    "import time\n",
    "\n",
    "# Connexion au port série\n",
    "ser = serial.Serial('COM8', 9600)  # Remplacez 'COM8' par le port série approprié\n",
    "\n",
    "def envoyer_commande(device, action, params):\n",
    "    commande = f\"{device},{action},\" + \",\".join(map(str, params)) + \"\\n\"\n",
    "    ser.write(commande.encode())\n",
    "    time.sleep(0.1)\n",
    "\n",
    "def transition_led(device, start_intensity, end_intensity, duration):\n",
    "    steps = 100  # Nombre d'étapes pour la transition\n",
    "    step_delay = duration / steps\n",
    "    intensity_step = (end_intensity - start_intensity) / steps\n",
    "    \n",
    "    for i in range(steps + 1):\n",
    "        current_intensity = int(start_intensity + i * intensity_step)\n",
    "        envoyer_commande(device, 0, [current_intensity])\n",
    "        time.sleep(step_delay)\n",
    "\n",
    "try:\n",
    "    # Diminuer la luminosité de la LED 1 de 100% à 0% en 4 secondes\n",
    "    transition_led(1, 255, 0, 4)\n",
    "    \n",
    "    # Augmenter la luminosité de la LED 2 de 0% à 100% en 4 secondes\n",
    "    transition_led(2, 0, 255, 4)\n",
    "\n",
    "finally:\n",
    "    ser.close()\n"
   ]
  },
  {
   "cell_type": "markdown",
   "metadata": {},
   "source": [
    "31.3s"
   ]
  },
  {
   "cell_type": "code",
   "execution_count": 38,
   "metadata": {},
   "outputs": [],
   "source": [
    "import serial\n",
    "import time\n",
    "\n",
    "# Connexion au port série\n",
    "ser = serial.Serial('COM8', 9600)  # Remplacez 'COM8' par le port série approprié\n",
    "\n",
    "def envoyer_commande(device, action, params):\n",
    "    commande = f\"{device},{action},\" + \",\".join(map(str, params)) + \"\\n\"\n",
    "    ser.write(commande.encode())\n",
    "    time.sleep(0.1)\n",
    "\n",
    "def ajuster_luminosite(led, start_intensity, end_intensity, duration):\n",
    "    steps = 100\n",
    "    step_delay = duration / steps\n",
    "    step_change = (end_intensity - start_intensity) / steps\n",
    "    \n",
    "    for i in range(steps + 1):\n",
    "        current_intensity = int(start_intensity + i * step_change)\n",
    "        envoyer_commande(led, 0, [current_intensity])\n",
    "        time.sleep(step_delay)\n",
    "\n",
    "try:\n",
    "    # Diminuer la luminosité de la LED 1 de 100% à 0% en 4 secondes\n",
    "    ajuster_luminosite(1, 255, 0, 4)\n",
    "    \n",
    "    # Augmenter la luminosité de la LED 2 de 0% à 100% en 4 secondes\n",
    "    ajuster_luminosite(2, 0, 255, 4)\n",
    "\n",
    "finally:\n",
    "    ser.close()\n"
   ]
  },
  {
   "cell_type": "code",
   "execution_count": 39,
   "metadata": {},
   "outputs": [],
   "source": [
    "import serial\n",
    "import time\n",
    "\n",
    "# Connexion au port série\n",
    "ser = serial.Serial('COM8', 9600)  # Remplacez 'COM8' par le port série approprié\n",
    "\n",
    "def envoyer_commande(device, action, params):\n",
    "    commande = f\"{device},{action},\" + \",\".join(map(str, params)) + \"\\n\"\n",
    "    ser.write(commande.encode())\n",
    "    time.sleep(0.1)\n",
    "\n",
    "try:\n",
    "    # Diminuer la luminosité de la LED 1 de 255 à 0 en 4 secondes\n",
    "    start_time = time.time()\n",
    "    duration = 4  # Durée en secondes\n",
    "    start_intensity = 255\n",
    "    end_intensity = 0\n",
    "    steps = 50  # Nombre d'étapes pour la transition fluide\n",
    "    interval = duration / steps\n",
    "\n",
    "    for step in range(steps):\n",
    "        current_intensity = int(start_intensity - (step * (start_intensity - end_intensity) / steps))\n",
    "        envoyer_commande(1, 0, [current_intensity])\n",
    "        time.sleep(interval)\n",
    "\n",
    "    envoyer_commande(1, 0, [0])  # S'assurer que la LED 1 est éteinte à la fin\n",
    "\n",
    "    # Augmenter la luminosité de la LED 2 de 0 à 255 en 4 secondes\n",
    "    start_time = time.time()\n",
    "    duration = 4  # Durée en secondes\n",
    "    start_intensity = 0\n",
    "    end_intensity = 255\n",
    "    steps = 50  # Nombre d'étapes pour la transition fluide\n",
    "    interval = duration / steps\n",
    "\n",
    "    for step in range(steps):\n",
    "        current_intensity = int(start_intensity + (step * (end_intensity - start_intensity) / steps))\n",
    "        envoyer_commande(2, 0, [current_intensity])\n",
    "        time.sleep(interval)\n",
    "\n",
    "    envoyer_commande(2, 0, [255])  # S'assurer que la LED 2 est à pleine intensité à la fin\n",
    "\n",
    "finally:\n",
    "    ser.close()\n"
   ]
  },
  {
   "cell_type": "code",
   "execution_count": 40,
   "metadata": {},
   "outputs": [],
   "source": [
    "import serial\n",
    "import time\n",
    "\n",
    "# Connexion au port série\n",
    "ser = serial.Serial('COM8', 9600)  # Remplacez 'COM8' par le port série approprié\n",
    "\n",
    "def envoyer_commande(device, action, params):\n",
    "    commande = f\"{device},{action},\" + \",\".join(map(str, params)) + \"\\n\"\n",
    "    ser.write(commande.encode())\n",
    "    time.sleep(0.1)\n",
    "\n",
    "def varier_luminosite(device, start_intensity, end_intensity, duration):\n",
    "    steps = 100\n",
    "    step_delay = duration / steps\n",
    "    step_size = (end_intensity - start_intensity) / steps\n",
    "    current_intensity = start_intensity\n",
    "    \n",
    "    for _ in range(steps):\n",
    "        envoyer_commande(device, 0, [int(current_intensity)])\n",
    "        current_intensity += step_size\n",
    "        time.sleep(step_delay)\n",
    "\n",
    "try:\n",
    "    # Diminuer la luminosité de la LED 1 de 100% à 0% en 4 secondes\n",
    "    varier_luminosite(1, 255, 0, 4)\n",
    "    \n",
    "    # Augmenter la luminosité de la LED 2 de 0% à 100% en 4 secondes\n",
    "    varier_luminosite(2, 0, 255, 4)\n",
    "\n",
    "finally:\n",
    "    ser.close()\n"
   ]
  },
  {
   "cell_type": "code",
   "execution_count": 41,
   "metadata": {},
   "outputs": [],
   "source": [
    "import serial\n",
    "import time\n",
    "\n",
    "# Connexion au port série\n",
    "ser = serial.Serial('COM8', 9600)  # Remplacez 'COM8' par le port série approprié\n",
    "\n",
    "def envoyer_commande(device, action, params):\n",
    "    commande = f\"{device},{action},\" + \",\".join(map(str, params)) + \"\\n\"\n",
    "    ser.write(commande.encode())\n",
    "    time.sleep(0.1)\n",
    "\n",
    "try:\n",
    "    # Définir les durées\n",
    "    temps_total = 8  # secondes\n",
    "    temps_led1 = 4  # secondes pour LED 1\n",
    "    temps_led2 = 4  # secondes pour LED 2\n",
    "\n",
    "    # Diminuer la luminosité de la LED 1 de 100% à 0% en 4 secondes\n",
    "    pas = 255 / (temps_led1 * 10)  # Pas de changement d'intensité toutes les 0.1 secondes\n",
    "    for intensity in range(255, -1, -int(pas)):\n",
    "        envoyer_commande(1, 0, [intensity])\n",
    "        time.sleep(0.1)\n",
    "\n",
    "    # Augmenter la luminosité de la LED 2 de 0% à 100% en 4 secondes\n",
    "    pas = 255 / (temps_led2 * 10)  # Pas de changement d'intensité toutes les 0.1 secondes\n",
    "    for intensity in range(0, 256, int(pas)):\n",
    "        envoyer_commande(2, 0, [intensity])\n",
    "        time.sleep(0.1)\n",
    "\n",
    "finally:\n",
    "    ser.close()\n"
   ]
  },
  {
   "cell_type": "markdown",
   "metadata": {},
   "source": [
    "## 14. Faire varier l'angle du servo moteur de 0 à 90 degrés en 3 secondes, puis de 90 à 180 degrés en 3 secondes. (Device: 4, Action: 1, Param: [0, 90, 180], Time: 6s)\n"
   ]
  },
  {
   "cell_type": "code",
   "execution_count": 42,
   "metadata": {},
   "outputs": [],
   "source": [
    "import serial\n",
    "import time\n",
    "\n",
    "# Connexion au port série\n",
    "ser = serial.Serial('COM8', 9600)  # Remplacez 'COM8' par le port série approprié\n",
    "\n",
    "def envoyer_commande(device, action, params):\n",
    "    commande = f\"{device},{action},\" + \",\".join(map(str, params)) + \"\\n\"\n",
    "    ser.write(commande.encode())\n",
    "    time.sleep(0.1)\n",
    "\n",
    "try:\n",
    "    # Paramètres pour la variation d'angle du servomoteur\n",
    "    angles = [0, 90, 180]\n",
    "    total_duree = 6  # Durée totale de la variation en secondes\n",
    "    duree_par_phase = total_duree / (len(angles) - 1)  # Durée pour chaque phase\n",
    "\n",
    "    # Faire varier l'angle du servomoteur de 0 à 90 degrés en 3 secondes\n",
    "    for i in range(len(angles) - 1):\n",
    "        angle_initial = angles[i]\n",
    "        angle_final = angles[i + 1]\n",
    "        duree_phase = duree_par_phase\n",
    "        \n",
    "        for angle in range(angle_initial, angle_final + 1, (angle_final - angle_initial) // 30):  # 30 étapes pour chaque phase\n",
    "            envoyer_commande(4, 1, [angle])\n",
    "            time.sleep(duree_phase / 30)  # Attendre une fraction du temps total de la phase\n",
    "        \n",
    "        # Assurer que l'angle final de la phase est atteint\n",
    "        envoyer_commande(4, 1, [angle_final])\n",
    "\n",
    "finally:\n",
    "    ser.close()\n"
   ]
  },
  {
   "cell_type": "markdown",
   "metadata": {},
   "source": [
    "13.6s"
   ]
  },
  {
   "cell_type": "code",
   "execution_count": 43,
   "metadata": {},
   "outputs": [],
   "source": [
    "import serial\n",
    "import time\n",
    "\n",
    "# Connexion au port série\n",
    "ser = serial.Serial('COM8', 9600)  # Remplacez 'COM8' par le port série approprié\n",
    "\n",
    "def envoyer_commande(device, action, params):\n",
    "    commande = f\"{device},{action},\" + \",\".join(map(str, params)) + \"\\n\"\n",
    "    ser.write(commande.encode())\n",
    "    time.sleep(0.1)\n",
    "\n",
    "def varier_angle_servo(debut, fin, duree, etapes):\n",
    "    pas = (fin - debut) / etapes\n",
    "    intervalle = duree / etapes\n",
    "    for i in range(etapes + 1):\n",
    "        angle = debut + i * pas\n",
    "        envoyer_commande(4, 1, [int(angle)])\n",
    "        time.sleep(intervalle)\n",
    "\n",
    "try:\n",
    "    # Faire varier l'angle du servomoteur de 0 à 90 degrés en 3 secondes\n",
    "    varier_angle_servo(0, 90, 3, 30)\n",
    "\n",
    "    # Faire varier l'angle du servomoteur de 90 à 180 degrés en 3 secondes\n",
    "    varier_angle_servo(90, 180, 3, 30)\n",
    "\n",
    "finally:\n",
    "    ser.close()\n"
   ]
  },
  {
   "cell_type": "markdown",
   "metadata": {},
   "source": [
    "13.5s"
   ]
  },
  {
   "cell_type": "markdown",
   "metadata": {},
   "source": [
    "## 15. Synchroniser l'allumage de la LED 3 avec le mouvement du servo moteur allant de 0 à 180 degrés. La LED passe de 0% à 100% en synchronisation inverse avec le servo. (Device: [4, 3], Action: [1, 0], Param: [[0, 180], [0, 255]], Time: 10s)\n"
   ]
  },
  {
   "cell_type": "code",
   "execution_count": 44,
   "metadata": {},
   "outputs": [],
   "source": [
    "import serial\n",
    "import time\n",
    "\n",
    "# Connexion au port série\n",
    "ser = serial.Serial('COM8', 9600)  # Remplacez 'COM8' par le port série approprié\n",
    "\n",
    "def envoyer_commande(device, action, params):\n",
    "    commande = f\"{device},{action},\" + \",\".join(map(str, params)) + \"\\n\"\n",
    "    ser.write(commande.encode())\n",
    "    time.sleep(0.1)\n",
    "\n",
    "try:\n",
    "    # Durée totale de la synchronisation\n",
    "    duree_totale = 10\n",
    "    increment = duree_totale / 180  # Temps pour chaque degré du servomoteur\n",
    "\n",
    "    # Mouvement du servomoteur de 0 à 180 degrés et synchronisation de la LED 3\n",
    "    for angle in range(0, 181):\n",
    "        # Calcul de l'intensité de la LED (inversement proportionnelle à l'angle du servo)\n",
    "        intensite_led = int((180 - angle) * (255 / 180))\n",
    "        \n",
    "        # Envoyer la commande pour la LED 3\n",
    "        envoyer_commande(3, 0, [intensite_led])\n",
    "        \n",
    "        # Envoyer la commande pour le servomoteur\n",
    "        envoyer_commande(4, 1, [angle])\n",
    "        \n",
    "        # Attendre avant de passer à l'étape suivante\n",
    "        time.sleep(increment)\n",
    "\n",
    "finally:\n",
    "    ser.close()\n"
   ]
  },
  {
   "cell_type": "markdown",
   "metadata": {},
   "source": [
    "50.7s"
   ]
  },
  {
   "cell_type": "markdown",
   "metadata": {},
   "source": [
    "## 16. Faire clignoter la LED 2 à 100% de luminosité toutes les 1,5 secondes pendant 12 secondes, puis éteindre la LED 2 pendant 3 secondes. (Device: 2, Action: 0, Param: 255, Interval: 1.5s, Time: 15s)\n"
   ]
  },
  {
   "cell_type": "code",
   "execution_count": 45,
   "metadata": {},
   "outputs": [],
   "source": [
    "import serial\n",
    "import time\n",
    "\n",
    "# Connexion au port série\n",
    "ser = serial.Serial('COM8', 9600)  # Remplacez 'COM8' par le port série approprié\n",
    "\n",
    "def envoyer_commande(device, action, params):\n",
    "    commande = f\"{device},{action},\" + \",\".join(map(str, params)) + \"\\n\"\n",
    "    ser.write(commande.encode())\n",
    "    time.sleep(0.1)  # Petite pause pour s'assurer que la commande est envoyée\n",
    "\n",
    "try:\n",
    "    start_time = time.time()\n",
    "    duration = 12  # Durée pendant laquelle la LED clignote (en secondes)\n",
    "    interval_on = 1.5  # Intervalle pendant lequel la LED est allumée (en secondes)\n",
    "    \n",
    "    # Clignoter la LED 2 à 100% de luminosité toutes les 1,5 secondes pendant 12 secondes\n",
    "    while (time.time() - start_time) < duration:\n",
    "        envoyer_commande(2, 0, [255])  # Allumer la LED 2 à 100% de luminosité\n",
    "        time.sleep(interval_on)\n",
    "        envoyer_commande(2, 0, [0])  # Éteindre la LED 2\n",
    "        time.sleep(interval_on)  # Attendre avant de rallumer\n",
    "\n",
    "    # Éteindre la LED 2 pendant 3 secondes après la période de clignotement\n",
    "    envoyer_commande(2, 0, [0])\n",
    "    time.sleep(3)  # Pause de 3 secondes\n",
    "\n",
    "finally:\n",
    "    ser.close()\n"
   ]
  },
  {
   "cell_type": "markdown",
   "metadata": {},
   "source": [
    "16s"
   ]
  },
  {
   "cell_type": "markdown",
   "metadata": {},
   "source": [
    "## 17. Augmenter la luminosité de la LED 3 de 0% à 100% en 6 secondes, puis diminuer à 0% en 4 secondes. Répéter 3 fois. (Device: 3, Action: 0, Param: [0, 255], Time: 10s, Repeats: 3)\n"
   ]
  },
  {
   "cell_type": "code",
   "execution_count": 46,
   "metadata": {},
   "outputs": [],
   "source": [
    "import serial\n",
    "import time\n",
    "\n",
    "# Connexion au port série\n",
    "ser = serial.Serial('COM8', 9600)  # Remplacez 'COM8' par le port série approprié\n",
    "\n",
    "def envoyer_commande(device, action, params):\n",
    "    commande = f\"{device},{action},\" + \",\".join(map(str, params)) + \"\\n\"\n",
    "    ser.write(commande.encode())\n",
    "    time.sleep(0.1)\n",
    "\n",
    "def changer_luminosite_led(device, start_intensity, end_intensity, duration, repeats):\n",
    "    steps = 50  # Nombre de pas pour la transition\n",
    "    step_duration = duration / steps  # Durée de chaque étape\n",
    "    step_change = (end_intensity - start_intensity) / steps\n",
    "    \n",
    "    for _ in range(repeats):\n",
    "        # Augmenter la luminosité\n",
    "        for i in range(steps + 1):\n",
    "            intensity = int(start_intensity + i * step_change)\n",
    "            envoyer_commande(device, 0, [intensity])\n",
    "            time.sleep(step_duration)\n",
    "        \n",
    "        # Maintenir la luminosité à 100%\n",
    "        envoyer_commande(device, 0, [end_intensity])\n",
    "        time.sleep(1)  # Maintien à 100% pour une seconde\n",
    "        \n",
    "        # Diminuer la luminosité\n",
    "        for i in range(steps + 1):\n",
    "            intensity = int(end_intensity - i * step_change)\n",
    "            envoyer_commande(device, 0, [intensity])\n",
    "            time.sleep(step_duration)\n",
    "        \n",
    "        # Maintenir la luminosité à 0%\n",
    "        envoyer_commande(device, 0, [0])\n",
    "        time.sleep(1)  # Maintien à 0% pour une seconde\n",
    "\n",
    "try:\n",
    "    # Augmenter et diminuer la luminosité de la LED 3\n",
    "    changer_luminosite_led(3, 0, 255, 6, 3)\n",
    "\n",
    "finally:\n",
    "    ser.close()\n"
   ]
  },
  {
   "cell_type": "markdown",
   "metadata": {},
   "source": [
    "79.6s"
   ]
  },
  {
   "cell_type": "markdown",
   "metadata": {},
   "source": [
    "## 18. Alterner l'angle du servo moteur entre 0 et 180 degrés toutes les 2 secondes pendant 20 secondes. (Device: 4, Action: 1, Param: [0, 180], Interval: 2s, Time: 20s)\n"
   ]
  },
  {
   "cell_type": "code",
   "execution_count": 47,
   "metadata": {},
   "outputs": [],
   "source": [
    "import serial\n",
    "import time\n",
    "\n",
    "# Connexion au port série\n",
    "ser = serial.Serial('COM8', 9600)  # Remplacez 'COM8' par le port série approprié\n",
    "\n",
    "def envoyer_commande(device, action, params):\n",
    "    commande = f\"{device},{action},\" + \",\".join(map(str, params)) + \"\\n\"\n",
    "    ser.write(commande.encode())\n",
    "    time.sleep(0.1)\n",
    "\n",
    "try:\n",
    "    start_time = time.time()\n",
    "    end_time = start_time + 20  # Durée totale d'exécution en secondes\n",
    "    interval = 2  # Intervalle entre les changements d'angle en secondes\n",
    "\n",
    "    while time.time() < end_time:\n",
    "        # Faire pivoter le servomoteur à 0 degrés\n",
    "        envoyer_commande(4, 1, [0])\n",
    "        time.sleep(interval)\n",
    "\n",
    "        # Faire pivoter le servomoteur à 180 degrés\n",
    "        envoyer_commande(4, 1, [180])\n",
    "        time.sleep(interval)\n",
    "\n",
    "finally:\n",
    "    ser.close()\n"
   ]
  },
  {
   "cell_type": "markdown",
   "metadata": {},
   "source": [
    "21.2s"
   ]
  },
  {
   "cell_type": "markdown",
   "metadata": {},
   "source": [
    "## 19. Faire clignoter la LED 1 à 50% de luminosité et la LED 2 à 75% toutes les 2 secondes pendant 8 secondes. (Device: [1, 2], Action: 0, Param: [128, 192], Interval: 2s, Time: 8s)\n"
   ]
  },
  {
   "cell_type": "code",
   "execution_count": 48,
   "metadata": {},
   "outputs": [],
   "source": [
    "import serial\n",
    "import time\n",
    "\n",
    "# Connexion au port série\n",
    "ser = serial.Serial('COM8', 9600)  # Remplacez 'COM8' par le port série approprié\n",
    "\n",
    "def envoyer_commande(device, action, params):\n",
    "    commande = f\"{device},{action},\" + \",\".join(map(str, params)) + \"\\n\"\n",
    "    ser.write(commande.encode())\n",
    "    time.sleep(0.1)\n",
    "\n",
    "try:\n",
    "    start_time = time.time()\n",
    "    interval = 2  # Intervalle en secondes\n",
    "    total_time = 8  # Temps total en secondes\n",
    "    \n",
    "    while (time.time() - start_time) < total_time:\n",
    "        # Clignoter la LED 1 à 50% de luminosité\n",
    "        envoyer_commande(1, 0, [128])\n",
    "        # Clignoter la LED 2 à 75% de luminosité\n",
    "        envoyer_commande(2, 0, [192])\n",
    "        time.sleep(interval)\n",
    "        \n",
    "        # Éteindre les LEDs\n",
    "        envoyer_commande(1, 0, [0])\n",
    "        envoyer_commande(2, 0, [0])\n",
    "        time.sleep(interval)\n",
    "\n",
    "finally:\n",
    "    ser.close()\n"
   ]
  },
  {
   "cell_type": "markdown",
   "metadata": {},
   "source": [
    "8.9s"
   ]
  },
  {
   "cell_type": "markdown",
   "metadata": {},
   "source": [
    "## 20. Augmenter la luminosité de la LED 2 de 0% à 100% en 5 secondes, puis faire clignoter la LED 2 à 100% de luminosité toutes les 1,5 secondes pendant 10 secondes. (Device: 2, Action: [0, 0], Param: [255, 0], Interval: 1.5s, Time: 15s)\n"
   ]
  },
  {
   "cell_type": "code",
   "execution_count": 49,
   "metadata": {},
   "outputs": [],
   "source": [
    "import serial\n",
    "import time\n",
    "\n",
    "# Connexion au port série\n",
    "ser = serial.Serial('COM8', 9600)  # Remplacez 'COM8' par le port série approprié\n",
    "\n",
    "def envoyer_commande(device, action, params):\n",
    "    commande = f\"{device},{action},\" + \",\".join(map(str, params)) + \"\\n\"\n",
    "    ser.write(commande.encode())\n",
    "    time.sleep(0.1)\n",
    "\n",
    "try:\n",
    "    # Augmenter la luminosité de la LED 2 de 0 à 100% en 5 secondes\n",
    "    start_time = time.time()\n",
    "    duration = 5  # Durée totale de l'augmentation en secondes\n",
    "    while time.time() - start_time < duration:\n",
    "        elapsed_time = time.time() - start_time\n",
    "        intensity = int((elapsed_time / duration) * 255)\n",
    "        envoyer_commande(2, 0, [intensity])\n",
    "        time.sleep(0.05)  # Petit délai pour permettre à l'intensité de changer progressivement\n",
    "    \n",
    "    # Assurer que la LED 2 est à pleine intensité\n",
    "    envoyer_commande(2, 0, [255])\n",
    "\n",
    "    # Faire clignoter la LED 2 à 100% de luminosité toutes les 1,5 secondes pendant 10 secondes\n",
    "    blink_duration = 10  # Durée totale du clignotement en secondes\n",
    "    blink_interval = 1.5  # Intervalle entre les clignotements en secondes\n",
    "    start_time = time.time()\n",
    "    while time.time() - start_time < blink_duration:\n",
    "        envoyer_commande(2, 0, [255])  # Allumer la LED 2\n",
    "        time.sleep(blink_interval / 2)  # Attendre la moitié de l'intervalle\n",
    "        envoyer_commande(2, 0, [0])    # Éteindre la LED 2\n",
    "        time.sleep(blink_interval / 2)  # Attendre l'autre moitié de l'intervalle\n",
    "\n",
    "finally:\n",
    "    ser.close()\n"
   ]
  },
  {
   "cell_type": "markdown",
   "metadata": {},
   "source": [
    "15.6s"
   ]
  },
  {
   "cell_type": "markdown",
   "metadata": {},
   "source": [
    "## 21. Faire varier l'angle du servo moteur de 90 à 0 degrés, puis de 0 à 90 degrés en 8 secondes. (Device: 4, Action: 1, Param: [90, 0, 90], Time: 8s)\n"
   ]
  },
  {
   "cell_type": "code",
   "execution_count": 50,
   "metadata": {},
   "outputs": [],
   "source": [
    "import serial\n",
    "import time\n",
    "\n",
    "# Connexion au port série\n",
    "ser = serial.Serial('COM8', 9600)  # Remplacez 'COM8' par le port série approprié\n",
    "\n",
    "def envoyer_commande(device, action, params):\n",
    "    commande = f\"{device},{action},\" + \",\".join(map(str, params)) + \"\\n\"\n",
    "    ser.write(commande.encode())\n",
    "    time.sleep(0.1)\n",
    "\n",
    "try:\n",
    "    # Définir les paramètres pour le mouvement du servomoteur\n",
    "    angles = [90, 0, 90]  # Angles de mouvement du servomoteur\n",
    "    temps_total = 8  # Temps total pour compléter le cycle en secondes\n",
    "    pas = len(angles) - 1  # Nombre de segments de mouvement\n",
    "\n",
    "    # Calculer le temps pour chaque segment de mouvement\n",
    "    temps_par_segment = temps_total / pas\n",
    "\n",
    "    # Mouvement du servomoteur de 90 à 0 degrés\n",
    "    for i in range(len(angles) - 1):\n",
    "        angle_depart = angles[i]\n",
    "        angle_arrivee = angles[i + 1]\n",
    "        nombre_etapes = 50  # Nombre d'étapes pour le mouvement\n",
    "        increment = (angle_arrivee - angle_depart) / nombre_etapes\n",
    "\n",
    "        for j in range(nombre_etapes + 1):\n",
    "            angle_actuel = angle_depart + j * increment\n",
    "            envoyer_commande(4, 1, [int(angle_actuel)])\n",
    "            time.sleep(temps_par_segment / nombre_etapes)\n",
    "\n",
    "finally:\n",
    "    ser.close()\n"
   ]
  },
  {
   "cell_type": "markdown",
   "metadata": {},
   "source": [
    "19.8s"
   ]
  },
  {
   "cell_type": "markdown",
   "metadata": {},
   "source": [
    "## 22. Synchroniser l'allumage de la LED 3 avec le mouvement du servo moteur de 0 à 180 degrés toutes les 4 secondes. La LED passe de 0% à 100% de luminosité. (Device: [4, 3], Action: [1, 0], Param: [[0, 180], [0, 255]], Time: 4s)\n"
   ]
  },
  {
   "cell_type": "code",
   "execution_count": null,
   "metadata": {},
   "outputs": [],
   "source": [
    "import serial\n",
    "import time\n",
    "\n",
    "# Connexion au port série\n",
    "ser = serial.Serial('COM8', 9600)  # Remplacez 'COM8' par le port série approprié\n",
    "\n",
    "def envoyer_commande(device, action, params):\n",
    "    commande = f\"{device},{action},\" + \",\".join(map(str, params)) + \"\\n\"\n",
    "    ser.write(commande.encode())\n",
    "    time.sleep(0.001)\n",
    "\n",
    "try:\n",
    "    while True:\n",
    "        # Définir la durée de synchronisation\n",
    "        start_time = time.time()\n",
    "\n",
    "        # Mouvement du servomoteur de 0 à 180 degrés\n",
    "        for angle in range(0, 181, 10):  # Augmenter l'angle en pas de 10 degrés\n",
    "            envoyer_commande(4, 1, [angle])  # Contrôler le servomoteur\n",
    "            time_elapsed = time.time() - start_time\n",
    "            if time_elapsed < 4:\n",
    "                # Calculer la luminosité de la LED en pourcentage en fonction du temps écoulé\n",
    "                led_intensity = int((angle / 180) * 255)\n",
    "                envoyer_commande(3, 0, [led_intensity])  # Contrôler la LED 3\n",
    "                time.sleep(0.2)  # Attendre un peu pour voir le changement de l'angle\n",
    "\n",
    "        # Éteindre la LED 3 après le mouvement du servomoteur\n",
    "        envoyer_commande(3, 0, [0])\n",
    "\n",
    "finally:\n",
    "    ser.close()\n",
    "#BRUIT ROBOTIQUE AGREABLE"
   ]
  },
  {
   "cell_type": "markdown",
   "metadata": {},
   "source": [
    "REUSSIE: C'EST UNE BOUCLE INFINIE, DIFFICILE DE VERIFIER SI LES INSTRUCTION CONTINUENT A ETRE RESPECTER"
   ]
  },
  {
   "cell_type": "markdown",
   "metadata": {},
   "source": [
    "## 23. Diminuer la luminosité de la LED 1 de 100% à 0% en 5 secondes, puis augmenter la luminosité de la LED 2 de 0% à 100% en 5 secondes. (Device: [1, 2], Action: 0, Param: [255, 0, 255], Time: 10s)\n"
   ]
  },
  {
   "cell_type": "code",
   "execution_count": 52,
   "metadata": {},
   "outputs": [],
   "source": [
    "import serial\n",
    "import time\n",
    "\n",
    "# Connexion au port série\n",
    "ser = serial.Serial('COM8', 9600)  # Remplacez 'COM8' par le port série approprié\n",
    "\n",
    "def envoyer_commande(device, action, params):\n",
    "    commande = f\"{device},{action},\" + \",\".join(map(str, params)) + \"\\n\"\n",
    "    ser.write(commande.encode())\n",
    "    time.sleep(0.1)\n",
    "\n",
    "try:\n",
    "    # Diminuer la luminosité de la LED 1 de 100% à 0% en 5 secondes\n",
    "    for intensity in range(255, -1, -5):  # Décrémentation de 255 à 0 par pas de 5\n",
    "        envoyer_commande(1, 0, [intensity])\n",
    "        time.sleep(0.1)  # Attendre pour respecter la durée totale de 5 secondes\n",
    "\n",
    "    # Assurer que la LED 1 est éteinte avant de commencer avec la LED 2\n",
    "    envoyer_commande(1, 0, [0])\n",
    "    \n",
    "    # Augmenter la luminosité de la LED 2 de 0% à 100% en 5 secondes\n",
    "    for intensity in range(0, 256, 5):  # Incrémentation de 0 à 255 par pas de 5\n",
    "        envoyer_commande(2, 0, [intensity])\n",
    "        time.sleep(0.1)  # Attendre pour respecter la durée totale de 5 secondes\n",
    "\n",
    "    # Assurer que la LED 2 est à sa luminosité maximale\n",
    "    envoyer_commande(2, 0, [255])\n",
    "\n",
    "finally:\n",
    "    ser.close()\n"
   ]
  },
  {
   "cell_type": "markdown",
   "metadata": {},
   "source": [
    "22.8s"
   ]
  },
  {
   "cell_type": "markdown",
   "metadata": {},
   "source": [
    "## 30. Synchroniser le mouvement du servo moteur entre 30 et 150 degrés toutes les 5 secondes avec l'allumage de la LED 1 à 100%. (Device: [4, 1], Action: [1, 0], Param: [[30, 150], [255]], Interval: 5s, Time: 10s)\n"
   ]
  },
  {
   "cell_type": "code",
   "execution_count": 53,
   "metadata": {},
   "outputs": [],
   "source": [
    "import serial\n",
    "import time\n",
    "\n",
    "# Connexion au port série\n",
    "ser = serial.Serial('COM8', 9600)  # Remplacez 'COM8' par le port série approprié\n",
    "\n",
    "def envoyer_commande(device, action, params):\n",
    "    commande = f\"{device},{action},\" + \",\".join(map(str, params)) + \"\\n\"\n",
    "    ser.write(commande.encode())\n",
    "    time.sleep(0.1)\n",
    "\n",
    "try:\n",
    "    start_time = time.time()\n",
    "    end_time = start_time + 10  # Durée totale de l'exécution en secondes\n",
    "\n",
    "    while time.time() < end_time:\n",
    "        current_time = time.time()\n",
    "        \n",
    "        # Synchroniser le mouvement du servomoteur entre 30 et 150 degrés\n",
    "        # avec l'allumage de la LED 1 à 100%\n",
    "        for angle in range(30, 151, 30):  # De 30 à 150 degrés en pas de 30 degrés\n",
    "            envoyer_commande(4, 1, [angle])  # Commande pour le servomoteur\n",
    "            envoyer_commande(1, 0, [255])    # Allumer la LED 1 à 100%\n",
    "            time.sleep(0.1)  # Petite pause pour assurer la commande\n",
    "\n",
    "        # Éteindre la LED 1 après chaque mouvement du servomoteur\n",
    "        envoyer_commande(1, 0, [0])  # Éteindre la LED 1\n",
    "\n",
    "        # Attendre 5 secondes avant de répéter\n",
    "        time.sleep(5)\n",
    "\n",
    "finally:\n",
    "    ser.close()\n"
   ]
  },
  {
   "cell_type": "markdown",
   "metadata": {},
   "source": [
    "13.5s"
   ]
  },
  {
   "cell_type": "markdown",
   "metadata": {},
   "source": [
    "## 42. Synchroniser l'allumage de la LED 2 avec le mouvement du servo moteur entre 0 et 180 degrés toutes les 6 secondes. La LED passe de 0% à 100% de luminosité. (Device: [2, 4], Action: [0, 1], Param: [[0, 180], [0, 255]], Interval: 6s, Time: 12s)\n"
   ]
  },
  {
   "cell_type": "code",
   "execution_count": 56,
   "metadata": {},
   "outputs": [],
   "source": [
    "import serial\n",
    "import time\n",
    "\n",
    "# Connexion au port série\n",
    "ser = serial.Serial('COM8', 9600)  # Remplacez 'COM8' par le port série approprié\n",
    "\n",
    "def envoyer_commande(device, action, params):\n",
    "    commande = f\"{device},{action},\" + \",\".join(map(str, params)) + \"\\n\"\n",
    "    ser.write(commande.encode())\n",
    "    time.sleep(0.1)\n",
    "\n",
    "try:\n",
    "    temps_total = 12  # Durée totale en secondes\n",
    "    intervalle = 6    # Durée de chaque cycle en secondes\n",
    "    cycles = temps_total // intervalle\n",
    "    \n",
    "    for _ in range(cycles):\n",
    "        start_time = time.time()\n",
    "        \n",
    "        # Synchronisation LED 2 et Servomoteur\n",
    "        for t in range(0, intervalle+1):\n",
    "            pourcentage = (t / intervalle) * 255  # Conversion du temps en luminosité\n",
    "            angle = (t / intervalle) * 180        # Conversion du temps en angle\n",
    "            \n",
    "            # Envoyer la luminosité de la LED 2\n",
    "            envoyer_commande(2, 0, [int(pourcentage)])\n",
    "\n",
    "            # Envoyer l'angle du servomoteur\n",
    "            envoyer_commande(4, 1, [int(angle)])\n",
    "            \n",
    "            # Attendre un court instant pour permettre la mise à jour\n",
    "            time.sleep(0.1)\n",
    "        \n",
    "        # Assurer que la LED 2 est complètement allumée à la fin du cycle\n",
    "        envoyer_commande(2, 0, [255])\n",
    "        \n",
    "        # Assurer que le servomoteur est complètement à 180 degrés à la fin du cycle\n",
    "        envoyer_commande(4, 1, [180])\n",
    "        \n",
    "        # Attendre que le cycle soit complet\n",
    "        time.sleep(intervalle - (time.time() - start_time))\n",
    "\n",
    "finally:\n",
    "    ser.close()\n"
   ]
  },
  {
   "cell_type": "markdown",
   "metadata": {},
   "source": [
    "12s"
   ]
  },
  {
   "cell_type": "markdown",
   "metadata": {},
   "source": [
    "LA LUMINOSITE DE LA LED 1 AUGMENTE DEPUIS ZERO PENDANT QUE "
   ]
  },
  {
   "cell_type": "code",
   "execution_count": 59,
   "metadata": {},
   "outputs": [],
   "source": [
    "import serial\n",
    "import time\n",
    "\n",
    "# Connexion au port série\n",
    "ser = serial.Serial('COM8', 9600)  # Remplacez 'COM8' par le port série approprié\n",
    "\n",
    "def envoyer_commande(device, action, params):\n",
    "    commande = f\"{device},{action},\" + \",\".join(map(str, params)) + \"\\n\"\n",
    "    ser.write(commande.encode())\n",
    "    time.sleep(0.01)\n",
    "\n",
    "try:\n",
    "    start_time = time.time()\n",
    "    duration = 10  # Durée en secondes pour le changement de luminosité\n",
    "\n",
    "    while time.time() - start_time < duration:\n",
    "        elapsed_time = time.time() - start_time\n",
    "        ratio = elapsed_time / duration\n",
    "\n",
    "        # Calculer la luminosité des LED\n",
    "        led1_intensity = int((1 - ratio) * 255)  # LED 1 diminue de 255 à 0\n",
    "        led2_intensity = int(ratio * 255)        # LED 2 augmente de 0 à 255\n",
    "\n",
    "        # Envoyer les commandes pour ajuster les LED\n",
    "        envoyer_commande(3, 0, [led1_intensity])\n",
    "        envoyer_commande(2, 0, [led2_intensity])\n",
    "\n",
    "        time.sleep(0.1)  # Petite pause pour permettre les ajustements progressifs\n",
    "\n",
    "    # Assurez-vous que les LED sont bien éteintes à la fin\n",
    "    envoyer_commande(3, 0, [0])\n",
    "    envoyer_commande(2, 0, [255])\n",
    "\n",
    "finally:\n",
    "    ser.close()\n"
   ]
  },
  {
   "cell_type": "code",
   "execution_count": null,
   "metadata": {},
   "outputs": [],
   "source": []
  },
  {
   "cell_type": "markdown",
   "metadata": {},
   "source": [
    "# CONTROLE DYNAMIQUE DE MISTRAL LARGE"
   ]
  },
  {
   "cell_type": "markdown",
   "metadata": {},
   "source": [
    "## 1. Augmenter progressivement la luminosité de la LED 1 de 0% à 100% en 5 secondes. (Device: 1, Action: 0, Param: [0, 255], Time: 5s)\n"
   ]
  },
  {
   "cell_type": "code",
   "execution_count": 92,
   "metadata": {},
   "outputs": [],
   "source": [
    "import serial\n",
    "import time\n",
    "\n",
    "# Connexion au port série\n",
    "ser = serial.Serial('COM8', 9600)  # Remplacez 'COM8' par le port série approprié\n",
    "\n",
    "def envoyer_commande(device, action, params):\n",
    "    commande = f\"{device},{action},\" + \",\".join(map(str, params)) + \"\\n\"\n",
    "    ser.write(commande.encode())\n",
    "    time.sleep(0.1)\n",
    "\n",
    "try:\n",
    "    # Augmenter progressivement la luminosité de la LED 1 de 0% à 100% en 5 secondes\n",
    "    start_time = time.time()\n",
    "    end_time = start_time + 5  # 5 secondes\n",
    "\n",
    "    while time.time() < end_time:\n",
    "        elapsed_time = time.time() - start_time\n",
    "        intensity = int((elapsed_time / 5) * 255)  # Calcul de l'intensité en fonction du temps écoulé\n",
    "        envoyer_commande(1, 0, [intensity])\n",
    "        time.sleep(0.1)  # Attendre un peu pour éviter d'envoyer trop de commandes trop rapidement\n",
    "\n",
    "    # Assurer que la LED atteint 100% de luminosité à la fin des 5 secondes\n",
    "    envoyer_commande(1, 0, [255])\n",
    "\n",
    "finally:\n",
    "    ser.close()\n"
   ]
  },
  {
   "cell_type": "markdown",
   "metadata": {},
   "source": [
    "5.2s"
   ]
  },
  {
   "cell_type": "markdown",
   "metadata": {},
   "source": [
    "## 2. Faire varier l'angle du servo moteur de 0 à 180 degrés et revenir à 90 degrés en 10 secondes. (Device: 4, Action: 1, Param: [0, 180, 90], Time: 10s)\n"
   ]
  },
  {
   "cell_type": "code",
   "execution_count": 65,
   "metadata": {},
   "outputs": [],
   "source": [
    "import serial\n",
    "import time\n",
    "\n",
    "# Connexion au port série\n",
    "ser = serial.Serial('COM8', 9600)  # Remplacez 'COM8' par le port série approprié\n",
    "\n",
    "def envoyer_commande(device, action, params):\n",
    "    commande = f\"{device},{action},\" + \",\".join(map(str, params)) + \"\\n\"\n",
    "    ser.write(commande.encode())\n",
    "    time.sleep(0.1)\n",
    "\n",
    "try:\n",
    "    # Faire varier l'angle du servomoteur de 0 à 180 degrés\n",
    "    for angle in range(0, 181, 10):\n",
    "        envoyer_commande(4, 1, [angle])\n",
    "        time.sleep(0.5)  # Attendre 0.5 secondes pour chaque incrément de 10 degrés\n",
    "\n",
    "    # Faire varier l'angle du servomoteur de 180 à 90 degrés\n",
    "    for angle in range(180, 89, -10):\n",
    "        envoyer_commande(4, 1, [angle])\n",
    "        time.sleep(0.5)  # Attendre 0.5 secondes pour chaque décrément de 10 degrés\n",
    "\n",
    "finally:\n",
    "    ser.close()\n"
   ]
  },
  {
   "cell_type": "markdown",
   "metadata": {},
   "source": [
    "18s"
   ]
  },
  {
   "cell_type": "markdown",
   "metadata": {},
   "source": [
    "## 3. Alterner l'allumage des LED 1 et 2 avec des intervalles de 2 secondes pendant 10 secondes. (Device: [1, 2], Action: 0, Param: [255, 0], Interval: 2s, Time: 10s)\n"
   ]
  },
  {
   "cell_type": "code",
   "execution_count": 66,
   "metadata": {},
   "outputs": [],
   "source": [
    "import serial\n",
    "import time\n",
    "\n",
    "# Connexion au port série\n",
    "ser = serial.Serial('COM8', 9600)  # Remplacez 'COM8' par le port série approprié\n",
    "\n",
    "def envoyer_commande(device, action, params):\n",
    "    commande = f\"{device},{action},\" + \",\".join(map(str, params)) + \"\\n\"\n",
    "    ser.write(commande.encode())\n",
    "    time.sleep(0.1)\n",
    "\n",
    "try:\n",
    "    # Alterner l'allumage des LED 1 et 2 avec des intervalles de 2 secondes pendant 10 secondes\n",
    "    start_time = time.time()\n",
    "    while time.time() - start_time < 10:\n",
    "        # Allumer LED 1 et éteindre LED 2\n",
    "        envoyer_commande(1, 0, [255])\n",
    "        envoyer_commande(2, 0, [0])\n",
    "        time.sleep(2)\n",
    "\n",
    "        # Éteindre LED 1 et allumer LED 2\n",
    "        envoyer_commande(1, 0, [0])\n",
    "        envoyer_commande(2, 0, [255])\n",
    "        time.sleep(2)\n",
    "\n",
    "finally:\n",
    "    ser.close()\n"
   ]
  },
  {
   "cell_type": "markdown",
   "metadata": {},
   "source": [
    "13.3s"
   ]
  },
  {
   "cell_type": "markdown",
   "metadata": {},
   "source": [
    "## 4. Faire clignoter la LED 3 cinq fois avec un intervalle de 1 seconde entre chaque allumage. (Device: 3, Action: 0, Param: 255, Interval: 1s, Repeats: 5)\n"
   ]
  },
  {
   "cell_type": "code",
   "execution_count": 67,
   "metadata": {},
   "outputs": [],
   "source": [
    "import serial\n",
    "import time\n",
    "\n",
    "# Connexion au port série\n",
    "ser = serial.Serial('COM8', 9600)  # Remplacez 'COM8' par le port série approprié\n",
    "\n",
    "def envoyer_commande(device, action, params):\n",
    "    commande = f\"{device},{action},\" + \",\".join(map(str, params)) + \"\\n\"\n",
    "    ser.write(commande.encode())\n",
    "    time.sleep(0.1)\n",
    "\n",
    "try:\n",
    "    # Faire clignoter la LED 3 cinq fois avec un intervalle de 1 seconde\n",
    "    for i in range(5):\n",
    "        envoyer_commande(3, 0, [255])  # Allumer la LED 3\n",
    "        time.sleep(1)\n",
    "        envoyer_commande(3, 0, [0])    # Éteindre la LED 3\n",
    "        time.sleep(1)\n",
    "\n",
    "finally:\n",
    "    ser.close()\n"
   ]
  },
  {
   "cell_type": "markdown",
   "metadata": {},
   "source": [
    "11.9s"
   ]
  },
  {
   "cell_type": "markdown",
   "metadata": {},
   "source": [
    "## 5. Diminuer progressivement la luminosité de la LED 2 de 100% à 0% en 3 secondes. (Device: 2, Action: 0, Param: [255, 0], Time: 3s)\n"
   ]
  },
  {
   "cell_type": "code",
   "execution_count": 68,
   "metadata": {},
   "outputs": [],
   "source": [
    "import serial\n",
    "import time\n",
    "\n",
    "# Connexion au port série\n",
    "ser = serial.Serial('COM8', 9600)  # Remplacez 'COM8' par le port série approprié\n",
    "\n",
    "def envoyer_commande(device, action, params):\n",
    "    commande = f\"{device},{action},\" + \",\".join(map(str, params)) + \"\\n\"\n",
    "    ser.write(commande.encode())\n",
    "    time.sleep(0.1)\n",
    "\n",
    "try:\n",
    "    # Diminuer progressivement la luminosité de la LED 2 de 100% à 0% en 3 secondes\n",
    "    start_time = time.time()\n",
    "    end_time = start_time + 3\n",
    "    current_time = start_time\n",
    "\n",
    "    while current_time < end_time:\n",
    "        elapsed_time = current_time - start_time\n",
    "        intensity = int(255 * (1 - (elapsed_time / 3)))\n",
    "        envoyer_commande(2, 0, [intensity])\n",
    "        time.sleep(0.1)  # Attendre un peu pour éviter d'envoyer trop de commandes trop rapidement\n",
    "        current_time = time.time()\n",
    "\n",
    "    # Assurer que la LED est éteinte à la fin\n",
    "    envoyer_commande(2, 0, [0])\n",
    "\n",
    "finally:\n",
    "    ser.close()\n"
   ]
  },
  {
   "cell_type": "markdown",
   "metadata": {},
   "source": [
    "3.1s"
   ]
  },
  {
   "cell_type": "markdown",
   "metadata": {},
   "source": [
    "## 6. Synchroniser le mouvement du servo moteur et l'allumage de la LED 1, le servo allant de 0 à 180 degrés tandis que la LED passe de 0% à 100% de façon synchrone inverse au servo par pas de 50 (Device: [4, 1], Action: [1, 0], Param: [[0, 180], [0, 255]], Time: 10s)\n"
   ]
  },
  {
   "cell_type": "code",
   "execution_count": 69,
   "metadata": {},
   "outputs": [],
   "source": [
    "import serial\n",
    "import time\n",
    "\n",
    "# Connexion au port série\n",
    "ser = serial.Serial('COM8', 9600)  # Remplacez 'COM8' par le port série approprié\n",
    "\n",
    "def envoyer_commande(device, action, params):\n",
    "    commande = f\"{device},{action},\" + \",\".join(map(str, params)) + \"\\n\"\n",
    "    ser.write(commande.encode())\n",
    "    time.sleep(0.1)\n",
    "\n",
    "try:\n",
    "    # Définir les pas et les intervalles de temps\n",
    "    steps = 4  # 4 pas pour aller de 0 à 180 degrés par pas de 50\n",
    "    interval = 10 / steps  # Intervalle de temps entre chaque pas\n",
    "\n",
    "    for i in range(steps + 1):\n",
    "        angle = i * 50\n",
    "        intensity = 255 - (i * 51)  # Intensité inverse de la LED\n",
    "\n",
    "        # Envoyer la commande pour le servomoteur\n",
    "        envoyer_commande(4, 1, [angle])\n",
    "\n",
    "        # Envoyer la commande pour la LED 1\n",
    "        envoyer_commande(1, 0, [intensity])\n",
    "\n",
    "        # Attendre l'intervalle de temps\n",
    "        time.sleep(interval)\n",
    "\n",
    "finally:\n",
    "    ser.close()\n"
   ]
  },
  {
   "cell_type": "markdown",
   "metadata": {},
   "source": [
    "13.6s"
   ]
  },
  {
   "cell_type": "markdown",
   "metadata": {},
   "source": [
    "## 7. Faire varier la luminosité des LED 1 et 2 en alternance toutes les 0,5 secondes pendant 10 secondes. (Device: [1, 2], Action: 0, Param: [255, 0], Interval: 0.5s, Time: 10s)\n"
   ]
  },
  {
   "cell_type": "code",
   "execution_count": 70,
   "metadata": {},
   "outputs": [],
   "source": [
    "import serial\n",
    "import time\n",
    "\n",
    "# Connexion au port série\n",
    "ser = serial.Serial('COM8', 9600)  # Remplacez 'COM8' par le port série approprié\n",
    "\n",
    "def envoyer_commande(device, action, params):\n",
    "    commande = f\"{device},{action},\" + \",\".join(map(str, params)) + \"\\n\"\n",
    "    ser.write(commande.encode())\n",
    "    time.sleep(0.1)\n",
    "\n",
    "try:\n",
    "    # Durée totale de l'alternance\n",
    "    total_time = 10\n",
    "    interval = 0.5\n",
    "    iterations = int(total_time / interval)\n",
    "\n",
    "    for i in range(iterations):\n",
    "        # Allumer LED 1 et éteindre LED 2\n",
    "        envoyer_commande(1, 0, [255])\n",
    "        envoyer_commande(2, 0, [0])\n",
    "        time.sleep(interval)\n",
    "\n",
    "        # Éteindre LED 1 et allumer LED 2\n",
    "        envoyer_commande(1, 0, [0])\n",
    "        envoyer_commande(2, 0, [255])\n",
    "        time.sleep(interval)\n",
    "\n",
    "finally:\n",
    "    ser.close()\n"
   ]
  },
  {
   "cell_type": "markdown",
   "metadata": {},
   "source": [
    "29s"
   ]
  },
  {
   "cell_type": "markdown",
   "metadata": {},
   "source": [
    "## 8. Faire passer la LED 3 de 0% à 100% de luminosité en 2 secondes, puis revenir à 0% en 2 secondes. Répéter 3 fois. (Device: 3, Action: 0, Param: [0, 255], Time: 4s, Repeats: 3)\n"
   ]
  },
  {
   "cell_type": "code",
   "execution_count": null,
   "metadata": {},
   "outputs": [],
   "source": [
    "import serial\n",
    "import time\n",
    "\n",
    "# Connexion au port série\n",
    "ser = serial.Serial('COM8', 9600)  # Remplacez 'COM8' par le port série approprié\n",
    "\n",
    "def envoyer_commande(device, action, params):\n",
    "    commande = f\"{device},{action},\" + \",\".join(map(str, params)) + \"\\n\"\n",
    "    ser.write(commande.encode())\n",
    "    time.sleep(0.1)\n",
    "\n",
    "try:\n",
    "    # Définir les paramètres pour la LED 3\n",
    "    device = 3\n",
    "    action = 0\n",
    "    duration = 2  # Durée pour passer de 0% à 100% et vice versa\n",
    "    steps = 255  # Nombre de niveaux de luminosité\n",
    "    repeat_count = 3  # Nombre de répétitions\n",
    "\n",
    "    for _ in range(repeat_count):\n",
    "        # Passer de 0% à 100% de luminosité\n",
    "        for intensity in range(0, steps + 1):\n",
    "            envoyer_commande(device, action, [intensity])\n",
    "            time.sleep(duration / steps)\n",
    "\n",
    "        # Passer de 100% à 0% de luminosité\n",
    "        for intensity in range(steps, -1, -1):\n",
    "            envoyer_commande(device, action, [intensity])\n",
    "            time.sleep(duration / steps)\n",
    "\n",
    "finally:\n",
    "    ser.close()\n"
   ]
  },
  {
   "cell_type": "markdown",
   "metadata": {},
   "source": [
    "ECHEC"
   ]
  },
  {
   "cell_type": "markdown",
   "metadata": {},
   "source": [
    "## 9. Augmenter progressivement la luminosité de la LED 2 de 0% à 50% en 1 seconde, puis de 50% à 100% en 2 secondes. (Device: 2, Action: 0, Param: [0, 128, 255], Time: 3s)\n"
   ]
  },
  {
   "cell_type": "code",
   "execution_count": 73,
   "metadata": {},
   "outputs": [],
   "source": [
    "import serial\n",
    "import time\n",
    "\n",
    "# Connexion au port série\n",
    "ser = serial.Serial('COM8', 9600)  # Remplacez 'COM8' par le port série approprié\n",
    "\n",
    "def envoyer_commande(device, action, params):\n",
    "    commande = f\"{device},{action},\" + \",\".join(map(str, params)) + \"\\n\"\n",
    "    ser.write(commande.encode())\n",
    "    time.sleep(0.1)\n",
    "\n",
    "try:\n",
    "    # Augmenter progressivement la luminosité de la LED 2 de 0% à 50% en 1 seconde\n",
    "    for intensity in range(0, 129, 1):\n",
    "        envoyer_commande(2, 0, [intensity])\n",
    "        time.sleep(0.0078)  # 1 seconde / 128 étapes\n",
    "\n",
    "    # Augmenter progressivement la luminosité de la LED 2 de 50% à 100% en 2 secondes\n",
    "    for intensity in range(128, 256, 1):\n",
    "        envoyer_commande(2, 0, [intensity])\n",
    "        time.sleep(0.0156)  # 2 secondes / 128 étapes\n",
    "\n",
    "finally:\n",
    "    ser.close()\n"
   ]
  },
  {
   "cell_type": "markdown",
   "metadata": {},
   "source": [
    "32.9s"
   ]
  },
  {
   "cell_type": "markdown",
   "metadata": {},
   "source": [
    "## 10. Faire varier l'angle du servo moteur de 90 à 0 degrés, puis de 0 à 90 degrés en 4 secondes. (Device: 4, Action: 1, Param: [90, 0, 90], Time: 4s)\n"
   ]
  },
  {
   "cell_type": "code",
   "execution_count": 74,
   "metadata": {},
   "outputs": [],
   "source": [
    "import serial\n",
    "import time\n",
    "\n",
    "# Connexion au port série\n",
    "ser = serial.Serial('COM8', 9600)  # Remplacez 'COM8' par le port série approprié\n",
    "\n",
    "def envoyer_commande(device, action, params):\n",
    "    commande = f\"{device},{action},\" + \",\".join(map(str, params)) + \"\\n\"\n",
    "    ser.write(commande.encode())\n",
    "    time.sleep(0.1)\n",
    "\n",
    "try:\n",
    "    # Faire varier l'angle du servomoteur de 90 à 0 degrés en 2 secondes\n",
    "    for angle in range(90, -1, -1):\n",
    "        envoyer_commande(4, 1, [angle])\n",
    "        time.sleep(0.05)  # 2 secondes pour 90 degrés\n",
    "\n",
    "    # Faire varier l'angle du servomoteur de 0 à 90 degrés en 2 secondes\n",
    "    for angle in range(0, 91):\n",
    "        envoyer_commande(4, 1, [angle])\n",
    "        time.sleep(0.05)  # 2 secondes pour 90 degrés\n",
    "\n",
    "finally:\n",
    "    ser.close()\n"
   ]
  },
  {
   "cell_type": "markdown",
   "metadata": {},
   "source": [
    "30.8s"
   ]
  },
  {
   "cell_type": "markdown",
   "metadata": {},
   "source": [
    "REFAIRE CETTE PARTIE SUR LES AUTRE MODELES AVEC LE MEME PROMPT"
   ]
  },
  {
   "cell_type": "markdown",
   "metadata": {},
   "source": [
    "## 11. Éteindre la LED 1 pendant 2 secondes, puis allumer la LED 3 à 100% pendant 2 secondes. Répéter 4 fois. (Device: [1, 3], Action: [0, 0], Param: [0, 255], Interval: 2s, Repeats: 4)\n"
   ]
  },
  {
   "cell_type": "code",
   "execution_count": 75,
   "metadata": {},
   "outputs": [],
   "source": [
    "import serial\n",
    "import time\n",
    "\n",
    "# Connexion au port série\n",
    "ser = serial.Serial('COM8', 9600)  # Remplacez 'COM8' par le port série approprié\n",
    "\n",
    "def envoyer_commande(device, action, params):\n",
    "    commande = f\"{device},{action},\" + \",\".join(map(str, params)) + \"\\n\"\n",
    "    ser.write(commande.encode())\n",
    "    time.sleep(0.1)\n",
    "\n",
    "try:\n",
    "    for _ in range(4):\n",
    "        # Éteindre la LED 1 pendant 2 secondes\n",
    "        envoyer_commande(1, 0, [0])\n",
    "        time.sleep(2)\n",
    "\n",
    "        # Allumer la LED 3 à 100% pendant 2 secondes\n",
    "        envoyer_commande(3, 0, [255])\n",
    "        time.sleep(2)\n",
    "\n",
    "        # Éteindre la LED 3 après 2 secondes\n",
    "        envoyer_commande(3, 0, [0])\n",
    "\n",
    "finally:\n",
    "    ser.close()\n"
   ]
  },
  {
   "cell_type": "markdown",
   "metadata": {},
   "source": [
    "17.4s"
   ]
  },
  {
   "cell_type": "markdown",
   "metadata": {},
   "source": [
    "## 12. Alterner l'allumage des LED 1 et 2 toutes les 1,5 secondes pendant 15 secondes, avec une LED allumée à 100% et l'autre éteinte. (Device: [1, 2], Action: 0, Param: [255, 0], Interval: 1.5s, Time: 15s)\n"
   ]
  },
  {
   "cell_type": "code",
   "execution_count": 76,
   "metadata": {},
   "outputs": [],
   "source": [
    "import serial\n",
    "import time\n",
    "\n",
    "# Connexion au port série\n",
    "ser = serial.Serial('COM8', 9600)  # Remplacez 'COM8' par le port série approprié\n",
    "\n",
    "def envoyer_commande(device, action, params):\n",
    "    commande = f\"{device},{action},\" + \",\".join(map(str, params)) + \"\\n\"\n",
    "    ser.write(commande.encode())\n",
    "    time.sleep(0.1)\n",
    "\n",
    "try:\n",
    "    # Durée totale de l'alternance\n",
    "    total_time = 15\n",
    "    interval = 1.5\n",
    "    iterations = int(total_time / interval)\n",
    "\n",
    "    for i in range(iterations):\n",
    "        # Allumer LED 1 à 100% et éteindre LED 2\n",
    "        envoyer_commande(1, 0, [255])\n",
    "        envoyer_commande(2, 0, [0])\n",
    "        time.sleep(interval)\n",
    "\n",
    "        # Éteindre LED 1 et allumer LED 2 à 100%\n",
    "        envoyer_commande(1, 0, [0])\n",
    "        envoyer_commande(2, 0, [255])\n",
    "        time.sleep(interval)\n",
    "\n",
    "finally:\n",
    "    ser.close()\n"
   ]
  },
  {
   "cell_type": "markdown",
   "metadata": {},
   "source": [
    "34.4s"
   ]
  },
  {
   "cell_type": "markdown",
   "metadata": {},
   "source": [
    "## 13. Diminuer la luminosité de la LED 1 de 100% à 0% en 4 secondes, puis augmenter la luminosité de la LED 2 de 0% à 100% en 4 secondes. (Device: [1, 2], Action: 0, Param: [255, 0, 255], Time: 8s)\n"
   ]
  },
  {
   "cell_type": "code",
   "execution_count": 78,
   "metadata": {},
   "outputs": [],
   "source": [
    "import serial\n",
    "import time\n",
    "\n",
    "# Connexion au port série\n",
    "ser = serial.Serial('COM8', 9600)  # Remplacez 'COM8' par le port série approprié\n",
    "\n",
    "def envoyer_commande(device, action, params):\n",
    "    commande = f\"{device},{action},\" + \",\".join(map(str, params)) + \"\\n\"\n",
    "    ser.write(commande.encode())\n",
    "    time.sleep(0.1)\n",
    "\n",
    "try:\n",
    "    # Diminuer la luminosité de la LED 1 de 100% à 0% en 4 secondes\n",
    "    for intensity in range(255, -1, -1):\n",
    "        envoyer_commande(1, 0, [intensity])\n",
    "        time.sleep(0.016)  # 4 secondes / 256 étapes = 0.015625 secondes par étape\n",
    "\n",
    "    # Augmenter la luminosité de la LED 2 de 0% à 100% en 4 secondes\n",
    "    for intensity in range(256):\n",
    "        envoyer_commande(2, 0, [intensity])\n",
    "        time.sleep(0.016)  # 4 secondes / 256 étapes = 0.015625 secondes par étape\n",
    "\n",
    "finally:\n",
    "    ser.close()\n"
   ]
  },
  {
   "cell_type": "markdown",
   "metadata": {},
   "source": [
    "179.6s"
   ]
  },
  {
   "cell_type": "markdown",
   "metadata": {},
   "source": [
    "## 14. Faire varier l'angle du servo moteur de 0 à 90 degrés en 3 secondes, puis de 90 à 180 degrés en 3 secondes. (Device: 4, Action: 1, Param: [0, 90, 180], Time: 6s)\n"
   ]
  },
  {
   "cell_type": "code",
   "execution_count": 79,
   "metadata": {},
   "outputs": [],
   "source": [
    "import serial\n",
    "import time\n",
    "\n",
    "# Connexion au port série\n",
    "ser = serial.Serial('COM8', 9600)  # Remplacez 'COM8' par le port série approprié\n",
    "\n",
    "def envoyer_commande(device, action, params):\n",
    "    commande = f\"{device},{action},\" + \",\".join(map(str, params)) + \"\\n\"\n",
    "    ser.write(commande.encode())\n",
    "    time.sleep(0.1)\n",
    "\n",
    "try:\n",
    "    # Faire varier l'angle du servomoteur de 0 à 90 degrés en 3 secondes\n",
    "    for angle in range(0, 91, 15):\n",
    "        envoyer_commande(4, 1, [angle])\n",
    "        time.sleep(0.5)\n",
    "\n",
    "    # Faire varier l'angle du servomoteur de 90 à 180 degrés en 3 secondes\n",
    "    for angle in range(90, 181, 15):\n",
    "        envoyer_commande(4, 1, [angle])\n",
    "        time.sleep(0.5)\n",
    "\n",
    "finally:\n",
    "    ser.close()\n"
   ]
  },
  {
   "cell_type": "markdown",
   "metadata": {},
   "source": [
    "8.6s"
   ]
  },
  {
   "cell_type": "markdown",
   "metadata": {},
   "source": [
    "## 15. Synchroniser l'allumage de la LED 3 avec le mouvement du servo moteur allant de 0 à 180 degrés. La LED passe de 0% à 100% en synchronisation inverse avec le servo. (Device: [4, 3], Action: [1, 0], Param: [[0, 180], [0, 255]], Time: 10s)\n"
   ]
  },
  {
   "cell_type": "code",
   "execution_count": 80,
   "metadata": {},
   "outputs": [],
   "source": [
    "import serial\n",
    "import time\n",
    "\n",
    "# Connexion au port série\n",
    "ser = serial.Serial('COM8', 9600)  # Remplacez 'COM8' par le port série approprié\n",
    "\n",
    "def envoyer_commande(device, action, params):\n",
    "    commande = f\"{device},{action},\" + \",\".join(map(str, params)) + \"\\n\"\n",
    "    ser.write(commande.encode())\n",
    "    time.sleep(0.1)\n",
    "\n",
    "try:\n",
    "    # Durée totale du mouvement\n",
    "    total_time = 10  # en secondes\n",
    "    steps = 180  # Nombre de pas pour le servomoteur (de 0 à 180 degrés)\n",
    "    delay = total_time / steps  # Délai entre chaque pas\n",
    "\n",
    "    for i in range(steps + 1):\n",
    "        angle = i  # Angle du servomoteur\n",
    "        intensity = 255 - int((i / steps) * 255)  # Intensité de la LED 3 (inverse)\n",
    "\n",
    "        # Envoyer la commande pour le servomoteur\n",
    "        envoyer_commande(4, 1, [angle])\n",
    "\n",
    "        # Envoyer la commande pour la LED 3\n",
    "        envoyer_commande(3, 0, [intensity])\n",
    "\n",
    "        # Attendre le délai calculé\n",
    "        time.sleep(delay)\n",
    "\n",
    "finally:\n",
    "    ser.close()\n"
   ]
  },
  {
   "cell_type": "markdown",
   "metadata": {},
   "source": [
    "50.5s"
   ]
  },
  {
   "cell_type": "markdown",
   "metadata": {},
   "source": [
    "TESTER LES AUTRES MODELES AVEC LE MEME PROMPT"
   ]
  },
  {
   "cell_type": "markdown",
   "metadata": {},
   "source": [
    "## 16. Faire clignoter la LED 2 à 100% de luminosité toutes les 1,5 secondes pendant 12 secondes, puis éteindre la LED 2 pendant 3 secondes. (Device: 2, Action: 0, Param: 255, Interval: 1.5s, Time: 15s)\n"
   ]
  },
  {
   "cell_type": "code",
   "execution_count": 81,
   "metadata": {},
   "outputs": [],
   "source": [
    "import serial\n",
    "import time\n",
    "\n",
    "# Connexion au port série\n",
    "ser = serial.Serial('COM8', 9600)  # Remplacez 'COM8' par le port série approprié\n",
    "\n",
    "def envoyer_commande(device, action, params):\n",
    "    commande = f\"{device},{action},\" + \",\".join(map(str, params)) + \"\\n\"\n",
    "    ser.write(commande.encode())\n",
    "    time.sleep(0.1)\n",
    "\n",
    "try:\n",
    "    # Faire clignoter la LED 2 à 100% de luminosité toutes les 1,5 secondes pendant 12 secondes\n",
    "    start_time = time.time()\n",
    "    while time.time() - start_time < 12:\n",
    "        envoyer_commande(2, 0, [255])  # Allumer la LED 2 à 100%\n",
    "        time.sleep(1.5)\n",
    "        envoyer_commande(2, 0, [0])    # Éteindre la LED 2\n",
    "        time.sleep(1.5)\n",
    "\n",
    "    # Éteindre la LED 2 pendant 3 secondes\n",
    "    envoyer_commande(2, 0, [0])\n",
    "    time.sleep(3)\n",
    "\n",
    "finally:\n",
    "    ser.close()\n"
   ]
  },
  {
   "cell_type": "markdown",
   "metadata": {},
   "source": [
    "16s"
   ]
  },
  {
   "cell_type": "markdown",
   "metadata": {},
   "source": [
    "## 17. Augmenter la luminosité de la LED 3 de 0% à 100% en 6 secondes, puis diminuer à 0% en 4 secondes. Répéter 3 fois. (Device: 3, Action: 0, Param: [0, 255], Time: 10s, Repeats: 3)\n"
   ]
  },
  {
   "cell_type": "code",
   "execution_count": null,
   "metadata": {},
   "outputs": [],
   "source": [
    "import serial\n",
    "import time\n",
    "\n",
    "# Connexion au port série\n",
    "ser = serial.Serial('COM8', 9600)  # Remplacez 'COM8' par le port série approprié\n",
    "\n",
    "def envoyer_commande(device, action, params):\n",
    "    commande = f\"{device},{action},\" + \",\".join(map(str, params)) + \"\\n\"\n",
    "    ser.write(commande.encode())\n",
    "    time.sleep(0.0001)\n",
    "\n",
    "try:\n",
    "    # Répéter le cycle 3 fois\n",
    "    for _ in range(3):\n",
    "        # Augmenter la luminosité de 0% à 100% en 6 secondes\n",
    "        for intensity in range(0, 256, 1):\n",
    "            envoyer_commande(3, 0, [intensity])\n",
    "            time.sleep(6 / 255)  # Calculer le délai pour chaque étape\n",
    "\n",
    "        # Diminuer la luminosité de 100% à 0% en 4 secondes\n",
    "        for intensity in range(255, -1, -1):\n",
    "            envoyer_commande(3, 0, [intensity])\n",
    "            time.sleep(4 / 255)  # Calculer le délai pour chaque étape\n",
    "\n",
    "finally:\n",
    "    ser.close()\n"
   ]
  },
  {
   "cell_type": "markdown",
   "metadata": {},
   "source": [
    "ECHEC: TESTER AVEC LES AUTRES MODELES"
   ]
  },
  {
   "cell_type": "markdown",
   "metadata": {},
   "source": [
    "## 18. Alterner l'angle du servo moteur entre 0 et 180 degrés toutes les 2 secondes pendant 20 secondes. (Device: 4, Action: 1, Param: [0, 180], Interval: 2s, Time: 20s)\n"
   ]
  },
  {
   "cell_type": "code",
   "execution_count": 84,
   "metadata": {},
   "outputs": [],
   "source": [
    "import serial\n",
    "import time\n",
    "\n",
    "# Connexion au port série\n",
    "ser = serial.Serial('COM8', 9600)  # Remplacez 'COM8' par le port série approprié\n",
    "\n",
    "def envoyer_commande(device, action, params):\n",
    "    commande = f\"{device},{action},\" + \",\".join(map(str, params)) + \"\\n\"\n",
    "    ser.write(commande.encode())\n",
    "    time.sleep(0.1)\n",
    "\n",
    "try:\n",
    "    # Alterner l'angle du servomoteur entre 0 et 180 degrés toutes les 2 secondes pendant 20 secondes\n",
    "    start_time = time.time()\n",
    "    while time.time() - start_time < 20:\n",
    "        envoyer_commande(4, 1, [0])\n",
    "        time.sleep(2)\n",
    "        envoyer_commande(4, 1, [180])\n",
    "        time.sleep(2)\n",
    "\n",
    "finally:\n",
    "    ser.close()\n"
   ]
  },
  {
   "cell_type": "markdown",
   "metadata": {},
   "source": [
    "21.2s"
   ]
  },
  {
   "cell_type": "markdown",
   "metadata": {},
   "source": [
    "## 19. Faire clignoter la LED 1 à 50% de luminosité et la LED 2 à 75% toutes les 2 secondes pendant 8 secondes. (Device: [1, 2], Action: 0, Param: [128, 192], Interval: 2s, Time: 8s)\n"
   ]
  },
  {
   "cell_type": "code",
   "execution_count": 93,
   "metadata": {},
   "outputs": [],
   "source": [
    "import serial\n",
    "import time\n",
    "\n",
    "# Connexion au port série\n",
    "ser = serial.Serial('COM8', 9600)  # Remplacez 'COM8' par le port série approprié\n",
    "\n",
    "def envoyer_commande(device, action, params):\n",
    "    commande = f\"{device},{action},\" + \",\".join(map(str, params)) + \"\\n\"\n",
    "    ser.write(commande.encode())\n",
    "    time.sleep(0.1)\n",
    "\n",
    "try:\n",
    "    # Définir les paramètres de luminosité\n",
    "    led1_intensity = 128  # 50% de 255\n",
    "    led2_intensity = 192  # 75% de 255\n",
    "\n",
    "    # Durée totale de l'opération\n",
    "    total_time = 8  # 8 secondes\n",
    "    interval = 2    # 2 secondes\n",
    "\n",
    "    # Calculer le nombre de cycles\n",
    "    num_cycles = total_time // interval\n",
    "\n",
    "    for _ in range(num_cycles):\n",
    "        # Allumer les LEDs\n",
    "        envoyer_commande(1, 0, [led1_intensity])\n",
    "        envoyer_commande(2, 0, [led2_intensity])\n",
    "\n",
    "        # Attendre l'intervalle\n",
    "        time.sleep(interval)\n",
    "\n",
    "        # Éteindre les LEDs\n",
    "        envoyer_commande(1, 0, [0])\n",
    "        envoyer_commande(2, 0, [0])\n",
    "\n",
    "        # Attendre l'intervalle\n",
    "        time.sleep(interval)\n",
    "\n",
    "finally:\n",
    "    ser.close()\n"
   ]
  },
  {
   "cell_type": "markdown",
   "metadata": {},
   "source": [
    "17.8s"
   ]
  },
  {
   "cell_type": "markdown",
   "metadata": {},
   "source": [
    "## 20. Augmenter la luminosité de la LED 2 de 0% à 100% en 5 secondes, puis faire clignoter la LED 2 à 100% de luminosité toutes les 1,5 secondes pendant 10 secondes. (Device: 2, Action: [0, 0], Param: [255, 0], Interval: 1.5s, Time: 15s)\n"
   ]
  },
  {
   "cell_type": "code",
   "execution_count": 86,
   "metadata": {},
   "outputs": [
    {
     "ename": "TypeError",
     "evalue": "'float' object cannot be interpreted as an integer",
     "output_type": "error",
     "traceback": [
      "\u001b[1;31m---------------------------------------------------------------------------\u001b[0m",
      "\u001b[1;31mTypeError\u001b[0m                                 Traceback (most recent call last)",
      "Cell \u001b[1;32mIn[86], line 19\u001b[0m\n\u001b[0;32m     16\u001b[0m     time\u001b[38;5;241m.\u001b[39msleep(\u001b[38;5;241m1\u001b[39m)  \u001b[38;5;66;03m# 5 secondes pour atteindre 255 (5 étapes de 51)\u001b[39;00m\n\u001b[0;32m     18\u001b[0m \u001b[38;5;66;03m# Faire clignoter la LED 2 à 100% de luminosité toutes les 1,5 secondes pendant 10 secondes\u001b[39;00m\n\u001b[1;32m---> 19\u001b[0m \u001b[38;5;28;01mfor\u001b[39;00m _ \u001b[38;5;129;01min\u001b[39;00m \u001b[38;5;28;43mrange\u001b[39;49m\u001b[43m(\u001b[49m\u001b[38;5;241;43m10\u001b[39;49m\u001b[43m \u001b[49m\u001b[38;5;241;43m/\u001b[39;49m\u001b[38;5;241;43m/\u001b[39;49m\u001b[43m \u001b[49m\u001b[38;5;241;43m1.5\u001b[39;49m\u001b[43m)\u001b[49m:\n\u001b[0;32m     20\u001b[0m     envoyer_commande(\u001b[38;5;241m2\u001b[39m, \u001b[38;5;241m0\u001b[39m, [\u001b[38;5;241m255\u001b[39m])\n\u001b[0;32m     21\u001b[0m     time\u001b[38;5;241m.\u001b[39msleep(\u001b[38;5;241m1.5\u001b[39m)\n",
      "\u001b[1;31mTypeError\u001b[0m: 'float' object cannot be interpreted as an integer"
     ]
    }
   ],
   "source": [
    "import serial\n",
    "import time\n",
    "\n",
    "# Connexion au port série\n",
    "ser = serial.Serial('COM8', 9600)  # Remplacez 'COM8' par le port série approprié\n",
    "\n",
    "def envoyer_commande(device, action, params):\n",
    "    commande = f\"{device},{action},\" + \",\".join(map(str, params)) + \"\\n\"\n",
    "    ser.write(commande.encode())\n",
    "    time.sleep(0.1)\n",
    "\n",
    "try:\n",
    "    # Augmenter la luminosité de la LED 2 de 0% à 100% en 5 secondes\n",
    "    for intensity in range(0, 256, 51):\n",
    "        envoyer_commande(2, 0, [intensity])\n",
    "        time.sleep(1)  # 5 secondes pour atteindre 255 (5 étapes de 51)\n",
    "\n",
    "    # Faire clignoter la LED 2 à 100% de luminosité toutes les 1,5 secondes pendant 10 secondes\n",
    "    for _ in range(10 // 1.5):\n",
    "        envoyer_commande(2, 0, [255])\n",
    "        time.sleep(1.5)\n",
    "        envoyer_commande(2, 0, [0])\n",
    "        time.sleep(1.5)\n",
    "\n",
    "finally:\n",
    "    ser.close()\n"
   ]
  },
  {
   "cell_type": "markdown",
   "metadata": {},
   "source": [
    "On doit remettre cet erreur dans le modele sinon c'est echec"
   ]
  },
  {
   "cell_type": "markdown",
   "metadata": {},
   "source": [
    "## 21. Faire varier l'angle du servo moteur de 90 à 0 degrés, puis de 0 à 90 degrés en 8 secondes. (Device: 4, Action: 1, Param: [90, 0, 90], Time: 8s)\n"
   ]
  },
  {
   "cell_type": "code",
   "execution_count": 87,
   "metadata": {},
   "outputs": [],
   "source": [
    "import serial\n",
    "import time\n",
    "\n",
    "# Connexion au port série\n",
    "ser = serial.Serial('COM8', 9600)  # Remplacez 'COM8' par le port série approprié\n",
    "\n",
    "def envoyer_commande(device, action, params):\n",
    "    commande = f\"{device},{action},\" + \",\".join(map(str, params)) + \"\\n\"\n",
    "    ser.write(commande.encode())\n",
    "    time.sleep(0.1)\n",
    "\n",
    "try:\n",
    "    # Faire varier l'angle du servomoteur de 90 à 0 degrés en 4 secondes\n",
    "    for angle in range(90, -1, -1):\n",
    "        envoyer_commande(4, 1, [angle])\n",
    "        time.sleep(0.05)  # 4 secondes / 90 étapes = 0.0444 secondes par étape\n",
    "\n",
    "    # Faire varier l'angle du servomoteur de 0 à 90 degrés en 4 secondes\n",
    "    for angle in range(0, 91):\n",
    "        envoyer_commande(4, 1, [angle])\n",
    "        time.sleep(0.05)  # 4 secondes / 90 étapes = 0.0444 secondes par étape\n",
    "\n",
    "finally:\n",
    "    ser.close()\n"
   ]
  },
  {
   "cell_type": "markdown",
   "metadata": {},
   "source": [
    "31.5s"
   ]
  },
  {
   "cell_type": "markdown",
   "metadata": {},
   "source": [
    "## 22. Synchroniser l'allumage de la LED 3 avec le mouvement du servo moteur de 0 à 180 degrés toutes les 4 secondes. La LED passe de 0% à 100% de luminosité. (Device: [4, 3], Action: [1, 0], Param: [[0, 180], [0, 255]], Time: 4s)\n"
   ]
  },
  {
   "cell_type": "code",
   "execution_count": null,
   "metadata": {},
   "outputs": [],
   "source": [
    "import serial\n",
    "import time\n",
    "\n",
    "# Connexion au port série\n",
    "ser = serial.Serial('COM8', 9600)  # Remplacez 'COM8' par le port série approprié\n",
    "\n",
    "def envoyer_commande(device, action, params):\n",
    "    commande = f\"{device},{action},\" + \",\".join(map(str, params)) + \"\\n\"\n",
    "    ser.write(commande.encode())\n",
    "    time.sleep(0.1)\n",
    "\n",
    "try:\n",
    "    while True:\n",
    "        # Faire pivoter le servomoteur de 0 à 180 degrés\n",
    "        for angle in range(0, 181, 1):\n",
    "            intensity = int((angle / 180.0) * 255)  # Calculer l'intensité proportionnelle\n",
    "            envoyer_commande(4, 1, [angle])  # Servomoteur\n",
    "            envoyer_commande(3, 0, [intensity])  # LED 3\n",
    "            time.sleep(0.02)  # Ajuster le délai pour une synchronisation fluide\n",
    "\n",
    "        # Attendre 4 secondes avant de recommencer\n",
    "        time.sleep(4)\n",
    "\n",
    "finally:\n",
    "    ser.close()\n"
   ]
  },
  {
   "cell_type": "markdown",
   "metadata": {},
   "source": [
    "CE CODE EST UNE BOUCLE INFINIE IL N'EST PAS SENSER S'ARRETER, DIFFICILE DE FAIRE UNE EVALUATION TEMPOREL MAIS IL FONCTIONNE BIEN"
   ]
  },
  {
   "cell_type": "markdown",
   "metadata": {},
   "source": [
    "## 23. Diminuer la luminosité de la LED 1 de 100% à 0% en 5 secondes, puis augmenter la luminosité de la LED 2 de 0% à 100% en 5 secondes. (Device: [1, 2], Action: 0, Param: [255, 0, 255], Time: 10s)\n"
   ]
  },
  {
   "cell_type": "code",
   "execution_count": 90,
   "metadata": {},
   "outputs": [],
   "source": [
    "import serial\n",
    "import time\n",
    "\n",
    "# Connexion au port série\n",
    "ser = serial.Serial('COM8', 9600)  # Remplacez 'COM8' par le port série approprié\n",
    "\n",
    "def envoyer_commande(device, action, params):\n",
    "    commande = f\"{device},{action},\" + \",\".join(map(str, params)) + \"\\n\"\n",
    "    ser.write(commande.encode())\n",
    "    time.sleep(0.1)\n",
    "\n",
    "try:\n",
    "    # Diminuer la luminosité de la LED 1 de 100% à 0% en 5 secondes\n",
    "    for intensity in range(255, -1, -5):\n",
    "        envoyer_commande(1, 0, [intensity])\n",
    "        time.sleep(0.02)  # 5 secondes pour 255 étapes\n",
    "\n",
    "    # Augmenter la luminosité de la LED 2 de 0% à 100% en 5 secondes\n",
    "    for intensity in range(0, 256, 5):\n",
    "        envoyer_commande(2, 0, [intensity])\n",
    "        time.sleep(0.02)  # 5 secondes pour 255 étapes\n",
    "\n",
    "finally:\n",
    "    ser.close()\n"
   ]
  },
  {
   "cell_type": "markdown",
   "metadata": {},
   "source": [
    "14.4s"
   ]
  },
  {
   "cell_type": "markdown",
   "metadata": {},
   "source": [
    "## 30. Synchroniser le mouvement du servo moteur entre 30 et 150 degrés toutes les 5 secondes avec l'allumage de la LED 1 à 100%. (Device: [4, 1], Action: [1, 0], Param: [[30, 150], [255]], Interval: 5s, Time: 10s)\n"
   ]
  },
  {
   "cell_type": "code",
   "execution_count": null,
   "metadata": {},
   "outputs": [],
   "source": []
  },
  {
   "cell_type": "markdown",
   "metadata": {},
   "source": [
    "REFAIRE CETTE PATRTIE"
   ]
  },
  {
   "cell_type": "markdown",
   "metadata": {},
   "source": [
    "## 42. Synchroniser l'allumage de la LED 2 avec le mouvement du servo moteur entre 0 et 180 degrés toutes les 6 secondes. La LED passe de 0% à 100% de luminosité. (Device: [2, 4], Action: [0, 1], Param: [[0, 180], [0, 255]], Interval: 6s, Time: 12s)\n"
   ]
  },
  {
   "cell_type": "code",
   "execution_count": 91,
   "metadata": {},
   "outputs": [],
   "source": [
    "import serial\n",
    "import time\n",
    "\n",
    "# Connexion au port série\n",
    "ser = serial.Serial('COM8', 9600)  # Remplacez 'COM8' par le port série approprié\n",
    "\n",
    "def envoyer_commande(device, action, params):\n",
    "    commande = f\"{device},{action},\" + \",\".join(map(str, params)) + \"\\n\"\n",
    "    ser.write(commande.encode())\n",
    "    time.sleep(0.1)\n",
    "\n",
    "try:\n",
    "    # Synchroniser l'allumage de la LED 2 avec le mouvement du servomoteur\n",
    "    for i in range(0, 181, 30):\n",
    "        # Calculer l'intensité de la LED en fonction de l'angle du servomoteur\n",
    "        intensity = int((i / 180.0) * 255)\n",
    "        # Envoyer la commande pour la LED 2\n",
    "        envoyer_commande(2, 0, [intensity])\n",
    "        # Envoyer la commande pour le servomoteur\n",
    "        envoyer_commande(4, 1, [i])\n",
    "        # Attendre 6 secondes avant de passer à l'étape suivante\n",
    "        time.sleep(6)\n",
    "\n",
    "finally:\n",
    "    ser.close()\n"
   ]
  },
  {
   "cell_type": "markdown",
   "metadata": {},
   "source": [
    "43.6s"
   ]
  },
  {
   "cell_type": "markdown",
   "metadata": {},
   "source": [
    "IL EST TOUJOURS CRUTIAL D'ETRE LE PLUS PRECIS POSSIBLE POUR EVITER DES INTERPRETATION APPROXIMATIVES"
   ]
  },
  {
   "cell_type": "markdown",
   "metadata": {},
   "source": []
  },
  {
   "cell_type": "markdown",
   "metadata": {},
   "source": [
    "# CONTROLE DYNAMIQUE DE MISTRAL Nemo\n",
    "La comprehension temporel de ce model est trop basse"
   ]
  },
  {
   "cell_type": "markdown",
   "metadata": {},
   "source": [
    "## 1. Augmenter progressivement la luminosité de la LED 1 de 0% à 100% en 5 secondes. (Device: 1, Action: 0, Param: [0, 255], Time: 5s)\n"
   ]
  },
  {
   "cell_type": "code",
   "execution_count": 96,
   "metadata": {},
   "outputs": [],
   "source": [
    "import serial\n",
    "import time\n",
    "\n",
    "# Connexion au port série\n",
    "ser = serial.Serial('COM8', 9600)  # Remplacez 'COM3' par le port série approprié\n",
    "\n",
    "def envoyer_commande(device, action, params):\n",
    "    commande = f\"{device},{action},\" + \",\".join(map(str, params)) + \"\\n\"\n",
    "    ser.write(commande.encode())\n",
    "    time.sleep(0.1)\n",
    "\n",
    "try:\n",
    "    # Augmenter progressivement la luminosité de la LED 1 de 0% à 100% en 5 secondes\n",
    "    for i in range(0, 256, 51):\n",
    "        envoyer_commande(1, 0, [i])\n",
    "        time.sleep(0.1)\n",
    "\n",
    "finally:\n",
    "    ser.close()\n"
   ]
  },
  {
   "cell_type": "markdown",
   "metadata": {},
   "source": [
    "1.2s"
   ]
  },
  {
   "cell_type": "markdown",
   "metadata": {},
   "source": [
    "## 2. Faire varier l'angle du servo moteur de 0 à 180 degrés et revenir à 90 degrés en 10 secondes. (Device: 4, Action: 1, Param: [0, 180, 90], Time: 10s)\n"
   ]
  },
  {
   "cell_type": "code",
   "execution_count": 97,
   "metadata": {},
   "outputs": [],
   "source": [
    "import serial\n",
    "import time\n",
    "\n",
    "# Connexion au port série\n",
    "ser = serial.Serial('COM8', 9600)  # Remplacez 'COM3' par le port série approprié\n",
    "\n",
    "def envoyer_commande(device, action, params):\n",
    "    commande = f\"{device},{action},\" + \",\".join(map(str, params)) + \"\\n\"\n",
    "    ser.write(commande.encode())\n",
    "    time.sleep(0.1)\n",
    "\n",
    "try:\n",
    "    # Faire varier l'angle du servo moteur de 0 à 180 degrés et revenir à 90 degrés en 10 secondes\n",
    "    for angle in [0, 180, 90]:\n",
    "        envoyer_commande(4, 1, [angle])\n",
    "        time.sleep(10)\n",
    "\n",
    "finally:\n",
    "    ser.close()\n"
   ]
  },
  {
   "cell_type": "markdown",
   "metadata": {},
   "source": [
    "30.3s"
   ]
  },
  {
   "cell_type": "markdown",
   "metadata": {},
   "source": [
    "PAS TRES SATISFAISANT MAIS IL A RESPECTER L'INSTRUCTION"
   ]
  },
  {
   "cell_type": "markdown",
   "metadata": {},
   "source": [
    "## 3. Alterner l'allumage des LED 1 et 2 avec des intervalles de 2 secondes pendant 10 secondes. (Device: [1, 2], Action: 0, Param: [255, 0], Interval: 2s, Time: 10s)\n"
   ]
  },
  {
   "cell_type": "code",
   "execution_count": 98,
   "metadata": {},
   "outputs": [],
   "source": [
    "import serial\n",
    "import time\n",
    "\n",
    "# Connexion au port série\n",
    "ser = serial.Serial('COM8', 9600)  # Remplacez 'COM3' par le port série approprié\n",
    "\n",
    "def envoyer_commande(device, action, params):\n",
    "    commande = f\"{device},{action},\" + \",\".join(map(str, params)) + \"\\n\"\n",
    "    ser.write(commande.encode())\n",
    "    time.sleep(0.1)\n",
    "\n",
    "try:\n",
    "    # Alterner l'allumage des LED 1 et 2 avec des intervalles de 2 secondes pendant 10 secondes\n",
    "    for _ in range(10):\n",
    "        envoyer_commande(1, 0, [255])\n",
    "        time.sleep(2)\n",
    "        envoyer_commande(2, 0, [255])\n",
    "        time.sleep(2)\n",
    "\n",
    "finally:\n",
    "    ser.close()\n"
   ]
  },
  {
   "cell_type": "markdown",
   "metadata": {},
   "source": [
    "42.3s"
   ]
  },
  {
   "cell_type": "markdown",
   "metadata": {},
   "source": [
    "IL A REUSSI MAIS IL FALLAIT PLUS DE PRECISION POUR QU'IL COMPRENENT L'INTENSION DE L'UTILISATEUR"
   ]
  },
  {
   "cell_type": "markdown",
   "metadata": {},
   "source": [
    "## 4. Faire clignoter la LED 3 cinq fois avec un intervalle de 1 seconde entre chaque allumage. (Device: 3, Action: 0, Param: 255, Interval: 1s, Repeats: 5)\n"
   ]
  },
  {
   "cell_type": "code",
   "execution_count": 101,
   "metadata": {},
   "outputs": [],
   "source": [
    "import serial\n",
    "import time\n",
    "\n",
    "# Connexion au port série\n",
    "ser = serial.Serial('COM8', 9600)  # Remplacez 'COM3' par le port série approprié\n",
    "\n",
    "def envoyer_commande(device, action, params):\n",
    "    commande = f\"{device},{action},\" + \",\".join(map(str, params)) + \"\\n\"\n",
    "    ser.write(commande.encode())\n",
    "    time.sleep(0.1)\n",
    "\n",
    "try:\n",
    "    # Faire clignoter la LED 3 cinq fois avec un intervalle de 1 seconde entre chaque allumage\n",
    "    for i in range(5):\n",
    "        envoyer_commande(3, 0, [255])\n",
    "        time.sleep(1)\n",
    "        envoyer_commande(3, 0, [0])\n",
    "        time.sleep(1)\n",
    "\n",
    "finally:\n",
    "    ser.close()\n"
   ]
  },
  {
   "cell_type": "markdown",
   "metadata": {},
   "source": [
    "11.1s\n",
    "\n",
    "IL FAUDRAIT UN STANDARD PLUS CLAIRE POUR MIEUX FAIRE L'EVALUATION SUR LES INSTRUCTIONS"
   ]
  },
  {
   "cell_type": "markdown",
   "metadata": {},
   "source": [
    "## 5. Diminuer progressivement la luminosité de la LED 2 de 100% à 0% en 3 secondes. (Device: 2, Action: 0, Param: [255, 0], Time: 3s)\n"
   ]
  },
  {
   "cell_type": "code",
   "execution_count": 102,
   "metadata": {},
   "outputs": [],
   "source": [
    "import serial\n",
    "import time\n",
    "\n",
    "# Connexion au port série\n",
    "ser = serial.Serial('COM8', 9600)  # Remplacez 'COM3' par le port série approprié\n",
    "\n",
    "def envoyer_commande(device, action, params):\n",
    "    commande = f\"{device},{action},\" + \",\".join(map(str, params)) + \"\\n\"\n",
    "    ser.write(commande.encode())\n",
    "    time.sleep(0.1)\n",
    "\n",
    "try:\n",
    "    # Diminuer progressivement la luminosité de la LED 2 de 100% à 0% en 3 secondes\n",
    "    for intensity in range(255, -1, -1):\n",
    "        envoyer_commande(2, 0, [intensity])\n",
    "        time.sleep(3/255)\n",
    "\n",
    "finally:\n",
    "    ser.close()\n"
   ]
  },
  {
   "cell_type": "markdown",
   "metadata": {},
   "source": [
    "31.1s"
   ]
  },
  {
   "cell_type": "markdown",
   "metadata": {},
   "source": [
    "## 6. Synchroniser le mouvement du servo moteur et l'allumage de la LED 1, le servo allant de 0 à 180 degrés tandis que la LED passe de 0% à 100% de façon synchrone inverse au servo par pas de 50 (Device: [4, 1], Action: [1, 0], Param: [[0, 180], [0, 255]], Time: 10s)\n"
   ]
  },
  {
   "cell_type": "code",
   "execution_count": 107,
   "metadata": {},
   "outputs": [],
   "source": [
    "import serial\n",
    "import time\n",
    "\n",
    "# Connexion au port série\n",
    "ser = serial.Serial('COM8', 9600)  # Remplacez 'COM3' par le port série approprié\n",
    "\n",
    "def envoyer_commande(device, action, params):\n",
    "    commande = f\"{device},{action},\" + \",\".join(map(str, params)) + \"\\n\"\n",
    "    ser.write(commande.encode())\n",
    "    time.sleep(0.1)\n",
    "\n",
    "try:\n",
    "    # Synchroniser le mouvement du servo moteur et l'allumage de la LED 1\n",
    "    for angle in range(0, 181, 50):\n",
    "        envoyer_commande(4, 1, [angle])  # Servo moteur\n",
    "        envoyer_commande(1, 0, [255 - angle * 5])  # LED 1\n",
    "        time.sleep(1)\n",
    "\n",
    "finally:\n",
    "    ser.close()\n"
   ]
  },
  {
   "cell_type": "markdown",
   "metadata": {},
   "source": [
    "ECHEC: NON RSPECT DES INSTRUCTIONS ENTIERES"
   ]
  },
  {
   "cell_type": "markdown",
   "metadata": {},
   "source": [
    "## 7. Faire varier la luminosité des LED 1 et 2 en alternance toutes les 0,5 secondes pendant 10 secondes. (Device: [1, 2], Action: 0, Param: [255, 0], Interval: 0.5s, Time: 10s)\n"
   ]
  },
  {
   "cell_type": "code",
   "execution_count": 108,
   "metadata": {},
   "outputs": [],
   "source": [
    "import serial\n",
    "import time\n",
    "\n",
    "# Connexion au port série\n",
    "ser = serial.Serial('COM8', 9600)  # Remplacez 'COM3' par le port série approprié\n",
    "\n",
    "def envoyer_commande(device, action, params):\n",
    "    commande = f\"{device},{action},\" + \",\".join(map(str, params)) + \"\\n\"\n",
    "    ser.write(commande.encode())\n",
    "    time.sleep(0.1)\n",
    "\n",
    "try:\n",
    "    # Faire varier la luminosité des LED 1 et 2 en alternance toutes les 0,5 secondes pendant 10 secondes\n",
    "    for i in range(10):\n",
    "        # LED 1 à pleine intensité, LED 2 éteinte\n",
    "        envoyer_commande(1, 0, [255])\n",
    "        envoyer_commande(2, 0, [0])\n",
    "        time.sleep(0.5)\n",
    "\n",
    "        # LED 1 éteinte, LED 2 à pleine intensité\n",
    "        envoyer_commande(1, 0, [0])\n",
    "        envoyer_commande(2, 0, [255])\n",
    "        time.sleep(0.5)\n",
    "\n",
    "finally:\n",
    "    ser.close()\n"
   ]
  },
  {
   "cell_type": "markdown",
   "metadata": {},
   "source": [
    "14.3s"
   ]
  },
  {
   "cell_type": "markdown",
   "metadata": {},
   "source": [
    "## 8. Faire passer la LED 3 de 0% à 100% de luminosité en 2 secondes, puis revenir à 0% en 2 secondes. Répéter 3 fois. (Device: 3, Action: 0, Param: [0, 255], Time: 4s, Repeats: 3)\n"
   ]
  },
  {
   "cell_type": "code",
   "execution_count": 111,
   "metadata": {},
   "outputs": [],
   "source": [
    "import serial\n",
    "import time\n",
    "\n",
    "# Connexion au port série\n",
    "ser = serial.Serial('COM8', 9600)  # Remplacez 'COM3' par le port série approprié\n",
    "\n",
    "def envoyer_commande(device, action, params):\n",
    "    commande = f\"{device},{action},\" + \",\".join(map(str, params)) + \"\\n\"\n",
    "    ser.write(commande.encode())\n",
    "    time.sleep(0.1)\n",
    "\n",
    "try:\n",
    "    # Faire passer la LED 3 de 0% à 100% de luminosité en 2 secondes, puis revenir à 0% en 2 secondes. Répéter 3 fois.\n",
    "    for _ in range(3):\n",
    "        for intensity in range(0, 256, 128):\n",
    "            envoyer_commande(3, 0, [intensity])\n",
    "            time.sleep(1)\n",
    "        for intensity in range(255, -1, -128):\n",
    "            envoyer_commande(3, 0, [intensity])\n",
    "            time.sleep(1)\n",
    "\n",
    "finally:\n",
    "    ser.close()\n"
   ]
  },
  {
   "cell_type": "markdown",
   "metadata": {},
   "source": [
    "13.3s"
   ]
  },
  {
   "cell_type": "markdown",
   "metadata": {},
   "source": [
    "## 9. Augmenter progressivement la luminosité de la LED 2 de 0% à 50% en 1 seconde, puis de 50% à 100% en 2 secondes. (Device: 2, Action: 0, Param: [0, 128, 255], Time: 3s)\n"
   ]
  },
  {
   "cell_type": "code",
   "execution_count": 112,
   "metadata": {},
   "outputs": [],
   "source": [
    "import serial\n",
    "import time\n",
    "\n",
    "# Connexion au port série\n",
    "ser = serial.Serial('COM8', 9600)  # Remplacez 'COM3' par le port série approprié\n",
    "\n",
    "def envoyer_commande(device, action, params):\n",
    "    commande = f\"{device},{action},\" + \",\".join(map(str, params)) + \"\\n\"\n",
    "    ser.write(commande.encode())\n",
    "    time.sleep(0.1)\n",
    "\n",
    "try:\n",
    "    # Augmenter progressivement la luminosité de la LED 2 de 0% à 50% en 1 seconde\n",
    "    for intensity in range(0, 129, 1):\n",
    "        envoyer_commande(2, 0, [intensity])\n",
    "        time.sleep(1 / 128)\n",
    "\n",
    "    # Augmenter progressivement la luminosité de la LED 2 de 50% à 100% en 2 secondes\n",
    "    for intensity in range(128, 256, 1):\n",
    "        envoyer_commande(2, 0, [intensity])\n",
    "        time.sleep(2 / 128)\n",
    "\n",
    "finally:\n",
    "    ser.close()\n"
   ]
  },
  {
   "cell_type": "markdown",
   "metadata": {},
   "source": [
    "31.9s"
   ]
  },
  {
   "cell_type": "markdown",
   "metadata": {},
   "source": [
    "## 10. Faire varier l'angle du servo moteur de 90 à 0 degrés, puis de 0 à 90 degrés en 4 secondes. (Device: 4, Action: 1, Param: [90, 0, 90], Time: 4s)\n"
   ]
  },
  {
   "cell_type": "code",
   "execution_count": 113,
   "metadata": {},
   "outputs": [],
   "source": [
    "import serial\n",
    "import time\n",
    "\n",
    "# Connexion au port série\n",
    "ser = serial.Serial('COM8', 9600)  # Remplacez 'COM3' par le port série approprié\n",
    "\n",
    "def envoyer_commande(device, action, params):\n",
    "    commande = f\"{device},{action},\" + \",\".join(map(str, params)) + \"\\n\"\n",
    "    ser.write(commande.encode())\n",
    "    time.sleep(0.1)\n",
    "\n",
    "try:\n",
    "    # Faire varier l'angle du servo moteur de 90 à 0 degrés, puis de 0 à 90 degrés en 4 secondes\n",
    "    for angle in [90, 0, 90]:\n",
    "        envoyer_commande(4, 1, [angle])\n",
    "        time.sleep(4)\n",
    "\n",
    "finally:\n",
    "    ser.close()\n"
   ]
  },
  {
   "cell_type": "markdown",
   "metadata": {},
   "source": [
    "12.3s"
   ]
  },
  {
   "cell_type": "markdown",
   "metadata": {},
   "source": [
    "## 11. Éteindre la LED 1 pendant 2 secondes, puis allumer la LED 3 à 100% pendant 2 secondes. Répéter 4 fois. (Device: [1, 3], Action: [0, 0], Param: [0, 255], Interval: 2s, Repeats: 4)\n"
   ]
  },
  {
   "cell_type": "code",
   "execution_count": 114,
   "metadata": {},
   "outputs": [],
   "source": [
    "import serial\n",
    "import time\n",
    "\n",
    "# Connexion au port série\n",
    "ser = serial.Serial('COM8', 9600)  # Remplacez 'COM3' par le port série approprié\n",
    "\n",
    "def envoyer_commande(device, action, params):\n",
    "    commande = f\"{device},{action},\" + \",\".join(map(str, params)) + \"\\n\"\n",
    "    ser.write(commande.encode())\n",
    "    time.sleep(0.1)\n",
    "\n",
    "try:\n",
    "    # Éteindre la LED 1 pendant 2 secondes\n",
    "    envoyer_commande(1, 0, [0])\n",
    "    time.sleep(2)\n",
    "\n",
    "    # Allumer la LED 3 à 100%\n",
    "    envoyer_commande(3, 0, [255])\n",
    "    time.sleep(2)\n",
    "\n",
    "    # Répéter 4 fois\n",
    "    for _ in range(4):\n",
    "        envoyer_commande(1, 0, [0])\n",
    "        time.sleep(2)\n",
    "        envoyer_commande(3, 0, [255])\n",
    "        time.sleep(2)\n",
    "\n",
    "finally:\n",
    "    ser.close()\n"
   ]
  },
  {
   "cell_type": "markdown",
   "metadata": {},
   "source": [
    "21.1s"
   ]
  },
  {
   "cell_type": "markdown",
   "metadata": {},
   "source": [
    "## 12. Alterner l'allumage des LED 1 et 2 toutes les 1,5 secondes pendant 15 secondes, avec une LED allumée à 100% et l'autre éteinte. (Device: [1, 2], Action: 0, Param: [255, 0], Interval: 1.5s, Time: 15s)\n"
   ]
  },
  {
   "cell_type": "code",
   "execution_count": 115,
   "metadata": {},
   "outputs": [],
   "source": [
    "import serial\n",
    "import time\n",
    "\n",
    "# Connexion au port série\n",
    "ser = serial.Serial('COM8', 9600)  # Remplacez 'COM3' par le port série approprié\n",
    "\n",
    "def envoyer_commande(device, action, params):\n",
    "    commande = f\"{device},{action},\" + \",\".join(map(str, params)) + \"\\n\"\n",
    "    ser.write(commande.encode())\n",
    "    time.sleep(0.1)\n",
    "\n",
    "try:\n",
    "    # Alterner l'allumage des LED 1 et 2 toutes les 1,5 secondes pendant 15 secondes\n",
    "    for i in range(15):\n",
    "        # Allumer la LED 1 à 100% et éteindre la LED 2\n",
    "        envoyer_commande(1, 0, [255])\n",
    "        envoyer_commande(2, 0, [0])\n",
    "        time.sleep(1.5)\n",
    "\n",
    "        # Éteindre la LED 1 et allumer la LED 2 à 100%\n",
    "        envoyer_commande(1, 0, [0])\n",
    "        envoyer_commande(2, 0, [255])\n",
    "        time.sleep(1.5)\n",
    "\n",
    "finally:\n",
    "    ser.close()\n"
   ]
  },
  {
   "cell_type": "markdown",
   "metadata": {},
   "source": [
    "## 13. Diminuer la luminosité de la LED 1 de 100% à 0% en 4 secondes, puis augmenter la luminosité de la LED 2 de 0% à 100% en 4 secondes. (Device: [1, 2], Action: 0, Param: [255, 0, 255], Time: 8s)\n"
   ]
  },
  {
   "cell_type": "code",
   "execution_count": 117,
   "metadata": {},
   "outputs": [],
   "source": [
    "import serial\n",
    "import time\n",
    "\n",
    "# Connexion au port série\n",
    "ser = serial.Serial('COM8', 9600)  # Remplacez 'COM3' par le port série approprié\n",
    "\n",
    "def envoyer_commande(device, action, params):\n",
    "    commande = f\"{device},{action},\" + \",\".join(map(str, params)) + \"\\n\"\n",
    "    ser.write(commande.encode())\n",
    "    time.sleep(0.1)\n",
    "\n",
    "try:\n",
    "    # Diminuer la luminosité de la LED 1 de 100% à 0% en 4 secondes\n",
    "    for i in range(255, -1, -56):\n",
    "        envoyer_commande(1, 0, [i])\n",
    "        time.sleep(0.1)\n",
    "\n",
    "    # Augmenter la luminosité de la LED 2 de 0% à 100% en 4 secondes\n",
    "    for i in range(0, 256, 64):\n",
    "        envoyer_commande(2, 0, [i])\n",
    "        time.sleep(0.1)\n",
    "\n",
    "finally:\n",
    "    ser.close()\n"
   ]
  },
  {
   "cell_type": "markdown",
   "metadata": {},
   "source": [
    "1.9s"
   ]
  },
  {
   "cell_type": "markdown",
   "metadata": {},
   "source": [
    "## 14. Faire varier l'angle du servo moteur de 0 à 90 degrés en 3 secondes, puis de 90 à 180 degrés en 3 secondes. (Device: 4, Action: 1, Param: [0, 90, 180], Time: 6s)\n"
   ]
  },
  {
   "cell_type": "code",
   "execution_count": 119,
   "metadata": {},
   "outputs": [],
   "source": [
    "import serial\n",
    "import time\n",
    "\n",
    "# Connexion au port série\n",
    "ser = serial.Serial('COM8', 9600)  # Remplacez 'COM3' par le port série approprié\n",
    "\n",
    "def envoyer_commande(device, action, params):\n",
    "    commande = f\"{device},{action},\" + \",\".join(map(str, params)) + \"\\n\"\n",
    "    ser.write(commande.encode())\n",
    "    time.sleep(0.01)\n",
    "\n",
    "try:\n",
    "    # Faire varier l'angle du servo moteur de 0 à 90 degrés en 3 secondes\n",
    "    for angle in range(0, 91, 30):\n",
    "        envoyer_commande(4, 1, [angle])\n",
    "        time.sleep(3)\n",
    "\n",
    "    # Faire varier l'angle du servo moteur de 90 à 180 degrés en 3 secondes\n",
    "    for angle in range(90, 181, 30):\n",
    "        envoyer_commande(4, 1, [angle])\n",
    "        time.sleep(3)\n",
    "\n",
    "finally:\n",
    "    ser.close()\n"
   ]
  },
  {
   "cell_type": "markdown",
   "metadata": {},
   "source": [
    "24.2s"
   ]
  },
  {
   "cell_type": "markdown",
   "metadata": {},
   "source": [
    "## 15. Synchroniser l'allumage de la LED 3 avec le mouvement du servo moteur allant de 0 à 180 degrés. La LED passe de 0% à 100% en synchronisation inverse avec le servo. (Device: [4, 3], Action: [1, 0], Param: [[0, 180], [0, 255]], Time: 10s)\n"
   ]
  },
  {
   "cell_type": "code",
   "execution_count": 120,
   "metadata": {},
   "outputs": [],
   "source": [
    "import serial\n",
    "import time\n",
    "\n",
    "# Connexion au port série\n",
    "ser = serial.Serial('COM8', 9600)  # Remplacez 'COM3' par le port série approprié\n",
    "\n",
    "def envoyer_commande(device, action, params):\n",
    "    commande = f\"{device},{action},\" + \",\".join(map(str, params)) + \"\\n\"\n",
    "    ser.write(commande.encode())\n",
    "    time.sleep(0.1)\n",
    "\n",
    "try:\n",
    "    # Synchroniser l'allumage de la LED 3 avec le mouvement du servo moteur allant de 0 à 180 degrés\n",
    "    for i in range(0, 181, 30):\n",
    "        envoyer_commande(4, 1, [i])  # Servo moteur\n",
    "        envoyer_commande(3, 0, [255 - i])  # LED 3\n",
    "        time.sleep(1)\n",
    "\n",
    "finally:\n",
    "    ser.close()\n"
   ]
  },
  {
   "cell_type": "markdown",
   "metadata": {},
   "source": [
    "8.6s"
   ]
  },
  {
   "cell_type": "markdown",
   "metadata": {},
   "source": [
    "## 16. Faire clignoter la LED 2 à 100% de luminosité toutes les 1,5 secondes pendant 12 secondes, puis éteindre la LED 2 pendant 3 secondes. (Device: 2, Action: 0, Param: 255, Interval: 1.5s, Time: 15s)\n"
   ]
  },
  {
   "cell_type": "code",
   "execution_count": 121,
   "metadata": {},
   "outputs": [],
   "source": [
    "import serial\n",
    "import time\n",
    "\n",
    "# Connexion au port série\n",
    "ser = serial.Serial('COM8', 9600)  # Remplacez 'COM3' par le port série approprié\n",
    "\n",
    "def envoyer_commande(device, action, params):\n",
    "    commande = f\"{device},{action},\" + \",\".join(map(str, params)) + \"\\n\"\n",
    "    ser.write(commande.encode())\n",
    "    time.sleep(0.1)\n",
    "\n",
    "try:\n",
    "    # Faire clignoter la LED 2 toutes les 1,5 secondes pendant 12 secondes\n",
    "    for i in range(12):\n",
    "        envoyer_commande(2, 0, [255])\n",
    "        time.sleep(1.5)\n",
    "        envoyer_commande(2, 0, [0])\n",
    "        time.sleep(1.5)\n",
    "\n",
    "    # Éteindre la LED 2 pendant 3 secondes\n",
    "    envoyer_commande(2, 0, [0])\n",
    "    time.sleep(3)\n",
    "\n",
    "finally:\n",
    "    ser.close()\n"
   ]
  },
  {
   "cell_type": "markdown",
   "metadata": {},
   "source": [
    "41.8s"
   ]
  },
  {
   "cell_type": "markdown",
   "metadata": {},
   "source": [
    "## 17. Augmenter la luminosité de la LED 3 de 0% à 100% en 6 secondes, puis diminuer à 0% en 4 secondes. Répéter 3 fois. (Device: 3, Action: 0, Param: [0, 255], Time: 10s, Repeats: 3)\n"
   ]
  },
  {
   "cell_type": "code",
   "execution_count": 123,
   "metadata": {},
   "outputs": [],
   "source": [
    "import serial\n",
    "import time\n",
    "\n",
    "# Connexion au port série\n",
    "ser = serial.Serial('COM8', 9600)  # Remplacez 'COM3' par le port série approprié\n",
    "\n",
    "def envoyer_commande(device, action, params):\n",
    "    commande = f\"{device},{action},\" + \",\".join(map(str, params)) + \"\\n\"\n",
    "    ser.write(commande.encode())\n",
    "    time.sleep(0.1)\n",
    "\n",
    "try:\n",
    "    # Répéter 3 fois\n",
    "    for _ in range(3):\n",
    "        # Augmenter la luminosité de la LED 3 de 0% à 100% en 6 secondes\n",
    "        for intensity in range(0, 256, 42):   # 42 = 255 / 6\n",
    "            envoyer_commande(3, 0, [intensity])\n",
    "            time.sleep(0.1)\n",
    "\n",
    "        # Diminuer la luminosité de la LED 3 de 100% à 0% en 4 secondes\n",
    "        for intensity in range(255, -1, -63): # 63 = 255 / 4\n",
    "            envoyer_commande(3, 0, [intensity])\n",
    "            time.sleep(0.1)\n",
    "\n",
    "finally:\n",
    "    ser.close()\n"
   ]
  },
  {
   "cell_type": "markdown",
   "metadata": {},
   "source": [
    "7.7s"
   ]
  },
  {
   "cell_type": "markdown",
   "metadata": {},
   "source": [
    "## 18. Alterner l'angle du servo moteur entre 0 et 180 degrés toutes les 2 secondes pendant 20 secondes. (Device: 4, Action: 1, Param: [0, 180], Interval: 2s, Time: 20s)\n"
   ]
  },
  {
   "cell_type": "code",
   "execution_count": null,
   "metadata": {},
   "outputs": [],
   "source": [
    "import serial\n",
    "import time\n",
    "\n",
    "# Connexion au port série\n",
    "ser = serial.Serial('COM8', 9600)  # Remplacez 'COM3' par le port série approprié\n",
    "\n",
    "def envoyer_commande(device, action, params):\n",
    "    commande = f\"{device},{action},\" + \",\".join(map(str, params)) + \"\\n\"\n",
    "    ser.write(commande.encode())\n",
    "    time.sleep(0.1)\n",
    "\n",
    "try:\n",
    "    # Alterner l'angle du servo moteur entre 0 et 180 degrés toutes les 2 secondes pendant 20 secondes\n",
    "    for _ in range(20):\n",
    "        for angle in [0, 180]:\n",
    "            envoyer_commande(4, 1, [angle])\n",
    "            time.sleep(2)\n",
    "\n",
    "finally:\n",
    "    ser.close()\n"
   ]
  },
  {
   "cell_type": "markdown",
   "metadata": {},
   "source": [
    "84.7s"
   ]
  },
  {
   "cell_type": "markdown",
   "metadata": {},
   "source": [
    "## 19. Faire clignoter la LED 1 à 50% de luminosité et la LED 2 à 75% toutes les 2 secondes pendant 8 secondes. (Device: [1, 2], Action: 0, Param: [128, 192], Interval: 2s, Time: 8s)\n"
   ]
  },
  {
   "cell_type": "code",
   "execution_count": 125,
   "metadata": {},
   "outputs": [],
   "source": [
    "import serial\n",
    "import time\n",
    "\n",
    "# Connexion au port série\n",
    "ser = serial.Serial('COM8', 9600)  # Remplacez 'COM3' par le port série approprié\n",
    "\n",
    "def envoyer_commande(device, action, params):\n",
    "    commande = f\"{device},{action},\" + \",\".join(map(str, params)) + \"\\n\"\n",
    "    ser.write(commande.encode())\n",
    "    time.sleep(0.1)\n",
    "\n",
    "try:\n",
    "    # Faire clignoter la LED 1 à 50% de luminosité et la LED 2 à 75% toutes les 2 secondes pendant 8 secondes\n",
    "    for i in range(8):\n",
    "        envoyer_commande(1, 0, [128])\n",
    "        envoyer_commande(2, 0, [192])\n",
    "        time.sleep(2)\n",
    "\n",
    "finally:\n",
    "    ser.close()\n"
   ]
  },
  {
   "cell_type": "markdown",
   "metadata": {},
   "source": [
    "ECHEC"
   ]
  },
  {
   "cell_type": "markdown",
   "metadata": {},
   "source": [
    "## 20. Augmenter la luminosité de la LED 2 de 0% à 100% en 5 secondes, puis faire clignoter la LED 2 à 100% de luminosité toutes les 1,5 secondes pendant 10 secondes. (Device: 2, Action: [0, 0], Param: [255, 0], Interval: 1.5s, Time: 15s)\n"
   ]
  },
  {
   "cell_type": "code",
   "execution_count": 126,
   "metadata": {},
   "outputs": [],
   "source": [
    "import serial\n",
    "import time\n",
    "\n",
    "# Connexion au port série\n",
    "ser = serial.Serial('COM8', 9600)  # Remplacez 'COM3' par le port série approprié\n",
    "\n",
    "def envoyer_commande(device, action, params):\n",
    "    commande = f\"{device},{action},\" + \",\".join(map(str, params)) + \"\\n\"\n",
    "    ser.write(commande.encode())\n",
    "    time.sleep(0.1)\n",
    "\n",
    "try:\n",
    "    # Augmenter la luminosité de la LED 2 de 0% à 100% en 5 secondes\n",
    "    for intensity in range(0, 256, 10):\n",
    "        envoyer_commande(2, 0, [intensity])\n",
    "        time.sleep(0.5)\n",
    "\n",
    "    # Faire clignoter la LED 2 à 100% de luminosité toutes les 1,5 secondes pendant 10 secondes\n",
    "    for _ in range(10):\n",
    "        envoyer_commande(2, 0, [255])\n",
    "        time.sleep(1.5)\n",
    "        envoyer_commande(2, 0, [0])\n",
    "        time.sleep(1.5)\n",
    "\n",
    "finally:\n",
    "    ser.close()\n"
   ]
  },
  {
   "cell_type": "markdown",
   "metadata": {},
   "source": [
    "48.2s"
   ]
  },
  {
   "cell_type": "markdown",
   "metadata": {},
   "source": [
    "## 21. Faire varier l'angle du servo moteur de 90 à 0 degrés, puis de 0 à 90 degrés en 8 secondes. (Device: 4, Action: 1, Param: [90, 0, 90], Time: 8s)\n"
   ]
  },
  {
   "cell_type": "code",
   "execution_count": 127,
   "metadata": {},
   "outputs": [],
   "source": [
    "import serial\n",
    "import time\n",
    "\n",
    "# Connexion au port série\n",
    "ser = serial.Serial('COM8', 9600)  # Remplacez 'COM3' par le port série approprié\n",
    "\n",
    "def envoyer_commande(device, action, params):\n",
    "    commande = f\"{device},{action},\" + \",\".join(map(str, params)) + \"\\n\"\n",
    "    ser.write(commande.encode())\n",
    "    time.sleep(0.1)\n",
    "\n",
    "try:\n",
    "    # Faire varier l'angle du servo moteur de 90 à 0 degrés, puis de 0 à 90 degrés en 8 secondes\n",
    "    for angle in [90, 0, 90]:\n",
    "        envoyer_commande(4, 1, [angle])\n",
    "        time.sleep(8)\n",
    "\n",
    "finally:\n",
    "    ser.close()\n"
   ]
  },
  {
   "cell_type": "markdown",
   "metadata": {},
   "source": [
    "24.3s"
   ]
  },
  {
   "cell_type": "markdown",
   "metadata": {},
   "source": [
    "IL FAUT BIEN AFFINER LE PROMPT POUR MIEUX FAIRE COMPRENDRE AUX PETITS MODELES"
   ]
  },
  {
   "cell_type": "markdown",
   "metadata": {},
   "source": [
    "## 22. Synchroniser l'allumage de la LED 3 avec le mouvement du servo moteur de 0 à 180 degrés toutes les 4 secondes. La LED passe de 0% à 100% de luminosité. (Device: [4, 3], Action: [1, 0], Param: [[0, 180], [0, 255]], Time: 4s)\n"
   ]
  },
  {
   "cell_type": "code",
   "execution_count": null,
   "metadata": {},
   "outputs": [],
   "source": [
    "import serial\n",
    "import time\n",
    "\n",
    "# Connexion au port série\n",
    "ser = serial.Serial('COM8', 9600)  # Remplacez 'COM3' par le port série approprié\n",
    "\n",
    "def envoyer_commande(device, action, params):\n",
    "    commande = f\"{device},{action},\" + \",\".join(map(str, params)) + \"\\n\"\n",
    "    ser.write(commande.encode())\n",
    "    time.sleep(0.1)\n",
    "\n",
    "try:\n",
    "    # Boucle infinie pour synchroniser l'allumage de la LED 3 avec le mouvement du servo moteur\n",
    "    while True:\n",
    "        # Faire pivoter le servomoteur de 0 à 180 degrés\n",
    "        for angle in range(0, 181, 30):\n",
    "            envoyer_commande(4, 1, [angle])\n",
    "            time.sleep(0.5)\n",
    "\n",
    "        # Allumer la LED 3 avec une intensité croissante de 0 à 255\n",
    "        for intensity in range(0, 256, 51):\n",
    "            envoyer_commande(3, 0, [intensity])\n",
    "            time.sleep(0.5)\n",
    "\n",
    "        # Attendre 4 secondes avant de répéter la boucle\n",
    "        time.sleep(4)\n",
    "\n",
    "finally:\n",
    "    ser.close()\n"
   ]
  },
  {
   "cell_type": "markdown",
   "metadata": {},
   "source": [
    "REUSSITE: DIFFICILE DE FAIRE UNE EVALUATION TEMPOREL POUR DES BOUCLES INFINIES"
   ]
  },
  {
   "cell_type": "markdown",
   "metadata": {},
   "source": [
    "## 23. Diminuer la luminosité de la LED 1 de 100% à 0% en 5 secondes, puis augmenter la luminosité de la LED 2 de 0% à 100% en 5 secondes. (Device: [1, 2], Action: 0, Param: [255, 0, 255], Time: 10s)\n"
   ]
  },
  {
   "cell_type": "code",
   "execution_count": null,
   "metadata": {},
   "outputs": [],
   "source": [
    "import serial\n",
    "import time\n",
    "\n",
    "# Connexion au port série\n",
    "ser = serial.Serial('COM8', 9600)  # Remplacez 'COM3' par le port série approprié\n",
    "\n",
    "def envoyer_commande(device, action, params):\n",
    "    commande = f\"{device},{action},\" + \",\".join(map(str, params)) + \"\\n\"\n",
    "    ser.write(commande.encode())\n",
    "    time.sleep(0.1)\n",
    "\n",
    "try:\n",
    "    # Diminuer la luminosité de la LED 1 de 100% à 0% en 5 secondes\n",
    "    for i in range(5):\n",
    "        for intensity in range(255, -1, -51):\n",
    "            envoyer_commande(1, 0, [intensity])\n",
    "            time.sleep(1)\n",
    "\n",
    "    # Augmenter la luminosité de la LED 2 de 0% à 100% en 5 secondes\n",
    "    for i in range(5):\n",
    "        for intensity in range(0, 256, 51):\n",
    "            envoyer_commande(2, 0, [intensity])\n",
    "            time.sleep(1)\n",
    "\n",
    "finally:\n",
    "    ser.close()\n"
   ]
  },
  {
   "cell_type": "markdown",
   "metadata": {},
   "source": [
    "ECHEC"
   ]
  },
  {
   "cell_type": "markdown",
   "metadata": {},
   "source": [
    "## 30. Synchroniser le mouvement du servo moteur entre 30 et 150 degrés toutes les 5 secondes avec l'allumage de la LED 1 à 100%. (Device: [4, 1], Action: [1, 0], Param: [[30, 150], [255]], Interval: 5s, Time: 10s)\n"
   ]
  },
  {
   "cell_type": "code",
   "execution_count": 131,
   "metadata": {},
   "outputs": [],
   "source": [
    "import serial\n",
    "import time\n",
    "\n",
    "# Connexion au port série\n",
    "ser = serial.Serial('COM8', 9600)  # Remplacez 'COM3' par le port série approprié\n",
    "\n",
    "def envoyer_commande(device, action, params):\n",
    "    commande = f\"{device},{action},\" + \",\".join(map(str, params)) + \"\\n\"\n",
    "    ser.write(commande.encode())\n",
    "    time.sleep(0.1)\n",
    "\n",
    "try:\n",
    "    # Synchroniser le mouvement du servo moteur entre 30 et 150 degrés toutes les 5 secondes avec l'allumage de la LED 1 à 100%\n",
    "    for _ in range(10):\n",
    "        envoyer_commande(4, 1, [30])\n",
    "        envoyer_commande(1, 0, [255])\n",
    "        time.sleep(5)\n",
    "        envoyer_commande(4, 1, [150])\n",
    "        envoyer_commande(1, 0, [0])\n",
    "        time.sleep(5)\n",
    "\n",
    "finally:\n",
    "    ser.close()\n"
   ]
  },
  {
   "cell_type": "markdown",
   "metadata": {},
   "source": [
    "104.5s"
   ]
  },
  {
   "cell_type": "markdown",
   "metadata": {},
   "source": [
    "## 42. Synchroniser l'allumage de la LED 2 avec le mouvement du servo moteur entre 0 et 180 degrés toutes les 6 secondes. La LED passe de 0% à 100% de luminosité. (Device: [2, 4], Action: [0, 1], Param: [[0, 180], [0, 255]], Interval: 6s, Time: 12s)\n"
   ]
  },
  {
   "cell_type": "code",
   "execution_count": 132,
   "metadata": {},
   "outputs": [],
   "source": [
    "import serial\n",
    "import time\n",
    "\n",
    "# Connexion au port série\n",
    "ser = serial.Serial('COM8', 9600)  # Remplacez 'COM3' par le port série approprié\n",
    "\n",
    "def envoyer_commande(device, action, params):\n",
    "    commande = f\"{device},{action},\" + \",\".join(map(str, params)) + \"\\n\"\n",
    "    ser.write(commande.encode())\n",
    "    time.sleep(0.1)\n",
    "\n",
    "try:\n",
    "    # Synchroniser l'allumage de la LED 2 avec le mouvement du servo moteur entre 0 et 180 degrés toutes les 6 secondes\n",
    "    for i in range(12):  # 12 itérations pour un total de 12 secondes\n",
    "        # Faire pivoter le servomoteur de 0 à 180 degrés\n",
    "        for angle in range(0, 181, 30):\n",
    "            envoyer_commande(4, 1, [angle])\n",
    "            time.sleep(0.5)\n",
    "\n",
    "        # Allumer la LED 2 avec une intensité croissante de 0 à 255\n",
    "        for intensity in range(0, 256, 51):\n",
    "            envoyer_commande(2, 0, [intensity])\n",
    "            time.sleep(0.5)\n",
    "\n",
    "        # Attendre 6 secondes avant la prochaine itération\n",
    "        time.sleep(6)\n",
    "\n",
    "    # Éteindre la LED 2 après la fin de la séquence\n",
    "    envoyer_commande(2, 0, [0])\n",
    "\n",
    "finally:\n",
    "    ser.close()\n"
   ]
  },
  {
   "cell_type": "markdown",
   "metadata": {},
   "source": [
    "167.7s : IL N'Y A PAS DE TEMPS FIXER"
   ]
  },
  {
   "cell_type": "markdown",
   "metadata": {},
   "source": []
  },
  {
   "cell_type": "markdown",
   "metadata": {},
   "source": [
    "# CONTROLE DYNAMIQUE DE CODESTRAL"
   ]
  },
  {
   "cell_type": "markdown",
   "metadata": {},
   "source": []
  },
  {
   "cell_type": "markdown",
   "metadata": {},
   "source": [
    "## 1. Augmenter progressivement la luminosité de la LED 1 de 0% à 100% en 5 secondes. (Device: 1, Action: 0, Param: [0, 255], Time: 5s)\n"
   ]
  },
  {
   "cell_type": "code",
   "execution_count": 133,
   "metadata": {},
   "outputs": [],
   "source": [
    "import serial\n",
    "import time\n",
    "\n",
    "# Connexion au port série\n",
    "ser = serial.Serial('COM8', 9600)  # Remplacez 'COM8' par le port série approprié\n",
    "\n",
    "def envoyer_commande(device, action, params):\n",
    "    commande = f\"{device},{action},\" + \",\".join(map(str, params)) + \"\\n\"\n",
    "    ser.write(commande.encode())\n",
    "    time.sleep(0.1)\n",
    "\n",
    "try:\n",
    "    # Augmenter progressivement la luminosité de la LED 1 de 0% à 100% en 5 secondes\n",
    "    for i in range(256):\n",
    "        envoyer_commande(1, 0, [i])\n",
    "        time.sleep(5/255)\n",
    "\n",
    "finally:\n",
    "    ser.close()\n"
   ]
  },
  {
   "cell_type": "markdown",
   "metadata": {},
   "source": [
    "34.7s"
   ]
  },
  {
   "cell_type": "markdown",
   "metadata": {},
   "source": [
    "## 2. Faire varier l'angle du servo moteur de 0 à 180 degrés et revenir à 90 degrés en 10 secondes. (Device: 4, Action: 1, Param: [0, 180, 90], Time: 10s)\n"
   ]
  },
  {
   "cell_type": "code",
   "execution_count": 134,
   "metadata": {},
   "outputs": [],
   "source": [
    "import serial\n",
    "import time\n",
    "\n",
    "# Connexion au port série\n",
    "ser = serial.Serial('COM8', 9600)  # Remplacez 'COM8' par le port série approprié\n",
    "\n",
    "def envoyer_commande(device, action, params):\n",
    "    commande = f\"{device},{action},\" + \",\".join(map(str, params)) + \"\\n\"\n",
    "    ser.write(commande.encode())\n",
    "    time.sleep(0.1)\n",
    "\n",
    "try:\n",
    "    # Faire varier l'angle du servo moteur de 0 à 180 degrés\n",
    "    duration = 10  # Durée de la transition en secondes\n",
    "    steps = 100   # Nombre d'étapes pour la transition\n",
    "    for i in range(steps):\n",
    "        angle = int((i / (steps - 1)) * 180)  # Calcul de l'angle actuel\n",
    "        envoyer_commande(4, 1, [angle])\n",
    "        time.sleep(duration / steps)\n",
    "\n",
    "    # Revenir à 90 degrés\n",
    "    envoyer_commande(4, 1, [90])\n",
    "\n",
    "finally:\n",
    "    ser.close()\n"
   ]
  },
  {
   "cell_type": "markdown",
   "metadata": {},
   "source": [
    "21.4s"
   ]
  },
  {
   "cell_type": "markdown",
   "metadata": {},
   "source": [
    "## 3. Alterner l'allumage des LED 1 et 2 avec des intervalles de 2 secondes pendant 10 secondes. (Device: [1, 2], Action: 0, Param: [255, 0], Interval: 2s, Time: 10s)\n"
   ]
  },
  {
   "cell_type": "code",
   "execution_count": 135,
   "metadata": {},
   "outputs": [],
   "source": [
    "import serial\n",
    "import time\n",
    "\n",
    "# Connexion au port série\n",
    "ser = serial.Serial('COM8', 9600)  # Remplacez 'COM8' par le port série approprié\n",
    "\n",
    "def envoyer_commande(device, action, params):\n",
    "    commande = f\"{device},{action},\" + \",\".join(map(str, params)) + \"\\n\"\n",
    "    ser.write(commande.encode())\n",
    "    time.sleep(0.1)\n",
    "\n",
    "try:\n",
    "    # Alterner l'allumage des LED 1 et 2 pendant 10 secondes avec des intervalles de 2 secondes\n",
    "    start_time = time.time()\n",
    "    while time.time() - start_time < 10:\n",
    "        envoyer_commande(1, 0, [255])\n",
    "        envoyer_commande(2, 0, [0])\n",
    "        time.sleep(2)\n",
    "        envoyer_commande(1, 0, [0])\n",
    "        envoyer_commande(2, 0, [255])\n",
    "        time.sleep(2)\n",
    "\n",
    "finally:\n",
    "    ser.close()\n"
   ]
  },
  {
   "cell_type": "markdown",
   "metadata": {},
   "source": [
    "13.3s"
   ]
  },
  {
   "cell_type": "markdown",
   "metadata": {},
   "source": [
    "## 4. Faire clignoter la LED 3 cinq fois avec un intervalle de 1 seconde entre chaque allumage. (Device: 3, Action: 0, Param: 255, Interval: 1s, Repeats: 5)\n"
   ]
  },
  {
   "cell_type": "code",
   "execution_count": 137,
   "metadata": {},
   "outputs": [],
   "source": [
    "import serial\n",
    "import time\n",
    "\n",
    "# Connexion au port série\n",
    "ser = serial.Serial('COM8', 9600)  # Remplacez 'COM8' par le port série approprié\n",
    "\n",
    "def envoyer_commande(device, action, params):\n",
    "    commande = f\"{device},{action},\" + \",\".join(map(str, params)) + \"\\n\"\n",
    "    ser.write(commande.encode())\n",
    "    time.sleep(0.1)\n",
    "\n",
    "try:\n",
    "    # Faire clignoter la LED 3 cinq fois avec un intervalle de 1 seconde\n",
    "    for _ in range(5):\n",
    "        envoyer_commande(3, 0, [255])   # Allumer la LED 3\n",
    "        time.sleep(1)   # Attendre 1 seconde\n",
    "        envoyer_commande(3, 0, [0])   # Éteindre la LED 3\n",
    "        time.sleep(1)   # Attendre 1 seconde avant la prochaine itération\n",
    "\n",
    "finally:\n",
    "    ser.close()\n"
   ]
  },
  {
   "cell_type": "markdown",
   "metadata": {},
   "source": [
    "11.1s"
   ]
  },
  {
   "cell_type": "markdown",
   "metadata": {},
   "source": [
    "4/5 sur la repetion: Parfois il arrivent qu'il respectent la consigne mais sans prendre en compte le fonctionnement d'une fonction ce qui peut mener a ne pas respecter le nombre de repetitions dans ce cas"
   ]
  },
  {
   "cell_type": "markdown",
   "metadata": {},
   "source": [
    "## 5. Diminuer progressivement la luminosité de la LED 2 de 100% à 0% en 3 secondes. (Device: 2, Action: 0, Param: [255, 0], Time: 3s)\n"
   ]
  },
  {
   "cell_type": "code",
   "execution_count": 138,
   "metadata": {},
   "outputs": [],
   "source": [
    "import serial\n",
    "import time\n",
    "\n",
    "# Connexion au port série\n",
    "ser = serial.Serial('COM8', 9600)  # Remplacez 'COM8' par le port série approprié\n",
    "\n",
    "def envoyer_commande(device, action, params):\n",
    "    commande = f\"{device},{action},\" + \",\".join(map(str, params)) + \"\\n\"\n",
    "    ser.write(commande.encode())\n",
    "    time.sleep(0.1)\n",
    "\n",
    "try:\n",
    "    # Diminuer progressivement la luminosité de la LED 2 de 100% à 0% en 3 secondes\n",
    "    start_time = time.time()\n",
    "    while time.time() - start_time < 3:\n",
    "        elapsed_time = time.time() - start_time\n",
    "        intensity = int(255 * (1 - elapsed_time / 3))\n",
    "        envoyer_commande(2, 0, [intensity])\n",
    "        time.sleep(0.01)\n",
    "\n",
    "    # Éteindre la LED 2 à la fin\n",
    "    envoyer_commande(2, 0, [0])\n",
    "\n",
    "finally:\n",
    "    ser.close()\n"
   ]
  },
  {
   "cell_type": "markdown",
   "metadata": {},
   "source": [
    "3.1s"
   ]
  },
  {
   "cell_type": "markdown",
   "metadata": {},
   "source": [
    "## 6. Synchroniser le mouvement du servo moteur et l'allumage de la LED 1, le servo allant de 0 à 180 degrés tandis que la LED passe de 0% à 100% de façon synchrone inverse au servo par pas de 50 (Device: [4, 1], Action: [1, 0], Param: [[0, 180], [0, 255]], Time: 10s)\n"
   ]
  },
  {
   "cell_type": "code",
   "execution_count": 140,
   "metadata": {},
   "outputs": [],
   "source": [
    "import serial\n",
    "import time\n",
    "import threading\n",
    "\n",
    "# Connexion au port série\n",
    "ser = serial.Serial('COM8', 9600)  # Remplacez 'COM8' par le port série approprié\n",
    "\n",
    "def envoyer_commande(device, action, params):\n",
    "    commande = f\"{device},{action},\" + \",\".join(map(str, params)) + \"\\n\"\n",
    "    ser.write(commande.encode())\n",
    "    time.sleep(0.1)\n",
    "\n",
    "def move_servo_and_led1(start, end, duration):\n",
    "    steps = 100\n",
    "    step_time = duration / steps\n",
    "    for i in range(steps + 1):\n",
    "        angle = int(start + (end - start) * i / steps)\n",
    "        intensity = int(start + (end - start) * (steps - i) / steps)\n",
    "        envoyer_commande(4, 1, [angle])\n",
    "        envoyer_commande(1, 0, [intensity])\n",
    "        time.sleep(step_time)\n",
    "\n",
    "try:\n",
    "    # Synchroniser le mouvement du servo moteur et l'allumage de la LED 1\n",
    "    servo_thread = threading.Thread(target=move_servo_and_led1, args=(0, 180, 10))\n",
    "    servo_thread.start()\n",
    "    servo_thread.join()\n",
    "\n",
    "finally:\n",
    "    ser.close()\n"
   ]
  },
  {
   "cell_type": "markdown",
   "metadata": {},
   "source": [
    "32.8s"
   ]
  },
  {
   "cell_type": "markdown",
   "metadata": {},
   "source": [
    "## 7. Faire varier la luminosité des LED 1 et 2 en alternance toutes les 0,5 secondes pendant 10 secondes. (Device: [1, 2], Action: 0, Param: [255, 0], Interval: 0.5s, Time: 10s)\n"
   ]
  },
  {
   "cell_type": "code",
   "execution_count": 141,
   "metadata": {},
   "outputs": [],
   "source": [
    "import serial\n",
    "import time\n",
    "\n",
    "# Connexion au port série\n",
    "ser = serial.Serial('COM8', 9600)  # Remplacez 'COM8' par le port série approprié\n",
    "\n",
    "def envoyer_commande(device, action, params):\n",
    "    commande = f\"{device},{action},\" + \",\".join(map(str, params)) + \"\\n\"\n",
    "    ser.write(commande.encode())\n",
    "    time.sleep(0.1)\n",
    "\n",
    "try:\n",
    "    # Variation de la luminosité des LED 1 et 2 en alternance\n",
    "    for i in range(10):  # 10 secondes\n",
    "        envoyer_commande(1, 0, [255])  # Allumer la LED 1\n",
    "        envoyer_commande(2, 0, [0])   # Éteindre la LED 2\n",
    "        time.sleep(0.5)\n",
    "        envoyer_commande(1, 0, [0])   # Éteindre la LED 1\n",
    "        envoyer_commande(2, 0, [255])  # Allumer la LED 2\n",
    "        time.sleep(0.5)\n",
    "\n",
    "finally:\n",
    "    ser.close()\n"
   ]
  },
  {
   "cell_type": "markdown",
   "metadata": {},
   "source": [
    "14.5s"
   ]
  },
  {
   "cell_type": "markdown",
   "metadata": {},
   "source": [
    "## 8. Faire passer la LED 3 de 0% à 100% de luminosité en 2 secondes, puis revenir à 0% en 2 secondes. Répéter 3 fois. (Device: 3, Action: 0, Param: [0, 255], Time: 4s, Repeats: 3)\n"
   ]
  },
  {
   "cell_type": "code",
   "execution_count": 143,
   "metadata": {},
   "outputs": [],
   "source": [
    "import serial\n",
    "import time\n",
    "\n",
    "# Connexion au port série\n",
    "ser = serial.Serial('COM8', 9600)  # Remplacez 'COM3' par le port série approprié\n",
    "\n",
    "def envoyer_commande(device, action, params):\n",
    "    commande = f\"{device},{action},\" + \",\".join(map(str, params)) + \"\\n\"\n",
    "    ser.write(commande.encode())\n",
    "    time.sleep(0.1)\n",
    "\n",
    "try:\n",
    "    # Faire varier la LED 3 de 0% à 100% puis de 100% à 0% 3 fois\n",
    "    for _ in range(3):\n",
    "        # Augmenter la luminosité de 0 à 255 en 2 secondes\n",
    "        for intensity in range(0, 256, 64):\n",
    "            envoyer_commande(3, 0, [intensity])\n",
    "            time.sleep(0.05)\n",
    "        # Diminuer la luminosité de 255 à 0 en 2 secondes\n",
    "        for intensity in range(255, -1, -64):\n",
    "            envoyer_commande(3, 0, [intensity])\n",
    "            time.sleep(0.05)\n",
    "\n",
    "finally:\n",
    "    ser.close()\n"
   ]
  },
  {
   "cell_type": "markdown",
   "metadata": {},
   "source": [
    "3.9s"
   ]
  },
  {
   "cell_type": "markdown",
   "metadata": {},
   "source": [
    "## 9. Augmenter progressivement la luminosité de la LED 2 de 0% à 50% en 1 seconde, puis de 50% à 100% en 2 secondes. (Device: 2, Action: 0, Param: [0, 128, 255], Time: 3s)\n"
   ]
  },
  {
   "cell_type": "code",
   "execution_count": 144,
   "metadata": {},
   "outputs": [],
   "source": [
    "import serial\n",
    "import time\n",
    "import numpy as np\n",
    "\n",
    "# Connexion au port série\n",
    "ser = serial.Serial('COM8', 9600)  # Remplacez 'COM8' par le port série approprié\n",
    "\n",
    "def envoyer_commande(device, action, params):\n",
    "    commande = f\"{device},{action},\" + \",\".join(map(str, params)) + \"\\n\"\n",
    "    ser.write(commande.encode())\n",
    "    time.sleep(0.1)\n",
    "\n",
    "try:\n",
    "    # Phase 1: Augmenter progressivement la luminosité de la LED 2 de 0% à 50% en 1 seconde\n",
    "    for intensity in np.linspace(0, 128, num=10):\n",
    "        envoyer_commande(2, 0, [int(intensity)])\n",
    "        time.sleep(0.1)\n",
    "\n",
    "    # Phase 2: Augmenter progressivement la luminosité de la LED 2 de 50% à 100% en 2 secondes\n",
    "    for intensity in np.linspace(128, 255, num=20):\n",
    "        envoyer_commande(2, 0, [int(intensity)])\n",
    "        time.sleep(0.1)\n",
    "\n",
    "finally:\n",
    "    ser.close()\n"
   ]
  },
  {
   "cell_type": "markdown",
   "metadata": {},
   "source": [
    "9.5s"
   ]
  },
  {
   "cell_type": "markdown",
   "metadata": {},
   "source": [
    "## 10. Faire varier l'angle du servo moteur de 90 à 0 degrés, puis de 0 à 90 degrés en 4 secondes. (Device: 4, Action: 1, Param: [90, 0, 90], Time: 4s)\n"
   ]
  },
  {
   "cell_type": "code",
   "execution_count": 154,
   "metadata": {},
   "outputs": [],
   "source": [
    "import serial\n",
    "import time\n",
    "\n",
    "# Connection to the serial port\n",
    "ser = serial.Serial('COM8', 9600)  # Replace '/dev/ttyUSB0' with the appropriate serial port\n",
    "\n",
    "def send_command(device, action, params):\n",
    "    command = f\"{device},{action},\" + \",\".join(map(str, params)) + \"\\n\"\n",
    "    ser.write(command.encode())\n",
    "    time.sleep(0.1)\n",
    "\n",
    "try:\n",
    "    # Variation of the angle of the servo motor from 90 to 0 degrees, then from 0 to 90 degrees in 4 seconds\n",
    "    angles = [90, 0, 90]\n",
    "    total_time = 4\n",
    "    angle_change_time = total_time / (len(angles) - 1)\n",
    "\n",
    "    for i in range(len(angles) - 1):\n",
    "        start_angle = angles[i]\n",
    "        end_angle = angles[i + 1]\n",
    "        angle_step = (end_angle - start_angle) / (angle_change_time * 10)\n",
    "\n",
    "        for _ in range(int(angle_change_time * 10)):\n",
    "            start_angle += angle_step\n",
    "            send_command(4, 1, [int(start_angle)])\n",
    "            time.sleep(0.1)\n",
    "\n",
    "finally:\n",
    "    ser.close()\n"
   ]
  },
  {
   "cell_type": "markdown",
   "metadata": {},
   "source": [
    "9.2s"
   ]
  },
  {
   "cell_type": "markdown",
   "metadata": {},
   "source": [
    "## 11. Éteindre la LED 1 pendant 2 secondes, puis allumer la LED 3 à 100% pendant 2 secondes. Répéter 4 fois. (Device: [1, 3], Action: [0, 0], Param: [0, 255], Interval: 2s, Repeats: 4)\n"
   ]
  },
  {
   "cell_type": "code",
   "execution_count": 147,
   "metadata": {},
   "outputs": [],
   "source": [
    "import serial\n",
    "import time\n",
    "\n",
    "# Connexion au port série\n",
    "ser = serial.Serial('COM8', 9600)  # Remplacez 'COM8' par le port série approprié\n",
    "\n",
    "def envoyer_commande(device, action, params):\n",
    "    commande = f\"{device},{action},\" + \",\".join(map(str, params)) + \"\\n\"\n",
    "    ser.write(commande.encode())\n",
    "    time.sleep(0.1)\n",
    "\n",
    "try:\n",
    "    # Boucle de répétition\n",
    "    for _ in range(4):\n",
    "        # Éteindre la LED 1\n",
    "        envoyer_commande(1, 0, [0])\n",
    "        time.sleep(2)\n",
    "\n",
    "        # Allumer la LED 3 à 100%\n",
    "        envoyer_commande(3, 0, [255])\n",
    "        time.sleep(2)\n",
    "\n",
    "finally:\n",
    "    ser.close()\n"
   ]
  },
  {
   "cell_type": "markdown",
   "metadata": {},
   "source": [
    "16.9s"
   ]
  },
  {
   "cell_type": "markdown",
   "metadata": {},
   "source": [
    "## 12. Alterner l'allumage des LED 1 et 2 toutes les 1,5 secondes pendant 15 secondes, avec une LED allumée à 100% et l'autre éteinte. (Device: [1, 2], Action: 0, Param: [255, 0], Interval: 1.5s, Time: 15s)\n"
   ]
  },
  {
   "cell_type": "code",
   "execution_count": 148,
   "metadata": {},
   "outputs": [],
   "source": [
    "import serial\n",
    "import time\n",
    "\n",
    "# Connexion au port série\n",
    "ser = serial.Serial('COM8', 9600)  # Remplacez 'COM8' par le port série approprié\n",
    "\n",
    "def envoyer_commande(device, action, params):\n",
    "    commande = f\"{device},{action},\" + \",\".join(map(str, params)) + \"\\n\"\n",
    "    ser.write(commande.encode())\n",
    "    time.sleep(0.1)\n",
    "\n",
    "try:\n",
    "    start_time = time.time()\n",
    "    while time.time() - start_time < 15:\n",
    "        # Allumer la LED 1 à 100% et éteindre la LED 2\n",
    "        envoyer_commande(1, 0, [255])\n",
    "        envoyer_commande(2, 0, [0])\n",
    "        time.sleep(1.5)\n",
    "\n",
    "        # Éteindre la LED 1 et allumer la LED 2 à 100%\n",
    "        envoyer_commande(1, 0, [0])\n",
    "        envoyer_commande(2, 0, [255])\n",
    "        time.sleep(1.5)\n",
    "\n",
    "    # Éteindre les LEDs à la fin\n",
    "    envoyer_commande(1, 0, [0])\n",
    "    envoyer_commande(2, 0, [0])\n",
    "\n",
    "finally:\n",
    "    ser.close()\n"
   ]
  },
  {
   "cell_type": "markdown",
   "metadata": {},
   "source": [
    "17.5s"
   ]
  },
  {
   "cell_type": "markdown",
   "metadata": {},
   "source": [
    "## 13. Diminuer la luminosité de la LED 1 de 100% à 0% en 4 secondes, puis augmenter la luminosité de la LED 2 de 0% à 100% en 4 secondes. (Device: [1, 2], Action: 0, Param: [255, 0, 255], Time: 8s)\n"
   ]
  },
  {
   "cell_type": "code",
   "execution_count": 149,
   "metadata": {},
   "outputs": [],
   "source": [
    "import serial\n",
    "import time\n",
    "\n",
    "# Connexion au port série\n",
    "ser = serial.Serial('COM8', 9600)  # Remplacez 'COM8' par le port série approprié\n",
    "\n",
    "def envoyer_commande(device, action, params):\n",
    "    commande = f\"{device},{action},\" + \",\".join(map(str, params)) + \"\\n\"\n",
    "    ser.write(commande.encode())\n",
    "    time.sleep(0.1)\n",
    "\n",
    "try:\n",
    "    # Diminuer la luminosité de la LED 1 de 100% à 0% en 4 secondes\n",
    "    for intensity in range(255, -1, -64):\n",
    "        envoyer_commande(1, 0, [intensity])\n",
    "        time.sleep(0.5)\n",
    "\n",
    "    # Augmenter la luminosité de la LED 2 de 0% à 100% en 4 secondes\n",
    "    for intensity in range(0, 256, 64):\n",
    "        envoyer_commande(2, 0, [intensity])\n",
    "        time.sleep(0.5)\n",
    "\n",
    "finally:\n",
    "    ser.close()\n"
   ]
  },
  {
   "cell_type": "markdown",
   "metadata": {},
   "source": [
    "5s"
   ]
  },
  {
   "cell_type": "markdown",
   "metadata": {},
   "source": [
    "## 14. Faire varier l'angle du servo moteur de 0 à 90 degrés en 3 secondes, puis de 90 à 180 degrés en 3 secondes. (Device: 4, Action: 1, Param: [0, 90, 180], Time: 6s)\n"
   ]
  },
  {
   "cell_type": "code",
   "execution_count": 150,
   "metadata": {},
   "outputs": [],
   "source": [
    "import serial\n",
    "import time\n",
    "\n",
    "# Connexion au port série\n",
    "ser = serial.Serial('COM8', 9600)  # Remplacez 'COM3' par le port série approprié\n",
    "\n",
    "def envoyer_commande(device, action, params):\n",
    "    commande = f\"{device},{action},\" + \",\".join(map(str, params)) + \"\\n\"\n",
    "    ser.write(commande.encode())\n",
    "    time.sleep(0.1)\n",
    "\n",
    "try:\n",
    "    # Faire varier l'angle du servomoteur de 0 à 90 degrés en 3 secondes\n",
    "    start = 0\n",
    "    end = 90\n",
    "    duration = 3\n",
    "    steps = int(duration * 10)  # 10 steps per second\n",
    "    for i in range(steps + 1):\n",
    "        angle = int(start + (end - start) * (i / steps))\n",
    "        envoyer_commande(4, 1, [angle])\n",
    "        time.sleep(0.1)\n",
    "\n",
    "    # Faire varier l'angle du servomoteur de 90 à 180 degrés en 3 secondes\n",
    "    start = 90\n",
    "    end = 180\n",
    "    for i in range(steps + 1):\n",
    "        angle = int(start + (end - start) * (i / steps))\n",
    "        envoyer_commande(4, 1, [angle])\n",
    "        time.sleep(0.1)\n",
    "\n",
    "finally:\n",
    "    ser.close()\n"
   ]
  },
  {
   "cell_type": "markdown",
   "metadata": {},
   "source": [
    "13.3s"
   ]
  },
  {
   "cell_type": "markdown",
   "metadata": {},
   "source": [
    "## 15. Synchroniser l'allumage de la LED 3 avec le mouvement du servo moteur allant de 0 à 180 degrés. La LED passe de 0% à 100% en synchronisation inverse avec le servo. (Device: [4, 3], Action: [1, 0], Param: [[0, 180], [0, 255]], Time: 10s)\n"
   ]
  },
  {
   "cell_type": "code",
   "execution_count": 151,
   "metadata": {},
   "outputs": [],
   "source": [
    "import serial\n",
    "import time\n",
    "\n",
    "# Connexion au port série\n",
    "ser = serial.Serial('COM8', 9600)  # Remplacez 'COM8' par le port série approprié\n",
    "\n",
    "def envoyer_commande(device, action, params):\n",
    "    commande = f\"{device},{action},\" + \",\".join(map(str, params)) + \"\\n\"\n",
    "    ser.write(commande.encode())\n",
    "    time.sleep(0.1)\n",
    "\n",
    "try:\n",
    "    # Synchroniser l'allumage de la LED 3 avec le mouvement du servo moteur\n",
    "    total_time = 10  # Temps total de 10 secondes\n",
    "    steps = total_time * 10  # Nombre d'étapes pour atteindre le mouvement en 10 secondes\n",
    "\n",
    "    for i in range(steps):\n",
    "        servo_angle = int(180 * i / steps)\n",
    "        led_intensity = 255 - int(255 * i / steps)\n",
    "        envoyer_commande(4, 1, [servo_angle])\n",
    "        envoyer_commande(3, 0, [led_intensity])\n",
    "        time.sleep(0.1)  # Attendre 0.1 seconde entre chaque étape\n",
    "\n",
    "finally:\n",
    "    ser.close()\n"
   ]
  },
  {
   "cell_type": "markdown",
   "metadata": {},
   "source": [
    "32s"
   ]
  },
  {
   "cell_type": "markdown",
   "metadata": {},
   "source": [
    "## 16. Faire clignoter la LED 2 à 100% de luminosité toutes les 1,5 secondes pendant 12 secondes, puis éteindre la LED 2 pendant 3 secondes. (Device: 2, Action: 0, Param: 255, Interval: 1.5s, Time: 15s)\n"
   ]
  },
  {
   "cell_type": "code",
   "execution_count": 152,
   "metadata": {},
   "outputs": [],
   "source": [
    "import serial\n",
    "import time\n",
    "\n",
    "# Connexion au port série\n",
    "ser = serial.Serial('COM8', 9600)  # Remplacez 'COM3' par le port série approprié\n",
    "\n",
    "def envoyer_commande(device, action, params):\n",
    "    commande = f\"{device},{action},\" + \",\".join(map(str, params)) + \"\\n\"\n",
    "    ser.write(commande.encode())\n",
    "    time.sleep(0.1)\n",
    "\n",
    "try:\n",
    "    # Faire clignoter la LED 2 à 100% de luminosité toutes les 1,5 secondes pendant 12 secondes\n",
    "    start_time = time.time()\n",
    "    while time.time() - start_time < 12:\n",
    "        envoyer_commande(2, 0, [255])\n",
    "        time.sleep(1.5)\n",
    "        envoyer_commande(2, 0, [0])\n",
    "        time.sleep(1.5)\n",
    "\n",
    "    # Éteindre la LED 2 pendant 3 secondes\n",
    "    envoyer_commande(2, 0, [0])\n",
    "    time.sleep(3)\n",
    "\n",
    "finally:\n",
    "    ser.close()\n"
   ]
  },
  {
   "cell_type": "markdown",
   "metadata": {},
   "source": [
    "16s"
   ]
  },
  {
   "cell_type": "markdown",
   "metadata": {},
   "source": [
    "## 17. Augmenter la luminosité de la LED 3 de 0% à 100% en 6 secondes, puis diminuer à 0% en 4 secondes. Répéter 3 fois. (Device: 3, Action: 0, Param: [0, 255], Time: 10s, Repeats: 3)\n"
   ]
  },
  {
   "cell_type": "code",
   "execution_count": null,
   "metadata": {},
   "outputs": [],
   "source": [
    "import serial\n",
    "import time\n",
    "\n",
    "# Connection to the serial port\n",
    "ser = serial.Serial('COM8', 9600)  # Replace '/dev/ttyUSB0' with the appropriate serial port\n",
    "\n",
    "def send_command(device, action, params):\n",
    "    command = f\"{device},{action},\" + \",\".join(map(str, params)) + \"\\n\"\n",
    "    ser.write(command.encode())\n",
    "    time.sleep(0.1)\n",
    "\n",
    "try:\n",
    "    # Repeat 3 times\n",
    "    for _ in range(3):\n",
    "        # Gradually increase the brightness of LED 3 from 0% to 100% in 6 seconds\n",
    "        for intensity in range(0, 256, 2):\n",
    "            send_command(3, 0, [intensity])\n",
    "            time.sleep(6 / 255)\n",
    "\n",
    "        # Gradually decrease the brightness of LED 3 from 100% to 0% in 4 seconds\n",
    "        for intensity in range(255, -1, -2):\n",
    "            send_command(3, 0, [intensity])\n",
    "            time.sleep(4 / 255)\n",
    "\n",
    "finally:\n",
    "    ser.close()\n"
   ]
  },
  {
   "cell_type": "markdown",
   "metadata": {},
   "source": [
    "ECHEC: LE TEMPS DE CONTROLE EST BEAUCOUP TROP LONG"
   ]
  },
  {
   "cell_type": "markdown",
   "metadata": {},
   "source": [
    "## 18. Alterner l'angle du servo moteur entre 0 et 180 degrés toutes les 2 secondes pendant 20 secondes. (Device: 4, Action: 1, Param: [0, 180], Interval: 2s, Time: 20s)\n"
   ]
  },
  {
   "cell_type": "code",
   "execution_count": 162,
   "metadata": {},
   "outputs": [],
   "source": [
    "import serial\n",
    "import time\n",
    "\n",
    "# Connexion au port série\n",
    "ser = serial.Serial('COM8', 9600)  # Remplacez 'COM8' par le port série approprié\n",
    "\n",
    "def envoyer_commande(device, action, params):\n",
    "    commande = f\"{device},{action},\" + \",\".join(map(str, params)) + \"\\n\"\n",
    "    ser.write(commande.encode())\n",
    "    time.sleep(0.1)\n",
    "\n",
    "try:\n",
    "    start_time = time.time()\n",
    "    while time.time() - start_time < 20:\n",
    "        # Alterner l'angle du servo moteur entre 0 et 180 degrés\n",
    "        envoyer_commande(4, 1, [0])\n",
    "        time.sleep(1)\n",
    "        envoyer_commande(4, 1, [180])\n",
    "        time.sleep(1)\n",
    "\n",
    "finally:\n",
    "    ser.close()\n"
   ]
  },
  {
   "cell_type": "markdown",
   "metadata": {},
   "source": [
    "20s"
   ]
  },
  {
   "cell_type": "markdown",
   "metadata": {},
   "source": [
    "## 19. Faire clignoter la LED 1 à 50% de luminosité et la LED 2 à 75% toutes les 2 secondes pendant 8 secondes. (Device: [1, 2], Action: 0, Param: [128, 192], Interval: 2s, Time: 8s)\n"
   ]
  },
  {
   "cell_type": "code",
   "execution_count": 163,
   "metadata": {},
   "outputs": [],
   "source": [
    "import serial\n",
    "import time\n",
    "\n",
    "# Connexion au port série\n",
    "ser = serial.Serial('COM8', 9600)  # Remplacez 'COM8' par le port série approprié\n",
    "\n",
    "def envoyer_commande(device, action, params):\n",
    "    commande = f\"{device},{action},\" + \",\".join(map(str, params)) + \"\\n\"\n",
    "    ser.write(commande.encode())\n",
    "    time.sleep(0.1)\n",
    "\n",
    "try:\n",
    "    start_time = time.time()\n",
    "    while (time.time() - start_time) < 8:\n",
    "        envoyer_commande(1, 0, [128])  # Allumer la LED 1 à 50% de sa luminosité\n",
    "        envoyer_commande(2, 0, [192])  # Allumer la LED 2 à 75% de sa luminosité\n",
    "        time.sleep(1)  # Attendre 1 seconde\n",
    "        envoyer_commande(1, 0, [0])   # Éteindre la LED 1\n",
    "        envoyer_commande(2, 0, [0])   # Éteindre la LED 2\n",
    "        time.sleep(1)  # Attendre 1 seconde\n",
    "finally:\n",
    "    ser.close()\n"
   ]
  },
  {
   "cell_type": "markdown",
   "metadata": {},
   "source": [
    "9.8s"
   ]
  },
  {
   "cell_type": "markdown",
   "metadata": {},
   "source": [
    "## 20. Augmenter la luminosité de la LED 2 de 0% à 100% en 5 secondes, puis faire clignoter la LED 2 à 100% de luminosité toutes les 1,5 secondes pendant 10 secondes. (Device: 2, Action: [0, 0], Param: [255, 0], Interval: 1.5s, Time: 15s)\n"
   ]
  },
  {
   "cell_type": "code",
   "execution_count": 166,
   "metadata": {},
   "outputs": [],
   "source": [
    "import serial\n",
    "import time\n",
    "\n",
    "# Connexion au port série\n",
    "ser = serial.Serial('COM8', 9600)  # Remplacez 'COM8' par le port série approprié\n",
    "\n",
    "def envoyer_commande(device, action, params):\n",
    "    commande = f\"{device},{action},\" + \",\".join(map(str, params)) + \"\\n\"\n",
    "    ser.write(commande.encode())\n",
    "    time.sleep(0.1)\n",
    "\n",
    "try:\n",
    "    start_time = time.time()\n",
    "    while (time.time() - start_time) < 8:\n",
    "        envoyer_commande(1, 0, [128])  # Allumer la LED 1 à 50% de sa luminosité\n",
    "        envoyer_commande(2, 0, [192])  # Allumer la LED 2 à 75% de sa luminosité\n",
    "        time.sleep(1)  # Attendre 1 seconde\n",
    "        envoyer_commande(1, 0, [0])   # Éteindre la LED 1\n",
    "        envoyer_commande(2, 0, [0])   # Éteindre la LED 2\n",
    "        time.sleep(1)  # Attendre 1 seconde\n",
    "finally:\n",
    "    ser.close()\n"
   ]
  },
  {
   "cell_type": "markdown",
   "metadata": {},
   "source": [
    "ECHEC"
   ]
  },
  {
   "cell_type": "markdown",
   "metadata": {},
   "source": [
    "## 21. Faire varier l'angle du servo moteur de 90 à 0 degrés, puis de 0 à 90 degrés en 8 secondes. (Device: 4, Action: 1, Param: [90, 0, 90], Time: 8s)\n"
   ]
  },
  {
   "cell_type": "code",
   "execution_count": 167,
   "metadata": {},
   "outputs": [],
   "source": [
    "import serial\n",
    "import time\n",
    "\n",
    "# Connexion au port série\n",
    "ser = serial.Serial('COM8', 9600)  # Remplacez 'COM3' par le port série approprié\n",
    "\n",
    "def envoyer_commande(device, action, params):\n",
    "    commande = f\"{device},{action},\" + \",\".join(map(str, params)) + \"\\n\"\n",
    "    ser.write(commande.encode())\n",
    "    time.sleep(0.1)\n",
    "\n",
    "try:\n",
    "    # Faire varier l'angle du servo moteur de 90 à 0 degrés, puis de 0 à 90 degrés en 8 secondes\n",
    "    total_time = 8\n",
    "    step_time = total_time / 180\n",
    "    for angle in range(90, -1, -1):\n",
    "        envoyer_commande(4, 1, [angle])\n",
    "        time.sleep(step_time)\n",
    "    for angle in range(0, 91, 1):\n",
    "        envoyer_commande(4, 1, [angle])\n",
    "        time.sleep(step_time)\n",
    "\n",
    "finally:\n",
    "    ser.close()\n"
   ]
  },
  {
   "cell_type": "markdown",
   "metadata": {},
   "source": [
    "29.1s"
   ]
  },
  {
   "cell_type": "markdown",
   "metadata": {},
   "source": [
    "## 22. Synchroniser l'allumage de la LED 3 avec le mouvement du servo moteur de 0 à 180 degrés toutes les 4 secondes. La LED passe de 0% à 100% de luminosité. (Device: [4, 3], Action: [1, 0], Param: [[0, 180], [0, 255]], Time: 4s)\n"
   ]
  },
  {
   "cell_type": "code",
   "execution_count": 168,
   "metadata": {},
   "outputs": [],
   "source": [
    "import serial\n",
    "import time\n",
    "\n",
    "# Connexion au port série\n",
    "ser = serial.Serial('COM8', 9600)  # Remplacez 'COM8' par le port série approprié\n",
    "\n",
    "def envoyer_commande(device, action, params):\n",
    "    commande = f\"{device},{action},\" + \",\".join(map(str, params)) + \"\\n\"\n",
    "    ser.write(commande.encode())\n",
    "    time.sleep(0.1)\n",
    "\n",
    "try:\n",
    "    # Synchroniser l'allumage de la LED 3 avec le mouvement du servo moteur\n",
    "    for i in range(46):  # 180/4 = 45, +1 pour atteindre 180\n",
    "        servo_angle = i * 4\n",
    "        led_intensity = i * 6  # 255/45 =~ 6\n",
    "        envoyer_commande(3, 0, [led_intensity])\n",
    "        envoyer_commande(4, 1, [servo_angle])\n",
    "        time.sleep(0.1)\n",
    "\n",
    "finally:\n",
    "    ser.close()\n"
   ]
  },
  {
   "cell_type": "markdown",
   "metadata": {},
   "source": [
    "14.6s"
   ]
  },
  {
   "cell_type": "markdown",
   "metadata": {},
   "source": [
    "## 23. Diminuer la luminosité de la LED 1 de 100% à 0% en 5 secondes, puis augmenter la luminosité de la LED 2 de 0% à 100% en 5 secondes. (Device: [1, 2], Action: 0, Param: [255, 0, 255], Time: 10s)\n"
   ]
  },
  {
   "cell_type": "code",
   "execution_count": 169,
   "metadata": {},
   "outputs": [],
   "source": [
    "import serial\n",
    "import time\n",
    "\n",
    "# Connexion au port série\n",
    "ser = serial.Serial('COM8', 9600)  # Remplacez 'COM8' par le port série approprié\n",
    "\n",
    "def envoyer_commande(device, action, params):\n",
    "    commande = f\"{device},{action},\" + \",\".join(map(str, params)) + \"\\n\"\n",
    "    ser.write(commande.encode())\n",
    "    time.sleep(0.1)\n",
    "\n",
    "try:\n",
    "    # Diminuer la luminosité de la LED 1 de 100% à 0% en 5 secondes\n",
    "    for intensity in range(255, -1, -51):\n",
    "        envoyer_commande(1, 0, [intensity])\n",
    "        time.sleep(0.5)\n",
    "\n",
    "    # Augmenter la luminosité de la LED 2 de 0% à 100% en 5 secondes\n",
    "    for intensity in range(0, 256, 51):\n",
    "        envoyer_commande(2, 0, [intensity])\n",
    "        time.sleep(0.5)\n",
    "\n",
    "finally:\n",
    "    ser.close()\n"
   ]
  },
  {
   "cell_type": "markdown",
   "metadata": {},
   "source": [
    "7.3s"
   ]
  },
  {
   "cell_type": "markdown",
   "metadata": {},
   "source": [
    "## 30. Synchroniser le mouvement du servo moteur entre 30 et 150 degrés toutes les 5 secondes avec l'allumage de la LED 1 à 100%. (Device: [4, 1], Action: [1, 0], Param: [[30, 150], [255]], Interval: 5s, Time: 10s)\n"
   ]
  },
  {
   "cell_type": "code",
   "execution_count": 170,
   "metadata": {},
   "outputs": [],
   "source": [
    "import serial\n",
    "import time\n",
    "\n",
    "# Connexion au port série\n",
    "ser = serial.Serial('COM8', 9600)  # Remplacez 'COM8' par le port série approprié\n",
    "\n",
    "def envoyer_commande(device, action, params):\n",
    "    commande = f\"{device},{action},\" + \",\".join(map(str, params)) + \"\\n\"\n",
    "    ser.write(commande.encode())\n",
    "    time.sleep(0.1)\n",
    "\n",
    "try:\n",
    "    start_time = time.time()\n",
    "    while time.time() - start_time < 10:\n",
    "        # Bouger le servomoteur de 30 à 150 degrés\n",
    "        envoyer_commande(4, 1, [30])\n",
    "        time.sleep(2.5)  # Attendre 2.5 secondes\n",
    "        envoyer_commande(4, 1, [150])\n",
    "        time.sleep(2.5)  # Attendre 2.5 secondes\n",
    "\n",
    "        # Allumer la LED 1 à 100% d'intensité\n",
    "        envoyer_commande(1, 0, [255])\n",
    "        time.sleep(0.1)  # Assurer l'exécution de la commande\n",
    "        envoyer_commande(1, 0, [0])  # Éteindre la LED 1\n",
    "\n",
    "finally:\n",
    "    ser.close()\n"
   ]
  },
  {
   "cell_type": "markdown",
   "metadata": {},
   "source": [
    "11.1s"
   ]
  },
  {
   "cell_type": "markdown",
   "metadata": {},
   "source": [
    "## 42. Synchroniser l'allumage de la LED 2 avec le mouvement du servo moteur entre 0 et 180 degrés toutes les 6 secondes. La LED passe de 0% à 100% de luminosité. (Device: [2, 4], Action: [0, 1], Param: [[0, 180], [0, 255]], Interval: 6s, Time: 12s)\n"
   ]
  },
  {
   "cell_type": "code",
   "execution_count": 172,
   "metadata": {},
   "outputs": [],
   "source": [
    "import serial\n",
    "import time\n",
    "\n",
    "# Connexion au port série\n",
    "ser = serial.Serial('COM8', 9600)  # Remplacez '/dev/ttyUSB0' par le port série approprié\n",
    "\n",
    "def envoyer_commande(device, action, params):\n",
    "    commande = f\"{device},{action},\" + \",\".join(map(str, params)) + \"\\n\"\n",
    "    ser.write(commande.encode())\n",
    "    time.sleep(0.1)\n",
    "\n",
    "try:\n",
    "    # Synchroniser l'allumage de la LED 2 avec le mouvement du servo moteur\n",
    "    for i in range(6):\n",
    "        for value in range(0, 256, 25):\n",
    "            envoyer_commande(2, 0, [value])\n",
    "            envoyer_commande(4, 1, [value * 180 // 255])\n",
    "            time.sleep(1)\n",
    "        time.sleep(5)\n",
    "\n",
    "    # Éteindre la LED 2 et arrêter le servo moteur\n",
    "    envoyer_commande(2, 0, [0])\n",
    "    envoyer_commande(4, 1, [0])\n",
    "\n",
    "finally:\n",
    "    ser.close()\n"
   ]
  },
  {
   "cell_type": "markdown",
   "metadata": {},
   "source": [
    "111.3s"
   ]
  },
  {
   "cell_type": "markdown",
   "metadata": {},
   "source": []
  },
  {
   "cell_type": "markdown",
   "metadata": {},
   "source": [
    "# CONTROLE DYNAMIQUE DE MISTRAL 8X7B"
   ]
  },
  {
   "cell_type": "markdown",
   "metadata": {},
   "source": []
  },
  {
   "cell_type": "markdown",
   "metadata": {},
   "source": [
    "## 1. Augmenter progressivement la luminosité de la LED 1 de 0% à 100% en 5 secondes. (Device: 1, Action: 0, Param: [0, 255], Time: 5s)\n"
   ]
  },
  {
   "cell_type": "code",
   "execution_count": 173,
   "metadata": {},
   "outputs": [],
   "source": [
    "import serial\n",
    "import time\n",
    "\n",
    "# Connexion au port série\n",
    "ser = serial.Serial('COM8', 9600)  # Remplacez 'COM3' par le port série approprié\n",
    "\n",
    "def envoyer_commande(device, action, params):\n",
    "    commande = f\"{device},{action},\" + \",\".join(map(str, params)) + \"\\n\"\n",
    "    ser.write(commande.encode())\n",
    "    time.sleep(0.1)\n",
    "\n",
    "try:\n",
    "    # Augmenter progressivement la luminosité de la LED 1\n",
    "    for intensity in range(0, 256, 51):  \n",
    "        envoyer_commande(1, 0, [intensity])\n",
    "        time.sleep(0.1)\n",
    "        # Attendre 5 secondes en tout\n",
    "        if intensity == 0:\n",
    "            time_to_wait = 5\n",
    "        else:\n",
    "            time_to_wait -= 0.1\n",
    "        time.sleep(time_to_wait)\n",
    "\n",
    "finally:\n",
    "    ser.close()\n"
   ]
  },
  {
   "cell_type": "markdown",
   "metadata": {},
   "source": [
    "29.8s"
   ]
  },
  {
   "cell_type": "code",
   "execution_count": 174,
   "metadata": {},
   "outputs": [],
   "source": [
    "import serial\n",
    "import time\n",
    "\n",
    "# Connexion au port série\n",
    "ser = serial.Serial('COM8', 9600)  # Remplacez 'COM3' par le port série approprié\n",
    "\n",
    "def envoyer_commande(device, action, params, delay=0):\n",
    "    commande = f\"{device},{action},\" + \",\".join(map(str, params)) + \"\\n\"\n",
    "    ser.write(commande.encode())\n",
    "    time.sleep(delay)\n",
    "\n",
    "try:\n",
    "    # Augmenter progressivement la luminosité de la LED 1 de 0% à 100% en 5 secondes\n",
    "    for intensity in range(0, 256, 51):  \n",
    "        envoyer_commande(1, 0, [intensity], 0.1)\n",
    "        time.sleep(0.1)\n",
    "\n",
    "finally:\n",
    "    ser.close()\n"
   ]
  },
  {
   "cell_type": "markdown",
   "metadata": {},
   "source": [
    "1.7s"
   ]
  },
  {
   "cell_type": "markdown",
   "metadata": {},
   "source": [
    "DEJA ON CONSTATE QU'IL NE S'EN SORT PAS TRES BIEN NIVEAU PRECISION TEMPOREL"
   ]
  },
  {
   "cell_type": "markdown",
   "metadata": {},
   "source": [
    "## 2. Faire varier l'angle du servo moteur de 0 à 180 degrés et revenir à 90 degrés en 10 secondes. (Device: 4, Action: 1, Param: [0, 180, 90], Time: 10s)\n"
   ]
  },
  {
   "cell_type": "code",
   "execution_count": 175,
   "metadata": {},
   "outputs": [],
   "source": [
    "import serial\n",
    "import time\n",
    "\n",
    "# Connexion au port série\n",
    "ser = serial.Serial('COM8', 9600)  # Remplacez 'COM3' par le port série approprié\n",
    "\n",
    "def envoyer_commande(device, action, params):\n",
    "    commande = f\"{device},{action},\" + \",\".join(map(str, params)) + \"\\n\"\n",
    "    ser.write(commande.encode())\n",
    "    time.sleep(0.1)\n",
    "\n",
    "try:\n",
    "    # Faire varier l'angle du servo moteur de 0 à 180 degrés en 5 secondes\n",
    "    for angle in range(0, 181, 18):\n",
    "        envoyer_commande(4, 1, [angle])\n",
    "        time.sleep(0.25)\n",
    "\n",
    "    # Revenir à 90 degrés en 5 secondes\n",
    "    for angle in range(180, 89, -18):\n",
    "        envoyer_commande(4, 1, [angle])\n",
    "        time.sleep(0.25)\n",
    "\n",
    "finally:\n",
    "    ser.close()\n"
   ]
  },
  {
   "cell_type": "markdown",
   "metadata": {},
   "source": [
    "6.2s"
   ]
  },
  {
   "cell_type": "code",
   "execution_count": 176,
   "metadata": {},
   "outputs": [],
   "source": [
    "import serial\n",
    "import time\n",
    "\n",
    "# Connexion au port série\n",
    "ser = serial.Serial('COM8', 9600)  # Remplacez 'COM3' par le port série approprié\n",
    "\n",
    "def envoyer_commande(device, action, params, delay):\n",
    "    commande = f\"{device},{action},\" + \",\".join(map(str, params)) + \"\\n\"\n",
    "    ser.write(commande.encode())\n",
    "    time.sleep(delay)\n",
    "\n",
    "try:\n",
    "    # Faire varier l'angle du servomoteur de 0 à 180 degrés en 5 secondes\n",
    "    for angle in range(0, 181, 30):\n",
    "        envoyer_commande(4, 1, [angle], 0.5)\n",
    "\n",
    "    # Revenir à 90 degrés en 5 secondes\n",
    "    for angle in range(180, 89, -30):\n",
    "        envoyer_commande(4, 1, [angle], 0.5)\n",
    "\n",
    "finally:\n",
    "    ser.close()\n"
   ]
  },
  {
   "cell_type": "markdown",
   "metadata": {},
   "source": [
    "5.5s"
   ]
  },
  {
   "cell_type": "markdown",
   "metadata": {},
   "source": [
    "## 3. Alterner l'allumage des LED 1 et 2 avec des intervalles de 2 secondes pendant 10 secondes. (Device: [1, 2], Action: 0, Param: [255, 0], Interval: 2s, Time: 10s)\n"
   ]
  },
  {
   "cell_type": "code",
   "execution_count": 178,
   "metadata": {},
   "outputs": [],
   "source": [
    "import serial\n",
    "import time\n",
    "\n",
    "# Connexion au port série\n",
    "ser = serial.Serial('COM8', 9600)  # Remplacez 'COM3' par le port série approprié\n",
    "\n",
    "def envoyer_commande(device, action, params):\n",
    "    commande = f\"{device},{action},\" + \",\".join(map(str, params)) + \"\\n\"\n",
    "    ser.write(commande.encode())\n",
    "    time.sleep(0.1)\n",
    "\n",
    "try:\n",
    "    # Allumer et éteindre les LED 1 et 2 en alternance\n",
    "    for i in range(10):\n",
    "        envoyer_commande(1, 0, [255])\n",
    "        time.sleep(2)\n",
    "        envoyer_commande(1, 0, [0])\n",
    "\n",
    "        envoyer_commande(2, 0, [255])\n",
    "        time.sleep(2)\n",
    "        envoyer_commande(2, 0, [0])\n",
    "\n",
    "finally:\n",
    "    ser.close()\n"
   ]
  },
  {
   "cell_type": "markdown",
   "metadata": {},
   "source": [
    "44.5s"
   ]
  },
  {
   "cell_type": "code",
   "execution_count": 179,
   "metadata": {},
   "outputs": [],
   "source": [
    "import serial\n",
    "import time\n",
    "\n",
    "ser = serial.Serial('COM8', 9600)  # Remplacez 'COM3' par le port série approprié\n",
    "\n",
    "def envoyer_commande(device, action, params):\n",
    "    commande = f\"{device},{action},\" + \",\".join(map(str, params)) + \"\\n\"\n",
    "    ser.write(commande.encode())\n",
    "    time.sleep(0.1)\n",
    "\n",
    "try:\n",
    "    for i in range(5):  # 10 secondes / 2 secondes par intervalle\n",
    "        if i % 2 == 0:\n",
    "            envoyer_commande(1, 0, [255])  # Allumer la LED 1\n",
    "            envoyer_commande(2, 0, [0])    # Éteindre la LED 2\n",
    "        else:\n",
    "            envoyer_commande(1, 0, [0])    # Éteindre la LED 1\n",
    "            envoyer_commande(2, 0, [255])  # Allumer la LED 2\n",
    "        time.sleep(2)\n",
    "\n",
    "finally:\n",
    "    ser.close()\n"
   ]
  },
  {
   "cell_type": "markdown",
   "metadata": {},
   "source": [
    "11.1s"
   ]
  },
  {
   "cell_type": "markdown",
   "metadata": {},
   "source": [
    "IL A ETE BIEN PLUS PRECIS AU DEUXIEME COUT"
   ]
  },
  {
   "cell_type": "markdown",
   "metadata": {},
   "source": [
    "## 4. Faire clignoter la LED 3 cinq fois avec un intervalle de 1 seconde entre chaque allumage. (Device: 3, Action: 0, Param: 255, Interval: 1s, Repeats: 5)\n"
   ]
  },
  {
   "cell_type": "code",
   "execution_count": 180,
   "metadata": {},
   "outputs": [],
   "source": [
    "import serial\n",
    "import time\n",
    "\n",
    "ser = serial.Serial('COM8', 9600)  # Remplacez 'COM3' par le port série approprié\n",
    "\n",
    "def envoyer_commande(device, action, params):\n",
    "    commande = f\"{device},{action},\" + \",\".join(map(str, params)) + \"\\n\"\n",
    "    ser.write(commande.encode())\n",
    "    time.sleep(0.1)\n",
    "\n",
    "try:\n",
    "    # Faire clignoter la LED 3 cinq fois\n",
    "    for i in range(5):\n",
    "        envoyer_commande(3, 0, [255])\n",
    "        time.sleep(1)\n",
    "        envoyer_commande(3, 0, [0])\n",
    "        time.sleep(1)\n",
    "\n",
    "finally:\n",
    "    ser.close()\n"
   ]
  },
  {
   "cell_type": "markdown",
   "metadata": {},
   "source": [
    "11.1s"
   ]
  },
  {
   "cell_type": "code",
   "execution_count": 181,
   "metadata": {},
   "outputs": [],
   "source": [
    "import serial\n",
    "import time\n",
    "\n",
    "# Connexion au port série\n",
    "ser = serial.Serial('COM8', 9600)  # Remplacez 'COM3' par le port série approprié\n",
    "\n",
    "def envoyer_commande(device, action, params):\n",
    "    commande = f\"{device},{action},\" + \",\".join(map(str, params)) + \"\\n\"\n",
    "    ser.write(commande.encode())\n",
    "    time.sleep(0.1)\n",
    "\n",
    "try:\n",
    "    # Faire clignoter la LED 3 cinq fois\n",
    "    for i in range(5):\n",
    "        envoyer_commande(3, 0, [255])\n",
    "        time.sleep(1)\n",
    "        envoyer_commande(3, 0, [0])\n",
    "        time.sleep(1)\n",
    "\n",
    "finally:\n",
    "    ser.close()\n"
   ]
  },
  {
   "cell_type": "markdown",
   "metadata": {},
   "source": [
    "11.1s"
   ]
  },
  {
   "cell_type": "markdown",
   "metadata": {},
   "source": [
    "## 5. Diminuer progressivement la luminosité de la LED 2 de 100% à 0% en 3 secondes. (Device: 2, Action: 0, Param: [255, 0], Time: 3s)\n"
   ]
  },
  {
   "cell_type": "code",
   "execution_count": 182,
   "metadata": {},
   "outputs": [],
   "source": [
    "import serial\n",
    "import time\n",
    "\n",
    "# Connexion au port série\n",
    "ser = serial.Serial('COM8', 9600)  # Remplacez 'COM3' par le port série approprié\n",
    "\n",
    "def envoyer_commande(device, action, params, delay=0):\n",
    "    commande = f\"{device},{action},\" + \",\".join(map(str, params)) + \"\\n\"\n",
    "    ser.write(commande.encode())\n",
    "    time.sleep(delay)\n",
    "\n",
    "try:\n",
    "    # Diminuer progressivement la luminosité de la LED 2 de 100% à 0% en 3 secondes\n",
    "    for intensity in range(255, -1, -1):\n",
    "        envoyer_commande(2, 0, [intensity], 0.01)\n",
    "    envoyer_commande(2, 0, [0])\n",
    "\n",
    "finally:\n",
    "    ser.close()\n"
   ]
  },
  {
   "cell_type": "markdown",
   "metadata": {},
   "source": [
    "4.3s"
   ]
  },
  {
   "cell_type": "code",
   "execution_count": 184,
   "metadata": {},
   "outputs": [],
   "source": [
    "import serial\n",
    "import time\n",
    "\n",
    "# Connexion au port série\n",
    "ser = serial.Serial('COM8', 9600)  # Remplacez 'COM3' par le port série approprié\n",
    "\n",
    "def envoyer_commande(device, action, params):\n",
    "    commande = f\"{device},{action},\" + \",\".join(map(str, params)) + \"\\n\"\n",
    "    ser.write(commande.encode())\n",
    "    time.sleep(0.1)\n",
    "\n",
    "try:\n",
    "    # Diminuer progressivement la luminosité de la LED 2\n",
    "    for intensity in range(255, -1, -1):\n",
    "        envoyer_commande(2, 0, [intensity])\n",
    "        time.sleep(3 / 255)\n",
    "\n",
    "finally:\n",
    "    ser.close()\n"
   ]
  },
  {
   "cell_type": "markdown",
   "metadata": {},
   "source": [
    "30.9s"
   ]
  },
  {
   "cell_type": "markdown",
   "metadata": {},
   "source": [
    "## 6. Synchroniser le mouvement du servo moteur et l'allumage de la LED 1, le servo allant de 0 à 180 degrés tandis que la LED passe de 0% à 100% de façon synchrone inverse au servo par pas de 50 (Device: [4, 1], Action: [1, 0], Param: [[0, 180], [0, 255]], Time: 10s)\n"
   ]
  },
  {
   "cell_type": "code",
   "execution_count": 185,
   "metadata": {},
   "outputs": [],
   "source": [
    "import serial\n",
    "import time\n",
    "\n",
    "# Connexion au port série\n",
    "ser = serial.Serial('COM8', 9600)  # Remplacez 'COM3' par le port série approprié\n",
    "\n",
    "def envoyer_commande(device, action, params):\n",
    "    commande = f\"{device},{action},\" + \",\".join(map(str, params)) + \"\\n\"\n",
    "    ser.write(commande.encode())\n",
    "    time.sleep(0.1)\n",
    "\n",
    "try:\n",
    "    step_size = 180 // 50\n",
    "    led_step_size = 255 // 50\n",
    "\n",
    "    for i in range(51):\n",
    "        angle = i * step_size\n",
    "        intensity = 255 - i * led_step_size\n",
    "\n",
    "        envoyer_commande(4, 1, [angle])\n",
    "        envoyer_commande(1, 0, [intensity])\n",
    "\n",
    "        time.sleep(0.2)\n",
    "\n",
    "finally:\n",
    "    ser.close()\n"
   ]
  },
  {
   "cell_type": "markdown",
   "metadata": {},
   "source": [
    "21.3s"
   ]
  },
  {
   "cell_type": "code",
   "execution_count": null,
   "metadata": {},
   "outputs": [],
   "source": [
    "import serial\n",
    "import time\n",
    "\n",
    "# Connexion au port série\n",
    "ser = serial.Serial('COM8', 9600)  # Remplacez 'COM3' par le port série approprié\n",
    "\n",
    "def envoyer_commande(device, action, params):\n",
    "    commande = f\"{device},{action},\" + \",\".join(map(str, params[0])) + \"\\n\"\n",
    "    ser.write(commande.encode())\n",
    "    time.sleep(0.1)\n",
    "\n",
    "try:\n",
    "    # Synchroniser le mouvement du servo moteur et l'allumage de la LED 1\n",
    "    for i in range(181):\n",
    "        servo_position = 179 - i if i < 180 else 0\n",
    "        led_brightness = int(255 - (255 / 180) * i) if i < 180 else 255\n",
    "\n",
    "        # Envoyer les commandes\n",
    "        envoyer_commande(4, 1, [servo_position])\n",
    "        envoyer_commande(1, 0, [led_brightness])\n",
    "\n",
    "        time.sleep(0.05)  # Ajuster le temps de synchronisation selon les besoins\n",
    "\n",
    "finally:\n",
    "    ser.close()\n"
   ]
  },
  {
   "cell_type": "markdown",
   "metadata": {},
   "source": [
    "echec de au deuxieme coup"
   ]
  },
  {
   "cell_type": "markdown",
   "metadata": {},
   "source": [
    "## 7. Faire varier la luminosité des LED 1 et 2 en alternance toutes les 0,5 secondes pendant 10 secondes. (Device: [1, 2], Action: 0, Param: [255, 0], Interval: 0.5s, Time: 10s)\n"
   ]
  },
  {
   "cell_type": "code",
   "execution_count": 187,
   "metadata": {},
   "outputs": [],
   "source": [
    "import serial\n",
    "import time\n",
    "\n",
    "ser = serial.Serial('COM8', 9600)  # Remplacez 'COM3' par le port série approprié\n",
    "\n",
    "def envoyer_commande(device, action, params):\n",
    "    commande = f\"{device},{action},\" + \",\".join(map(str, params)) + \"\\n\"\n",
    "    ser.write(commande.encode())\n",
    "    time.sleep(0.1)\n",
    "\n",
    "try:\n",
    "    for i in range(10):  # 10 secondes\n",
    "        envoyer_commande(1, 0, [255])  # Allumer LED 1\n",
    "        envoyer_commande(2, 0, [0])    # Éteindre LED 2\n",
    "        time.sleep(0.5)\n",
    "\n",
    "        envoyer_commande(1, 0, [0])    # Éteindre LED 1\n",
    "        envoyer_commande(2, 0, [255])  # Allumer LED 2\n",
    "        time.sleep(0.5)\n",
    "\n",
    "finally:\n",
    "    ser.close()\n"
   ]
  },
  {
   "cell_type": "markdown",
   "metadata": {},
   "source": [
    "14.7s"
   ]
  },
  {
   "cell_type": "code",
   "execution_count": null,
   "metadata": {},
   "outputs": [],
   "source": [
    "import serial\n",
    "import time\n",
    "\n",
    "# Connexion au port série\n",
    "ser = serial.Serial('COM8', 9600)  # Remplacez 'COM3' par le port série approprié\n",
    "\n",
    "def envoyer_commande(device, action, params):\n",
    "    commande = f\"{device},{action},\" + \",\".join(map(str, params)) + \"\\n\"\n",
    "    ser.write(commande.encode())\n",
    "    time.sleep(0.1)\n",
    "\n",
    "try:\n",
    "    total_time = 10  # 10 seconds\n",
    "    interval = 0.5  # 0.5 seconds\n",
    "\n",
    "    for t in range(total_time * 2 // interval):\n",
    "        if t % 2 == 0:\n",
    "            envoyer_commande(1, 0, [255])  # Allumer la LED 1\n",
    "            envoyer_commande(2, 0, [0])  # Éteindre la LED 2\n",
    "        else:\n",
    "            envoyer_commande(1, 0, [0])  # Éteindre la LED 1\n",
    "            envoyer_commande(2, 0, [128])  # Allumer la LED 2 à moitié de son intensité maximale\n",
    "\n",
    "        time.sleep(interval)\n",
    "\n",
    "finally:\n",
    "    ser.close()\n"
   ]
  },
  {
   "cell_type": "markdown",
   "metadata": {},
   "source": [
    "echec au deuxième coup"
   ]
  },
  {
   "cell_type": "markdown",
   "metadata": {},
   "source": [
    "## 8. Faire passer la LED 3 de 0% à 100% de luminosité en 2 secondes, puis revenir à 0% en 2 secondes. Répéter 3 fois. (Device: 3, Action: 0, Param: [0, 255], Time: 4s, Repeats: 3)\n"
   ]
  },
  {
   "cell_type": "code",
   "execution_count": 189,
   "metadata": {},
   "outputs": [],
   "source": [
    "import serial\n",
    "import time\n",
    "\n",
    "# Connexion au port série\n",
    "ser = serial.Serial('COM8', 9600)  # Remplacez 'COM3' par le port série approprié\n",
    "\n",
    "def envoyer_commande(device, action, params):\n",
    "    commande = f\"{device},{action},\" + \",\".join(map(str, params)) + \"\\n\"\n",
    "    ser.write(commande.encode())\n",
    "    time.sleep(0.1)\n",
    "\n",
    "try:\n",
    "    # Répéter trois fois le cycle de luminosité pour la LED 3\n",
    "    for _ in range(3):\n",
    "        # Faire passer la LED 3 de 0% à 100% de luminosité en 2 secondes\n",
    "        for intensity in range(0, 256, 8):\n",
    "            envoyer_commande(3, 0, [intensity])\n",
    "            time.sleep(0.02)\n",
    "        \n",
    "        # Faire passer la LED 3 de 100% à 0% de luminosité en 2 secondes\n",
    "        for intensity in range(255, -1, -8):\n",
    "            envoyer_commande(3, 0, [intensity])\n",
    "            time.sleep(0.02)\n",
    "\n",
    "finally:\n",
    "    ser.close()\n"
   ]
  },
  {
   "cell_type": "markdown",
   "metadata": {},
   "source": [
    "25.8s"
   ]
  },
  {
   "cell_type": "code",
   "execution_count": 190,
   "metadata": {},
   "outputs": [],
   "source": [
    "import serial\n",
    "import time\n",
    "\n",
    "# Connexion au port série\n",
    "ser = serial.Serial('COM8', 9600)  # Remplacez 'COM3' par le port série approprié\n",
    "\n",
    "def envoyer_commande(device, action, params, delay):\n",
    "    commande = f\"{device},{action},\" + \",\".join(map(str, params)) + \"\\n\"\n",
    "    ser.write(commande.encode())\n",
    "    time.sleep(delay)\n",
    "\n",
    "try:\n",
    "    # Répéter l'opération trois fois\n",
    "    for _ in range(3):\n",
    "        # Faire passer la LED 3 de 0% à 100% de luminosité en 2 secondes\n",
    "        for intensity in range(0, 256, 16):  \n",
    "            envoyer_commande(3, 0, [intensity], 0.08)\n",
    "        time.sleep(2 - 0.08 * (255 // 16))\n",
    "\n",
    "        # Faire passer la LED 3 de 100% à 0% de luminosité en 2 secondes\n",
    "        for intensity in range(255, -1, -16):  \n",
    "            envoyer_commande(3, 0, [intensity], 0.08)\n",
    "        time.sleep(2 - 0.08 * (127 // 16))\n",
    "\n",
    "finally:\n",
    "    ser.close()\n"
   ]
  },
  {
   "cell_type": "markdown",
   "metadata": {},
   "source": [
    "14.9s"
   ]
  },
  {
   "cell_type": "markdown",
   "metadata": {},
   "source": [
    "## 9. Augmenter progressivement la luminosité de la LED 2 de 0% à 50% en 1 seconde, puis de 50% à 100% en 2 secondes. (Device: 2, Action: 0, Param: [0, 128, 255], Time: 3s)\n"
   ]
  },
  {
   "cell_type": "code",
   "execution_count": 191,
   "metadata": {},
   "outputs": [],
   "source": [
    "import serial\n",
    "import time\n",
    "\n",
    "# Connexion au port série\n",
    "ser = serial.Serial('COM8', 9600)  # Remplacez 'COM3' par le port série approprié\n",
    "\n",
    "def envoyer_commande(device, action, params):\n",
    "    commande = f\"{device},{action},\" + \",\".join(map(str, params)) + \"\\n\"\n",
    "    ser.write(commande.encode())\n",
    "    time.sleep(0.1)\n",
    "\n",
    "try:\n",
    "    # Augmenter progressivement la luminosité de la LED 2 de 0% à 50%\n",
    "    for intensity in range(0, 129, 5):\n",
    "        envoyer_commande(2, 0, [intensity])\n",
    "        time.sleep(0.03)\n",
    "\n",
    "    # Augmenter progressivement la luminosité de la LED 2 de 50% à 100%\n",
    "    for intensity in range(128, 256, 5):\n",
    "        envoyer_commande(2, 0, [intensity])\n",
    "        time.sleep(0.06)\n",
    "\n",
    "finally:\n",
    "    ser.close()\n"
   ]
  },
  {
   "cell_type": "markdown",
   "metadata": {},
   "source": [
    "8s"
   ]
  },
  {
   "cell_type": "code",
   "execution_count": 192,
   "metadata": {},
   "outputs": [],
   "source": [
    "import serial\n",
    "import time\n",
    "\n",
    "# Connexion au port série\n",
    "ser = serial.Serial('COM8', 9600)  # Remplacez 'COM3' par le port série approprié\n",
    "\n",
    "def envoyer_commande(device, action, params):\n",
    "    commande = f\"{device},{action},\" + \",\".join(map(str, params)) + \"\\n\"\n",
    "    ser.write(commande.encode())\n",
    "    time.sleep(0.1)\n",
    "\n",
    "try:\n",
    "    # Augmenter progressivement la luminosité de la LED 2\n",
    "    for i in range(0, 128, 1):  \n",
    "        envoyer_commande(2, 0, [i])\n",
    "        time.sleep(0.01)\n",
    "    time.sleep(1)\n",
    "\n",
    "    for i in range(128, 256, 1):  \n",
    "        envoyer_commande(2, 0, [i])\n",
    "        time.sleep(0.02)\n",
    "    time.sleep(2)\n",
    "\n",
    "finally:\n",
    "    ser.close()\n"
   ]
  },
  {
   "cell_type": "markdown",
   "metadata": {},
   "source": [
    "35s"
   ]
  },
  {
   "cell_type": "markdown",
   "metadata": {},
   "source": [
    "## 10. Faire varier l'angle du servo moteur de 90 à 0 degrés, puis de 0 à 90 degrés en 4 secondes. (Device: 4, Action: 1, Param: [90, 0, 90], Time: 4s)\n"
   ]
  },
  {
   "cell_type": "code",
   "execution_count": 193,
   "metadata": {},
   "outputs": [],
   "source": [
    "import serial\n",
    "import time\n",
    "\n",
    "# Connexion au port série\n",
    "ser = serial.Serial('COM8', 9600)  # Remplacez 'COM3' par le port série approprié\n",
    "\n",
    "def envoyer_commande(device, action, params, delay=0):\n",
    "    commande = f\"{device},{action},\" + \",\".join(map(str, params)) + \"\\n\"\n",
    "    ser.write(commande.encode())\n",
    "    time.sleep(delay)\n",
    "\n",
    "try:\n",
    "    # Faire varier l'angle du servo moteur de 90 à 0 degrés\n",
    "    for angle in range(90, -1, -1):\n",
    "        envoyer_commande(4, 1, [angle])\n",
    "        time.sleep(0.05)\n",
    "\n",
    "    # Attendre 2 secondes\n",
    "    time.sleep(2)\n",
    "\n",
    "    # Faire varier l'angle du servo moteur de 0 à 90 degrés\n",
    "    for angle in range(0, 91, 1):\n",
    "        envoyer_commande(4, 1, [angle])\n",
    "        time.sleep(0.05)\n",
    "\n",
    "finally:\n",
    "    ser.close()\n"
   ]
  },
  {
   "cell_type": "markdown",
   "metadata": {},
   "source": [
    "13.6s"
   ]
  },
  {
   "cell_type": "code",
   "execution_count": null,
   "metadata": {},
   "outputs": [],
   "source": [
    "import serial\n",
    "import time\n",
    "\n",
    "# Connexion au port série\n",
    "ser = serial.Serial('COM8', 9600)  # Remplacez 'COM3' par le port série approprié\n",
    "\n",
    "def envoyer_commande(device, action, params, delay):\n",
    "    commande = f\"{device},{action},\" + \",\".join(map(str, params)) + \"\\n\"\n",
    "    ser.write(commande.encode())\n",
    "    time.sleep(delay)\n",
    "\n",
    "try:\n",
    "    # Faire varier l'angle du servomoteur de 90 à 0 degrés, puis de 0 à 90 degrés en 4 secondes\n",
    "    for angle in range(90, -1, -1):\n",
    "        envoyer_commande(4, 1, [angle], 0.02)\n",
    "    time.sleep(2)\n",
    "    for angle in range(0, 91, 1):\n",
    "        envoyer_commande(4, 1, [angle], 0.02)\n",
    "\n",
    "finally:\n",
    "    ser.close()\n"
   ]
  },
  {
   "cell_type": "markdown",
   "metadata": {},
   "source": [
    "## 11. Éteindre la LED 1 pendant 2 secondes, puis allumer la LED 3 à 100% pendant 2 secondes. Répéter 4 fois. (Device: [1, 3], Action: [0, 0], Param: [0, 255], Interval: 2s, Repeats: 4)\n"
   ]
  },
  {
   "cell_type": "code",
   "execution_count": 137,
   "metadata": {},
   "outputs": [
    {
     "ename": "IndexError",
     "evalue": "tuple index out of range",
     "output_type": "error",
     "traceback": [
      "\u001b[1;31m---------------------------------------------------------------------------\u001b[0m",
      "\u001b[1;31mIndexError\u001b[0m                                Traceback (most recent call last)",
      "Cell \u001b[1;32mIn[137], line 14\u001b[0m\n\u001b[0;32m     11\u001b[0m     time\u001b[38;5;241m.\u001b[39msleep(\u001b[38;5;241m2\u001b[39m)\n\u001b[0;32m     13\u001b[0m     \u001b[38;5;28;01mfor\u001b[39;00m _ \u001b[38;5;129;01min\u001b[39;00m \u001b[38;5;28mrange\u001b[39m(\u001b[38;5;241m4\u001b[39m):\n\u001b[1;32m---> 14\u001b[0m         \u001b[43msend_command\u001b[49m\u001b[43m(\u001b[49m\u001b[43m(\u001b[49m\u001b[38;5;241;43m1\u001b[39;49m\u001b[43m,\u001b[49m\u001b[43m)\u001b[49m\u001b[43m,\u001b[49m\u001b[43m \u001b[49m\u001b[38;5;241;43m0\u001b[39;49m\u001b[43m,\u001b[49m\u001b[43m \u001b[49m\u001b[43m(\u001b[49m\u001b[38;5;241;43m0\u001b[39;49m\u001b[43m,\u001b[49m\u001b[43m)\u001b[49m\u001b[43m,\u001b[49m\u001b[43m \u001b[49m\u001b[38;5;241;43m2\u001b[39;49m\u001b[43m)\u001b[49m\n\u001b[0;32m     15\u001b[0m         send_command((\u001b[38;5;241m3\u001b[39m,), \u001b[38;5;241m0\u001b[39m, (\u001b[38;5;241m255\u001b[39m,), \u001b[38;5;241m2\u001b[39m)\n\u001b[0;32m     17\u001b[0m \u001b[38;5;28;01mfinally\u001b[39;00m:\n",
      "Cell \u001b[1;32mIn[137], line 5\u001b[0m, in \u001b[0;36msend_command\u001b[1;34m(device, action, param, interval)\u001b[0m\n\u001b[0;32m      4\u001b[0m \u001b[38;5;28;01mdef\u001b[39;00m \u001b[38;5;21msend_command\u001b[39m(device, action, param, interval):\n\u001b[1;32m----> 5\u001b[0m     command \u001b[38;5;241m=\u001b[39m \u001b[38;5;124mf\u001b[39m\u001b[38;5;124m\"\u001b[39m\u001b[38;5;132;01m{\u001b[39;00mdevice[\u001b[38;5;241m0\u001b[39m]\u001b[38;5;132;01m}\u001b[39;00m\u001b[38;5;124m,\u001b[39m\u001b[38;5;132;01m{\u001b[39;00maction\u001b[38;5;132;01m}\u001b[39;00m\u001b[38;5;124m,\u001b[39m\u001b[38;5;132;01m{\u001b[39;00mparam[\u001b[38;5;241m0\u001b[39m]\u001b[38;5;132;01m}\u001b[39;00m\u001b[38;5;124m,\u001b[39m\u001b[38;5;132;01m{\u001b[39;00m\u001b[43mparam\u001b[49m\u001b[43m[\u001b[49m\u001b[38;5;241;43m1\u001b[39;49m\u001b[43m]\u001b[49m\u001b[38;5;132;01m}\u001b[39;00m\u001b[38;5;130;01m\\n\u001b[39;00m\u001b[38;5;124m\"\u001b[39m\n\u001b[0;32m      6\u001b[0m     ser\u001b[38;5;241m.\u001b[39mwrite(command\u001b[38;5;241m.\u001b[39mencode())\n\u001b[0;32m      7\u001b[0m     time\u001b[38;5;241m.\u001b[39msleep(interval)\n",
      "\u001b[1;31mIndexError\u001b[0m: tuple index out of range"
     ]
    }
   ],
   "source": [
    "import time\n",
    "import serial\n",
    "\n",
    "def send_command(device, action, param, interval):\n",
    "    command = f\"{device[0]},{action},{param[0]},{param[1]}\\n\"\n",
    "    ser.write(command.encode())\n",
    "    time.sleep(interval)\n",
    "\n",
    "try:\n",
    "    ser = serial.Serial('COM8', 9600)  # Remplacez 'COM3' par le port série approprié\n",
    "    time.sleep(2)\n",
    "\n",
    "    for _ in range(4):\n",
    "        send_command((1,), 0, (0,), 2)\n",
    "        send_command((3,), 0, (255,), 2)\n",
    "\n",
    "finally:\n",
    "    ser.close()\n"
   ]
  },
  {
   "cell_type": "markdown",
   "metadata": {},
   "source": [
    "ECHEC"
   ]
  },
  {
   "cell_type": "markdown",
   "metadata": {},
   "source": [
    "## 12. Alterner l'allumage des LED 1 et 2 toutes les 1,5 secondes pendant 15 secondes, avec une LED allumée à 100% et l'autre éteinte. (Device: [1, 2], Action: 0, Param: [255, 0], Interval: 1.5s, Time: 15s)\n"
   ]
  },
  {
   "cell_type": "code",
   "execution_count": 138,
   "metadata": {},
   "outputs": [],
   "source": [
    "import serial\n",
    "import time\n",
    "\n",
    "# Connexion au port série\n",
    "ser = serial.Serial('COM8', 9600)  # Replace 'COM3' with the appropriate serial port\n",
    "\n",
    "def envoyer_commande(device, action, params):\n",
    "    commande = f\"{device},{action},\" + \",\".join(map(str, params)) + \"\\n\"\n",
    "    ser.write(commande.encode())\n",
    "    time.sleep(0.1)\n",
    "\n",
    "try:\n",
    "    # Alternate LEDs 1 and 2 for 15 seconds\n",
    "    led_state = 1  # 1 for LED 1, 2 for LED 2\n",
    "    interval = 1.5  # seconds\n",
    "    total_time = 15  # seconds\n",
    "\n",
    "    start_time = time.time()\n",
    "\n",
    "    while time.time() - start_time < total_time:\n",
    "        envoyer_commande(led_state, 0, [255])  # Turn on the current LED at 100%\n",
    "        envoyer_commande(3 - led_state, 0, [0])  # Turn off the other LED\n",
    "\n",
    "        time.sleep(interval)\n",
    "\n",
    "        led_state = 3 - led_state  # Switch the LED state\n",
    "\n",
    "finally:\n",
    "    ser.close()\n"
   ]
  },
  {
   "cell_type": "markdown",
   "metadata": {},
   "source": [
    "15.5s"
   ]
  },
  {
   "cell_type": "markdown",
   "metadata": {},
   "source": [
    "## 13. Diminuer la luminosité de la LED 1 de 100% à 0% en 4 secondes, puis augmenter la luminosité de la LED 2 de 0% à 100% en 4 secondes. (Device: [1, 2], Action: 0, Param: [255, 0, 255], Time: 8s)\n"
   ]
  },
  {
   "cell_type": "code",
   "execution_count": 139,
   "metadata": {},
   "outputs": [],
   "source": [
    "import serial\n",
    "import time\n",
    "\n",
    "# Connexion au port série\n",
    "ser = serial.Serial('COM8', 9600)  # Remplacez 'COM3' par le port série approprié\n",
    "\n",
    "def envoyer_commande(device, action, params, time_delay):\n",
    "    commande = f\"{device},{action},\" + \",\".join(map(str, params)) + \"\\n\"\n",
    "    ser.write(commande.encode())\n",
    "    time.sleep(time_delay)\n",
    "\n",
    "try:\n",
    "    # Diminuer la luminosité de la LED 1 de 100% à 0% en 4 secondes\n",
    "    for intensity in range(255, -1, -1):\n",
    "        envoyer_commande(1, 0, [intensity], 0.01)\n",
    "\n",
    "    # Attendre 1 seconde avant d'allumer la LED 2\n",
    "    time.sleep(1)\n",
    "\n",
    "    # Augmenter la luminosité de la LED 2 de 0% à 100% en 4 secondes\n",
    "    for intensity in range(0, 256, 1):\n",
    "        envoyer_commande(2, 0, [intensity], 0.01)\n",
    "\n",
    "finally:\n",
    "    ser.close()\n"
   ]
  },
  {
   "cell_type": "markdown",
   "metadata": {},
   "source": [
    "8.7s"
   ]
  },
  {
   "cell_type": "markdown",
   "metadata": {},
   "source": [
    "## 14. Faire varier l'angle du servo moteur de 0 à 90 degrés en 3 secondes, puis de 90 à 180 degrés en 3 secondes. (Device: 4, Action: 1, Param: [0, 90, 180], Time: 6s)\n"
   ]
  },
  {
   "cell_type": "code",
   "execution_count": 151,
   "metadata": {},
   "outputs": [],
   "source": [
    "import time\n",
    "import serial\n",
    "\n",
    "def send_command(device, action, params):\n",
    "    command = str(device) + ',' + str(action) + ',' + ','.join(map(str, params)) + '\\n'\n",
    "    ser.write(command.encode())\n",
    "    time.sleep(0.1)\n",
    "\n",
    "# Connect to the serial port\n",
    "ser = serial.Serial('COM8', 9600)  # Replace 'COM8' with the appropriate serial port\n",
    "\n",
    "try:\n",
    "\n",
    "    # Move servo motor from 0 to 90 degrees in 3 seconds\n",
    "    send_command(4, 1, [0, 90])\n",
    "    time.sleep(3)\n",
    "\n",
    "    # Move servo motor from 90 to 180 degrees in 3 seconds\n",
    "    send_command(4, 1, [90, 180])\n",
    "    time.sleep(3)\n",
    "\n",
    "finally:\n",
    "    # Reset the servo motor to its initial position (0 degrees)\n",
    "    send_command(4, 1, [0, 0])\n",
    "    ser.close()\n"
   ]
  },
  {
   "cell_type": "markdown",
   "metadata": {},
   "source": [
    "ECHEC"
   ]
  },
  {
   "cell_type": "markdown",
   "metadata": {},
   "source": [
    "## 15. Synchroniser l'allumage de la LED 3 avec le mouvement du servo moteur allant de 0 à 180 degrés. La LED passe de 0% à 100% en synchronisation inverse avec le servo. (Device: [4, 3], Action: [1, 0], Param: [[0, 180], [0, 255]], Time: 10s)\n"
   ]
  },
  {
   "cell_type": "code",
   "execution_count": 152,
   "metadata": {},
   "outputs": [],
   "source": [
    "import serial\n",
    "import time\n",
    "\n",
    "# Connexion au port série\n",
    "ser = serial.Serial('COM8', 9600)  # Remplacez 'COM3' par le port série approprié\n",
    "\n",
    "def envoyer_commande(device, action, params):\n",
    "    commande = f\"{device},{action},\" + \",\".join(map(str, params)) + \"\\n\"\n",
    "    ser.write(commande.encode())\n",
    "    time.sleep(0.1)\n",
    "\n",
    "try:\n",
    "    # Faire pivoter le servomoteur de 0 à 180 degrés\n",
    "    for angle in range(0, 181, 3):\n",
    "        envoyer_commande(4, 1, [angle])\n",
    "\n",
    "        # Calculer l'intensité de la LED 3 en fonction de l'angle actuel\n",
    "        intensity = int(255 - (angle * 255 / 180))\n",
    "        envoyer_commande(3, 0, [intensity])\n",
    "\n",
    "        time.sleep(0.03)  # Ajuster ce délai pour contrôler la vitesse de synchronisation\n",
    "\n",
    "finally:\n",
    "    ser.close()\n"
   ]
  },
  {
   "cell_type": "markdown",
   "metadata": {},
   "source": [
    "16.2s"
   ]
  },
  {
   "cell_type": "markdown",
   "metadata": {},
   "source": [
    "A L' AVENIR IL SERAIT JUDICIEUX D'AUTOMATISER LE POCESSUS D'EVALUATION EN PLACANT DES CAPTEURS DE POSITIONS SUR LE SERVO MOTEUR POUR PLUS DE PRECISIONS"
   ]
  },
  {
   "cell_type": "markdown",
   "metadata": {},
   "source": [
    "## 16. Faire clignoter la LED 2 à 100% de luminosité toutes les 1,5 secondes pendant 12 secondes, puis éteindre la LED 2 pendant 3 secondes. (Device: 2, Action: 0, Param: 255, Interval: 1.5s, Time: 15s)\n"
   ]
  },
  {
   "cell_type": "code",
   "execution_count": 153,
   "metadata": {},
   "outputs": [],
   "source": [
    "import serial\n",
    "import time\n",
    "\n",
    "# Connexion au port série\n",
    "ser = serial.Serial('COM8', 9600)  # Remplacez 'COM3' par le port série approprié\n",
    "\n",
    "def envoyer_commande(device, action, params):\n",
    "    commande = f\"{device},{action},\" + \",\".join(map(str, params)) + \"\\n\"\n",
    "    ser.write(commande.encode())\n",
    "    time.sleep(0.1)\n",
    "\n",
    "try:\n",
    "    # Faire clignoter la LED 2 à 100% de luminosité toutes les 1,5 secondes pendant 15 secondes\n",
    "    for i in range(12):\n",
    "        envoyer_commande(2, 0, [255])\n",
    "        time.sleep(1.5)\n",
    "        envoyer_commande(2, 0, [0])\n",
    "        time.sleep(1.5)\n",
    "\n",
    "    # Éteindre la LED 2 pendant 3 secondes\n",
    "    envoyer_commande(2, 0, [0])\n",
    "    time.sleep(3)\n",
    "\n",
    "finally:\n",
    "    ser.close()\n"
   ]
  },
  {
   "cell_type": "markdown",
   "metadata": {},
   "source": [
    "41.8s"
   ]
  },
  {
   "cell_type": "markdown",
   "metadata": {},
   "source": [
    "## 17. Augmenter la luminosité de la LED 3 de 0% à 100% en 6 secondes, puis diminuer à 0% en 4 secondes. Répéter 3 fois. (Device: 3, Action: 0, Param: [0, 255], Time: 10s, Repeats: 3)\n"
   ]
  },
  {
   "cell_type": "code",
   "execution_count": 154,
   "metadata": {},
   "outputs": [],
   "source": [
    "import serial\n",
    "import time\n",
    "\n",
    "# Connexion au port série\n",
    "ser = serial.Serial('COM8', 9600)  # Remplacez 'COM3' par le port série approprié\n",
    "\n",
    "def envoyer_commande(device, action, params, delay):\n",
    "    commande = f\"{device},{action},\" + \",\".join(map(str, params)) + \"\\n\"\n",
    "    ser.write(commande.encode())\n",
    "    time.sleep(delay)\n",
    "\n",
    "try:\n",
    "    for i in range(3):\n",
    "        for intensity in range(0, 256, 42):  \n",
    "            envoyer_commande(3, 0, [intensity], 0.1)\n",
    "        time.sleep(6 - 0.1)\n",
    "        for intensity in range(255, -1, -42):  \n",
    "            envoyer_commande(3, 0, [intensity], 0.1)\n",
    "        time.sleep(4 - 0.1)\n",
    "\n",
    "finally:\n",
    "    ser.close()\n"
   ]
  },
  {
   "cell_type": "markdown",
   "metadata": {},
   "source": [
    "33.9s"
   ]
  },
  {
   "cell_type": "markdown",
   "metadata": {},
   "source": [
    "A L'AVENIR IL FAUDRA PLACER DES CAPTEUR DES LUMIERES POU ETRE SUR QUE LES MODELES ONT SU CORRECTEMNT CONTROLER LES MATERIELS POUR REALISER LES INSTRUCTIONS DE L'UTULISATEUR"
   ]
  },
  {
   "cell_type": "markdown",
   "metadata": {},
   "source": [
    "## 18. Alterner l'angle du servo moteur entre 0 et 180 degrés toutes les 2 secondes pendant 20 secondes. (Device: 4, Action: 1, Param: [0, 180], Interval: 2s, Time: 20s)\n"
   ]
  },
  {
   "cell_type": "code",
   "execution_count": 155,
   "metadata": {},
   "outputs": [],
   "source": [
    "import time\n",
    "import serial\n",
    "\n",
    "ser = serial.Serial('COM8', 9600)  # Remplacez 'COM8' par le port série approprié\n",
    "\n",
    "def send_command(device, action, params, interval, times):\n",
    "    for i in range(times):\n",
    "        for param in params:\n",
    "            execute_command(device, action, [param])\n",
    "            time.sleep(interval)\n",
    "        if i < times - 1:\n",
    "            execute_command(device, action, [params[0]])\n",
    "\n",
    "def execute_command(device, action, params):\n",
    "    command = f\"{device},{action},\" + \",\".join(map(str, params)) + \"\\n\"\n",
    "    ser.write(command.encode())\n",
    "    time.sleep(0.1)\n",
    "\n",
    "if __name__ == \"__main__\":\n",
    "    send_command(4, 1, [0, 180], 2, 20)\n",
    "    ser.close()\n"
   ]
  },
  {
   "cell_type": "markdown",
   "metadata": {},
   "source": [
    "86.6s"
   ]
  },
  {
   "cell_type": "markdown",
   "metadata": {},
   "source": [
    "## 19. Faire clignoter la LED 1 à 50% de luminosité et la LED 2 à 75% toutes les 2 secondes pendant 8 secondes. (Device: [1, 2], Action: 0, Param: [128, 192], Interval: 2s, Time: 8s)\n"
   ]
  },
  {
   "cell_type": "code",
   "execution_count": 156,
   "metadata": {},
   "outputs": [],
   "source": [
    "import serial\n",
    "import time\n",
    "\n",
    "# Connexion au port série\n",
    "ser = serial.Serial('COM8', 9600)  # Remplacez 'COM3' par le port série approprié\n",
    "\n",
    "def envoyer_commande(device, action, params, interval, times):\n",
    "    for i in range(times):\n",
    "        for param in params:\n",
    "            ser.write((f\"{device},{action},{param}\\n\").encode())\n",
    "            time.sleep(interval)\n",
    "        time.sleep(interval)\n",
    "\n",
    "try:\n",
    "    # Faire clignoter la LED 1 à 50% de luminosité et la LED 2 à 75% toutes les 2 secondes\n",
    "    params = [128, 192]\n",
    "    envoyer_commande(1, 0, [params[0]], 2, 8)\n",
    "    envoyer_commande(2, 0, [params[1]], 2, 8)\n",
    "finally:\n",
    "    ser.close()\n"
   ]
  },
  {
   "cell_type": "markdown",
   "metadata": {},
   "source": [
    "ECHEC"
   ]
  },
  {
   "cell_type": "markdown",
   "metadata": {},
   "source": [
    "## 20. Augmenter la luminosité de la LED 2 de 0% à 100% en 5 secondes, puis faire clignoter la LED 2 à 100% de luminosité toutes les 1,5 secondes pendant 10 secondes. (Device: 2, Action: [0, 0], Param: [255, 0], Interval: 1.5s, Time: 15s)\n"
   ]
  },
  {
   "cell_type": "code",
   "execution_count": 157,
   "metadata": {},
   "outputs": [],
   "source": [
    "import serial\n",
    "import time\n",
    "\n",
    "# Connexion au port série\n",
    "ser = serial.Serial('COM8', 9600)  # Remplacez 'COM3' par le port série approprié\n",
    "\n",
    "def envoyer_commande(device, action, params):\n",
    "    commande = f\"{device},{action},\" + \",\".join(map(str, params)) + \"\\n\"\n",
    "    ser.write(commande.encode())\n",
    "    time.sleep(0.1)\n",
    "\n",
    "def augmenter_luminosite(device, fin, temps):\n",
    "    etape = int(255 / (temps * 2))\n",
    "    for i in range(int(temps * 2)):\n",
    "        intensite = i * etape if i * etape < 255 else 255\n",
    "        envoyer_commande(device, 0, [intensite])\n",
    "        time.sleep(0.05)\n",
    "    envoyer_commande(device, 0, [fin])\n",
    "\n",
    "def clignoter_led(device, luminosite, intervalle, temps):\n",
    "    envoyer_commande(device, 0, [luminosite])\n",
    "    time.sleep(temps)\n",
    "    for i in range(int(temps / intervalle) + 1):\n",
    "        envoyer_commande(device, 0, [0])\n",
    "        time.sleep(intervalle)\n",
    "        envoyer_commande(device, 0, [luminosite])\n",
    "        time.sleep(intervalle)\n",
    "    envoyer_commande(device, 0, [0])\n",
    "\n",
    "try:\n",
    "    # Augmenter la luminosité de la LED 2 en 5 secondes\n",
    "    augmenter_luminosite(2, 255, 5)\n",
    "\n",
    "    # Faire clignoter la LED 2 à 100% de luminosité toutes les 1,5 secondes pendant 10 secondes\n",
    "    clignoter_led(2, 255, 1.5, 15)\n",
    "\n",
    "finally:\n",
    "    ser.close()\n"
   ]
  },
  {
   "cell_type": "markdown",
   "metadata": {},
   "source": [
    "52.8s"
   ]
  },
  {
   "cell_type": "markdown",
   "metadata": {},
   "source": [
    "## 21. Faire varier l'angle du servo moteur de 90 à 0 degrés, puis de 0 à 90 degrés en 8 secondes. (Device: 4, Action: 1, Param: [90, 0, 90], Time: 8s)\n"
   ]
  },
  {
   "cell_type": "code",
   "execution_count": 158,
   "metadata": {},
   "outputs": [],
   "source": [
    "import serial\n",
    "import time\n",
    "\n",
    "# Connexion au port série\n",
    "ser = serial.Serial('COM8', 9600)  # Remplacez 'COM3' par le port série approprié\n",
    "\n",
    "def envoyer_commande(device, action, params):\n",
    "    commande = f\"{device},{action},\" + \",\".join(map(str, params)) + \"\\n\"\n",
    "    ser.write(commande.encode())\n",
    "    time.sleep(0.1)\n",
    "\n",
    "try:\n",
    "    # Faire varier l'angle du servomoteur de 90 à 0 degrés, puis de 0 à 90 degrés en 8 secondes\n",
    "    for angle in range(90, -1, -1):\n",
    "        envoyer_commande(4, 1, [angle])\n",
    "        time.sleep(8 / 90)\n",
    "\n",
    "    for angle in range(0, 91, 1):\n",
    "        envoyer_commande(4, 1, [angle])\n",
    "        time.sleep(8 / 90)\n",
    "\n",
    "finally:\n",
    "    ser.close()\n"
   ]
  },
  {
   "cell_type": "markdown",
   "metadata": {},
   "source": [
    "37s"
   ]
  },
  {
   "cell_type": "markdown",
   "metadata": {},
   "source": [
    "## 22. Synchroniser l'allumage de la LED 3 avec le mouvement du servo moteur de 0 à 180 degrés toutes les 4 secondes. La LED passe de 0% à 100% de luminosité. (Device: [4, 3], Action: [1, 0], Param: [[0, 180], [0, 255]], Time: 4s)\n"
   ]
  },
  {
   "cell_type": "code",
   "execution_count": 159,
   "metadata": {},
   "outputs": [],
   "source": [
    "import serial\n",
    "import time\n",
    "\n",
    "# Connexion au port série\n",
    "ser = serial.Serial('COM8', 9600)  # Remplacez 'COM3' par le port série approprié\n",
    "\n",
    "def envoyer_commande(device, action, params):\n",
    "    commande = f\"{device},{action},\" + \",\".join(map(str, params)) + \"\\n\"\n",
    "    ser.write(commande.encode())\n",
    "    time.sleep(0.1)\n",
    "\n",
    "try:\n",
    "    # Synchroniser l'allumage de la LED 3 avec le mouvement du servomoteur de 0 à 180 degrés toutes les 4 secondes\n",
    "    for angle in range(0, 181, 30):\n",
    "        # Envoyer la commande pour le servomoteur\n",
    "        envoyer_commande(4, 1, [angle])\n",
    "\n",
    "        # Envoyer les commandes pour la LED 3 avec une luminosité croissante\n",
    "        for intensity in range(0, 256, 51):\n",
    "            envoyer_commande(3, 0, [intensity])\n",
    "            time.sleep(0.5)\n",
    "\n",
    "        # Envoyer la commande pour éteindre la LED 3\n",
    "        envoyer_commande(3, 0, [0])\n",
    "\n",
    "        time.sleep(4 - 0.5)  # Attendre le reste du temps avant le prochain mouvement du servomoteur\n",
    "\n",
    "finally:\n",
    "    ser.close()\n"
   ]
  },
  {
   "cell_type": "markdown",
   "metadata": {},
   "source": [
    "52s"
   ]
  },
  {
   "cell_type": "markdown",
   "metadata": {},
   "source": [
    "## 23. Diminuer la luminosité de la LED 1 de 100% à 0% en 5 secondes, puis augmenter la luminosité de la LED 2 de 0% à 100% en 5 secondes. (Device: [1, 2], Action: 0, Param: [255, 0, 255], Time: 10s)\n"
   ]
  },
  {
   "cell_type": "code",
   "execution_count": 160,
   "metadata": {},
   "outputs": [],
   "source": [
    "import serial\n",
    "import time\n",
    "\n",
    "# Connexion au port série\n",
    "ser = serial.Serial('COM8', 9600)  # Remplacez 'COM3' par le port série approprié\n",
    "\n",
    "def envoyer_commande(device, action, params, time_delay=0):\n",
    "    commande = f\"{device},{action},\" + \",\".join(map(str, params)) + \"\\n\"\n",
    "    ser.write(commande.encode())\n",
    "    time.sleep(time_delay)\n",
    "\n",
    "try:\n",
    "    # Diminuer la luminosité de la LED 1 de 100% à 0% en 5 secondes\n",
    "    for intensity in range(255, -1, -1):  \n",
    "        envoyer_commande(1, 0, [intensity], 0.02)\n",
    "\n",
    "    # Augmenter la luminosité de la LED 2 de 0% à 100% en 5 secondes\n",
    "    for intensity in range(0, 256, 1):  \n",
    "        envoyer_commande(2, 0, [intensity], 0.02)\n",
    "\n",
    "finally:\n",
    "    ser.close()\n"
   ]
  },
  {
   "cell_type": "markdown",
   "metadata": {},
   "source": [
    "97.1s"
   ]
  },
  {
   "cell_type": "markdown",
   "metadata": {},
   "source": [
    "## 30. Synchroniser le mouvement du servo moteur entre 30 et 150 degrés toutes les 5 secondes avec l'allumage de la LED 1 à 100%. (Device: [4, 1], Action: [1, 0], Param: [[30, 150], [255]], Interval: 5s, Time: 10s)\n"
   ]
  },
  {
   "cell_type": "code",
   "execution_count": null,
   "metadata": {},
   "outputs": [],
   "source": [
    "import serial\n",
    "import time\n",
    "\n",
    "# Connexion au port série\n",
    "ser = serial.Serial('COM8', 9600)  # Replace 'COM3' with the appropriate serial port\n",
    "\n",
    "def execute_command(device, action, params, interval):\n",
    "    for param in params[0]:\n",
    "        command = f\"{device},{action},{param},{params[1]}\\n\"\n",
    "        ser.write(command.encode())\n",
    "        time.sleep(interval)\n",
    "\n",
    "try:\n",
    "    # Synchronize servo motor movement with LED 1\n",
    "    execute_command(4, 1, [[30, 150], 1], 5)\n",
    "    execute_command(1, 0, [255], 5)\n",
    "\n",
    "    time.sleep(10)\n",
    "\n",
    "finally:\n",
    "    ser.close()\n"
   ]
  },
  {
   "cell_type": "markdown",
   "metadata": {},
   "source": [
    "ECHEC"
   ]
  },
  {
   "cell_type": "markdown",
   "metadata": {},
   "source": [
    "## 42. Synchroniser l'allumage de la LED 2 avec le mouvement du servo moteur entre 0 et 180 degrés toutes les 6 secondes. La LED passe de 0% à 100% de luminosité. (Device: [2, 4], Action: [0, 1], Param: [[0, 180], [0, 255]], Interval: 6s, Time: 12s)\n"
   ]
  },
  {
   "cell_type": "code",
   "execution_count": null,
   "metadata": {},
   "outputs": [],
   "source": [
    "import serial\n",
    "import time\n",
    "\n",
    "# Connexion au port série\n",
    "ser = serial.Serial('COM8', 9600)  # Remplacez 'COM3' par le port série approprié\n",
    "\n",
    "def envoyer_commande(device, action, params):\n",
    "    commande = f\"{device},{action},\" + \",\".join(map(str, params)) + \"\\n\"\n",
    "    ser.write(commande.encode())\n",
    "    time.sleep(0.1)\n",
    "\n",
    "try:\n",
    "    # Synchroniser l'allumage de la LED 2 avec le mouvement du servo moteur entre 0 et 180 degrés toutes les 6 secondes\n",
    "    for i in range(6):\n",
    "        for angle in range(0, 181, 30):\n",
    "            envoyer_commande(4, 1, [angle])\n",
    "            intensity = int(255 / 6 * i)\n",
    "            envoyer_commande(2, 0, [intensity])\n",
    "            time.sleep(1)\n",
    "        time.sleep(1)\n",
    "\n",
    "    # Répéter le même schéma pour une durée totale de 12 secondes\n",
    "    for i in range(6, 12):\n",
    "        for angle in range(180, -1, -30):\n",
    "            envoyer_commande(4, 1, [angle])\n",
    "            intensity = int(255 / 6 * (i - 6))\n",
    "            envoyer_commande(2, 0, [intensity])\n",
    "            time.sleep(1)\n",
    "        time.sleep(1)\n",
    "\n",
    "finally:\n",
    "    # Éteindre la LED 2 et arrêter le servo moteur\n",
    "    envoyer_commande(2, 0, [0])\n",
    "    envoyer_commande(4, 1, [0])\n",
    "    ser.close()\n"
   ]
  },
  {
   "cell_type": "markdown",
   "metadata": {},
   "source": [
    "REUSSITE: DIFFICILE D'EVALUER UNE BOUCLE INFINIE"
   ]
  },
  {
   "cell_type": "markdown",
   "metadata": {},
   "source": [
    "# CONTROLE DYNAMIQUE DE MISTRAL 7B V2.0"
   ]
  },
  {
   "cell_type": "markdown",
   "metadata": {},
   "source": []
  },
  {
   "cell_type": "markdown",
   "metadata": {},
   "source": [
    "## 1. Augmenter progressivement la luminosité de la LED 1 de 0% à 100% en 5 secondes. (Device: 1, Action: 0, Param: [0, 255], Time: 5s)\n"
   ]
  },
  {
   "cell_type": "code",
   "execution_count": 195,
   "metadata": {},
   "outputs": [],
   "source": [
    "import serial\n",
    "import time\n",
    "\n",
    "# Connexion au port série\n",
    "ser = serial.Serial('COM8', 9600)  # Remplacez 'COM3' par le port série approprié\n",
    "\n",
    "def envoyer_commande(device, action, params):\n",
    "    commande = f\"{device},{action},\" + \",\".join(map(str, params)) + \"\\n\"\n",
    "    ser.write(commande.encode())\n",
    "    time.sleep(0.1)\n",
    "\n",
    "# Augmenter progressivement la luminosité de la LED 1 de 0% à 100% en 5 secondes\n",
    "for intensity in range(0, 256, 51):\n",
    "    envoyer_commande(1, 0, [intensity])\n",
    "    time.sleep(1 / 60)  # Temps en secondes\n",
    "\n",
    "# Éteindre la LED 1\n",
    "envoyer_commande(1, 0, [0])\n",
    "\n",
    "ser.close()\n"
   ]
  },
  {
   "cell_type": "markdown",
   "metadata": {},
   "source": [
    "1.1s"
   ]
  },
  {
   "cell_type": "markdown",
   "metadata": {},
   "source": [
    "on constate aussi que mistral 7B ne s'en sort pas bien au niveau temporel a la premiere instruction"
   ]
  },
  {
   "cell_type": "markdown",
   "metadata": {},
   "source": [
    "## 2. Faire varier l'angle du servo moteur de 0 à 180 degrés et revenir à 90 degrés en 10 secondes. (Device: 4, Action: 1, Param: [0, 180, 90], Time: 10s)\n"
   ]
  },
  {
   "cell_type": "code",
   "execution_count": 199,
   "metadata": {},
   "outputs": [],
   "source": [
    "import serial\n",
    "import time\n",
    "\n",
    "# Connexion au port série\n",
    "ser = serial.Serial('COM8', 9600)  # Remplacez 'COM3' par le port série approprié\n",
    "\n",
    "def envoyer_commande(device, action, params):\n",
    "    commande = f\"{device},{action},\" + \",\".join(map(str, params)) + \"\\n\"\n",
    "    ser.write(commande.encode())\n",
    "    time.sleep(0.1)\n",
    "\n",
    "try:\n",
    "    # Variation de l'angle du servo moteur de 0 à 180 degrés en 10 secondes\n",
    "    for angle in range(0, 181, 1):\n",
    "        envoyer_commande(4, 1, [angle])\n",
    "        time.sleep(0.1)\n",
    "\n",
    "    # Retour à 90 degrés en 10 secondes\n",
    "    for _ in range(10):\n",
    "        envoyer_commande(4, 1, [90])\n",
    "        time.sleep(1)\n",
    "\n",
    "finally:\n",
    "    ser.close()\n"
   ]
  },
  {
   "cell_type": "markdown",
   "metadata": {},
   "source": [
    "50.8s"
   ]
  },
  {
   "cell_type": "markdown",
   "metadata": {},
   "source": [
    "## 3. Alterner l'allumage des LED 1 et 2 avec des intervalles de 2 secondes pendant 10 secondes. (Device: [1, 2], Action: 0, Param: [255, 0], Interval: 2s, Time: 10s)\n"
   ]
  },
  {
   "cell_type": "code",
   "execution_count": 202,
   "metadata": {},
   "outputs": [],
   "source": [
    "import serial\n",
    "import time\n",
    "\n",
    "# Connexion au port série\n",
    "ser = serial.Serial('COM8', 9600)  # Remplacez 'COM3' par le port série approprié\n",
    "\n",
    "def envoyer_commande(device, action, params):\n",
    "    commande = f\"{device},{action},\" + \",\".join(map(str, params)) + \"\\n\"\n",
    "    ser.write(commande.encode())\n",
    "    time.sleep(0.1)\n",
    "\n",
    "# Paramètres de la commande\n",
    "device_1 = 1\n",
    "device_2 = 2\n",
    "intensite_max = 255\n",
    "interval = 2\n",
    "temps_total = 10\n",
    "\n",
    "try:\n",
    "    # Boucle pour alterner l'allumage\n",
    "    for i in range(temps_total):\n",
    "        # Allumer la LED 1\n",
    "        envoyer_commande(device_1, 0, [intensite_max])\n",
    "        time.sleep(interval)\n",
    "\n",
    "        # Allumer la LED 2\n",
    "        envoyer_commande(device_2, 0, [intensite_max])\n",
    "        time.sleep(interval)\n",
    "\n",
    "finally:\n",
    "    ser.close()\n"
   ]
  },
  {
   "cell_type": "markdown",
   "metadata": {},
   "source": [
    "ECHEC: NON RESPECT DES INSTRUCTIONS"
   ]
  },
  {
   "cell_type": "code",
   "execution_count": null,
   "metadata": {},
   "outputs": [],
   "source": [
    "import serial\n",
    "import time\n",
    "\n",
    "# Connexion au port série\n",
    "ser = serial.Serial('COM8', 9600)  # Remplacez 'COM3' par le port série approprié\n",
    "\n",
    "def envoyer_commande(device, action, params):\n",
    "    commande = f\"{device},{action},\" + \",\".join(map(str, params)) + \"\\n\"\n",
    "    ser.write(commande.encode())\n",
    "    time.sleep(0.1)\n",
    "\n",
    "# Fonction pour alterner les LED 1 et 2\n",
    "def alterner_leds(led1_intensity, led2_intensity):\n",
    "    while True:\n",
    "        # Allumer la LED 1\n",
    "        envoyer_commande(1, 0, [led1_intensity])\n",
    "        time.sleep(2)\n",
    "\n",
    "        # Allumer la LED 2\n",
    "        envoyer_commande(2, 0, [led2_intensity])\n",
    "        time.sleep(2)\n",
    "\n",
    "        # Éteindre les deux LEDs\n",
    "        envoyer_commande(1, 0, [0])\n",
    "        envoyer_commande(2, 0, [0])\n",
    "        time.sleep(2)\n",
    "\n",
    "# Alterner les LED 1 et 2 pendant 10 secondes\n",
    "alterner_leds(255, 0)\n",
    "\n",
    "# Attendre les 10 secondes\n",
    "time.sleep(10)\n",
    "\n",
    "# Éteindre les LEDs\n",
    "envoyer_commande(1, 0, [0])\n",
    "envoyer_commande(2, 0, [0])\n",
    "\n",
    "\n",
    "finally:\n",
    "    ser.close()"
   ]
  },
  {
   "cell_type": "markdown",
   "metadata": {},
   "source": [
    "ECHEC"
   ]
  },
  {
   "cell_type": "markdown",
   "metadata": {},
   "source": [
    "## 4. Faire clignoter la LED 3 cinq fois avec un intervalle de 1 seconde entre chaque allumage. (Device: 3, Action: 0, Param: 255, Interval: 1s, Repeats: 5)\n"
   ]
  },
  {
   "cell_type": "code",
   "execution_count": 205,
   "metadata": {},
   "outputs": [],
   "source": [
    "import serial\n",
    "import time\n",
    "\n",
    "# Connexion au port série\n",
    "ser = serial.Serial('COM8', 9600)  # Remplacez 'COM3' par le port série approprié\n",
    "\n",
    "def envoyer_commande(device, action, params):\n",
    "    commande = f\"{device},{action},\" + \",\".join(map(str, params)) + \"\\n\"\n",
    "    ser.write(commande.encode())\n",
    "    time.sleep(0.1)\n",
    "\n",
    "def clignotement(device, action, params, interval, repeats):\n",
    "    for i in range(repeats):\n",
    "        envoyer_commande(device, action, params)\n",
    "        time.sleep(interval)\n",
    "\n",
    "try:\n",
    "    # Faire clignoter la LED 3 cinq fois\n",
    "    clignotement(3, 0, [255], 1, 5)\n",
    "\n",
    "finally:\n",
    "    ser.close()\n"
   ]
  },
  {
   "cell_type": "markdown",
   "metadata": {},
   "source": [
    "ECHEC"
   ]
  },
  {
   "cell_type": "code",
   "execution_count": 206,
   "metadata": {},
   "outputs": [],
   "source": [
    "import serial\n",
    "import time\n",
    "\n",
    "# Connexion au port série\n",
    "ser = serial.Serial('COM8', 9600)  # Remplacez 'COM3' par le port série approprié\n",
    "\n",
    "def envoyer_commande(device, action, params):\n",
    "    commande = f\"{device},{action},\" + \",\".join(map(str, params)) + \"\\n\"\n",
    "    ser.write(commande.encode())\n",
    "    time.sleep(0.1)\n",
    "\n",
    "try:\n",
    "    # Faire clignoter la LED 3 cinq fois avec un intervalle de 1 seconde entre chaque allumage\n",
    "    for _ in range(5):\n",
    "        envoyer_commande(3, 0, [255])\n",
    "        time.sleep(1)\n",
    "finally:\n",
    "    ser.close()\n"
   ]
  },
  {
   "cell_type": "markdown",
   "metadata": {},
   "source": [
    "ECHEC: IL N'A PAS ETEINT LA LAMPE DANS LES INTERVALLES"
   ]
  },
  {
   "cell_type": "markdown",
   "metadata": {},
   "source": [
    "## 5. Diminuer progressivement la luminosité de la LED 2 de 100% à 0% en 3 secondes. (Device: 2, Action: 0, Param: [255, 0], Time: 3s)\n"
   ]
  },
  {
   "cell_type": "code",
   "execution_count": 1,
   "metadata": {},
   "outputs": [],
   "source": [
    "import serial\n",
    "import time\n",
    "\n",
    "# Connexion au port série\n",
    "ser = serial.Serial('COM8', 9600)  # Remplacez 'COM3' par le port série approprié\n",
    "\n",
    "def envoyer_commande(device, action, params):\n",
    "    commande = f\"{device},{action},\" + \",\".join(map(str, params)) + \"\\n\"\n",
    "    ser.write(commande.encode())\n",
    "    time.sleep(0.1)\n",
    "\n",
    "try:\n",
    "    # Diminuer progressivement la luminosité de la LED 2 de 100% à 0% en 3 secondes\n",
    "    for intensity in range(255, 0, -10):\n",
    "        envoyer_commande(2, 0, [intensity])\n",
    "        time.sleep(0.03)\n",
    "finally:\n",
    "    ser.close()\n"
   ]
  },
  {
   "cell_type": "markdown",
   "metadata": {},
   "source": [
    "3.7s"
   ]
  },
  {
   "cell_type": "code",
   "execution_count": 208,
   "metadata": {},
   "outputs": [],
   "source": [
    "import serial\n",
    "import time\n",
    "\n",
    "# Connexion au port série\n",
    "ser = serial.Serial('COM8', 9600)  # Remplacez 'COM3' par le port série approprié\n",
    "\n",
    "def envoyer_commande(device, action, params):\n",
    "    commande = f\"{device},{action},\" + \",\".join(map(str, params)) + \"\\n\"\n",
    "    ser.write(commande.encode())\n",
    "    time.sleep(0.001)\n",
    "\n",
    "def diminuer_intensite_led(led_numero, intensite_max, temps):\n",
    "    for intensite in range(intensite_max, 0, -1):\n",
    "        envoyer_commande(led_numero, 0, [intensite])\n",
    "        time.sleep(temps / 100)\n",
    "    envoyer_commande(led_numero, 0, [0])\n",
    "\n",
    "try:\n",
    "    diminuer_intensite_led(2, 255, 3000)  # Diminuer la luminosité de la LED 2 de 100% à 0% en 3 secondes\n",
    "finally:\n",
    "    ser.close()\n"
   ]
  },
  {
   "cell_type": "markdown",
   "metadata": {},
   "source": [
    "ECHEC"
   ]
  },
  {
   "cell_type": "markdown",
   "metadata": {},
   "source": [
    "## 6. Synchroniser le mouvement du servo moteur et l'allumage de la LED 1, le servo allant de 0 à 180 degrés tandis que la LED passe de 0% à 100% de façon synchrone inverse au servo par pas de 50 (Device: [4, 1], Action: [1, 0], Param: [[0, 180], [0, 255]], Time: 10s)\n"
   ]
  },
  {
   "cell_type": "code",
   "execution_count": 2,
   "metadata": {},
   "outputs": [],
   "source": [
    "import serial\n",
    "import time\n",
    "\n",
    "# Connexion au port série\n",
    "ser = serial.Serial('COM8', 9600)  # Remplacez 'COM3' par le port série approprié\n",
    "\n",
    "def envoyer_commande(device, action, params):\n",
    "    commande = f\"{device},{action},\" + \",\".join(map(str, params)) + \"\\n\"\n",
    "    ser.write(commande.encode())\n",
    "    time.sleep(0.1)\n",
    "\n",
    "try:\n",
    "    # Synchroniser le mouvement du servo moteur et l'allumage de la LED 1\n",
    "    for angle in range(0, 181, 50):\n",
    "        envoyer_commande(4, 1, [angle])\n",
    "        intensity = 255 - angle\n",
    "        envoyer_commande(1, 0, [intensity])\n",
    "        time.sleep(1)\n",
    "\n",
    "finally:\n",
    "    ser.close()\n"
   ]
  },
  {
   "cell_type": "markdown",
   "metadata": {},
   "source": [
    "4.9s"
   ]
  },
  {
   "cell_type": "code",
   "execution_count": 5,
   "metadata": {},
   "outputs": [],
   "source": [
    "import serial\n",
    "import time\n",
    "\n",
    "ser = serial.Serial('COM8', 9600)  # Remplacez 'COM3' par le port série approprié\n",
    "\n",
    "def envoyer_commande(device, action, params):\n",
    "    commande = f\"{device},{action},\" + \",\".join(map(str, params)) + \"\\n\"\n",
    "    ser.write(commande.encode())\n",
    "    time.sleep(0.1)\n",
    "\n",
    "def allumer_LED_et_servo(intensite_LED, angle_servo):\n",
    "    # Allumer la LED 1 à l'intensité spécifiée\n",
    "    envoyer_commande(1, 0, [intensite_LED])\n",
    "\n",
    "    # Faire pivoter le servomoteur au niveau spécifié\n",
    "    envoyer_commande(4, 1, [angle_servo])\n",
    "\n",
    "def deplacer_servo_et_allumer_LED(angle_depart, angle_fin, intensite_depart, intensite_fin, temps):\n",
    "    for angle in range(angle_depart, angle_fin, 50):\n",
    "        for intensite in range(intensite_depart, intensite_fin, -50):\n",
    "            allumer_LED_et_servo(intensite, angle)\n",
    "            time.sleep(temps / (angle_fin - angle_depart) * (angle - angle_depart))\n",
    "\n",
    "try:\n",
    "    deplacer_servo_et_allumer_LED(0, 180, 0, 255, 10)\n",
    "finally:\n",
    "    ser.close()\n"
   ]
  },
  {
   "cell_type": "markdown",
   "metadata": {},
   "source": [
    "ECHEC"
   ]
  },
  {
   "cell_type": "markdown",
   "metadata": {},
   "source": [
    "## 7. Faire varier la luminosité des LED 1 et 2 en alternance toutes les 0,5 secondes pendant 10 secondes. (Device: [1, 2], Action: 0, Param: [255, 0], Interval: 0.5s, Time: 10s)\n"
   ]
  },
  {
   "cell_type": "code",
   "execution_count": 6,
   "metadata": {},
   "outputs": [],
   "source": [
    "import serial\n",
    "import time\n",
    "\n",
    "# Connexion au port série\n",
    "ser = serial.Serial('COM8', 9600)  # Remplacez 'COM3' par le port série approprié\n",
    "\n",
    "def envoyer_commande(device, action, params):\n",
    "    commande = f\"{device},{action},\" + \",\".join(map(str, params)) + \"\\n\"\n",
    "    ser.write(commande.encode())\n",
    "    time.sleep(0.1)\n",
    "\n",
    "# Définition des paramètres\n",
    "device_led1 = 1\n",
    "device_led2 = 2\n",
    "action_led1 = 0\n",
    "action_led2 = 0\n",
    "params_led1 = [255]\n",
    "params_led2 = [0]\n",
    "interval = 0.5\n",
    "time_total = 10\n",
    "\n",
    "try:\n",
    "    # Boucle pour varier la luminosité des LED\n",
    "    for i in range(int(time_total / interval)):\n",
    "        # Allumer la LED 1 et éteindre la LED 2\n",
    "        envoyer_commande(device_led1, action_led1, params_led1)\n",
    "        envoyer_commande(device_led2, action_led2, params_led2)\n",
    "        time.sleep(interval)\n",
    "\n",
    "        # Allumer la LED 2 et éteindre la LED 1\n",
    "        envoyer_commande(device_led1, action_led1, params_led1)\n",
    "        envoyer_commande(device_led2, action_led2, params_led2)\n",
    "        time.sleep(interval)\n",
    "\n",
    "finally:\n",
    "    ser.close()\n"
   ]
  },
  {
   "cell_type": "markdown",
   "metadata": {},
   "source": [
    "ECHEC"
   ]
  },
  {
   "cell_type": "code",
   "execution_count": null,
   "metadata": {},
   "outputs": [],
   "source": [
    "import serial\n",
    "import time\n",
    "\n",
    "# Connexion au port série\n",
    "ser = serial.Serial('COM8', 9600)  # Remplacez 'COM3' par le port série approprié\n",
    "\n",
    "def envoyer_commande(device, action, params):\n",
    "    commande = f\"{device},{action},\" + \",\".join(map(str, params)) + \"\\n\"\n",
    "    ser.write(commande.encode())\n",
    "    time.sleep(0.1)\n",
    "\n",
    "# Fonction pour contrôler les LED 1 et 2 en alternance\n",
    "def controler_leds(device1, device2, intensity1, intensity2, interval):\n",
    "    while True:\n",
    "        envoyer_commande(device1, 0, [intensity1])\n",
    "        envoyer_commande(device2, 0, [intensity2])\n",
    "        time.sleep(interval)\n",
    "\n",
    "        envoyer_commande(device1, 0, [0])\n",
    "        envoyer_commande(device2, 0, [0])\n",
    "        time.sleep(interval)\n",
    "\n",
    "try:\n",
    "    # Paramètres pour les LED 1 et 2\n",
    "    device1 = 1\n",
    "    device2 = 2\n",
    "    intensity1_max = 255\n",
    "    intensity2_max = 0\n",
    "    interval = 0.5\n",
    "\n",
    "    # Variation de la luminosité des LED 1 et 2 en alternance pendant 10 secondes\n",
    "    controler_leds(device1, device2, intensity1_max, intensity2_max, interval)\n",
    "    time.sleep(10 * interval)\n",
    "\n",
    "finally:\n",
    "    ser.close()\n"
   ]
  },
  {
   "cell_type": "markdown",
   "metadata": {},
   "source": [
    "ECHEC"
   ]
  },
  {
   "cell_type": "markdown",
   "metadata": {},
   "source": [
    "## 8. Faire passer la LED 3 de 0% à 100% de luminosité en 2 secondes, puis revenir à 0% en 2 secondes. Répéter 3 fois. (Device: 3, Action: 0, Param: [0, 255], Time: 4s, Repeats: 3)\n"
   ]
  },
  {
   "cell_type": "code",
   "execution_count": 8,
   "metadata": {},
   "outputs": [],
   "source": [
    "import serial\n",
    "import time\n",
    "\n",
    "# Connexion au port série\n",
    "ser = serial.Serial('COM8', 9600)  # Remplacez 'COM3' par le port série approprié\n",
    "\n",
    "def envoyer_commande(device, action, params):\n",
    "    commande = f\"{device},{action},\" + \",\".join(map(str, params)) + \"\\n\"\n",
    "    ser.write(commande.encode())\n",
    "    time.sleep(0.1)\n",
    "\n",
    "def pause(duree):\n",
    "    time.sleep(duree)\n",
    "\n",
    "try:\n",
    "    # Commande pour la LED 3\n",
    "    for i in range(3):\n",
    "        # Allumer la LED 3 de 0 à 100% de luminosité en 2 secondes\n",
    "        for luminosite in range(0, 256, 8):\n",
    "            envoyer_commande(3, 0, [luminosite])\n",
    "            pause(0.08)  # 1/12 de seconde\n",
    "        # Éteindre la LED 3\n",
    "        envoyer_commande(3, 0, [0])\n",
    "        pause(2)  # 2 secondes\n",
    "\n",
    "finally:\n",
    "    ser.close()\n"
   ]
  },
  {
   "cell_type": "markdown",
   "metadata": {},
   "source": [
    "25.2s"
   ]
  },
  {
   "cell_type": "code",
   "execution_count": 9,
   "metadata": {},
   "outputs": [
    {
     "ename": "AttributeError",
     "evalue": "'int' object has no attribute 'sleep'",
     "output_type": "error",
     "traceback": [
      "\u001b[1;31m---------------------------------------------------------------------------\u001b[0m",
      "\u001b[1;31mAttributeError\u001b[0m                            Traceback (most recent call last)",
      "Cell \u001b[1;32mIn[9], line 15\u001b[0m\n\u001b[0;32m     13\u001b[0m \u001b[38;5;28;01mfor\u001b[39;00m _ \u001b[38;5;129;01min\u001b[39;00m \u001b[38;5;28mrange\u001b[39m(\u001b[38;5;241m3\u001b[39m):\n\u001b[0;32m     14\u001b[0m     \u001b[38;5;28;01mfor\u001b[39;00m intensity \u001b[38;5;129;01min\u001b[39;00m \u001b[38;5;28mrange\u001b[39m(\u001b[38;5;241m0\u001b[39m, \u001b[38;5;241m256\u001b[39m, \u001b[38;5;241m1\u001b[39m):\n\u001b[1;32m---> 15\u001b[0m         \u001b[43menvoyer_commande\u001b[49m\u001b[43m(\u001b[49m\u001b[38;5;241;43m3\u001b[39;49m\u001b[43m,\u001b[49m\u001b[43m \u001b[49m\u001b[38;5;241;43m0\u001b[39;49m\u001b[43m,\u001b[49m\u001b[43m \u001b[49m\u001b[43m[\u001b[49m\u001b[43mintensity\u001b[49m\u001b[43m]\u001b[49m\u001b[43m)\u001b[49m\n\u001b[0;32m     16\u001b[0m         time\u001b[38;5;241m.\u001b[39msleep(\u001b[38;5;241m0.02\u001b[39m)\n\u001b[0;32m     17\u001b[0m     envoyer_commande(\u001b[38;5;241m3\u001b[39m, \u001b[38;5;241m0\u001b[39m, [\u001b[38;5;241m0\u001b[39m])\n",
      "Cell \u001b[1;32mIn[9], line 9\u001b[0m, in \u001b[0;36menvoyer_commande\u001b[1;34m(device, action, params, time, repeats)\u001b[0m\n\u001b[0;32m      7\u001b[0m commande \u001b[38;5;241m=\u001b[39m \u001b[38;5;124mf\u001b[39m\u001b[38;5;124m\"\u001b[39m\u001b[38;5;132;01m{\u001b[39;00mdevice\u001b[38;5;132;01m}\u001b[39;00m\u001b[38;5;124m,\u001b[39m\u001b[38;5;132;01m{\u001b[39;00maction\u001b[38;5;132;01m}\u001b[39;00m\u001b[38;5;124m,\u001b[39m\u001b[38;5;124m\"\u001b[39m \u001b[38;5;241m+\u001b[39m \u001b[38;5;124m\"\u001b[39m\u001b[38;5;124m,\u001b[39m\u001b[38;5;124m\"\u001b[39m\u001b[38;5;241m.\u001b[39mjoin(\u001b[38;5;28mmap\u001b[39m(\u001b[38;5;28mstr\u001b[39m, params)) \u001b[38;5;241m+\u001b[39m \u001b[38;5;124m\"\u001b[39m\u001b[38;5;124m,\u001b[39m\u001b[38;5;124m\"\u001b[39m \u001b[38;5;241m+\u001b[39m \u001b[38;5;28mstr\u001b[39m(repeats) \u001b[38;5;241m+\u001b[39m \u001b[38;5;124m\"\u001b[39m\u001b[38;5;124m,\u001b[39m\u001b[38;5;124m\"\u001b[39m \u001b[38;5;241m+\u001b[39m \u001b[38;5;28mstr\u001b[39m(time) \u001b[38;5;241m+\u001b[39m \u001b[38;5;124m\"\u001b[39m\u001b[38;5;130;01m\\n\u001b[39;00m\u001b[38;5;124m\"\u001b[39m\n\u001b[0;32m      8\u001b[0m ser\u001b[38;5;241m.\u001b[39mwrite(commande\u001b[38;5;241m.\u001b[39mencode())\n\u001b[1;32m----> 9\u001b[0m \u001b[43mtime\u001b[49m\u001b[38;5;241;43m.\u001b[39;49m\u001b[43msleep\u001b[49m(\u001b[38;5;241m0.1\u001b[39m)\n",
      "\u001b[1;31mAttributeError\u001b[0m: 'int' object has no attribute 'sleep'"
     ]
    }
   ],
   "source": [
    "import serial\n",
    "import time\n",
    "\n",
    "ser = serial.Serial('COM8', 9600)  # Remplacez 'COM3' par le port série approprié\n",
    "\n",
    "def envoyer_commande(device, action, params, time=1, repeats=1):\n",
    "    commande = f\"{device},{action},\" + \",\".join(map(str, params)) + \",\" + str(repeats) + \",\" + str(time) + \"\\n\"\n",
    "    ser.write(commande.encode())\n",
    "    time.sleep(0.1)\n",
    "\n",
    "try:\n",
    "    # Faire passer la LED 3 de 0% à 100% de luminosité en 2 secondes, puis revenir à 0% en 2 secondes. Répéter 3 fois.\n",
    "    for _ in range(3):\n",
    "        for intensity in range(0, 256, 1):\n",
    "            envoyer_commande(3, 0, [intensity])\n",
    "            time.sleep(0.02)\n",
    "        envoyer_commande(3, 0, [0])\n",
    "        time.sleep(2)\n",
    "finally:\n",
    "    ser.close()\n"
   ]
  },
  {
   "cell_type": "markdown",
   "metadata": {},
   "source": [
    "ECHEC"
   ]
  },
  {
   "cell_type": "markdown",
   "metadata": {},
   "source": [
    "## 9. Augmenter progressivement la luminosité de la LED 2 de 0% à 50% en 1 seconde, puis de 50% à 100% en 2 secondes. (Device: 2, Action: 0, Param: [0, 128, 255], Time: 3s)\n"
   ]
  },
  {
   "cell_type": "code",
   "execution_count": 10,
   "metadata": {},
   "outputs": [],
   "source": [
    "import serial\n",
    "import time\n",
    "\n",
    "# Connexion au port série\n",
    "ser = serial.Serial('COM8', 9600)  # Remplacez 'COM3' par le port série approprié\n",
    "\n",
    "def envoyer_commande(device, action, params):\n",
    "    commande = f\"{device},{action},\" + \",\".join(map(str, params)) + \"\\n\"\n",
    "    ser.write(commande.encode())\n",
    "    time.sleep(0.1)\n",
    "\n",
    "def change_led_brightness(led, start_brightness, end_brightness, time_to_reach):\n",
    "    for brightness in range(start_brightness, end_brightness + 1, (end_brightness - start_brightness) // time_to_reach):\n",
    "        envoyer_commande(2, 0, [brightness])\n",
    "        time.sleep(0.1)\n",
    "\n",
    "try:\n",
    "    # Augmenter progressivement la luminosité de la LED 2 de 0% à 50% en 1 seconde\n",
    "    change_led_brightness(2, 0, 127, 1)\n",
    "\n",
    "    # Attendre 1 seconde\n",
    "    time.sleep(1)\n",
    "\n",
    "    # Augmenter progressivement la luminosité de la LED 2 de 50% à 100% en 2 secondes\n",
    "    change_led_brightness(2, 127, 255, 2)\n",
    "\n",
    "finally:\n",
    "    ser.close()\n"
   ]
  },
  {
   "cell_type": "markdown",
   "metadata": {},
   "source": [
    "2.1s"
   ]
  },
  {
   "cell_type": "code",
   "execution_count": null,
   "metadata": {},
   "outputs": [],
   "source": [
    "import serial\n",
    "import time\n",
    "\n",
    "# Connexion au port série\n",
    "ser = serial.Serial('COM8', 9600)  # Remplacez 'COM3' par le port série approprié\n",
    "\n",
    "def envoyer_commande(device, action, params):\n",
    "    commande = f\"{device},{action},\" + \",\".join(map(str, params)) + \"\\n\"\n",
    "    ser.write(commande.encode())\n",
    "    time.sleep(0.1)\n",
    "\n",
    "# Fonction pour changer progressivement la luminosité de la LED 2\n",
    "def change_led_brightness(brightness_start, brightness_end, time):\n",
    "    for i in range(int((brightness_end - brightness_start) / time) + 1):\n",
    "        if brightness_start < brightness_end:\n",
    "            envoyer_commande(2, 0, [int(brightness_start)])\n",
    "            brightness_start += int((brightness_end - brightness_start) / time)\n",
    "        else:\n",
    "            envoyer_commande(2, 0, [int(brightness_start)])\n",
    "            brightness_start -= int((brightness_start - brightness_end) / time)\n",
    "        time.sleep(0.1)\n",
    "\n",
    "try:\n",
    "    # Augmenter progressivement la luminosité de la LED 2 de 0% à 50% en 1 seconde\n",
    "    change_led_brightness(0, 128, 1)\n",
    "\n",
    "    # Attendre 2 secondes\n",
    "    time.sleep(2)\n",
    "\n",
    "    # Augmenter progressivement la luminosité de la LED 2 de 50% à 100% en 2 secondes\n",
    "    change_led_brightness(128, 255, 2)\n",
    "\n",
    "finally:\n",
    "    ser.close()\n"
   ]
  },
  {
   "cell_type": "markdown",
   "metadata": {},
   "source": [
    "ECHEC"
   ]
  },
  {
   "cell_type": "markdown",
   "metadata": {},
   "source": [
    "## 10. Faire varier l'angle du servo moteur de 90 à 0 degrés, puis de 0 à 90 degrés en 4 secondes. (Device: 4, Action: 1, Param: [90, 0, 90], Time: 4s)\n"
   ]
  },
  {
   "cell_type": "code",
   "execution_count": 13,
   "metadata": {},
   "outputs": [],
   "source": [
    "import serial\n",
    "import time\n",
    "\n",
    "# Connexion au port série\n",
    "ser = serial.Serial('COM8', 9600)  # Remplacez 'COM3' par le port série approprié\n",
    "\n",
    "def envoyer_commande(device, action, params):\n",
    "    commande = f\"{device},{action},\" + \",\".join(map(str, params)) + \"\\n\"\n",
    "    ser.write(commande.encode())\n",
    "    time.sleep(0.1)\n",
    "\n",
    "try:\n",
    "    # Faire varier l'angle du servomoteur de 90 à 0 degrés\n",
    "    for angle in range(90, -1, -1):\n",
    "        envoyer_commande(4, 1, [angle])\n",
    "        time.sleep(0.1)\n",
    "\n",
    "    # Faire varier l'angle du servomoteur de 0 à 90 degrés\n",
    "    for angle in range(0, 91):\n",
    "        envoyer_commande(4, 1, [angle])\n",
    "        time.sleep(0.04)\n",
    "\n",
    "finally:\n",
    "    ser.close()\n"
   ]
  },
  {
   "cell_type": "markdown",
   "metadata": {},
   "source": [
    "34s"
   ]
  },
  {
   "cell_type": "code",
   "execution_count": 14,
   "metadata": {},
   "outputs": [],
   "source": [
    "import serial\n",
    "import time\n",
    "\n",
    "# Connexion au port série\n",
    "ser = serial.Serial('COM8', 9600)  # Remplacez 'COM3' par le port série approprié\n",
    "\n",
    "def envoyer_commande(device, action, params):\n",
    "    commande = f\"{device},{action},\" + \",\".join(map(str, params)) + \"\\n\"\n",
    "    ser.write(commande.encode())\n",
    "    time.sleep(0.1)\n",
    "\n",
    "try:\n",
    "    # Faire varier l'angle du servomoteur de 90 à 0 degrés\n",
    "    for angle in range(90, -1, -1):\n",
    "        envoyer_commande(4, 1, [angle])\n",
    "        time.sleep(0.1)\n",
    "\n",
    "    # Faire varier l'angle du servomoteur de 0 à 90 degrés\n",
    "    for angle in range(0, 91):\n",
    "        envoyer_commande(4, 1, [angle])\n",
    "        time.sleep(0.1)\n",
    "\n",
    "finally:\n",
    "    ser.close()\n"
   ]
  },
  {
   "cell_type": "markdown",
   "metadata": {},
   "source": [
    "39.3s"
   ]
  },
  {
   "cell_type": "markdown",
   "metadata": {},
   "source": [
    "## 11. Éteindre la LED 1 pendant 2 secondes, puis allumer la LED 3 à 100% pendant 2 secondes. Répéter 4 fois. (Device: [1, 3], Action: [0, 0], Param: [0, 255], Interval: 2s, Repeats: 4)\n"
   ]
  },
  {
   "cell_type": "code",
   "execution_count": 15,
   "metadata": {},
   "outputs": [],
   "source": [
    "import serial\n",
    "import time\n",
    "\n",
    "# Connexion au port série\n",
    "ser = serial.Serial('COM8', 9600)  # Remplacez 'COM3' par le port série approprié\n",
    "\n",
    "def envoyer_commande(device, action, params):\n",
    "    commande = f\"{device},{action},\" + \",\".join(map(str, params)) + \"\\n\"\n",
    "    ser.write(commande.encode())\n",
    "    time.sleep(0.1)\n",
    "\n",
    "def commande_repetee(device, action, params, interval, repeats):\n",
    "    for _ in range(repeats):\n",
    "        envoyer_commande(device, action, params)\n",
    "        time.sleep(interval)\n",
    "\n",
    "try:\n",
    "    # Éteindre la LED 1 pendant 2 secondes\n",
    "    commande_repetee(1, 0, [0], 2, 4)\n",
    "\n",
    "    # Allumer la LED 3 à 100% pendant 2 secondes\n",
    "    commande_repetee(3, 0, [255], 2, 4)\n",
    "\n",
    "finally:\n",
    "    ser.close()\n"
   ]
  },
  {
   "cell_type": "markdown",
   "metadata": {},
   "source": [
    "17s"
   ]
  },
  {
   "cell_type": "code",
   "execution_count": 17,
   "metadata": {},
   "outputs": [],
   "source": [
    "import serial\n",
    "import time\n",
    "\n",
    "# Connexion au port série\n",
    "ser = serial.Serial('COM8', 9600)  # Remplacez 'COM3' par le port série approprié\n",
    "\n",
    "def envoyer_commande(device, action, params):\n",
    "    commande = f\"{device},{action},\" + \",\".join(map(str, params)) + \"\\n\"\n",
    "    ser.write(commande.encode())\n",
    "    time.sleep(0.1)\n",
    "\n",
    "def execute_sequence(device1, device2, action1, action2, params1, params2, interval, repeats):\n",
    "    for _ in range(repeats):\n",
    "        envoyer_commande(device1, action1, params1)\n",
    "        time.sleep(interval)\n",
    "        envoyer_commande(device2, action2, params2)\n",
    "        time.sleep(interval)\n",
    "\n",
    "try:\n",
    "    # Éteindre la LED 1 pendant 2 secondes\n",
    "    envoyer_commande(1, 0, [0])\n",
    "    time.sleep(2)\n",
    "\n",
    "    # Allumer la LED 3 à 100% pendant 2 secondes\n",
    "    envoyer_commande(3, 0, [255])\n",
    "    time.sleep(2)\n",
    "\n",
    "    # Exécuter la séquence 4 fois\n",
    "    execute_sequence(1, 3, 0, 0, [0], [255], 2, 4)\n",
    "\n",
    "finally:\n",
    "    ser.close()\n"
   ]
  },
  {
   "cell_type": "markdown",
   "metadata": {},
   "source": [
    "21.2s"
   ]
  },
  {
   "cell_type": "markdown",
   "metadata": {},
   "source": [
    "## 12. Alterner l'allumage des LED 1 et 2 toutes les 1,5 secondes pendant 15 secondes, avec une LED allumée à 100% et l'autre éteinte. (Device: [1, 2], Action: 0, Param: [255, 0], Interval: 1.5s, Time: 15s)\n"
   ]
  },
  {
   "cell_type": "code",
   "execution_count": null,
   "metadata": {},
   "outputs": [],
   "source": [
    "import serial\n",
    "import time\n",
    "\n",
    "# Connexion au port série\n",
    "ser = serial.Serial('COM8', 9600)  # Remplacez 'COM3' par le port série approprié\n",
    "\n",
    "def envoyer_commande(device, action, params):\n",
    "    commande = f\"{device},{action},\" + \",\".join(map(str, params)) + \"\\n\"\n",
    "    ser.write(commande.encode())\n",
    "    time.sleep(0.1)\n",
    "\n",
    "# Paramètres de commande\n",
    "device_1 = 1\n",
    "device_2 = 2\n",
    "action_allumage = 0\n",
    "param_intensite_1 = 255\n",
    "param_intensite_2 = 0\n",
    "interval_secondes = 1.5\n",
    "temps_secondes = 15\n",
    "\n",
    "# Boucle de contrôle\n",
    "for i in range(temps_secondes // interval_secondes):\n",
    "    # Allumer la LED 1 à 100%\n",
    "    envoyer_commande(device_1, action_allumage, [param_intensite_1])\n",
    "\n",
    "    # Allumer la LED 2\n",
    "    envoyer_commande(device_2, action_allumage, [param_intensite_2])\n",
    "\n",
    "    # Attendre l'intervalle entre les allumages\n",
    "    time.sleep(interval_secondes)\n",
    "\n",
    "    # Éteindre la LED 1\n",
    "    envoyer_commande(device_1, action_allumage, [0])\n",
    "\n",
    "    # Éteindre la LED 2\n",
    "    envoyer_commande(device_2, action_allumage, [0])\n",
    "\n",
    "# Ferme la connexion au port série\n",
    "ser.close()\n"
   ]
  },
  {
   "cell_type": "markdown",
   "metadata": {},
   "source": [
    "ECHEC"
   ]
  },
  {
   "cell_type": "code",
   "execution_count": null,
   "metadata": {},
   "outputs": [],
   "source": [
    "import serial\n",
    "import time\n",
    "\n",
    "# Connexion au port série\n",
    "ser = serial.Serial('COM8', 9600)  # Remplacez 'COM3' par le port série approprié\n",
    "\n",
    "def envoyer_commande(device, action, params):\n",
    "    commande = f\"{device},{action},\" + \",\".join(map(str, params)) + \"\\n\"\n",
    "    ser.write(commande.encode())\n",
    "    time.sleep(0.1)\n",
    "\n",
    "# Paramètres de la commande\n",
    "device1 = 1\n",
    "device2 = 2\n",
    "action1 = 0\n",
    "action2 = 0\n",
    "intensity1 = 255\n",
    "intensity2 = 0\n",
    "interval = 1.5\n",
    "time_total = 15\n",
    "\n",
    "# Boucle pour chaque itération\n",
    "for i in range(int(time_total / interval)):\n",
    "    # Allumer la LED 1 et éteindre la LED 2\n",
    "    envoyer_commande(device1, action1, [intensity1])\n",
    "    envoyer_commande(device2, action2, [intensity2])\n",
    "    time.sleep(interval)\n",
    "\n",
    "    # Allumer la LED 2 et éteindre la LED 1\n",
    "    envoyer_commande(device1, action2, [intensity2])\n",
    "    envoyer_commande(device2, action1, [intensity1])\n",
    "    time.sleep(interval)\n",
    "\n",
    "finally:\n",
    "    ser.close()\n"
   ]
  },
  {
   "cell_type": "markdown",
   "metadata": {},
   "source": [
    "ECHEC"
   ]
  },
  {
   "cell_type": "markdown",
   "metadata": {},
   "source": [
    "## 13. Diminuer la luminosité de la LED 1 de 100% à 0% en 4 secondes, puis augmenter la luminosité de la LED 2 de 0% à 100% en 4 secondes. (Device: [1, 2], Action: 0, Param: [255, 0, 255], Time: 8s)\n"
   ]
  },
  {
   "cell_type": "code",
   "execution_count": 21,
   "metadata": {},
   "outputs": [],
   "source": [
    "import serial\n",
    "import time\n",
    "\n",
    "# Connexion au port série\n",
    "ser = serial.Serial('COM8', 9600)  # Remplacez 'COM3' par le port série approprié\n",
    "\n",
    "def envoyer_commande(device, action, params):\n",
    "    commande = f\"{device},{action},\" + \",\".join(map(str, params)) + \"\\n\"\n",
    "    ser.write(commande.encode())\n",
    "    time.sleep(0.1)\n",
    "\n",
    "def dim_led1(intensity):\n",
    "    for i in range(intensity, 0, -10):\n",
    "        envoyer_commande(1, 0, [i])\n",
    "        time.sleep(0.1)\n",
    "\n",
    "def aug_led2(intensity):\n",
    "    for i in range(0, intensity, 10):\n",
    "        envoyer_commande(2, 0, [i])\n",
    "        time.sleep(0.1)\n",
    "\n",
    "try:\n",
    "    # Diminuer la luminosité de la LED 1 de 100% à 0% en 4 secondes\n",
    "    dim_led1(255)\n",
    "    time.sleep(4)\n",
    "\n",
    "    # Augmenter la luminosité de la LED 2 de 0% à 100% en 4 secondes\n",
    "    aug_led2(0)\n",
    "\n",
    "finally:\n",
    "    ser.close()\n"
   ]
  },
  {
   "cell_type": "markdown",
   "metadata": {},
   "source": [
    "10s"
   ]
  },
  {
   "cell_type": "code",
   "execution_count": 22,
   "metadata": {},
   "outputs": [],
   "source": [
    "import serial\n",
    "import time\n",
    "\n",
    "# Connexion au port série\n",
    "ser = serial.Serial('COM8', 9600)  # Remplacez 'COM3' par le port série approprié\n",
    "\n",
    "def envoyer_commande(device, action, params):\n",
    "    commande = f\"{device},{action},\" + \",\".join(map(str, params)) + \"\\n\"\n",
    "    ser.write(commande.encode())\n",
    "    time.sleep(0.1)\n",
    "\n",
    "try:\n",
    "    # Diminuer la luminosité de la LED 1 de 100% à 0% en 4 secondes\n",
    "    for intensity in range(255, 0, -10):\n",
    "        envoyer_commande(1, 0, [intensity])\n",
    "        time.sleep(0.1)\n",
    "\n",
    "    # Attendre 2 secondes\n",
    "    time.sleep(2)\n",
    "\n",
    "    # Augmenter la luminosité de la LED 2 de 0% à 100% en 4 secondes\n",
    "    for intensity in range(0, 256, 10):\n",
    "        envoyer_commande(2, 0, [intensity])\n",
    "        time.sleep(0.1)\n",
    "\n",
    "finally:\n",
    "    ser.close()\n"
   ]
  },
  {
   "cell_type": "markdown",
   "metadata": {},
   "source": [
    "13.3s"
   ]
  },
  {
   "cell_type": "markdown",
   "metadata": {},
   "source": [
    "## 14. Faire varier l'angle du servo moteur de 0 à 90 degrés en 3 secondes, puis de 90 à 180 degrés en 3 secondes. (Device: 4, Action: 1, Param: [0, 90, 180], Time: 6s)\n"
   ]
  },
  {
   "cell_type": "code",
   "execution_count": 23,
   "metadata": {},
   "outputs": [],
   "source": [
    "import serial\n",
    "import time\n",
    "\n",
    "# Connexion au port série\n",
    "ser = serial.Serial('COM8', 9600)  # Remplacez 'COM3' par le port série approprié\n",
    "\n",
    "def envoyer_commande(device, action, params):\n",
    "    commande = f\"{device},{action},\" + \",\".join(map(str, params)) + \"\\n\"\n",
    "    ser.write(commande.encode())\n",
    "    time.sleep(0.1)\n",
    "\n",
    "try:\n",
    "    # Faire varier l'angle du servomoteur de 0 à 90 degrés en 3 secondes\n",
    "    for angle in range(0, 91):\n",
    "        envoyer_commande(4, 1, [angle])\n",
    "        time.sleep(0.1)\n",
    "    time.sleep(2.9)  # Attendre 3 secondes pour que le servomoteur atteigne sa position finale\n",
    "\n",
    "    # Faire varier l'angle du servomoteur de 90 à 180 degrés en 3 secondes\n",
    "    for angle in range(91, 181):\n",
    "        envoyer_commande(4, 1, [angle])\n",
    "        time.sleep(0.1)\n",
    "    time.sleep(2.9)  # Attendre 3 secondes pour que le servomoteur atteigne sa position finale\n",
    "\n",
    "finally:\n",
    "    ser.close()\n"
   ]
  },
  {
   "cell_type": "markdown",
   "metadata": {},
   "source": [
    "45.7s"
   ]
  },
  {
   "cell_type": "code",
   "execution_count": 24,
   "metadata": {},
   "outputs": [],
   "source": [
    "import serial\n",
    "import time\n",
    "\n",
    "# Connexion au port série\n",
    "ser = serial.Serial('COM8', 9600)  # Remplacez 'COM3' par le port série approprié\n",
    "\n",
    "def envoyer_commande(angle):\n",
    "    commande = \"4,1,\" + str(angle) + \"\\n\"\n",
    "    ser.write(commande.encode())\n",
    "    time.sleep(0.1)\n",
    "\n",
    "def varier_angle_servo(angle_min, angle_max, temps_variation):\n",
    "    for angle in range(angle_min, angle_max+1, (angle_max-angle_min)//temps_variation):\n",
    "        envoyer_commande(angle)\n",
    "        time.sleep(temps_variation)\n",
    "\n",
    "try:\n",
    "    # Varianter l'angle du servo moteur de 0 à 90 degrés en 3 secondes, puis de 90 à 180 degrés en 3 secondes\n",
    "    varier_angle_servo(0, 90, 3)\n",
    "    time.sleep(3)\n",
    "    varier_angle_servo(90, 180, 3)\n",
    "\n",
    "finally:\n",
    "    ser.close()\n"
   ]
  },
  {
   "cell_type": "markdown",
   "metadata": {},
   "source": [
    "27.9s"
   ]
  },
  {
   "cell_type": "markdown",
   "metadata": {},
   "source": [
    "## 15. Synchroniser l'allumage de la LED 3 avec le mouvement du servo moteur allant de 0 à 180 degrés. La LED passe de 0% à 100% en synchronisation inverse avec le servo. (Device: [4, 3], Action: [1, 0], Param: [[0, 180], [0, 255]], Time: 10s)\n"
   ]
  },
  {
   "cell_type": "code",
   "execution_count": 25,
   "metadata": {},
   "outputs": [],
   "source": [
    "import serial\n",
    "import time\n",
    "\n",
    "# Connexion au port série\n",
    "ser = serial.Serial('COM8', 9600)  # Remplacez 'COM3' par le port série approprié\n",
    "\n",
    "def envoyer_commande(device, action, params):\n",
    "    commande = f\"{device},{action},\" + \",\".join(map(str, params)) + \"\\n\"\n",
    "    ser.write(commande.encode())\n",
    "    time.sleep(0.1)\n",
    "\n",
    "def sync_led_servo(interval=0.01):\n",
    "    # Allumer la LED 3 à 0%\n",
    "    envoyer_commande(3, 0, [0])\n",
    "\n",
    "    # Faire pivoter le servomoteur de 0 à 180 degrés\n",
    "    for angle in range(0, 181, 1):\n",
    "        envoyer_commande(4, 1, [angle])\n",
    "        time.sleep(interval)\n",
    "\n",
    "        # Allumer la LED 3 en fonction de l'angle actuel du servomoteur\n",
    "        intensity = 255 - angle\n",
    "        envoyer_commande(3, 0, [intensity])\n",
    "        time.sleep(interval)\n",
    "\n",
    "    # Éteindre la LED 3 après le mouvement du servomoteur\n",
    "    envoyer_commande(3, 0, [0])\n",
    "\n",
    "try:\n",
    "    # Synchroniser l'allumage de la LED 3 avec le mouvement du servomoteur\n",
    "    sync_led_servo()\n",
    "\n",
    "finally:\n",
    "    ser.close()\n"
   ]
  },
  {
   "cell_type": "markdown",
   "metadata": {},
   "source": [
    "46.1s"
   ]
  },
  {
   "cell_type": "code",
   "execution_count": 26,
   "metadata": {},
   "outputs": [],
   "source": [
    "import serial\n",
    "import time\n",
    "\n",
    "# Connexion au port série\n",
    "ser = serial.Serial('COM8', 9600)  # Remplacez 'COM3' par le port série approprié\n",
    "\n",
    "def envoyer_commande(device, action, params):\n",
    "    commande = f\"{device},{action},\" + \",\".join(map(str, params)) + \"\\n\"\n",
    "    ser.write(commande.encode())\n",
    "    time.sleep(0.1)\n",
    "\n",
    "def synchroniser_led_servo():\n",
    "    for i in range(181):\n",
    "        angle = i * 2\n",
    "        intensity = 255 - i\n",
    "\n",
    "        # Allumer la LED 3 en fonction de l'intensité inverse\n",
    "        envoyer_commande(3, 0, [intensity])\n",
    "\n",
    "        # Faire tourner le servomoteur\n",
    "        envoyer_commande(4, 1, [angle])\n",
    "\n",
    "        # Attendre 100 millisecondes pour synchroniser les deux actions\n",
    "        time.sleep(0.1)\n",
    "\n",
    "# Exécuter la synchronisation\n",
    "try:\n",
    "    synchroniser_led_servo()\n",
    "finally:\n",
    "    ser.close()\n"
   ]
  },
  {
   "cell_type": "markdown",
   "metadata": {},
   "source": [
    "59s"
   ]
  },
  {
   "cell_type": "markdown",
   "metadata": {},
   "source": [
    "## 16. Faire clignoter la LED 2 à 100% de luminosité toutes les 1,5 secondes pendant 12 secondes, puis éteindre la LED 2 pendant 3 secondes. (Device: 2, Action: 0, Param: 255, Interval: 1.5s, Time: 15s)\n"
   ]
  },
  {
   "cell_type": "code",
   "execution_count": 27,
   "metadata": {},
   "outputs": [],
   "source": [
    "import serial\n",
    "import time\n",
    "\n",
    "# Connexion au port série\n",
    "ser = serial.Serial('COM8', 9600)  # Remplacez 'COM3' par le port série approprié\n",
    "\n",
    "def envoyer_commande(device, action, params):\n",
    "    commande = f\"{device},{action},\" + \",\".join(map(str, params)) + \"\\n\"\n",
    "    ser.write(commande.encode())\n",
    "    time.sleep(0.1)\n",
    "\n",
    "try:\n",
    "    # Clignotement de la LED 2 à 100%\n",
    "    for i in range(12):\n",
    "        envoyer_commande(2, 0, [255])\n",
    "        time.sleep(1.5)\n",
    "\n",
    "    # Envoi de la commande pour éteindre la LED 2\n",
    "    envoyer_commande(2, 0, [0])\n",
    "\n",
    "    # Pause de 3 secondes\n",
    "    time.sleep(3)\n",
    "\n",
    "finally:\n",
    "    ser.close()\n"
   ]
  },
  {
   "cell_type": "markdown",
   "metadata": {},
   "source": [
    "ECHEC"
   ]
  },
  {
   "cell_type": "code",
   "execution_count": 28,
   "metadata": {},
   "outputs": [],
   "source": [
    "import serial\n",
    "import time\n",
    "\n",
    "# Connexion au port série\n",
    "ser = serial.Serial('COM8', 9600)  # Remplacez 'COM3' par le port série approprié\n",
    "\n",
    "def envoyer_commande(device, action, params):\n",
    "    commande = f\"{device},{action},\" + \",\".join(map(str, params)) + \"\\n\"\n",
    "    ser.write(commande.encode())\n",
    "    time.sleep(0.1)\n",
    "\n",
    "try:\n",
    "    # Clignotement de la LED 2 à 100% de luminosité toutes les 1,5s pendant 12s\n",
    "    for i in range(8):\n",
    "        envoyer_commande(2, 0, [255])\n",
    "        time.sleep(1.5)\n",
    "\n",
    "    # Éteindre la LED 2 pendant 3s\n",
    "    envoyer_commande(2, 0, [0])\n",
    "    time.sleep(3)\n",
    "\n",
    "finally:\n",
    "    ser.close()\n"
   ]
  },
  {
   "cell_type": "markdown",
   "metadata": {},
   "source": [
    "ECHEC INSTRUCTION NON FAIT"
   ]
  },
  {
   "cell_type": "markdown",
   "metadata": {},
   "source": [
    "## 17. Augmenter la luminosité de la LED 3 de 0% à 100% en 6 secondes, puis diminuer à 0% en 4 secondes. Répéter 3 fois. (Device: 3, Action: 0, Param: [0, 255], Time: 10s, Repeats: 3)\n"
   ]
  },
  {
   "cell_type": "code",
   "execution_count": 389,
   "metadata": {},
   "outputs": [
    {
     "ename": "SyntaxError",
     "evalue": "invalid syntax (140823399.py, line 24)",
     "output_type": "error",
     "traceback": [
      "\u001b[1;36m  Cell \u001b[1;32mIn[389], line 24\u001b[1;36m\u001b[0m\n\u001b[1;33m    finally:\u001b[0m\n\u001b[1;37m    ^\u001b[0m\n\u001b[1;31mSyntaxError\u001b[0m\u001b[1;31m:\u001b[0m invalid syntax\n"
     ]
    }
   ],
   "source": [
    "import serial\n",
    "import time\n",
    "\n",
    "# Connexion au port série\n",
    "ser = serial.Serial('COM8', 9600)  # Remplacez 'COM3' par le port série approprié\n",
    "\n",
    "def envoyer_commande(device, action, params):\n",
    "    commande = f\"{device},{action},\" + \",\".join(map(str, params)) + \"\\n\"\n",
    "    ser.write(commande.encode())\n",
    "    time.sleep(0.1)\n",
    "\n",
    "def change_led_brightness(brightness, duration, repeats):\n",
    "    for i in range(repeats):\n",
    "        for t in range(duration):\n",
    "            envoyer_commande(3, 0, [int(brightness * (t / duration))])\n",
    "            time.sleep(1 / duration)\n",
    "        envoyer_commande(3, 0, [0])\n",
    "        time.sleep(duration)\n",
    "\n",
    "change_led_brightness(0, 0, 0)  # Initialisation à 0%\n",
    "change_led_brightness(100, 6, 3)  # Augmentation de la luminosité à 100% en 6 secondes, 3 fois\n",
    "change_led_brightness(0, 4, 3)  # Diminution de la luminosité à 0% en 4 secondes, 3 fois\n",
    "\n",
    "finally:\n",
    "    ser.close()\n"
   ]
  },
  {
   "cell_type": "markdown",
   "metadata": {},
   "source": [
    "ECHEC"
   ]
  },
  {
   "cell_type": "code",
   "execution_count": 390,
   "metadata": {},
   "outputs": [],
   "source": [
    "import serial\n",
    "import time\n",
    "\n",
    "# Connexion au port série\n",
    "ser = serial.Serial('COM8', 9600)  # Remplacez 'COM3' par le port série approprié\n",
    "\n",
    "def envoyer_commande(device, action, params):\n",
    "    commande = f\"{device},{action},\" + \",\".join(map(str, params)) + \"\\n\"\n",
    "    ser.write(commande.encode())\n",
    "    time.sleep(0.1)\n",
    "\n",
    "def commande_led(device, intensité, durée, repeats):\n",
    "    for _ in range(repeats):\n",
    "        for intensity in range(0, intensité, int(durée / (repeats * 2))):\n",
    "            envoyer_commande(device, 0, [intensity])\n",
    "            time.sleep(durée / (repeats * 2))\n",
    "        envoyer_commande(device, 0, [0])\n",
    "\n",
    "try:\n",
    "    # Augmenter la luminosité de la LED 3 de 0% à 100% en 6 secondes, puis diminuer à 0% en 4 secondes. Répéter 3 fois.\n",
    "    commande_led(3, 255, 10000, 3)\n",
    "finally:\n",
    "    ser.close()\n"
   ]
  },
  {
   "cell_type": "markdown",
   "metadata": {},
   "source": [
    "ECHEC"
   ]
  },
  {
   "cell_type": "markdown",
   "metadata": {},
   "source": [
    "## 18. Alterner l'angle du servo moteur entre 0 et 180 degrés toutes les 2 secondes pendant 20 secondes. (Device: 4, Action: 1, Param: [0, 180], Interval: 2s, Time: 20s)\n"
   ]
  },
  {
   "cell_type": "code",
   "execution_count": 32,
   "metadata": {},
   "outputs": [
    {
     "ename": "KeyboardInterrupt",
     "evalue": "",
     "output_type": "error",
     "traceback": [
      "\u001b[1;31m---------------------------------------------------------------------------\u001b[0m",
      "\u001b[1;31mKeyboardInterrupt\u001b[0m                         Traceback (most recent call last)",
      "Cell \u001b[1;32mIn[32], line 16\u001b[0m\n\u001b[0;32m     14\u001b[0m \u001b[38;5;28;01mfor\u001b[39;00m i \u001b[38;5;129;01min\u001b[39;00m \u001b[38;5;28mrange\u001b[39m(\u001b[38;5;241m40\u001b[39m):\n\u001b[0;32m     15\u001b[0m     envoyer_commande(\u001b[38;5;241m4\u001b[39m, \u001b[38;5;241m1\u001b[39m, [i \u001b[38;5;241m*\u001b[39m \u001b[38;5;241m45\u001b[39m])  \u001b[38;5;66;03m# Envoyer l'angle du servomoteur\u001b[39;00m\n\u001b[1;32m---> 16\u001b[0m     \u001b[43mtime\u001b[49m\u001b[38;5;241;43m.\u001b[39;49m\u001b[43msleep\u001b[49m\u001b[43m(\u001b[49m\u001b[38;5;241;43m2\u001b[39;49m\u001b[43m)\u001b[49m  \u001b[38;5;66;03m# Attendre 2 secondes avant de changer d'angle\u001b[39;00m\n\u001b[0;32m     18\u001b[0m \u001b[38;5;66;03m# Arrêter le servomoteur\u001b[39;00m\n\u001b[0;32m     19\u001b[0m envoyer_commande(\u001b[38;5;241m4\u001b[39m, \u001b[38;5;241m0\u001b[39m, [\u001b[38;5;241m0\u001b[39m])\n",
      "\u001b[1;31mKeyboardInterrupt\u001b[0m: "
     ]
    }
   ],
   "source": [
    "import serial\n",
    "import time\n",
    "\n",
    "# Connexion au port série\n",
    "ser = serial.Serial('COM8', 9600)  # Remplacez 'COM3' par le port série approprié\n",
    "\n",
    "def envoyer_commande(device, action, params):\n",
    "    commande = f\"{device},{action},\" + \",\".join(map(str, params)) + \"\\n\"\n",
    "    ser.write(commande.encode())\n",
    "    time.sleep(0.1)\n",
    "\n",
    "try:\n",
    "    # Boucle pour alterner l'angle du servomoteur\n",
    "    for i in range(40):\n",
    "        envoyer_commande(4, 1, [i * 45])  # Envoyer l'angle du servomoteur\n",
    "        time.sleep(2)  # Attendre 2 secondes avant de changer d'angle\n",
    "\n",
    "    # Arrêter le servomoteur\n",
    "    envoyer_commande(4, 0, [0])\n",
    "\n",
    "finally:\n",
    "    ser.close()\n"
   ]
  },
  {
   "cell_type": "markdown",
   "metadata": {},
   "source": [
    "ECHEC : INSTRUCTION NON RESPECTER"
   ]
  },
  {
   "cell_type": "code",
   "execution_count": 2,
   "metadata": {},
   "outputs": [
    {
     "ename": "TypeError",
     "evalue": "'float' object cannot be interpreted as an integer",
     "output_type": "error",
     "traceback": [
      "\u001b[1;31m---------------------------------------------------------------------------\u001b[0m",
      "\u001b[1;31mTypeError\u001b[0m                                 Traceback (most recent call last)",
      "Cell \u001b[1;32mIn[2], line 21\u001b[0m\n\u001b[0;32m     18\u001b[0m         time\u001b[38;5;241m.\u001b[39msleep(interval)\n\u001b[0;32m     20\u001b[0m \u001b[38;5;28;01mtry\u001b[39;00m:\n\u001b[1;32m---> 21\u001b[0m     \u001b[43mcontroler_servo\u001b[49m\u001b[43m(\u001b[49m\u001b[38;5;241;43m0\u001b[39;49m\u001b[43m,\u001b[49m\u001b[43m \u001b[49m\u001b[38;5;241;43m180\u001b[39;49m\u001b[43m,\u001b[49m\u001b[43m \u001b[49m\u001b[38;5;241;43m2\u001b[39;49m\u001b[43m,\u001b[49m\u001b[43m \u001b[49m\u001b[38;5;241;43m20\u001b[39;49m\u001b[43m)\u001b[49m\n\u001b[0;32m     22\u001b[0m \u001b[38;5;28;01mfinally\u001b[39;00m:\n\u001b[0;32m     23\u001b[0m     ser\u001b[38;5;241m.\u001b[39mclose()\n",
      "Cell \u001b[1;32mIn[2], line 14\u001b[0m, in \u001b[0;36mcontroler_servo\u001b[1;34m(angle_min, angle_max, interval, time)\u001b[0m\n\u001b[0;32m     12\u001b[0m \u001b[38;5;28;01mdef\u001b[39;00m \u001b[38;5;21mcontroler_servo\u001b[39m(angle_min, angle_max, interval, time):\n\u001b[0;32m     13\u001b[0m     \u001b[38;5;28;01mfor\u001b[39;00m i \u001b[38;5;129;01min\u001b[39;00m \u001b[38;5;28mrange\u001b[39m(time):\n\u001b[1;32m---> 14\u001b[0m         \u001b[38;5;28;01mfor\u001b[39;00m angle \u001b[38;5;129;01min\u001b[39;00m \u001b[38;5;28;43mrange\u001b[39;49m\u001b[43m(\u001b[49m\u001b[43mangle_min\u001b[49m\u001b[43m,\u001b[49m\u001b[43m \u001b[49m\u001b[43mangle_max\u001b[49m\u001b[43m,\u001b[49m\u001b[43m \u001b[49m\u001b[43m(\u001b[49m\u001b[43mangle_max\u001b[49m\u001b[43m \u001b[49m\u001b[38;5;241;43m-\u001b[39;49m\u001b[43m \u001b[49m\u001b[43mangle_min\u001b[49m\u001b[43m)\u001b[49m\u001b[43m \u001b[49m\u001b[38;5;241;43m/\u001b[39;49m\u001b[43m \u001b[49m\u001b[43m(\u001b[49m\u001b[43mtime\u001b[49m\u001b[43m \u001b[49m\u001b[38;5;241;43m-\u001b[39;49m\u001b[43m \u001b[49m\u001b[38;5;241;43m1\u001b[39;49m\u001b[43m)\u001b[49m\u001b[43m)\u001b[49m:\n\u001b[0;32m     15\u001b[0m             envoyer_commande(\u001b[38;5;241m4\u001b[39m, \u001b[38;5;241m1\u001b[39m, [angle])\n\u001b[0;32m     16\u001b[0m             time\u001b[38;5;241m.\u001b[39msleep(interval)\n",
      "\u001b[1;31mTypeError\u001b[0m: 'float' object cannot be interpreted as an integer"
     ]
    }
   ],
   "source": [
    "import serial\n",
    "import time\n",
    "\n",
    "# Connexion au port série\n",
    "ser = serial.Serial('COM8', 9600)  # Remplacez 'COM3' par le port série approprié\n",
    "\n",
    "def envoyer_commande(device, action, params):\n",
    "    commande = f\"{device},{action},\" + \",\".join(map(str, params)) + \"\\n\"\n",
    "    ser.write(commande.encode())\n",
    "    time.sleep(0.1)\n",
    "\n",
    "def controler_servo(angle_min, angle_max, interval, time):\n",
    "    for i in range(time):\n",
    "        for angle in range(angle_min, angle_max, (angle_max - angle_min) / (time - 1)):\n",
    "            envoyer_commande(4, 1, [angle])\n",
    "            time.sleep(interval)\n",
    "        envoyer_commande(4, 1, [angle_min])\n",
    "        time.sleep(interval)\n",
    "\n",
    "try:\n",
    "    controler_servo(0, 180, 2, 20)\n",
    "finally:\n",
    "    ser.close()\n"
   ]
  },
  {
   "cell_type": "markdown",
   "metadata": {},
   "source": [
    "ECHEC"
   ]
  },
  {
   "cell_type": "markdown",
   "metadata": {},
   "source": [
    "## 19. Faire clignoter la LED 1 à 50% de luminosité et la LED 2 à 75% toutes les 2 secondes pendant 8 secondes. (Device: [1, 2], Action: 0, Param: [128, 192], Interval: 2s, Time: 8s)\n"
   ]
  },
  {
   "cell_type": "code",
   "execution_count": 33,
   "metadata": {},
   "outputs": [
    {
     "ename": "TypeError",
     "evalue": "envoyer_commande() missing 2 required positional arguments: 'interval' and 'time'",
     "output_type": "error",
     "traceback": [
      "\u001b[1;31m---------------------------------------------------------------------------\u001b[0m",
      "\u001b[1;31mTypeError\u001b[0m                                 Traceback (most recent call last)",
      "Cell \u001b[1;32mIn[33], line 14\u001b[0m\n\u001b[0;32m     10\u001b[0m         time\u001b[38;5;241m.\u001b[39msleep(interval)\n\u001b[0;32m     12\u001b[0m \u001b[38;5;28;01mtry\u001b[39;00m:\n\u001b[0;32m     13\u001b[0m     \u001b[38;5;66;03m# Faire clignoter la LED 1 à 50% de luminosité et la LED 2 à 75% toutes les 2 secondes pendant 8 secondes\u001b[39;00m\n\u001b[1;32m---> 14\u001b[0m     \u001b[43menvoyer_commande\u001b[49m\u001b[43m(\u001b[49m\u001b[38;5;241;43m1\u001b[39;49m\u001b[43m,\u001b[49m\u001b[43m \u001b[49m\u001b[38;5;241;43m0\u001b[39;49m\u001b[43m,\u001b[49m\u001b[43m \u001b[49m\u001b[43m[\u001b[49m\u001b[38;5;241;43m128\u001b[39;49m\u001b[43m]\u001b[49m\u001b[43m,\u001b[49m\u001b[43m \u001b[49m\u001b[38;5;241;43m2\u001b[39;49m\u001b[43m,\u001b[49m\u001b[43m \u001b[49m\u001b[38;5;241;43m8\u001b[39;49m\u001b[43m)\u001b[49m\n\u001b[0;32m     15\u001b[0m     envoyer_commande(\u001b[38;5;241m2\u001b[39m, \u001b[38;5;241m0\u001b[39m, [\u001b[38;5;241m192\u001b[39m], \u001b[38;5;241m2\u001b[39m, \u001b[38;5;241m8\u001b[39m)\n\u001b[0;32m     16\u001b[0m \u001b[38;5;28;01mfinally\u001b[39;00m:\n",
      "Cell \u001b[1;32mIn[33], line 9\u001b[0m, in \u001b[0;36menvoyer_commande\u001b[1;34m(device, action, params, interval, time)\u001b[0m\n\u001b[0;32m      7\u001b[0m \u001b[38;5;28;01mdef\u001b[39;00m \u001b[38;5;21menvoyer_commande\u001b[39m(device, action, params, interval, time):\n\u001b[0;32m      8\u001b[0m     \u001b[38;5;28;01mfor\u001b[39;00m i \u001b[38;5;129;01min\u001b[39;00m \u001b[38;5;28mrange\u001b[39m(time \u001b[38;5;241m/\u001b[39m\u001b[38;5;241m/\u001b[39m interval \u001b[38;5;241m+\u001b[39m \u001b[38;5;241m1\u001b[39m):\n\u001b[1;32m----> 9\u001b[0m         \u001b[43menvoyer_commande\u001b[49m\u001b[43m(\u001b[49m\u001b[43mdevice\u001b[49m\u001b[43m,\u001b[49m\u001b[43m \u001b[49m\u001b[43maction\u001b[49m\u001b[43m,\u001b[49m\u001b[43m \u001b[49m\u001b[43mparams\u001b[49m\u001b[43m)\u001b[49m\n\u001b[0;32m     10\u001b[0m         time\u001b[38;5;241m.\u001b[39msleep(interval)\n",
      "\u001b[1;31mTypeError\u001b[0m: envoyer_commande() missing 2 required positional arguments: 'interval' and 'time'"
     ]
    }
   ],
   "source": [
    "import serial\n",
    "import time\n",
    "\n",
    "# Connexion au port série\n",
    "ser = serial.Serial('COM8', 9600)  # Remplacez 'COM3' par le port série approprié\n",
    "\n",
    "def envoyer_commande(device, action, params, interval, time):\n",
    "    for i in range(time // interval + 1):\n",
    "        envoyer_commande(device, action, params)\n",
    "        time.sleep(interval)\n",
    "\n",
    "try:\n",
    "    # Faire clignoter la LED 1 à 50% de luminosité et la LED 2 à 75% toutes les 2 secondes pendant 8 secondes\n",
    "    envoyer_commande(1, 0, [128], 2, 8)\n",
    "    envoyer_commande(2, 0, [192], 2, 8)\n",
    "finally:\n",
    "    ser.close()\n"
   ]
  },
  {
   "cell_type": "markdown",
   "metadata": {},
   "source": [
    "ECHEC"
   ]
  },
  {
   "cell_type": "code",
   "execution_count": 34,
   "metadata": {},
   "outputs": [
    {
     "ename": "AttributeError",
     "evalue": "'int' object has no attribute 'sleep'",
     "output_type": "error",
     "traceback": [
      "\u001b[1;31m---------------------------------------------------------------------------\u001b[0m",
      "\u001b[1;31mAttributeError\u001b[0m                            Traceback (most recent call last)",
      "Cell \u001b[1;32mIn[34], line 22\u001b[0m\n\u001b[0;32m     19\u001b[0m         time\u001b[38;5;241m.\u001b[39msleep(interval)\n\u001b[0;32m     21\u001b[0m \u001b[38;5;28;01mtry\u001b[39;00m:\n\u001b[1;32m---> 22\u001b[0m     \u001b[43mclignoter_leds\u001b[49m\u001b[43m(\u001b[49m\u001b[38;5;241;43m1\u001b[39;49m\u001b[43m,\u001b[49m\u001b[43m \u001b[49m\u001b[38;5;241;43m128\u001b[39;49m\u001b[43m,\u001b[49m\u001b[43m \u001b[49m\u001b[38;5;241;43m2\u001b[39;49m\u001b[43m,\u001b[49m\u001b[43m \u001b[49m\u001b[38;5;241;43m192\u001b[39;49m\u001b[43m,\u001b[49m\u001b[43m \u001b[49m\u001b[38;5;241;43m2\u001b[39;49m\u001b[43m,\u001b[49m\u001b[43m \u001b[49m\u001b[38;5;241;43m8\u001b[39;49m\u001b[43m)\u001b[49m\n\u001b[0;32m     23\u001b[0m \u001b[38;5;28;01mfinally\u001b[39;00m:\n\u001b[0;32m     24\u001b[0m     ser\u001b[38;5;241m.\u001b[39mclose()\n",
      "Cell \u001b[1;32mIn[34], line 16\u001b[0m, in \u001b[0;36mclignoter_leds\u001b[1;34m(device1, luminosite1, device2, luminosite2, interval, time)\u001b[0m\n\u001b[0;32m     14\u001b[0m envoyer_commande(device1, \u001b[38;5;241m0\u001b[39m, [luminosite1])\n\u001b[0;32m     15\u001b[0m envoyer_commande(device2, \u001b[38;5;241m0\u001b[39m, [luminosite2])\n\u001b[1;32m---> 16\u001b[0m \u001b[43mtime\u001b[49m\u001b[38;5;241;43m.\u001b[39;49m\u001b[43msleep\u001b[49m(interval)\n\u001b[0;32m     17\u001b[0m envoyer_commande(device1, \u001b[38;5;241m0\u001b[39m, [\u001b[38;5;241m0\u001b[39m])\n\u001b[0;32m     18\u001b[0m envoyer_commande(device2, \u001b[38;5;241m0\u001b[39m, [\u001b[38;5;241m0\u001b[39m])\n",
      "\u001b[1;31mAttributeError\u001b[0m: 'int' object has no attribute 'sleep'"
     ]
    }
   ],
   "source": [
    "import serial\n",
    "import time\n",
    "\n",
    "# Connexion au port série\n",
    "ser = serial.Serial('COM8', 9600)  # Remplacez 'COM3' par le port série approprié\n",
    "\n",
    "def envoyer_commande(device, action, params):\n",
    "    commande = f\"{device},{action},\" + \",\".join(map(str, params)) + \"\\n\"\n",
    "    ser.write(commande.encode())\n",
    "    time.sleep(0.1)\n",
    "\n",
    "def clignoter_leds(device1, luminosite1, device2, luminosite2, interval, time):\n",
    "    for i in range(int(time / interval)):\n",
    "        envoyer_commande(device1, 0, [luminosite1])\n",
    "        envoyer_commande(device2, 0, [luminosite2])\n",
    "        time.sleep(interval)\n",
    "        envoyer_commande(device1, 0, [0])\n",
    "        envoyer_commande(device2, 0, [0])\n",
    "        time.sleep(interval)\n",
    "\n",
    "try:\n",
    "    clignoter_leds(1, 128, 2, 192, 2, 8)\n",
    "finally:\n",
    "    ser.close()\n"
   ]
  },
  {
   "cell_type": "markdown",
   "metadata": {},
   "source": [
    "ECHEC CODE BUG"
   ]
  },
  {
   "cell_type": "markdown",
   "metadata": {},
   "source": [
    "## 20. Augmenter la luminosité de la LED 2 de 0% à 100% en 5 secondes, puis faire clignoter la LED 2 à 100% de luminosité toutes les 1,5 secondes pendant 10 secondes. (Device: 2, Action: [0, 0], Param: [255, 0], Interval: 1.5s, Time: 15s)\n"
   ]
  },
  {
   "cell_type": "code",
   "execution_count": 35,
   "metadata": {},
   "outputs": [
    {
     "ename": "KeyboardInterrupt",
     "evalue": "",
     "output_type": "error",
     "traceback": [
      "\u001b[1;31m---------------------------------------------------------------------------\u001b[0m",
      "\u001b[1;31mKeyboardInterrupt\u001b[0m                         Traceback (most recent call last)",
      "Cell \u001b[1;32mIn[35], line 35\u001b[0m\n\u001b[0;32m     32\u001b[0m     envoyer_commande(\u001b[38;5;241m2\u001b[39m, \u001b[38;5;241m0\u001b[39m, [\u001b[38;5;241m0\u001b[39m])\n\u001b[0;32m     34\u001b[0m \u001b[38;5;28;01mtry\u001b[39;00m:\n\u001b[1;32m---> 35\u001b[0m     \u001b[43mallumer_LED2\u001b[49m\u001b[43m(\u001b[49m\u001b[38;5;241;43m0\u001b[39;49m\u001b[43m,\u001b[49m\u001b[43m \u001b[49m\u001b[38;5;241;43m0\u001b[39;49m\u001b[43m,\u001b[49m\u001b[43m \u001b[49m\u001b[38;5;241;43m5\u001b[39;49m\u001b[43m)\u001b[49m  \u001b[38;5;66;03m# Allumer la LED2 de 0 à 100% en 5 secondes\u001b[39;00m\n\u001b[0;32m     36\u001b[0m     allumer_LED2(\u001b[38;5;241m100\u001b[39m, \u001b[38;5;241m1.5\u001b[39m, \u001b[38;5;241m15\u001b[39m)  \u001b[38;5;66;03m# Clignoter la LED2 à 100% de luminosité toutes les 1,5 secondes pendant 15 secondes\u001b[39;00m\n\u001b[0;32m     37\u001b[0m \u001b[38;5;28;01mfinally\u001b[39;00m:\n",
      "Cell \u001b[1;32mIn[35], line 21\u001b[0m, in \u001b[0;36mallumer_LED2\u001b[1;34m(intensite, intervalle, temps)\u001b[0m\n\u001b[0;32m     18\u001b[0m pourcentage_courant \u001b[38;5;241m+\u001b[39m\u001b[38;5;241m=\u001b[39m (pourcentage_max \u001b[38;5;241m-\u001b[39m pourcentage_courant) \u001b[38;5;241m*\u001b[39m (intervalle \u001b[38;5;241m/\u001b[39m temps)\n\u001b[0;32m     20\u001b[0m \u001b[38;5;66;03m# Allumer la LED2 à la nouvelle intensité\u001b[39;00m\n\u001b[1;32m---> 21\u001b[0m \u001b[43menvoyer_commande\u001b[49m\u001b[43m(\u001b[49m\u001b[38;5;241;43m2\u001b[39;49m\u001b[43m,\u001b[49m\u001b[43m \u001b[49m\u001b[38;5;241;43m0\u001b[39;49m\u001b[43m,\u001b[49m\u001b[43m \u001b[49m\u001b[43m[\u001b[49m\u001b[38;5;28;43mint\u001b[39;49m\u001b[43m(\u001b[49m\u001b[43mpourcentage_courant\u001b[49m\u001b[43m \u001b[49m\u001b[38;5;241;43m*\u001b[39;49m\u001b[43m \u001b[49m\u001b[38;5;241;43m255\u001b[39;49m\u001b[43m)\u001b[49m\u001b[43m]\u001b[49m\u001b[43m)\u001b[49m\n\u001b[0;32m     22\u001b[0m time\u001b[38;5;241m.\u001b[39msleep(intervalle)\n\u001b[0;32m     24\u001b[0m t \u001b[38;5;241m+\u001b[39m\u001b[38;5;241m=\u001b[39m intervalle\n",
      "Cell \u001b[1;32mIn[35], line 9\u001b[0m, in \u001b[0;36menvoyer_commande\u001b[1;34m(device, action, params)\u001b[0m\n\u001b[0;32m      7\u001b[0m \u001b[38;5;28;01mdef\u001b[39;00m \u001b[38;5;21menvoyer_commande\u001b[39m(device, action, params):\n\u001b[0;32m      8\u001b[0m     commande \u001b[38;5;241m=\u001b[39m \u001b[38;5;124mf\u001b[39m\u001b[38;5;124m\"\u001b[39m\u001b[38;5;132;01m{\u001b[39;00mdevice\u001b[38;5;132;01m}\u001b[39;00m\u001b[38;5;124m,\u001b[39m\u001b[38;5;132;01m{\u001b[39;00maction\u001b[38;5;132;01m}\u001b[39;00m\u001b[38;5;124m,\u001b[39m\u001b[38;5;124m\"\u001b[39m \u001b[38;5;241m+\u001b[39m \u001b[38;5;124m\"\u001b[39m\u001b[38;5;124m,\u001b[39m\u001b[38;5;124m\"\u001b[39m\u001b[38;5;241m.\u001b[39mjoin(\u001b[38;5;28mmap\u001b[39m(\u001b[38;5;28mstr\u001b[39m, params)) \u001b[38;5;241m+\u001b[39m \u001b[38;5;124m\"\u001b[39m\u001b[38;5;130;01m\\n\u001b[39;00m\u001b[38;5;124m\"\u001b[39m\n\u001b[1;32m----> 9\u001b[0m     \u001b[43mser\u001b[49m\u001b[38;5;241;43m.\u001b[39;49m\u001b[43mwrite\u001b[49m\u001b[43m(\u001b[49m\u001b[43mcommande\u001b[49m\u001b[38;5;241;43m.\u001b[39;49m\u001b[43mencode\u001b[49m\u001b[43m(\u001b[49m\u001b[43m)\u001b[49m\u001b[43m)\u001b[49m\n\u001b[0;32m     10\u001b[0m     time\u001b[38;5;241m.\u001b[39msleep(\u001b[38;5;241m0.1\u001b[39m)\n",
      "File \u001b[1;32mc:\\ProgramData\\anaconda3\\envs\\interp2\\lib\\site-packages\\serial\\serialwin32.py:321\u001b[0m, in \u001b[0;36mSerial.write\u001b[1;34m(self, data)\u001b[0m\n\u001b[0;32m    317\u001b[0m     \u001b[38;5;28;01mraise\u001b[39;00m SerialException(\u001b[38;5;124m\"\u001b[39m\u001b[38;5;124mWriteFile failed (\u001b[39m\u001b[38;5;132;01m{!r}\u001b[39;00m\u001b[38;5;124m)\u001b[39m\u001b[38;5;124m\"\u001b[39m\u001b[38;5;241m.\u001b[39mformat(ctypes\u001b[38;5;241m.\u001b[39mWinError()))\n\u001b[0;32m    319\u001b[0m \u001b[38;5;66;03m# Wait for the write to complete.\u001b[39;00m\n\u001b[0;32m    320\u001b[0m \u001b[38;5;66;03m#~ win32.WaitForSingleObject(self._overlapped_write.hEvent, win32.INFINITE)\u001b[39;00m\n\u001b[1;32m--> 321\u001b[0m \u001b[43mwin32\u001b[49m\u001b[38;5;241;43m.\u001b[39;49m\u001b[43mGetOverlappedResult\u001b[49m\u001b[43m(\u001b[49m\u001b[38;5;28;43mself\u001b[39;49m\u001b[38;5;241;43m.\u001b[39;49m\u001b[43m_port_handle\u001b[49m\u001b[43m,\u001b[49m\u001b[43m \u001b[49m\u001b[38;5;28;43mself\u001b[39;49m\u001b[38;5;241;43m.\u001b[39;49m\u001b[43m_overlapped_write\u001b[49m\u001b[43m,\u001b[49m\u001b[43m \u001b[49m\u001b[43mctypes\u001b[49m\u001b[38;5;241;43m.\u001b[39;49m\u001b[43mbyref\u001b[49m\u001b[43m(\u001b[49m\u001b[43mn\u001b[49m\u001b[43m)\u001b[49m\u001b[43m,\u001b[49m\u001b[43m \u001b[49m\u001b[38;5;28;43;01mTrue\u001b[39;49;00m\u001b[43m)\u001b[49m\n\u001b[0;32m    322\u001b[0m \u001b[38;5;28;01mif\u001b[39;00m win32\u001b[38;5;241m.\u001b[39mGetLastError() \u001b[38;5;241m==\u001b[39m win32\u001b[38;5;241m.\u001b[39mERROR_OPERATION_ABORTED:\n\u001b[0;32m    323\u001b[0m     \u001b[38;5;28;01mreturn\u001b[39;00m n\u001b[38;5;241m.\u001b[39mvalue  \u001b[38;5;66;03m# canceled IO is no error\u001b[39;00m\n",
      "\u001b[1;31mKeyboardInterrupt\u001b[0m: "
     ]
    }
   ],
   "source": [
    "import serial\n",
    "import time\n",
    "\n",
    "# Connexion au port série\n",
    "ser = serial.Serial('COM8', 9600)  # Remplacez 'COM3' par le port série approprié\n",
    "\n",
    "def envoyer_commande(device, action, params):\n",
    "    commande = f\"{device},{action},\" + \",\".join(map(str, params)) + \"\\n\"\n",
    "    ser.write(commande.encode())\n",
    "    time.sleep(0.1)\n",
    "\n",
    "def allumer_LED2(intensite, intervalle, temps):\n",
    "    pourcentage_max = 100\n",
    "    pourcentage_courant = 0\n",
    "\n",
    "    t = 0\n",
    "    while t < temps:\n",
    "        pourcentage_courant += (pourcentage_max - pourcentage_courant) * (intervalle / temps)\n",
    "\n",
    "        # Allumer la LED2 à la nouvelle intensité\n",
    "        envoyer_commande(2, 0, [int(pourcentage_courant * 255)])\n",
    "        time.sleep(intervalle)\n",
    "\n",
    "        t += intervalle\n",
    "\n",
    "    # Clignoter la LED2 à la luminosité maximale\n",
    "    for _ in range(int(temps / 1.5)):\n",
    "        envoyer_commande(2, 0, [255])\n",
    "        time.sleep(1.5)\n",
    "\n",
    "    # Éteindre la LED2\n",
    "    envoyer_commande(2, 0, [0])\n",
    "\n",
    "try:\n",
    "    allumer_LED2(0, 0, 5)  # Allumer la LED2 de 0 à 100% en 5 secondes\n",
    "    allumer_LED2(100, 1.5, 15)  # Clignoter la LED2 à 100% de luminosité toutes les 1,5 secondes pendant 15 secondes\n",
    "finally:\n",
    "    ser.close()\n"
   ]
  },
  {
   "cell_type": "markdown",
   "metadata": {},
   "source": [
    "ECHEC"
   ]
  },
  {
   "cell_type": "code",
   "execution_count": 11,
   "metadata": {},
   "outputs": [],
   "source": [
    "import serial\n",
    "import time\n",
    "import math\n",
    "\n",
    "# Connexion au port série\n",
    "ser = serial.Serial('COM8', 9600)  # Remplacez 'COM3' par le port série approprié\n",
    "\n",
    "def envoyer_commande(device, action, params):\n",
    "    commande = f\"{device},{action},\" + \",\".join(map(str, params)) + \"\\n\"\n",
    "    ser.write(commande.encode())\n",
    "    time.sleep(0.1)\n",
    "\n",
    "try:\n",
    "    # Augmenter la luminosité de la LED 2 de 0% à 100% en 5 secondes\n",
    "    intensity = 0\n",
    "    time_elapsed = 0\n",
    "    while time_elapsed < 5:\n",
    "        intensity = int(math.sin(math.pi * 2 * time_elapsed / 5) * 127 + 128)\n",
    "        envoyer_commande(2, 0, [intensity])\n",
    "        time.sleep(0.1)\n",
    "        time_elapsed += 0.1\n",
    "\n",
    "    # Faire clignoter la LED 2 à 100% de luminosité toutes les 1,5 secondes pendant 10 secondes\n",
    "    frequency = 6\n",
    "    time_elapsed = 0\n",
    "    while time_elapsed < 15:\n",
    "        envoyer_commande(2, 0, [255])\n",
    "        time.sleep(1.5 / frequency)\n",
    "        time_elapsed += 1.5 / frequency\n",
    "\n",
    "finally:\n",
    "    ser.close()\n"
   ]
  },
  {
   "cell_type": "markdown",
   "metadata": {},
   "source": [
    "ECHEC NON RESPECT DE LA DEUXIEME INSTRUCTION"
   ]
  },
  {
   "cell_type": "markdown",
   "metadata": {},
   "source": [
    "## 21. Faire varier l'angle du servo moteur de 90 à 0 degrés, puis de 0 à 90 degrés en 8 secondes. (Device: 4, Action: 1, Param: [90, 0, 90], Time: 8s)\n"
   ]
  },
  {
   "cell_type": "code",
   "execution_count": 37,
   "metadata": {},
   "outputs": [],
   "source": [
    "import serial\n",
    "import time\n",
    "\n",
    "# Connexion au port série\n",
    "ser = serial.Serial('COM8', 9600)  # Remplacez 'COM3' par le port série approprié\n",
    "\n",
    "def envoyer_commande(device, action, params):\n",
    "    commande = f\"{device},{action},\" + \",\".join(map(str, params)) + \"\\n\"\n",
    "    ser.write(commande.encode())\n",
    "    time.sleep(0.1)\n",
    "\n",
    "def mouvement_servo(angle_min, angle_max, delay):\n",
    "    for angle in range(angle_min, angle_max + 1, 1):\n",
    "        envoyer_commande(4, 1, [angle])\n",
    "        time.sleep(delay)\n",
    "\n",
    "try:\n",
    "    # Faire varier l'angle du servomoteur de 90 à 0 degrés\n",
    "    mouvement_servo(90, 0, 0.1)\n",
    "\n",
    "    # Faire varier l'angle du servomoteur de 0 à 90 degrés\n",
    "    mouvement_servo(0, 90, 0.1)\n",
    "\n",
    "    # Attendre 8 secondes avant de stopper le servomoteur\n",
    "    time.sleep(8)\n",
    "\n",
    "finally:\n",
    "    ser.close()\n"
   ]
  },
  {
   "cell_type": "markdown",
   "metadata": {},
   "source": [
    "28s"
   ]
  },
  {
   "cell_type": "code",
   "execution_count": 38,
   "metadata": {},
   "outputs": [],
   "source": [
    "import serial\n",
    "import time\n",
    "\n",
    "# Connexion au port série\n",
    "ser = serial.Serial('COM8', 9600)  # Remplacez 'COM3' par le port série approprié\n",
    "\n",
    "def envoyer_commande(device, action, params):\n",
    "    commande = f\"{device},{action},\" + \",\".join(map(str, params)) + \"\\n\"\n",
    "    ser.write(commande.encode())\n",
    "    time.sleep(0.1)\n",
    "\n",
    "try:\n",
    "    # Faire varier l'angle du servomoteur de 90 à 0 degrés\n",
    "    for angle in range(90, 0, -1):\n",
    "        envoyer_commande(4, 1, [angle])\n",
    "        time.sleep(0.1)\n",
    "\n",
    "    # Attendre 2 secondes\n",
    "    time.sleep(2)\n",
    "\n",
    "    # Faire varier l'angle du servomoteur de 0 à 90 degrés\n",
    "    for angle in range(0, 91):\n",
    "        envoyer_commande(4, 1, [angle])\n",
    "        time.sleep(0.1)\n",
    "\n",
    "    # Attendre 2 secondes\n",
    "    time.sleep(2)\n",
    "\n",
    "finally:\n",
    "    ser.close()\n"
   ]
  },
  {
   "cell_type": "markdown",
   "metadata": {},
   "source": [
    "43s"
   ]
  },
  {
   "cell_type": "markdown",
   "metadata": {},
   "source": [
    "## 22. Synchroniser l'allumage de la LED 3 avec le mouvement du servo moteur de 0 à 180 degrés toutes les 4 secondes. La LED passe de 0% à 100% de luminosité. (Device: [4, 3], Action: [1, 0], Param: [[0, 180], [0, 255]], Time: 4s)\n"
   ]
  },
  {
   "cell_type": "code",
   "execution_count": 39,
   "metadata": {},
   "outputs": [],
   "source": [
    "import serial\n",
    "import time\n",
    "\n",
    "# Connexion au port série\n",
    "ser = serial.Serial('COM8', 9600)  # Remplacez 'COM3' par le port série approprié\n",
    "\n",
    "def envoyer_commande(device, action, params):\n",
    "    commande = f\"{device},{action},\" + \",\".join(map(str, params)) + \"\\n\"\n",
    "    ser.write(commande.encode())\n",
    "    time.sleep(0.1)\n",
    "\n",
    "def run_sequence():\n",
    "    for i in range(181):\n",
    "        envoyer_commande(4, 1, [i])\n",
    "        envoyer_commande(3, 0, [int(i/180*255)])\n",
    "        time.sleep(1/4)\n",
    "\n",
    "try:\n",
    "    while True:\n",
    "        run_sequence()\n",
    "except KeyboardInterrupt:\n",
    "    ser.close()\n"
   ]
  },
  {
   "cell_type": "markdown",
   "metadata": {},
   "source": [
    "REUSSITE: C'EST UNE BOUCLE INFINIE"
   ]
  },
  {
   "cell_type": "code",
   "execution_count": null,
   "metadata": {},
   "outputs": [],
   "source": [
    "import serial\n",
    "import time\n",
    "\n",
    "# Connexion au port série\n",
    "ser = serial.Serial('COM8', 9600)  # Remplacez 'COM3' par le port série approprié\n",
    "\n",
    "def envoyer_commande(device, action, params):\n",
    "    commande = f\"{device},{action},\" + \",\".join(map(str, params)) + \"\\n\"\n",
    "    ser.write(commande.encode())\n",
    "    time.sleep(0.1)\n",
    "\n",
    "def execute_command_loop():\n",
    "    angle = 0\n",
    "    while True:\n",
    "        envoyer_commande(4, 1, [angle])\n",
    "        envoyer_commande(3, 0, [128 * (angle / 180)])\n",
    "        angle += 3\n",
    "        time.sleep(0.25)  # Décalage de 4 secondes entre chaque mouvement\n",
    "\n",
    "if __name__ == \"__main__\":\n",
    "    execute_command_loop()\n"
   ]
  },
  {
   "cell_type": "markdown",
   "metadata": {},
   "source": [
    "COORECT MAIS DIFFICILE DE FAIRE UNE ANALYSE TEMPOREL AVEC DES BOUCLES INFINI "
   ]
  },
  {
   "cell_type": "markdown",
   "metadata": {},
   "source": [
    "## 23. Diminuer la luminosité de la LED 1 de 100% à 0% en 5 secondes, puis augmenter la luminosité de la LED 2 de 0% à 100% en 5 secondes. (Device: [1, 2], Action: 0, Param: [255, 0, 255], Time: 10s)\n"
   ]
  },
  {
   "cell_type": "code",
   "execution_count": 47,
   "metadata": {},
   "outputs": [],
   "source": [
    "import serial\n",
    "import time\n",
    "\n",
    "def envoyer_commande(device, action, params, time=None):\n",
    "    commande = f\"{device},{action},\" + \",\".join(map(str, params)) + (f\"\\n{time}\\n\" if time else \"\\n\")\n",
    "    ser.write(commande.encode())\n",
    "\n",
    "ser = serial.Serial('COM8', 9600)  # Remplacez 'COM3' par le port série approprié\n",
    "\n",
    "# Diminuer la luminosité de la LED 1 de 100% à 0% en 5 secondes\n",
    "for luminosite in range(255, -1, -50):\n",
    "    envoyer_commande(1, 0, [luminosite])\n",
    "    time.sleep(0.1)\n",
    "\n",
    "# Augmenter la luminosité de la LED 2 de 0% à 100% en 5 secondes\n",
    "for luminosite in range(0, 256, 50):\n",
    "    envoyer_commande(2, 0, [luminosite])\n",
    "    time.sleep(0.1)\n",
    "\n",
    "ser.close()\n"
   ]
  },
  {
   "cell_type": "markdown",
   "metadata": {},
   "source": [
    "1.3s"
   ]
  },
  {
   "cell_type": "code",
   "execution_count": 45,
   "metadata": {},
   "outputs": [],
   "source": [
    "import serial\n",
    "import time\n",
    "\n",
    "# Connexion au port série\n",
    "ser = serial.Serial('COM8', 9600)  # Remplacez 'COM3' par le port série approprié\n",
    "\n",
    "def envoyer_commande(device, action, params):\n",
    "    commande = f\"{device},{action},\" + \",\".join(map(str, params)) + \"\\n\"\n",
    "    ser.write(commande.encode())\n",
    "    time.sleep(0.1)\n",
    "\n",
    "def change_led_brightness(led, target_brightness, time_in_seconds):\n",
    "    current_brightness = 255\n",
    "    step = (target_brightness - current_brightness) / time_in_seconds\n",
    "\n",
    "    for _ in range(time_in_seconds):\n",
    "        envoyer_commande(led, 0, [current_brightness])\n",
    "        current_brightness -= step\n",
    "        time.sleep(1)\n",
    "\n",
    "    envoyer_commande(led, 0, [target_brightness])\n",
    "\n",
    "try:\n",
    "    # Diminuer la luminosité de la LED 1 de 100% à 0% en 5 secondes\n",
    "    change_led_brightness(1, 0, 5)\n",
    "\n",
    "    # Augmenter la luminosité de la LED 2 de 0% à 100% en 5 secondes\n",
    "    change_led_brightness(2, 255, 5)\n",
    "\n",
    "finally:\n",
    "    ser.close()\n"
   ]
  },
  {
   "cell_type": "markdown",
   "metadata": {},
   "source": [
    "ECHEC"
   ]
  },
  {
   "cell_type": "markdown",
   "metadata": {},
   "source": [
    "## 30. Synchroniser le mouvement du servo moteur entre 30 et 150 degrés toutes les 5 secondes avec l'allumage de la LED 1 à 100%. (Device: [4, 1], Action: [1, 0], Param: [[30, 150], [255]], Interval: 5s, Time: 10s)\n"
   ]
  },
  {
   "cell_type": "code",
   "execution_count": 51,
   "metadata": {},
   "outputs": [],
   "source": [
    "import serial\n",
    "import time\n",
    "\n",
    "# Connexion au port série\n",
    "ser = serial.Serial('COM8', 9600)  # Remplacez 'COM3' par le port série approprié\n",
    "\n",
    "def envoyer_commande(device, action, params):\n",
    "    commande = f\"{device},{action},\" + \",\".join(map(str, params)) + \"\\n\"\n",
    "    ser.write(commande.encode())\n",
    "    time.sleep(0.1)\n",
    "\n",
    "def synchroniser_servo_led():\n",
    "    for i in range(0, 16, 1):  # 16 cycles de 30 à 150 degrés\n",
    "        angle = 30 + i * 15\n",
    "        envoyer_commande(4, 1, [angle])\n",
    "        envoyer_commande(1, 0, [255])\n",
    "        time.sleep(5)\n",
    "\n",
    "try:\n",
    "    synchroniser_servo_led()\n",
    "except KeyboardInterrupt:\n",
    "    ser.close()\n",
    "    print(\"Programme stoppé\")\n"
   ]
  },
  {
   "cell_type": "markdown",
   "metadata": {},
   "source": [
    "83.7s"
   ]
  },
  {
   "cell_type": "code",
   "execution_count": 54,
   "metadata": {},
   "outputs": [],
   "source": [
    "import serial\n",
    "import time\n",
    "\n",
    "# Connexion au port série\n",
    "ser = serial.Serial('COM8', 9600)  # Remplacez 'COM3' par le port série approprié\n",
    "\n",
    "def envoyer_commande(device, action, params):\n",
    "    commande = f\"{device},{action},\" + \",\".join(map(str, params)) + \"\\n\"\n",
    "    ser.write(commande.encode())\n",
    "    time.sleep(0.1)\n",
    "\n",
    "def synchroniser_servo_et_led():\n",
    "    for angle in range(30, 151, 10):\n",
    "        envoyer_commande(4, 1, [angle])\n",
    "        envoyer_commande(1, 0, [255])\n",
    "        time.sleep(5)\n",
    "\n",
    "    envoyer_commande(1, 0, [0])\n",
    "\n",
    "try:\n",
    "    # Exécuter la synchronisation du servomoteur et de la LED 1\n",
    "    synchroniser_servo_et_led()\n",
    "\n",
    "finally:\n",
    "    ser.close()\n"
   ]
  },
  {
   "cell_type": "markdown",
   "metadata": {},
   "source": [
    "68s"
   ]
  },
  {
   "cell_type": "markdown",
   "metadata": {},
   "source": [
    "## 42. Synchroniser l'allumage de la LED 2 avec le mouvement du servo moteur entre 0 et 180 degrés toutes les 6 secondes. La LED passe de 0% à 100% de luminosité. (Device: [2, 4], Action: [0, 1], Param: [[0, 180], [0, 255]], Interval: 6s, Time: 12s)\n"
   ]
  },
  {
   "cell_type": "code",
   "execution_count": 55,
   "metadata": {},
   "outputs": [],
   "source": [
    "import serial\n",
    "import time\n",
    "\n",
    "# Connexion au port série\n",
    "ser = serial.Serial('COM8', 9600)  # Remplacez 'COM3' par le port série approprié\n",
    "\n",
    "def envoyer_commande(device, action, params):\n",
    "    commande = f\"{device},{action},\" + \",\".join(map(str, params)) + \"\\n\"\n",
    "    ser.write(commande.encode())\n",
    "    time.sleep(0.1)\n",
    "\n",
    "def synchroniser_led_servo():\n",
    "    for i in range(12):\n",
    "        # Allumer la LED 2 à 0% de luminosité\n",
    "        envoyer_commande(2, 0, [0])\n",
    "\n",
    "        # Faire pivoter le servomoteur de 0 à 180 degrés\n",
    "        for angle in range(0, 181, 15):\n",
    "            envoyer_commande(4, 1, [angle])\n",
    "            time.sleep(0.1)\n",
    "\n",
    "        # Allumer la LED 2 à 100% de luminosité\n",
    "        envoyer_commande(2, 0, [255])\n",
    "\n",
    "        # Attendre un intervalle de 6 secondes\n",
    "        time.sleep(6)\n",
    "\n",
    "try:\n",
    "    synchroniser_led_servo()\n",
    "finally:\n",
    "    ser.close()\n"
   ]
  },
  {
   "cell_type": "markdown",
   "metadata": {},
   "source": [
    "108.8s"
   ]
  },
  {
   "cell_type": "markdown",
   "metadata": {},
   "source": [
    "MEME UNE BOUCLE INFINIE IRAIT AUSSI"
   ]
  },
  {
   "cell_type": "code",
   "execution_count": 56,
   "metadata": {},
   "outputs": [],
   "source": [
    "import time\n",
    "import serial\n",
    "\n",
    "ser = serial.Serial('COM8', 9600)  # Remplacez 'COM3' par le port série approprié\n",
    "\n",
    "def envoyer_commande(device, action, params):\n",
    "    commande = f\"{device},{action},\" + \",\".join(map(str, params)) + \"\\n\"\n",
    "    ser.write(commande.encode())\n",
    "    time.sleep(0.1)\n",
    "\n",
    "def synchroniser_led_servo():\n",
    "    for i in range(0, 181, 30):\n",
    "        envoyer_commande(2, 0, [i])  # Allumer la LED 2 à une intensité proportionnelle à l'angle du servomoteur\n",
    "        envoyer_commande(4, 1, [i])  # Pivoter le servomoteur à l'angle i\n",
    "        time.sleep(1)\n",
    "\n",
    "def main():\n",
    "    for i in range(6):\n",
    "        envoyer_commande(4, 1, [0])  # Pivoter le servomoteur à 0 degrés\n",
    "        envoyer_commande(2, 0, [0])  # Éteindre la LED 2\n",
    "        time.sleep(1)\n",
    "\n",
    "        synchroniser_led_servo()  # Synchroniser l'allumage de la LED 2 avec le mouvement du servomoteur\n",
    "\n",
    "        envoyer_commande(4, 1, [180])  # Pivoter le servomoteur à 180 degrés\n",
    "        envoyer_commande(2, 0, [255])  # Allumer la LED 2 à 100% de luminosité\n",
    "        time.sleep(1)\n",
    "\n",
    "    envoyer_commande(2, 0, [0])  # Éteindre la LED 2\n",
    "    envoyer_commande(4, 1, [0])  # Pivoter le servomoteur à 0 degrés\n",
    "\n",
    "if __name__ == \"__main__\":\n",
    "    main()\n",
    "\n",
    "ser.close()\n"
   ]
  },
  {
   "cell_type": "markdown",
   "metadata": {},
   "source": [
    "66.6s"
   ]
  },
  {
   "cell_type": "markdown",
   "metadata": {},
   "source": [
    "MEME UNE BOUCLE INFINIE PASSERAIT PASSERAIT LE TEST"
   ]
  },
  {
   "cell_type": "markdown",
   "metadata": {},
   "source": [
    "# CONTROLE DYNAMIQUE DE GEMMA 2 9B"
   ]
  },
  {
   "cell_type": "markdown",
   "metadata": {},
   "source": [
    "## 1. Augmenter progressivement la luminosité de la LED 1 de 0% à 100% en 5 secondes. (Device: 1, Action: 0, Param: [0, 255], Time: 5s)\n"
   ]
  },
  {
   "cell_type": "code",
   "execution_count": 58,
   "metadata": {},
   "outputs": [],
   "source": [
    "import serial\n",
    "import time\n",
    "\n",
    "# Connexion au port série\n",
    "ser = serial.Serial('COM8', 9600)  # Remplacez 'COM3' par le port série approprié\n",
    "\n",
    "def envoyer_commande(device, action, params):\n",
    "    commande = f\"{device},{action},\" + \",\".join(map(str, params)) + \"\\n\"\n",
    "    ser.write(commande.encode())\n",
    "    time.sleep(0.1)\n",
    "\n",
    "try:\n",
    "    # Augmenter progressivement la luminosité de la LED 1\n",
    "    for intensity in range(0, 256):\n",
    "        envoyer_commande(1, 0, [intensity])\n",
    "        time.sleep(0.1)  \n",
    "\n",
    "finally:\n",
    "    ser.close()"
   ]
  },
  {
   "cell_type": "markdown",
   "metadata": {},
   "source": [
    "55.4s"
   ]
  },
  {
   "cell_type": "markdown",
   "metadata": {},
   "source": [
    "## 2. Faire varier l'angle du servo moteur de 0 à 180 degrés et revenir à 90 degrés en 10 secondes. (Device: 4, Action: 1, Param: [0, 180, 90], Time: 10s)\n"
   ]
  },
  {
   "cell_type": "code",
   "execution_count": 59,
   "metadata": {},
   "outputs": [],
   "source": [
    "import serial\n",
    "import time\n",
    "\n",
    "# Connexion au port série\n",
    "ser = serial.Serial('COM8', 9600)  # Remplacez 'COM3' par le port série approprié\n",
    "\n",
    "def envoyer_commande(device, action, params):\n",
    "    commande = f\"{device},{action},\" + \",\".join(map(str, params)) + \"\\n\"\n",
    "    ser.write(commande.encode())\n",
    "    time.sleep(0.1)\n",
    "\n",
    "try:\n",
    "    # Faire varier l'angle du servo moteur\n",
    "    for angle in range(0, 181, 10):\n",
    "        envoyer_commande(4, 1, [angle])\n",
    "        time.sleep(0.1)\n",
    "\n",
    "    # Retourner à 90 degrés\n",
    "    envoyer_commande(4, 1, [90])\n",
    "\n",
    "    time.sleep(1)  # Attendre 1 seconde après le retour à 90 degrés\n",
    "\n",
    "finally:\n",
    "    ser.close()"
   ]
  },
  {
   "cell_type": "markdown",
   "metadata": {},
   "source": [
    "5.2s"
   ]
  },
  {
   "cell_type": "markdown",
   "metadata": {},
   "source": [
    "## 3. Alterner l'allumage des LED 1 et 2 avec des intervalles de 2 secondes pendant 10 secondes. (Device: [1, 2], Action: 0, Param: [255, 0], Interval: 2s, Time: 10s)\n"
   ]
  },
  {
   "cell_type": "code",
   "execution_count": 60,
   "metadata": {},
   "outputs": [],
   "source": [
    "import serial\n",
    "import time\n",
    "\n",
    "# Connexion au port série\n",
    "ser = serial.Serial('COM8', 9600)  # Remplacez 'COM3' par le port série approprié\n",
    "\n",
    "def envoyer_commande(device, action, params):\n",
    "    commande = f\"{device},{action},\" + \",\".join(map(str, params)) + \"\\n\"\n",
    "    ser.write(commande.encode())\n",
    "    time.sleep(0.1)\n",
    "\n",
    "try:\n",
    "    for i in range(5):\n",
    "        envoyer_commande(1, 0, [255])  # Allumer LED 1\n",
    "        time.sleep(2)\n",
    "        envoyer_commande(1, 0, [0])  # Éteindre LED 1\n",
    "        envoyer_commande(2, 0, [255])  # Allumer LED 2\n",
    "        time.sleep(2)\n",
    "        envoyer_commande(2, 0, [0])  # Éteindre LED 2\n",
    "\n",
    "finally:\n",
    "    ser.close()"
   ]
  },
  {
   "cell_type": "markdown",
   "metadata": {},
   "source": [
    "22.2s"
   ]
  },
  {
   "cell_type": "markdown",
   "metadata": {},
   "source": [
    "## 4. Faire clignoter la LED 3 cinq fois avec un intervalle de 1 seconde entre chaque allumage. (Device: 3, Action: 0, Param: 255, Interval: 1s, Repeats: 5)\n"
   ]
  },
  {
   "cell_type": "code",
   "execution_count": 62,
   "metadata": {},
   "outputs": [],
   "source": [
    "import serial\n",
    "import time\n",
    "\n",
    "# Connexion au port série\n",
    "ser = serial.Serial('COM8', 9600)  # Remplacez 'COM3' par le port série approprié\n",
    "\n",
    "def envoyer_commande(device, action, params):\n",
    "    commande = f\"{device},{action},\" + \",\".join(map(str, params)) + \"\\n\"\n",
    "    ser.write(commande.encode())\n",
    "    time.sleep(0.1)\n",
    "\n",
    "try:\n",
    "    # Faire clignoter la LED 3 cinq fois\n",
    "    for i in range(5):\n",
    "        envoyer_commande(3, 0, [255])  # Allumer la LED à intensité maximale\n",
    "        time.sleep(1)  # Attendre 1 seconde\n",
    "        envoyer_commande(3, 0, [0])   # Éteindre la LED\n",
    "\n",
    "finally:\n",
    "    ser.close()"
   ]
  },
  {
   "cell_type": "markdown",
   "metadata": {},
   "source": [
    "6.1s"
   ]
  },
  {
   "cell_type": "markdown",
   "metadata": {},
   "source": [
    "## 5. Diminuer progressivement la luminosité de la LED 2 de 100% à 0% en 3 secondes. (Device: 2, Action: 0, Param: [255, 0], Time: 3s)\n"
   ]
  },
  {
   "cell_type": "code",
   "execution_count": 63,
   "metadata": {},
   "outputs": [],
   "source": [
    "import serial\n",
    "import time\n",
    "\n",
    "# Connexion au port série\n",
    "ser = serial.Serial('COM8', 9600)  # Remplacez 'COM3' par le port série approprié\n",
    "\n",
    "def envoyer_commande(device, action, params):\n",
    "    commande = f\"{device},{action},\" + \",\".join(map(str, params)) + \"\\n\"\n",
    "    ser.write(commande.encode())\n",
    "    time.sleep(0.1)\n",
    "\n",
    "try:\n",
    "    # Diminuer progressivement la luminosité de la LED 2\n",
    "    for intensity in range(255, -1, -5):  \n",
    "        envoyer_commande(2, 0, [intensity])\n",
    "        time.sleep(0.1)  \n",
    "\n",
    "finally:\n",
    "    ser.close()"
   ]
  },
  {
   "cell_type": "markdown",
   "metadata": {},
   "source": [
    "11.3s"
   ]
  },
  {
   "cell_type": "markdown",
   "metadata": {},
   "source": [
    "## 6. Synchroniser le mouvement du servo moteur et l'allumage de la LED 1, le servo allant de 0 à 180 degrés tandis que la LED passe de 0% à 100% de façon synchrone inverse au servo par pas de 50 (Device: [4, 1], Action: [1, 0], Param: [[0, 180], [0, 255]], Time: 10s)\n"
   ]
  },
  {
   "cell_type": "code",
   "execution_count": 67,
   "metadata": {},
   "outputs": [],
   "source": [
    "import serial\n",
    "import time\n",
    "\n",
    "# Connexion au port série\n",
    "ser = serial.Serial('COM8', 9600)  # Remplacez 'COM3' par le port série approprié\n",
    "\n",
    "def envoyer_commande(device, action, params):\n",
    "    commande = f\"{device},{action},\" + \",\".join(map(str, params)) + \"\\n\"\n",
    "    ser.write(commande.encode())\n",
    "    time.sleep(0.1)\n",
    "\n",
    "try:\n",
    "    # Synchroniser le mouvement du servo et l'allumage de la LED\n",
    "    duree = 10  # Durée en secondes\n",
    "    pas = 50  # Pas de variation pour la LED\n",
    "\n",
    "    for i in range(0, 181, 50):\n",
    "        envoyer_commande(4, 1, [i])  # Servo\n",
    "        envoyer_commande(1, 0, [int(i * 2.55 / 180)])  # LED\n",
    "        time.sleep(duree / 181)  # Temps d'attente pour synchronisation\n",
    "\n",
    "finally:\n",
    "    ser.close()"
   ]
  },
  {
   "cell_type": "markdown",
   "metadata": {},
   "source": [
    "1.1s"
   ]
  },
  {
   "cell_type": "markdown",
   "metadata": {},
   "source": [
    "## 7. Faire varier la luminosité des LED 1 et 2 en alternance toutes les 0,5 secondes pendant 10 secondes. (Device: [1, 2], Action: 0, Param: [255, 0], Interval: 0.5s, Time: 10s)\n"
   ]
  },
  {
   "cell_type": "code",
   "execution_count": 68,
   "metadata": {},
   "outputs": [],
   "source": [
    "import serial\n",
    "import time\n",
    "\n",
    "# Connexion au port série\n",
    "ser = serial.Serial('COM8', 9600)  # Remplacez 'COM3' par le port série approprié\n",
    "\n",
    "def envoyer_commande(device, action, params):\n",
    "    commande = f\"{device},{action},\" + \",\".join(map(str, params)) + \"\\n\"\n",
    "    ser.write(commande.encode())\n",
    "    time.sleep(0.1)\n",
    "\n",
    "try:\n",
    "    for i in range(20):  # 10 secondes * 2 cycles par seconde\n",
    "        envoyer_commande(1, 0, [255])  # LED 1 à pleine intensité\n",
    "        time.sleep(0.5)\n",
    "        envoyer_commande(2, 0, [0])  # LED 2 éteinte\n",
    "        time.sleep(0.5)\n",
    "\n",
    "finally:\n",
    "    ser.close()"
   ]
  },
  {
   "cell_type": "markdown",
   "metadata": {},
   "source": [
    "ECHEC"
   ]
  },
  {
   "cell_type": "markdown",
   "metadata": {},
   "source": [
    "## 8. Faire passer la LED 3 de 0% à 100% de luminosité en 2 secondes, puis revenir à 0% en 2 secondes. Répéter 3 fois. (Device: 3, Action: 0, Param: [0, 255], Time: 4s, Repeats: 3)\n"
   ]
  },
  {
   "cell_type": "code",
   "execution_count": 70,
   "metadata": {},
   "outputs": [
    {
     "name": "stdout",
     "output_type": "stream",
     "text": [
      "Interruption par l'utilisateur.\n"
     ]
    }
   ],
   "source": [
    "import serial\n",
    "import time\n",
    "\n",
    "# Connexion au port série\n",
    "ser = serial.Serial('COM8', 9600)  # Remplacez 'COM3' par le port série approprié\n",
    "\n",
    "def envoyer_commande(device, action, params):\n",
    "    commande = f\"{device},{action},\" + \",\".join(map(str, params)) + \"\\n\"\n",
    "    ser.write(commande.encode())\n",
    "    time.sleep(0.1)\n",
    "\n",
    "try:\n",
    "    # Faire varier la luminosité de la LED 3\n",
    "    for _ in range(3):\n",
    "        for intensity in range(0, 256):\n",
    "            envoyer_commande(3, 0, [intensity])\n",
    "            time.sleep(0.02)  # Ajuster la vitesse de variation\n",
    "\n",
    "        for intensity in range(255, -1, -1):\n",
    "            envoyer_commande(3, 0, [intensity])\n",
    "            time.sleep(0.02)  # Ajuster la vitesse de variation\n",
    "\n",
    "except KeyboardInterrupt:\n",
    "    print(\"Interruption par l'utilisateur.\")\n",
    "finally:\n",
    "    ser.close()"
   ]
  },
  {
   "cell_type": "markdown",
   "metadata": {},
   "source": [
    "ECHEC"
   ]
  },
  {
   "cell_type": "markdown",
   "metadata": {},
   "source": [
    "## 9. Augmenter progressivement la luminosité de la LED 2 de 0% à 50% en 1 seconde, puis de 50% à 100% en 2 secondes. (Device: 2, Action: 0, Param: [0, 128, 255], Time: 3s)\n"
   ]
  },
  {
   "cell_type": "code",
   "execution_count": 71,
   "metadata": {},
   "outputs": [],
   "source": [
    "import serial\n",
    "import time\n",
    "\n",
    "# Connexion au port série\n",
    "ser = serial.Serial('COM8', 9600)  # Remplacez 'COM3' par le port série approprié\n",
    "\n",
    "def envoyer_commande(device, action, params):\n",
    "    commande = f\"{device},{action},\" + \",\".join(map(str, params)) + \"\\n\"\n",
    "    ser.write(commande.encode())\n",
    "    time.sleep(0.1)\n",
    "\n",
    "try:\n",
    "    # Augmenter progressivement la luminosité de la LED 2\n",
    "    for i in range(0, 128, 16):  # 0 à 128 en 16 pas\n",
    "        envoyer_commande(2, 0, [i])\n",
    "        time.sleep(0.1)  # 0.1 seconde par pas\n",
    "\n",
    "    time.sleep(1)  # Pause de 1 seconde\n",
    "\n",
    "    for i in range(128, 256, 32):  # 128 à 255 en 32 pas\n",
    "        envoyer_commande(2, 0, [i])\n",
    "        time.sleep(0.2)  # 0.2 seconde par pas\n",
    "\n",
    "finally:\n",
    "    ser.close()"
   ]
  },
  {
   "cell_type": "markdown",
   "metadata": {},
   "source": [
    "4.1s"
   ]
  },
  {
   "cell_type": "markdown",
   "metadata": {},
   "source": [
    "## 10. Faire varier l'angle du servo moteur de 90 à 0 degrés, puis de 0 à 90 degrés en 4 secondes. (Device: 4, Action: 1, Param: [90, 0, 90], Time: 4s)\n"
   ]
  },
  {
   "cell_type": "code",
   "execution_count": 72,
   "metadata": {},
   "outputs": [],
   "source": [
    "import serial\n",
    "import time\n",
    "\n",
    "# Connexion au port série\n",
    "ser = serial.Serial('COM8', 9600)  # Remplacez 'COM3' par le port série approprié\n",
    "\n",
    "def envoyer_commande(device, action, params):\n",
    "    commande = f\"{device},{action},\" + \",\".join(map(str, params)) + \"\\n\"\n",
    "    ser.write(commande.encode())\n",
    "    time.sleep(0.1)\n",
    "\n",
    "try:\n",
    "    # Faire varier l'angle du servo moteur\n",
    "    for angle in range(90, 0, -10):\n",
    "        envoyer_commande(4, 1, [angle])\n",
    "        time.sleep(0.5)\n",
    "    for angle in range(0, 90, 10):\n",
    "        envoyer_commande(4, 1, [angle])\n",
    "        time.sleep(0.5)\n",
    "\n",
    "finally:\n",
    "    ser.close()"
   ]
  },
  {
   "cell_type": "markdown",
   "metadata": {},
   "source": [
    "11.2s"
   ]
  },
  {
   "cell_type": "markdown",
   "metadata": {},
   "source": [
    "## 11. Éteindre la LED 1 pendant 2 secondes, puis allumer la LED 3 à 100% pendant 2 secondes. Répéter 4 fois. (Device: [1, 3], Action: [0, 0], Param: [0, 255], Interval: 2s, Repeats: 4)\n"
   ]
  },
  {
   "cell_type": "code",
   "execution_count": 73,
   "metadata": {},
   "outputs": [],
   "source": [
    "import serial\n",
    "import time\n",
    "\n",
    "# Connexion au port série\n",
    "ser = serial.Serial('COM8', 9600)  # Remplacez 'COM3' par le port série approprié\n",
    "\n",
    "def envoyer_commande(device, action, params):\n",
    "    commande = f\"{device},{action},\" + \",\".join(map(str, params)) + \"\\n\"\n",
    "    ser.write(commande.encode())\n",
    "    time.sleep(0.1)\n",
    "\n",
    "try:\n",
    "    for _ in range(4):\n",
    "        # Éteindre la LED 1 pendant 2 secondes\n",
    "        envoyer_commande(1, 0, [0])\n",
    "        time.sleep(2)\n",
    "\n",
    "        # Allumer la LED 3 à 100% pendant 2 secondes\n",
    "        envoyer_commande(3, 0, [255])\n",
    "        time.sleep(2)\n",
    "\n",
    "finally:\n",
    "    ser.close()"
   ]
  },
  {
   "cell_type": "markdown",
   "metadata": {},
   "source": [
    "16.9s"
   ]
  },
  {
   "cell_type": "markdown",
   "metadata": {},
   "source": [
    "## 12. Alterner l'allumage des LED 1 et 2 toutes les 1,5 secondes pendant 15 secondes, avec une LED allumée à 100% et l'autre éteinte. (Device: [1, 2], Action: 0, Param: [255, 0], Interval: 1.5s, Time: 15s)\n"
   ]
  },
  {
   "cell_type": "code",
   "execution_count": 74,
   "metadata": {},
   "outputs": [],
   "source": [
    "import serial\n",
    "import time\n",
    "\n",
    "# Connexion au port série\n",
    "ser = serial.Serial('COM8', 9600)  # Remplacez 'COM3' par le port série approprié\n",
    "\n",
    "def envoyer_commande(device, action, params):\n",
    "    commande = f\"{device},{action},\" + \",\".join(map(str, params)) + \"\\n\"\n",
    "    ser.write(commande.encode())\n",
    "    time.sleep(0.1)\n",
    "\n",
    "try:\n",
    "    for i in range(15):\n",
    "        # Allumer la LED 1 à 100%\n",
    "        envoyer_commande(1, 0, [255])\n",
    "        time.sleep(1.5)\n",
    "\n",
    "        # Éteindre la LED 1 et allumer la LED 2 à 0%\n",
    "        envoyer_commande(1, 0, [0])\n",
    "        envoyer_commande(2, 0, [0])\n",
    "        time.sleep(1.5)\n",
    "\n",
    "finally:\n",
    "    ser.close()"
   ]
  },
  {
   "cell_type": "markdown",
   "metadata": {},
   "source": [
    "50.2s"
   ]
  },
  {
   "cell_type": "markdown",
   "metadata": {},
   "source": [
    "## 13. Diminuer la luminosité de la LED 1 de 100% à 0% en 4 secondes, puis augmenter la luminosité de la LED 2 de 0% à 100% en 4 secondes. (Device: [1, 2], Action: 0, Param: [255, 0, 255], Time: 8s)\n"
   ]
  },
  {
   "cell_type": "code",
   "execution_count": 77,
   "metadata": {},
   "outputs": [],
   "source": [
    "import serial\n",
    "import time\n",
    "\n",
    "# Connexion au port série\n",
    "ser = serial.Serial('COM8', 9600)  # Remplacez 'COM3' par le port série approprié\n",
    "\n",
    "def envoyer_commande(device, action, params):\n",
    "    commande = f\"{device},{action},\" + \",\".join(map(str, params)) + \"\\n\"\n",
    "    ser.write(commande.encode())\n",
    "    time.sleep(0.1)\n",
    "\n",
    "try:\n",
    "    # Diminuer la luminosité de la LED 1 de 100% à 0% en 4 secondes\n",
    "    for intensity in range(255, -1, -51):\n",
    "        envoyer_commande(1, 0, [intensity])\n",
    "        time.sleep(0.08)  \n",
    "\n",
    "    # Augmenter la luminosité de la LED 2 de 0% à 100% en 4 secondes\n",
    "    for intensity in range(0, 256, 51):\n",
    "        envoyer_commande(2, 0, [intensity])\n",
    "        time.sleep(0.08)\n",
    "\n",
    "finally:\n",
    "    ser.close()"
   ]
  },
  {
   "cell_type": "markdown",
   "metadata": {},
   "source": [
    "2.2s"
   ]
  },
  {
   "cell_type": "markdown",
   "metadata": {},
   "source": [
    "## 14. Faire varier l'angle du servo moteur de 0 à 90 degrés en 3 secondes, puis de 90 à 180 degrés en 3 secondes. (Device: 4, Action: 1, Param: [0, 90, 180], Time: 6s)\n"
   ]
  },
  {
   "cell_type": "code",
   "execution_count": 78,
   "metadata": {},
   "outputs": [],
   "source": [
    "import serial\n",
    "import time\n",
    "\n",
    "# Connexion au port série\n",
    "ser = serial.Serial('COM8', 9600)  # Remplacez 'COM3' par le port série approprié\n",
    "\n",
    "def envoyer_commande(device, action, params):\n",
    "    commande = f\"{device},{action},\" + \",\".join(map(str, params)) + \"\\n\"\n",
    "    ser.write(commande.encode())\n",
    "    time.sleep(0.1)\n",
    "\n",
    "try:\n",
    "    # Variation de l'angle du servo moteur\n",
    "    for angle in range(0, 91, 10):\n",
    "        envoyer_commande(4, 1, [angle])\n",
    "        time.sleep(0.3)\n",
    "    \n",
    "    for angle in range(90, 181, 10):\n",
    "        envoyer_commande(4, 1, [angle])\n",
    "        time.sleep(0.3)\n",
    "\n",
    "finally:\n",
    "    ser.close()"
   ]
  },
  {
   "cell_type": "markdown",
   "metadata": {},
   "source": [
    "8.3s"
   ]
  },
  {
   "cell_type": "markdown",
   "metadata": {},
   "source": [
    "## 15. Synchroniser l'allumage de la LED 3 avec le mouvement du servo moteur allant de 0 à 180 degrés. La LED passe de 0% à 100% en synchronisation inverse avec le servo. (Device: [4, 3], Action: [1, 0], Param: [[0, 180], [0, 255]], Time: 10s)\n"
   ]
  },
  {
   "cell_type": "code",
   "execution_count": 85,
   "metadata": {},
   "outputs": [],
   "source": [
    "import serial\n",
    "import time\n",
    "\n",
    "# Connexion au port série\n",
    "ser = serial.Serial('COM8', 9600)  # Remplacez 'COM3' par le port série approprié\n",
    "\n",
    "def envoyer_commande(device, action, params):\n",
    "    commande = f\"{device},{action},\" + \",\".join(map(str, params)) + \"\\n\"\n",
    "    ser.write(commande.encode())\n",
    "    time.sleep(0.1)\n",
    "\n",
    "try:\n",
    "    # Synchronisation LED 3 et servo moteur\n",
    "    for angle in range(0, 181):\n",
    "        envoyer_commande(4, 1, [angle])  # Action sur le servo\n",
    "        intensité_led = 255 - angle  # Intensité inverse du servo\n",
    "        envoyer_commande(3, 0, [intensité_led])  # Action sur la LED\n",
    "        time.sleep(0.1)  \n",
    "\n",
    "finally:\n",
    "    ser.close()"
   ]
  },
  {
   "cell_type": "markdown",
   "metadata": {},
   "source": [
    "58.8s"
   ]
  },
  {
   "cell_type": "markdown",
   "metadata": {},
   "source": [
    "## 16. Faire clignoter la LED 2 à 100% de luminosité toutes les 1,5 secondes pendant 12 secondes, puis éteindre la LED 2 pendant 3 secondes. (Device: 2, Action: 0, Param: 255, Interval: 1.5s, Time: 15s)\n"
   ]
  },
  {
   "cell_type": "code",
   "execution_count": 87,
   "metadata": {},
   "outputs": [],
   "source": [
    "import serial\n",
    "import time\n",
    "\n",
    "# Connexion au port série\n",
    "ser = serial.Serial('COM8', 9600)  # Remplacez 'COM3' par le port série approprié\n",
    "\n",
    "def envoyer_commande(device, action, params):\n",
    "    commande = f\"{device},{action},\" + \",\".join(map(str, params)) + \"\\n\"\n",
    "    ser.write(commande.encode())\n",
    "    time.sleep(0.1)\n",
    "\n",
    "try:\n",
    "    # Faire clignoter la LED 2 à 100% de luminosité toutes les 1,5 secondes pendant 12 secondes\n",
    "    for _ in range(8):  # 12 secondes / 1.5 secondes = 8 cycles\n",
    "        envoyer_commande(2, 0, [255])\n",
    "        time.sleep(1.5)\n",
    "\n",
    "    # Éteindre la LED 2 pendant 3 secondes\n",
    "    envoyer_commande(2, 0, [0])\n",
    "    time.sleep(3)\n",
    "\n",
    "finally:\n",
    "    ser.close()"
   ]
  },
  {
   "cell_type": "markdown",
   "metadata": {},
   "source": [
    "ECHEC"
   ]
  },
  {
   "cell_type": "markdown",
   "metadata": {},
   "source": [
    "## 17. Augmenter la luminosité de la LED 3 de 0% à 100% en 6 secondes, puis diminuer à 0% en 4 secondes. Répéter 3 fois. (Device: 3, Action: 0, Param: [0, 255], Time: 10s, Repeats: 3)\n"
   ]
  },
  {
   "cell_type": "code",
   "execution_count": null,
   "metadata": {},
   "outputs": [],
   "source": [
    "import serial\n",
    "import time\n",
    "\n",
    "# Connexion au port série\n",
    "ser = serial.Serial('COM8', 9600)  # Remplacez 'COM3' par le port série approprié\n",
    "\n",
    "def envoyer_commande(device, action, params):\n",
    "    commande = f\"{device},{action},\" + \",\".join(map(str, params)) + \"\\n\"\n",
    "    ser.write(commande.encode())\n",
    "    time.sleep(0.0001)\n",
    "\n",
    "try:\n",
    "    for _ in range(3):\n",
    "        # Augmenter la luminosité de la LED 3 de 0% à 100% en 6 secondes\n",
    "        for intensity in range(0, 256):\n",
    "            envoyer_commande(3, 0, [intensity])\n",
    "            time.sleep(6 / 255)\n",
    "\n",
    "        # Diminuer la luminosité de la LED 3 à 0% en 4 secondes\n",
    "        for intensity in range(255, -1, -1):\n",
    "            envoyer_commande(3, 0, [intensity])\n",
    "            time.sleep(4 / 255)\n",
    "\n",
    "finally:\n",
    "    ser.close()"
   ]
  },
  {
   "cell_type": "markdown",
   "metadata": {},
   "source": [
    "ECHEC"
   ]
  },
  {
   "cell_type": "markdown",
   "metadata": {},
   "source": [
    "## 18. Alterner l'angle du servo moteur entre 0 et 180 degrés toutes les 2 secondes pendant 20 secondes. (Device: 4, Action: 1, Param: [0, 180], Interval: 2s, Time: 20s)\n"
   ]
  },
  {
   "cell_type": "code",
   "execution_count": 92,
   "metadata": {},
   "outputs": [],
   "source": [
    "import serial\n",
    "import time\n",
    "\n",
    "# Connexion au port série\n",
    "ser = serial.Serial('COM8', 9600)  # Remplacez 'COM3' par le port série approprié\n",
    "\n",
    "def envoyer_commande(device, action, params):\n",
    "    commande = f\"{device},{action},\" + \",\".join(map(str, params)) + \"\\n\"\n",
    "    ser.write(commande.encode())\n",
    "    time.sleep(0.1)\n",
    "\n",
    "try:\n",
    "    # Alterner l'angle du servo moteur entre 0 et 180 degrés toutes les 2 secondes pendant 20 secondes\n",
    "    for _ in range(20):\n",
    "        envoyer_commande(4, 1, [0])\n",
    "        time.sleep(2)\n",
    "        envoyer_commande(4, 1, [180])\n",
    "        time.sleep(2)\n",
    "\n",
    "finally:\n",
    "    ser.close()"
   ]
  },
  {
   "cell_type": "markdown",
   "metadata": {},
   "source": [
    "84.7s"
   ]
  },
  {
   "cell_type": "markdown",
   "metadata": {},
   "source": [
    "## 19. Faire clignoter la LED 1 à 50% de luminosité et la LED 2 à 75% toutes les 2 secondes pendant 8 secondes. (Device: [1, 2], Action: 0, Param: [128, 192], Interval: 2s, Time: 8s)\n"
   ]
  },
  {
   "cell_type": "code",
   "execution_count": 96,
   "metadata": {},
   "outputs": [],
   "source": [
    "import serial\n",
    "import time\n",
    "\n",
    "# Connexion au port série\n",
    "ser = serial.Serial('COM8', 9600)  # Remplacez 'COM3' par le port série approprié\n",
    "\n",
    "def envoyer_commande(device, action, params):\n",
    "    commande = f\"{device},{action},\" + \",\".join(map(str, params)) + \"\\n\"\n",
    "    ser.write(commande.encode())\n",
    "    time.sleep(0.1)\n",
    "\n",
    "try:\n",
    "    # Clignoter les LEDs pendant 8 secondes\n",
    "    for _ in range(4):  # 8 secondes / 2 secondes = 4 cycles\n",
    "        # LED 1 à 50%\n",
    "        envoyer_commande(1, 0, [128]) \n",
    "        time.sleep(2)\n",
    "        # LED 2 à 75%\n",
    "        envoyer_commande(2, 0, [192])\n",
    "        time.sleep(2)\n",
    "\n",
    "finally:\n",
    "    ser.close()"
   ]
  },
  {
   "cell_type": "markdown",
   "metadata": {},
   "source": [
    "ECHEC"
   ]
  },
  {
   "cell_type": "markdown",
   "metadata": {},
   "source": [
    "## 20. Augmenter la luminosité de la LED 2 de 0% à 100% en 5 secondes, puis faire clignoter la LED 2 à 100% de luminosité toutes les 1,5 secondes pendant 10 secondes. (Device: 2, Action: [0, 0], Param: [255, 0], Interval: 1.5s, Time: 15s)\n"
   ]
  },
  {
   "cell_type": "code",
   "execution_count": 97,
   "metadata": {},
   "outputs": [],
   "source": [
    "import serial\n",
    "import time\n",
    "\n",
    "# Connexion au port série\n",
    "ser = serial.Serial('COM8', 9600)  # Remplacez 'COM3' par le port série approprié\n",
    "\n",
    "def envoyer_commande(device, action, params):\n",
    "    commande = f\"{device},{action},\" + \",\".join(map(str, params)) + \"\\n\"\n",
    "    ser.write(commande.encode())\n",
    "    time.sleep(0.1)\n",
    "\n",
    "try:\n",
    "    # Augmenter la luminosité de la LED 2 de 0% à 100% en 5 secondes\n",
    "    for i in range(256):\n",
    "        envoyer_commande(2, 0, [i])\n",
    "        time.sleep(0.05)\n",
    "\n",
    "    # Faire clignoter la LED 2 à 100% de luminosité toutes les 1,5 secondes pendant 10 secondes\n",
    "    for _ in range(10):\n",
    "        envoyer_commande(2, 0, [255])\n",
    "        time.sleep(1.5)\n",
    "        envoyer_commande(2, 0, [0])\n",
    "        time.sleep(1.5)\n",
    "\n",
    "finally:\n",
    "    ser.close()"
   ]
  },
  {
   "cell_type": "markdown",
   "metadata": {},
   "source": [
    "75.3s"
   ]
  },
  {
   "cell_type": "markdown",
   "metadata": {},
   "source": [
    "## 21. Faire varier l'angle du servo moteur de 90 à 0 degrés, puis de 0 à 90 degrés en 8 secondes. (Device: 4, Action: 1, Param: [90, 0, 90], Time: 8s)\n"
   ]
  },
  {
   "cell_type": "code",
   "execution_count": 102,
   "metadata": {},
   "outputs": [],
   "source": [
    "import serial\n",
    "import time\n",
    "\n",
    "# Connexion au port série\n",
    "ser = serial.Serial('COM8', 9600)  # Remplacez 'COM3' par le port série approprié\n",
    "\n",
    "def envoyer_commande(device, action, params):\n",
    "    commande = f\"{device},{action},\" + \",\".join(map(str, params)) + \"\\n\"\n",
    "    ser.write(commande.encode())\n",
    "    time.sleep(0.1)\n",
    "\n",
    "try:\n",
    "    # Variation de l'angle du servo moteur\n",
    "    for angle in range(90, 0, -10):\n",
    "        envoyer_commande(4, 1, [angle])\n",
    "        time.sleep(1)\n",
    "\n",
    "    for angle in range(0, 90, 10):\n",
    "        envoyer_commande(4, 1, [angle])\n",
    "        time.sleep(1)\n",
    "\n",
    "finally:\n",
    "    ser.close()"
   ]
  },
  {
   "cell_type": "markdown",
   "metadata": {},
   "source": [
    "20s"
   ]
  },
  {
   "cell_type": "markdown",
   "metadata": {},
   "source": [
    "## 22. Synchroniser l'allumage de la LED 3 avec le mouvement du servo moteur de 0 à 180 degrés toutes les 4 secondes. La LED passe de 0% à 100% de luminosité. (Device: [4, 3], Action: [1, 0], Param: [[0, 180], [0, 255]], Time: 4s)\n"
   ]
  },
  {
   "cell_type": "code",
   "execution_count": 106,
   "metadata": {},
   "outputs": [
    {
     "ename": "ValueError",
     "evalue": "sleep length must be non-negative",
     "output_type": "error",
     "traceback": [
      "\u001b[1;31m---------------------------------------------------------------------------\u001b[0m",
      "\u001b[1;31mValueError\u001b[0m                                Traceback (most recent call last)",
      "Cell \u001b[1;32mIn[106], line 24\u001b[0m\n\u001b[0;32m     21\u001b[0m             envoyer_commande(\u001b[38;5;241m3\u001b[39m, \u001b[38;5;241m0\u001b[39m, [intensity])\n\u001b[0;32m     22\u001b[0m             time\u001b[38;5;241m.\u001b[39msleep(\u001b[38;5;241m0.02\u001b[39m)  \u001b[38;5;66;03m# Ajuster la vitesse du changement d'intensité\u001b[39;00m\n\u001b[1;32m---> 24\u001b[0m         \u001b[43mtime\u001b[49m\u001b[38;5;241;43m.\u001b[39;49m\u001b[43msleep\u001b[49m\u001b[43m(\u001b[49m\u001b[38;5;241;43m4\u001b[39;49m\u001b[43m \u001b[49m\u001b[38;5;241;43m-\u001b[39;49m\u001b[43m \u001b[49m\u001b[43m(\u001b[49m\u001b[38;5;241;43m0.02\u001b[39;49m\u001b[43m \u001b[49m\u001b[38;5;241;43m*\u001b[39;49m\u001b[43m \u001b[49m\u001b[38;5;241;43m181\u001b[39;49m\u001b[43m)\u001b[49m\u001b[43m \u001b[49m\u001b[38;5;241;43m-\u001b[39;49m\u001b[43m \u001b[49m\u001b[43m(\u001b[49m\u001b[38;5;241;43m0.02\u001b[39;49m\u001b[43m \u001b[49m\u001b[38;5;241;43m*\u001b[39;49m\u001b[43m \u001b[49m\u001b[38;5;241;43m256\u001b[39;49m\u001b[43m)\u001b[49m\u001b[43m)\u001b[49m  \u001b[38;5;66;03m# Attendre le temps restant\u001b[39;00m\n\u001b[0;32m     26\u001b[0m \u001b[38;5;28;01mfinally\u001b[39;00m:\n\u001b[0;32m     27\u001b[0m     ser\u001b[38;5;241m.\u001b[39mclose()\n",
      "\u001b[1;31mValueError\u001b[0m: sleep length must be non-negative"
     ]
    }
   ],
   "source": [
    "import serial\n",
    "import time\n",
    "\n",
    "# Connexion au port série\n",
    "ser = serial.Serial('COM8', 9600)  # Remplacez 'COM3' par le port série approprié\n",
    "\n",
    "def envoyer_commande(device, action, params):\n",
    "    commande = f\"{device},{action},\" + \",\".join(map(str, params)) + \"\\n\"\n",
    "    ser.write(commande.encode())\n",
    "    time.sleep(0.1)\n",
    "\n",
    "try:\n",
    "    while True:\n",
    "        # Mouvement du servo de 0 à 180 degrés\n",
    "        for angle in range(0, 181):\n",
    "            envoyer_commande(4, 1, [angle])\n",
    "            time.sleep(0.02)  # Ajuster la vitesse du mouvement\n",
    "\n",
    "        # Allumer la LED 3 de 0 à 100%\n",
    "        for intensity in range(256):\n",
    "            envoyer_commande(3, 0, [intensity])\n",
    "            time.sleep(0.02)  # Ajuster la vitesse du changement d'intensité\n",
    "\n",
    "        time.sleep(4 - (0.02 * 181) - (0.02 * 256))  # Attendre le temps restant\n",
    "\n",
    "finally:\n",
    "    ser.close()"
   ]
  },
  {
   "cell_type": "markdown",
   "metadata": {},
   "source": [
    "ECHEC"
   ]
  },
  {
   "cell_type": "markdown",
   "metadata": {},
   "source": [
    "## 23. Diminuer la luminosité de la LED 1 de 100% à 0% en 5 secondes, puis augmenter la luminosité de la LED 2 de 0% à 100% en 5 secondes. (Device: [1, 2], Action: 0, Param: [255, 0, 255], Time: 10s)\n"
   ]
  },
  {
   "cell_type": "code",
   "execution_count": 107,
   "metadata": {},
   "outputs": [],
   "source": [
    "import serial\n",
    "import time\n",
    "\n",
    "# Connexion au port série\n",
    "ser = serial.Serial('COM8', 9600)  # Remplacez 'COM3' par le port série approprié\n",
    "\n",
    "def envoyer_commande(device, action, params):\n",
    "    commande = f\"{device},{action},\" + \",\".join(map(str, params)) + \"\\n\"\n",
    "    ser.write(commande.encode())\n",
    "    time.sleep(0.1)\n",
    "\n",
    "try:\n",
    "    # Diminuer la luminosité de la LED 1 de 100% à 0% en 5 secondes\n",
    "    for i in range(255, -1, -5):\n",
    "        envoyer_commande(1, 0, [i])\n",
    "        time.sleep(0.1)\n",
    "\n",
    "    # Augmenter la luminosité de la LED 2 de 0% à 100% en 5 secondes\n",
    "    for i in range(0, 256, 5):\n",
    "        envoyer_commande(2, 0, [i])\n",
    "        time.sleep(0.1)\n",
    "\n",
    "finally:\n",
    "    ser.close()"
   ]
  },
  {
   "cell_type": "markdown",
   "metadata": {},
   "source": [
    "22.3s"
   ]
  },
  {
   "cell_type": "markdown",
   "metadata": {},
   "source": [
    "## 30. Synchroniser le mouvement du servo moteur entre 30 et 150 degrés toutes les 5 secondes avec l'allumage de la LED 1 à 100%. (Device: [4, 1], Action: [1, 0], Param: [[30, 150], [255]], Interval: 5s, Time: 10s)\n"
   ]
  },
  {
   "cell_type": "code",
   "execution_count": 108,
   "metadata": {},
   "outputs": [],
   "source": [
    "import serial\n",
    "import time\n",
    "\n",
    "# Connexion au port série\n",
    "ser = serial.Serial('COM8', 9600)  # Remplacez 'COM3' par le port série approprié\n",
    "\n",
    "def envoyer_commande(device, action, params):\n",
    "    commande = f\"{device},{action},\" + \",\".join(map(str, params)) + \"\\n\"\n",
    "    ser.write(commande.encode())\n",
    "    time.sleep(0.1)\n",
    "\n",
    "try:\n",
    "    # Synchroniser le mouvement du servo moteur et l'allumage de la LED 1\n",
    "    for _ in range(2):  # Exécuter pendant 10 secondes\n",
    "        for angle in range(30, 151, 10):  # Mouvement du servo moteur de 30 à 150 degrés\n",
    "            envoyer_commande(4, 1, [angle])\n",
    "            envoyer_commande(1, 0, [255])  # Allumer la LED 1 à 100%\n",
    "            time.sleep(0.5)  \n",
    "\n",
    "finally:\n",
    "    ser.close()"
   ]
  },
  {
   "cell_type": "markdown",
   "metadata": {},
   "source": [
    "18.7s"
   ]
  },
  {
   "cell_type": "markdown",
   "metadata": {},
   "source": [
    "## 42. Synchroniser l'allumage de la LED 2 avec le mouvement du servo moteur entre 0 et 180 degrés toutes les 6 secondes. La LED passe de 0% à 100% de luminosité. (Device: [2, 4], Action: [0, 1], Param: [[0, 180], [0, 255]], Interval: 6s, Time: 12s)\n"
   ]
  },
  {
   "cell_type": "code",
   "execution_count": 110,
   "metadata": {},
   "outputs": [],
   "source": [
    "import serial\n",
    "import time\n",
    "\n",
    "# Connexion au port série\n",
    "ser = serial.Serial('COM8', 9600)  # Remplacez 'COM3' par le port série approprié\n",
    "\n",
    "def envoyer_commande(device, action, params):\n",
    "    commande = f\"{device},{action},\" + \",\".join(map(str, params)) + \"\\n\"\n",
    "    ser.write(commande.encode())\n",
    "    time.sleep(0.1)\n",
    "\n",
    "try:\n",
    "    while True:\n",
    "        # Allumer la LED 2 et faire pivoter le servomoteur\n",
    "        for angle in range(0, 181, 30):\n",
    "            envoyer_commande(2, 0, [angle * 255 // 180])  # Intensité LED 2 proportionnelle à l'angle\n",
    "            envoyer_commande(4, 1, [angle])\n",
    "            time.sleep(0.5)\n",
    "\n",
    "        time.sleep(5.5)  # Attendre 5.5 secondes avant la prochaine itération\n",
    "\n",
    "except KeyboardInterrupt:\n",
    "    ser.close()"
   ]
  },
  {
   "cell_type": "markdown",
   "metadata": {},
   "source": [
    "REUSSITE: C'EST UNE BOUCLE INFINIE"
   ]
  }
 ],
 "metadata": {
  "kernelspec": {
   "display_name": "interp2",
   "language": "python",
   "name": "python3"
  },
  "language_info": {
   "codemirror_mode": {
    "name": "ipython",
    "version": 3
   },
   "file_extension": ".py",
   "mimetype": "text/x-python",
   "name": "python",
   "nbconvert_exporter": "python",
   "pygments_lexer": "ipython3",
   "version": "3.10.0"
  }
 },
 "nbformat": 4,
 "nbformat_minor": 2
}
